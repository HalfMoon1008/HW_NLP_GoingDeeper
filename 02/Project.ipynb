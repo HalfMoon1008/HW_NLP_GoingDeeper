{
  "nbformat": 4,
  "nbformat_minor": 0,
  "metadata": {
    "colab": {
      "provenance": [],
      "gpuType": "T4",
      "toc_visible": true,
      "authorship_tag": "ABX9TyOxKP+tbDgS2E6Jhu2cstBh",
      "include_colab_link": true
    },
    "kernelspec": {
      "name": "python3",
      "display_name": "Python 3"
    },
    "language_info": {
      "name": "python"
    },
    "accelerator": "GPU"
  },
  "cells": [
    {
      "cell_type": "markdown",
      "metadata": {
        "id": "view-in-github",
        "colab_type": "text"
      },
      "source": [
        "<a href=\"https://colab.research.google.com/github/dellaanima/NLP_GoingDeeper/blob/main/02/Project.ipynb\" target=\"_parent\"><img src=\"https://colab.research.google.com/assets/colab-badge.svg\" alt=\"Open In Colab\"/></a>"
      ]
    },
    {
      "cell_type": "markdown",
      "source": [
        "# Rubric"
      ],
      "metadata": {
        "id": "algDZN5hV4CA"
      }
    },
    {
      "cell_type": "markdown",
      "source": [
        "**평가문항**\n",
        "1. SentencePiece를 이용하여 모델을 만들기까지의 과정이 정상적으로 진행되었는가?\n",
        "  - 코퍼스 분석, 전처리, SentencePiece 적용, 토크나이저 구현 및 동작이 빠짐없이 진행되었는가?\n",
        "2. SentencePiece를 통해 만든 Tokenizer가 자연어처리 모델과 결합하여 동작하는가?\n",
        "  - SentencePiece 토크나이저가 적용된 Text Classifier 모델이 정상적으로 수렴하여 80% 이상의 test accuracy가 확인되었다.\n",
        "3. SentencePiece의 성능을 다각도로 비교분석하였는가?\n",
        "  - SentencePiece 토크나이저를 활용했을 때의 성능을 다른 토크나이저 혹은 SentencePiece의 다른 옵션의 경우와 비교하여 분석을 체계적으로 진행하였다."
      ],
      "metadata": {
        "id": "9I3rXToTV6Kd"
      }
    },
    {
      "cell_type": "code",
      "source": [],
      "metadata": {
        "id": "-hDa6FNRehwV"
      },
      "execution_count": null,
      "outputs": []
    },
    {
      "cell_type": "markdown",
      "source": [
        "# korean-english-park.train.ko 데이터로, Sentencepiece tokenizer 모델 생성"
      ],
      "metadata": {
        "id": "tNef3IOy9KvM"
      }
    },
    {
      "cell_type": "markdown",
      "source": [
        "## Data Preprocessing"
      ],
      "metadata": {
        "id": "Z_y4YLm8UsD4"
      }
    },
    {
      "cell_type": "markdown",
      "source": [
        "Data Donwload"
      ],
      "metadata": {
        "id": "OTNirfU8_3JV"
      }
    },
    {
      "cell_type": "code",
      "source": [
        "!wget https://github.com/jungyeul/korean-parallel-corpora/raw/master/korean-english-news-v1/korean-english-park.train.tar.gz\n",
        "!mkdir -p ./sp_tokenizer/data\n",
        "!mv korean-english-park.train.tar.gz ./sp_tokenizer/data\n",
        "!cd ./sp_tokenizer/data\n",
        "!tar -xzvf ./sp_tokenizer/data/korean-english-park.train.tar.gz -C ./sp_tokenizer/data"
      ],
      "metadata": {
        "colab": {
          "base_uri": "https://localhost:8080/"
        },
        "id": "SrStzUKi_0l9",
        "outputId": "1aaae19b-5fea-423a-83ba-c1da6a1f39d2"
      },
      "execution_count": null,
      "outputs": [
        {
          "output_type": "stream",
          "name": "stdout",
          "text": [
            "--2023-08-16 04:51:43--  https://github.com/jungyeul/korean-parallel-corpora/raw/master/korean-english-news-v1/korean-english-park.train.tar.gz\n",
            "Resolving github.com (github.com)... 140.82.112.3\n",
            "Connecting to github.com (github.com)|140.82.112.3|:443... connected.\n",
            "HTTP request sent, awaiting response... 302 Found\n",
            "Location: https://raw.githubusercontent.com/jungyeul/korean-parallel-corpora/master/korean-english-news-v1/korean-english-park.train.tar.gz [following]\n",
            "--2023-08-16 04:51:43--  https://raw.githubusercontent.com/jungyeul/korean-parallel-corpora/master/korean-english-news-v1/korean-english-park.train.tar.gz\n",
            "Resolving raw.githubusercontent.com (raw.githubusercontent.com)... 185.199.109.133, 185.199.110.133, 185.199.108.133, ...\n",
            "Connecting to raw.githubusercontent.com (raw.githubusercontent.com)|185.199.109.133|:443... connected.\n",
            "HTTP request sent, awaiting response... 200 OK\n",
            "Length: 8718893 (8.3M) [application/octet-stream]\n",
            "Saving to: ‘korean-english-park.train.tar.gz’\n",
            "\n",
            "korean-english-park 100%[===================>]   8.31M  --.-KB/s    in 0.09s   \n",
            "\n",
            "2023-08-16 04:51:43 (97.3 MB/s) - ‘korean-english-park.train.tar.gz’ saved [8718893/8718893]\n",
            "\n",
            "korean-english-park.train.en\n",
            "korean-english-park.train.ko\n"
          ]
        }
      ]
    },
    {
      "cell_type": "code",
      "source": [
        "path_to_file = './sp_tokenizer/data/korean-english-park.train.ko'\n",
        "\n",
        "with open(path_to_file,'r') as f :\n",
        "    raw = f.read().splitlines()\n",
        "\n",
        "\n",
        "print('[데이터에 담겨있는 문장 수] : ',len(raw))\n",
        "print()\n",
        "print(\"[데이터 형태 확인]\\n\")\n",
        "for sen in raw[0:10]:\n",
        "    print(sen)"
      ],
      "metadata": {
        "colab": {
          "base_uri": "https://localhost:8080/"
        },
        "id": "CGER-DNIAKVW",
        "outputId": "bbe5e8e3-f6e5-48d1-d6c0-c5f8713bda4f"
      },
      "execution_count": null,
      "outputs": [
        {
          "output_type": "stream",
          "name": "stdout",
          "text": [
            "[데이터에 담겨있는 문장 수] :  94123\n",
            "\n",
            "[데이터 형태 확인]\n",
            "\n",
            "개인용 컴퓨터 사용의 상당 부분은 \"이것보다 뛰어날 수 있느냐?\"\n",
            "모든 광마우스와 마찬가지 로 이 광마우스도 책상 위에 놓는 마우스 패드를 필요로 하지 않는다.\n",
            "그러나 이것은 또한 책상도 필요로 하지 않는다.\n",
            "79.95달러하는 이 최첨단 무선 광마우스는 허공에서 팔목, 팔, 그외에 어떤 부분이든 그 움직임에따라 커서의 움직임을 조절하는 회전 운동 센서를 사용하고 있다.\n",
            "정보 관리들은 동남 아시아에서의 선박들에 대한 많은 (테러) 계획들이 실패로 돌아갔음을 밝혔으며, 세계 해상 교역량의 거의 3분의 1을 운송하는 좁은 해로인 말라카 해협이 테러 공격을 당하기 쉽다고 경고하고 있다.\n",
            "이 지역에 있는 미국 선박과 상업용 선박들에 대한 알카에다의 (테러) 시도 중 여러 건이 실패했다는 것을 알게 된 후에, 전문가들은 테러 조직이 여전히 세계 경제에 타격을 입히려 한다고 경고하고 있으며, 동남 아시아에 있는 세계 경제의 주요 통로가 위험에 처해 있다고 그들은 생각하고 있다.\n",
            "국립 과학 학회가 발표한 새 보고서에따르면, 복잡한 임무를 수행해야 하는 군인들이나 보다 오랜 시간 동안 경계를 늦추지 않고 있기 위해 도움이 필요한 군인들에게 카페인이 반응 시간을 증가시키고 임무 수행 능력을 향상시키는데 도움이 된다고 한다.\n",
            "이 보고서에따르면, \"특히, 군사 작전에서 생사가 걸린 상황이 될 수도 있는 반응 속도와 시각 및 청각의 경계 상태를 유지시키기 위해 카페인이 사용될 수도 있다.\" 고 한다.\n",
            "\"결정적인 순간에 그들의 능력을 증가시켜 줄 그 무엇이 매우 중요합니다.\"\n",
            "연구가들이 이미 커피 대체품으로서 음식 대용 과자나 껌에 카페인을 첨가하는 방법을 연구하고 있다고 Archibald는 말했다.\n"
          ]
        }
      ]
    },
    {
      "cell_type": "markdown",
      "source": [
        "각 문장의 길이 분포 살펴보기"
      ],
      "metadata": {
        "id": "woXllFm0BiRN"
      }
    },
    {
      "cell_type": "code",
      "source": [
        "import numpy as np\n",
        "import matplotlib.pyplot as plt\n",
        "\n",
        "min_len = 999\n",
        "max_len = 0\n",
        "sum_len = 0\n",
        "\n",
        "for sen in raw:\n",
        "    length = len(sen)\n",
        "    if min_len > length: min_len = length\n",
        "    if max_len < length: max_len = length\n",
        "    sum_len += length\n",
        "\n",
        "print(\"문장의 최단 길이:\", min_len)\n",
        "print(\"문장의 최장 길이:\", max_len)\n",
        "print(\"문장의 평균 길이:\", sum_len // len(raw))\n",
        "\n",
        "sentence_length = np.zeros((max_len), dtype=int)\n",
        "\n",
        "for sen in raw:\n",
        "    sentence_length[len(sen)-1] += 1\n",
        "\n",
        "plt.bar(range(max_len), sentence_length, width=1.0)\n",
        "plt.title(\"Sentence Length Distribution\")\n",
        "plt.show()"
      ],
      "metadata": {
        "colab": {
          "base_uri": "https://localhost:8080/",
          "height": 508
        },
        "id": "l6kHV94zAV3E",
        "outputId": "3655254d-5628-4ee2-fb69-5f1ad8d06b4b"
      },
      "execution_count": null,
      "outputs": [
        {
          "output_type": "stream",
          "name": "stdout",
          "text": [
            "문장의 최단 길이: 1\n",
            "문장의 최장 길이: 377\n",
            "문장의 평균 길이: 60\n"
          ]
        },
        {
          "output_type": "display_data",
          "data": {
            "text/plain": [
              "<Figure size 640x480 with 1 Axes>"
            ],
            "image/png": "[encoded data removed]"
          },
          "metadata": {}
        }
      ]
    },
    {
      "cell_type": "markdown",
      "source": [
        "문장 길이 분포를 살펴보며 확인해볼 부분\n",
        "\n",
        "\n",
        "1) 길이 1 짜리 문장은 도대체 어떻게 생겨먹었지? : ',' 였다.\n",
        "\n",
        "2) 앞에 치솟는 임의의 구간은 뭐지? 유의미한 데이터가 담겨있는 부분인가? : 중복 데이터가 있음을 확인할 수 있었다.\n",
        "\n",
        "3) 어디서부터 어디까지 잘라서 쓰지?\n"
      ],
      "metadata": {
        "id": "EJWk6FB3B6Cw"
      }
    },
    {
      "cell_type": "code",
      "source": [
        "# 1) 길이 1 짜리 문장은 도대체 어떻게 생겨먹었지?\n",
        "def check_sentence_with_length(raw, length):\n",
        "    count = 0\n",
        "\n",
        "    for sen in raw:\n",
        "        if len(sen) == length:\n",
        "            print(sen)\n",
        "            count += 1\n",
        "            if count > 100: return\n",
        "\n",
        "check_sentence_with_length(raw, 1)"
      ],
      "metadata": {
        "colab": {
          "base_uri": "https://localhost:8080/"
        },
        "id": "6fXJmVRUAXIv",
        "outputId": "cd589ea0-c31a-4144-e490-52929599311b"
      },
      "execution_count": null,
      "outputs": [
        {
          "output_type": "stream",
          "name": "stdout",
          "text": [
            "’\n"
          ]
        }
      ]
    },
    {
      "cell_type": "code",
      "source": [
        "# 2) 앞에 치솟는 임의의 구간은 뭐지? 유의미한 데이터가 담겨있는 부분인가?\n",
        "for idx, _sum in enumerate(sentence_length):\n",
        "    # 문장의 수가 1500을 초과하는 문장 길이를 추출합니다.\n",
        "    if _sum > 1500:\n",
        "        print(\"Outlier Index:\", idx+1)"
      ],
      "metadata": {
        "colab": {
          "base_uri": "https://localhost:8080/"
        },
        "id": "qLvblodqCFRP",
        "outputId": "77fb9779-b633-46d1-e111-38e1500cebcd"
      },
      "execution_count": null,
      "outputs": [
        {
          "output_type": "stream",
          "name": "stdout",
          "text": [
            "Outlier Index: 11\n",
            "Outlier Index: 19\n",
            "Outlier Index: 21\n"
          ]
        }
      ]
    },
    {
      "cell_type": "code",
      "source": [
        "check_sentence_with_length(raw, 11)"
      ],
      "metadata": {
        "colab": {
          "base_uri": "https://localhost:8080/"
        },
        "id": "JDKucJJ0CW4X",
        "outputId": "9c84b6eb-6234-45a9-b485-0c2661c80384"
      },
      "execution_count": null,
      "outputs": [
        {
          "output_type": "stream",
          "name": "stdout",
          "text": [
            "라고 조던이 말했다.\n",
            "- 모르고 있습니다.\n",
            "- 네, 보이는군요.\n",
            "디즈니사만이 아니다.\n",
            "큰 파티는 아니지요.\n",
            "의자는 비어 있었다.\n",
            "이 일은 계속됩니다.\n",
            "나는 크게 실망했다.\n",
            "그 이유는 간단하다.\n",
            "이력서와 자기 소개서\n",
            "시대가 변하고 있다.\n",
            "는 돌발질문을 했다.\n",
            "9. 몇 분간의 명상\n",
            "하와이, 빅 아일랜드\n",
            "키스를 잘 하는 방법\n",
            "키스를 잘 하는 방법\n",
            "스피어스가 뚱뚱한가?\n",
            "산 위를 나는 느낌.\n",
            "세 시간쯤 걸었을까?\n",
            "(아직 읽고있습니까?\n",
            "처음에는 장난이었다.\n",
            "우리는 운이 좋았다.\n",
            "아기가 숨을 멈출 때\n",
            "건물 전체 무너져내려\n",
            "그녀의 아름다운 눈.\n",
            "대답은 다음과 같다.\n",
            "\"사과할 것이 없다.\n",
            "폭탄테러가 공포 유발\n",
            "그는 \"잘 모르겠다.\n",
            "그는 \"잘 모르겠다.\n",
            "그는 \"잘 모르겠다.\n",
            "그는 \"잘 모르겠다.\n",
            "그는 \"잘 모르겠다.\n",
            "그는 \"잘 모르겠다.\n",
            "그는 \"잘 모르겠다.\n",
            "그는 \"잘 모르겠다.\n",
            "그는 \"잘 모르겠다.\n",
            "케냐 야생동물 고아원\n",
            "경유 1200원대로…\n",
            "더 내려야 하는 이유\n",
            "케냐 야생동물 고아원\n",
            "경유 1200원대로…\n",
            "더 내려야 하는 이유\n",
            "케냐 야생동물 고아원\n",
            "경유 1200원대로…\n",
            "더 내려야 하는 이유\n",
            "케냐 야생동물 고아원\n",
            "경유 1200원대로…\n",
            "더 내려야 하는 이유\n",
            "케냐 야생동물 고아원\n",
            "경유 1200원대로…\n",
            "더 내려야 하는 이유\n",
            "케냐 야생동물 고아원\n",
            "경유 1200원대로…\n",
            "더 내려야 하는 이유\n",
            "케냐 야생동물 고아원\n",
            "경유 1200원대로…\n",
            "더 내려야 하는 이유\n",
            "케냐 야생동물 고아원\n",
            "경유 1200원대로…\n",
            "더 내려야 하는 이유\n",
            "케냐 야생동물 고아원\n",
            "경유 1200원대로…\n",
            "더 내려야 하는 이유\n",
            "케냐 야생동물 고아원\n",
            "경유 1200원대로…\n",
            "더 내려야 하는 이유\n",
            "케냐 야생동물 고아원\n",
            "경유 1200원대로…\n",
            "더 내려야 하는 이유\n",
            "케냐 야생동물 고아원\n",
            "경유 1200원대로…\n",
            "더 내려야 하는 이유\n",
            "케냐 야생동물 고아원\n",
            "경유 1200원대로…\n",
            "더 내려야 하는 이유\n",
            "케냐 야생동물 고아원\n",
            "경유 1200원대로…\n",
            "더 내려야 하는 이유\n",
            "케냐 야생동물 고아원\n",
            "경유 1200원대로…\n",
            "더 내려야 하는 이유\n",
            "케냐 야생동물 고아원\n",
            "경유 1200원대로…\n",
            "더 내려야 하는 이유\n",
            "케냐 야생동물 고아원\n",
            "경유 1200원대로…\n",
            "더 내려야 하는 이유\n",
            "케냐 야생동물 고아원\n",
            "경유 1200원대로…\n",
            "더 내려야 하는 이유\n",
            "케냐 야생동물 고아원\n",
            "경유 1200원대로…\n",
            "더 내려야 하는 이유\n",
            "케냐 야생동물 고아원\n",
            "경유 1200원대로…\n",
            "더 내려야 하는 이유\n",
            "조금은 새침한 샬롯？\n",
            "조금은 새침한 샬롯？\n",
            "케냐 야생동물 고아원\n",
            "경유 1200원대로…\n"
          ]
        }
      ]
    },
    {
      "cell_type": "code",
      "source": [
        "check_sentence_with_length(raw, 21)"
      ],
      "metadata": {
        "colab": {
          "base_uri": "https://localhost:8080/"
        },
        "id": "TiFhJAg0CabY",
        "outputId": "af4e31ec-9700-45e8-a7e7-93f118426058"
      },
      "execution_count": null,
      "outputs": [
        {
          "output_type": "stream",
          "name": "stdout",
          "text": [
            "미국과 영국의 과학자들이 악수를 했다.\n",
            "인력은 기계에 의해 보강되어야만 했다.\n",
            "\"시장은 그들에게 넓게 열려 있습니다.\n",
            "아디다스는 또 다른 이점도 갖고 있다.\n",
            "공부를 위해서만 이용하겠다고 말입니다.\n",
            "환경법규의 도입은 고통스러운 과정이다.\n",
            "- 여보, 이쪽이야, 아니면 저쪽이야?\n",
            "인도는 훨씬 늦게 게임에 뛰어 들었다.\n",
            "요즘 대부분의 기업들이 그렇지 않은가?\n",
            "카리스마적인 지도자들은 위험을 즐긴다.\n",
            "우리가 하려고 하는 일의 모델은 없다.\n",
            "정상 회담은 오늘 늦게 끝날 것입니다.\n",
            "그리고 공화당의 추정은 절반만 맞았다.\n",
            "하지만 증가하고 있는 노인 인구수에따라\n",
            "민간부문에서 그런 일을 할 수는 없다고\n",
            "금년초 이라크 정보부는 \"사담 후세인:\n",
            "실제로 이 방법은 만족스럽지가 못하다.\n",
            "카자흐스탄으로부터 중국으로 입국하려다가\n",
            "클립퍼 칩에 대한 이야기로 들어 가자.\n",
            "북한의 무기 개발에 대한 CIA 보고서\n",
            "어려움을 겪고 있는 멕시코 경제에 대한\n",
            "그는 ''미국은 우리의 최악의 적이다.\n",
            "수로가 오염되고 야생동물이 밀렵되었다.\n",
            "이런 지역들을 보살피고 보호해야 한다.\n",
            "학습 방법은 훨씬 더 흠칫한 것입니다.\n",
            "포옹은 심장에 좋은 약 일 수 도 있다\n",
            "(경찰은 심문을 위해 그를 구금했다.)\n",
            "금년에는 이 숫자가 58%로 증가했다.\n",
            "(금고를 뒤져 많은 서류를 가져갔다.)\n",
            "김치는 열량은 적고 비타민은 풍부하다.\n",
            "smear campaign (흑색선전)\n",
            "아들은 아버지로부터 사업을 이어받는다.\n",
            "그것은 한계 효과가 나타나는 시기이다.\n",
            "\"사람들에게 선택권이 주어져야 합니다.\n",
            "로야 저가는 임시 의사 결정 집단이다.\n",
            "160석이 여성 대표들에게 보장되었다.\n",
            "걷기 용으로 고안된 신발이 가장 좋다.\n",
            "이것을 일주일에 5번 정도 해야 한다.\n",
            "해외 판권은 이미 16개국에서 팔렸다.\n",
            "그리고 나는 이렇게 엄숙히 서약합니다:\n",
            "하지만 오늘의 주제를 그는 알것입니다:\n",
            "(그 사건들은 전쟁 발발로 발전했다.)\n",
            "\"그는 정말로 국민들을 실망시켰습니다.\n",
            "\"제국의 반격\"과 새 영화 \"스타워즈:\n",
            "남북간 해상 교전으로 남한 경비정 침몰\n",
            "공룡들은 필연적으로 굶어 죽게 되었다.\n",
            "新 나치주의자의 시락 대통령 암살 기도\n",
            "그는 또 사무실 출입문에 불을 질렀다.\n",
            "영화 ‘월E’는 완벽한 영화는 아니다.\n",
            "부상자수는 지난주 초 12명 증가했다.\n",
            "이는 지난 2005년 사실상 중단됐다.\n",
            "프라나브 메타는 빛이 없이 살고 있다.\n",
            "일부 학부모들은 황당함을 금치 못했다.\n",
            "부상자 중 8명은 경찰관으로 알려졌다.\n",
            "그는 자전거로 통근하는 것을 좋아한다.\n",
            "짐바브웨 대선은 3월 29일 실시됐다.\n",
            "시이저 흉상 만으로도 대단한 발견이다.\n",
            "은퇴를 결정한 것에 대한 후회는 없다.\n",
            "이 교회 소속 신도는 약 30명 이다.\n",
            "이 공격으로 의원 포함 3명이 숨졌다.\n",
            "기내에서 맨 앞 좌석이 가장 한적하다.\n",
            "8명의 대의원은 아직 배정되지 않았다.\n",
            "남아공은 2010년 월드컵을 개최한다.\n",
            "그는 군인들과 무사히 탈출에 성공했다.\n",
            "경찰 당국은 부상자는 없었다고 밝혔다.\n",
            "이들은 매일 같은 일상을 되풀이 한다.\n",
            "이 경우,탐정처럼 병원을 찾아야 한다.\n",
            "미국은 그를 매우 악한 인물로 평했다.\n",
            "이들이 펼친 현수막에는 “하나의 세계.\n",
            "최근들어 남성 게이샤가 증가하고 있다.\n",
            "아직 구속수사 여부는 밝혀지지 않았다.\n",
            "Eyewitness to Murder:\n",
            "상점으로서는 현금 지불을 더 선호한다.\n",
            "이번 사고로 고속도로 전체가 폐쇄됐다.\n",
            "이라크 전쟁은 지난주 5주년을 맞았다.\n",
            "또한 고령화에 따른 문제점도 제기했다.\n",
            "2004년 총선의 투표율은 75%였다.\n",
            "강아지의 생사 여부는 밝혀지지 않았다.\n",
            "텍사스주 프라이머리도 결과는 비슷했다.\n",
            "남편 앤서니에게는 3명의 자식이 있다.\n",
            "텍사스는 193명의 대의원이 걸려있다.\n",
            "이번 비행에는 승객이 탑승하지 않았다.\n",
            "마다가스카르 인구는 1940만 명이다.\n",
            "* 죠셉 라이델 워싱턴주 아메리칸 대학\n",
            "취미로 수집한 페니가 대박을 터뜨렸다.\n",
            "무엇인가를 기념하는 것은 좋은 것이다.\n",
            "미 경기후퇴가 현실화되고 있는 것이다.\n",
            "그는 5일 동안 집에서 병을 앓았었다.\n",
            "관계당국은 검거사실을 18일 발표했다.\n",
            "ABC가 이 시상식을 방영할 계획이다.\n",
            "자살폭탄테러로 민간인도 희생되고 있다.\n",
            "현재 수천명이 교회 뜰에 대피해 있다.\n",
            "한편 CES는 일반에 공개되지 않는다.\n",
            "이 조사의 표본오차는 ±5%포인트였다.\n",
            "이들은 성명을 통해 “쿠퍼는 누구인가?\n",
            "신드는 부토의 고향이며 지지 기반이다.\n",
            "할렘은 최근 관광객들로 넘쳐나고 있다.\n",
            "존 레논의 머리카락이 경매에 올라왔다.\n",
            "팍톤은 머리를 숙인 채 평결을 들었다.\n",
            "그는 4일 오후 사기 혐의로 체포됐다.\n",
            "경찰은 그의 소지품 대부분을 압수했다.\n"
          ]
        }
      ]
    },
    {
      "cell_type": "markdown",
      "source": [
        "중복 제거는 Python의 기본 자료형 set을 활용할 겁니다. set은 집합을 정의하는 자료형인데, 중복을 허용하지 않아 변환 과정에서 자동으로 중복된 요소를 제거해 주거든요! 대신 list의 순서가 뒤죽박죽될 수 있으니, 만약 번역 데이터처럼 쌍을 이뤄야 하는 경우라면 주의해서 사용하셔야 합니다!"
      ],
      "metadata": {
        "id": "F5DH1A_2Csxq"
      }
    },
    {
      "cell_type": "markdown",
      "source": [
        "중복 제거 후 각 문장의 길이 분포 살펴보기"
      ],
      "metadata": {
        "id": "b_Q4u35TC_93"
      }
    },
    {
      "cell_type": "code",
      "source": [
        "min_len = 999\n",
        "max_len = 0\n",
        "sum_len = 0\n",
        "\n",
        "cleaned_corpus = list(set(raw))  # set를 사용해서 중복을 제거합니다.\n",
        "print(\"Data Size:\", len(cleaned_corpus))\n",
        "\n",
        "for sen in cleaned_corpus:\n",
        "    length = len(sen)\n",
        "    if min_len > length: min_len = length\n",
        "    if max_len < length: max_len = length\n",
        "    sum_len += length\n",
        "\n",
        "print(\"문장의 최단 길이:\", min_len)\n",
        "print(\"문장의 최장 길이:\", max_len)\n",
        "print(\"문장의 평균 길이:\", sum_len // len(cleaned_corpus))\n",
        "\n",
        "sentence_length = np.zeros((max_len), dtype=int)\n",
        "\n",
        "for sen in cleaned_corpus:   # 중복이 제거된 코퍼스 기준\n",
        "    sentence_length[len(sen)-1] += 1\n",
        "\n",
        "plt.bar(range(max_len), sentence_length, width=1.0)\n",
        "plt.title(\"Sentence Length Distribution\")\n",
        "plt.show()"
      ],
      "metadata": {
        "colab": {
          "base_uri": "https://localhost:8080/",
          "height": 526
        },
        "id": "yyvexHnGCciQ",
        "outputId": "96e2f777-342b-40f9-d629-88934e1187ec"
      },
      "execution_count": null,
      "outputs": [
        {
          "output_type": "stream",
          "name": "stdout",
          "text": [
            "Data Size: 77591\n",
            "문장의 최단 길이: 1\n",
            "문장의 최장 길이: 377\n",
            "문장의 평균 길이: 64\n"
          ]
        },
        {
          "output_type": "display_data",
          "data": {
            "text/plain": [
              "<Figure size 640x480 with 1 Axes>"
            ],
            "image/png": "[encoded data removed]"
          },
          "metadata": {}
        }
      ]
    },
    {
      "cell_type": "markdown",
      "source": [
        "데이터에서 적당한 문장 길이 기준을 잡아서 해당 범위의 데이터만 사용해하는 것의 이점 :\n",
        "\n",
        "- 후에 미니 배치를 만들 것을 생각하면 모든 데이터를 다 사용하는 것은 연산 측면에서 비효율적입니다.\n",
        "- 미니 배치 특성상 각 데이터의 크기가 모두 동일해야 하기 때문에 가장 긴 데이터를 기준으로 Padding 처리를 해야 합니다.\n",
        "- 위의 데이터에서 만약 길이가 100인 문장까지만 사용한다면 데이터는 [ (77591 - 길이 100 초과 문장 수) x 100 ] 의 형태를 갖겠지만 모두 사용할 경우 [ 77591 x 377 ] 로 전자보다 최소 3.7배 큰 메모리를 차지합니다. 학습 시간도 그만큼 더 오래 걸리고요.\n",
        "\n",
        "- 길이별로 정렬하여 미니 배치를 구성해 Padding을 최소화하는 방법도 있지만 이는 데이터를 섞는 데 편향성이 생길 수 있으므로 지양해야 합니다. 여기서는 길이 150 이상의 데이터를 제거하고 사용하도록 한다.\n",
        "- 그리고 앞서 확인한 것처럼 너무 짧은 데이터는 오히려 노이즈로 작용할 수 있습니다. 따라서 길이가 10 미만인 데이터도 제거하도록 하죠! 최종 데이터 분포도 함께 확인해봅시다.\n"
      ],
      "metadata": {
        "id": "0_1GzV_KDKBf"
      }
    },
    {
      "cell_type": "code",
      "source": [
        "max_len = 150\n",
        "min_len = 10\n",
        "\n",
        "# 길이 조건에 맞는 문장만 선택합니다.\n",
        "filtered_corpus = [s for s in cleaned_corpus if (len(s) < max_len) & (len(s) >= min_len)]\n",
        "\n",
        "# 분포도를 다시 그려봅니다.\n",
        "sentence_length = np.zeros((max_len), dtype=int)\n",
        "\n",
        "for sen in filtered_corpus:\n",
        "    sentence_length[len(sen)-1] += 1\n",
        "\n",
        "plt.bar(range(max_len), sentence_length, width=1.0)\n",
        "plt.title(\"Sentence Length Distribution\")\n",
        "plt.show()"
      ],
      "metadata": {
        "colab": {
          "base_uri": "https://localhost:8080/",
          "height": 452
        },
        "id": "5_iIZTIpDkgj",
        "outputId": "38b378db-1154-4ca5-f952-4237a06be14b"
      },
      "execution_count": null,
      "outputs": [
        {
          "output_type": "display_data",
          "data": {
            "text/plain": [
              "<Figure size 640x480 with 1 Axes>"
            ],
            "image/png": "[encoded data removed]"
          },
          "metadata": {}
        }
      ]
    },
    {
      "cell_type": "markdown",
      "source": [
        "## Sentencepiece Tokenizer 구현"
      ],
      "metadata": {
        "id": "Gj5AVimoJqpA"
      }
    },
    {
      "cell_type": "markdown",
      "source": [
        "SentencePiece 설치"
      ],
      "metadata": {
        "id": "f3Lrrty3LpnA"
      }
    },
    {
      "cell_type": "code",
      "source": [
        "!pip install sentencepiece"
      ],
      "metadata": {
        "colab": {
          "base_uri": "https://localhost:8080/"
        },
        "id": "0jFzDXESLu4L",
        "outputId": "4bf60757-3df9-4dbd-d5c7-0c2a9cf08a8c"
      },
      "execution_count": null,
      "outputs": [
        {
          "output_type": "stream",
          "name": "stdout",
          "text": [
            "Requirement already satisfied: sentencepiece in /usr/local/lib/python3.10/dist-packages (0.1.99)\n"
          ]
        }
      ]
    },
    {
      "cell_type": "code",
      "source": [
        "# korean-english-park.train.ko.tem\n",
        "# SentencePiece 모델을 학습하기 위한, 입력 데이터(filtered corpus)를 임시로 저장할 파일로 사용 예정.\n",
        "temp_file = \"/content/sp_tokenizer/data/korean-english-park.train.ko.temp\"\n"
      ],
      "metadata": {
        "id": "DRpZxZTrJ6Q-"
      },
      "execution_count": null,
      "outputs": []
    },
    {
      "cell_type": "code",
      "source": [
        "with open(temp_file, 'w') as f:\n",
        "    for row in filtered_corpus:   # 이전 스텝에서 정제했던 corpus를 저장해두기\n",
        "        f.write(str(row) + '\\n')"
      ],
      "metadata": {
        "id": "Cd-NTAMAJ1rx"
      },
      "execution_count": null,
      "outputs": []
    },
    {
      "cell_type": "markdown",
      "source": [
        "https://github.com/google/sentencepiece#train-sentencepiece-model"
      ],
      "metadata": {
        "id": "ulhryYGgNAFq"
      }
    },
    {
      "cell_type": "markdown",
      "source": [
        " SentencePiece 라이브러리의 spm.SentencePieceTrainer.Train() 함수를 사용하여 모델을 학습하고 어휘 사전을 생성"
      ],
      "metadata": {
        "id": "ZjeXwdb9NqNt"
      }
    },
    {
      "cell_type": "code",
      "source": [
        "# Options 설정\n",
        "vocab_size = 15000\n",
        "model_prefix = 'korean_spm'"
      ],
      "metadata": {
        "id": "5rV5EOwGLf0J"
      },
      "execution_count": null,
      "outputs": []
    },
    {
      "cell_type": "code",
      "source": [
        "import sentencepiece as spm\n",
        "spm.SentencePieceTrainer.Train(\n",
        "    '--input={} \\\n",
        "    --model_prefix={} \\\n",
        "    --vocab_size={}'.format(temp_file, model_prefix, vocab_size)\n",
        ")\n",
        "#위 Train에서  --model_type = unigram이 디폴트 적용되어 있습니다. --model_type = bpe로 옵션을 주어 변경할 수 있습니다."
      ],
      "metadata": {
        "id": "nBV15H5oK1ge"
      },
      "execution_count": null,
      "outputs": []
    },
    {
      "cell_type": "markdown",
      "source": [
        "생성된 SentencePiece 모델을 사용하는 방법\n"
      ],
      "metadata": {
        "id": "yS-6hbBbQEnw"
      }
    },
    {
      "cell_type": "code",
      "source": [
        "s = spm.SentencePieceProcessor()\n",
        "s.Load('korean_spm.model')\n",
        "\n",
        "# SentencePiece를 활용한 sentence -> encoding\n",
        "tokensIDs = s.EncodeAsIds('아버지가방에들어가신다.')\n",
        "print(tokensIDs)\n",
        "\n",
        "# SentencePiece를 활용한 sentence -> encoded pieces\n",
        "print(s.SampleEncodeAsPieces('아버지가방에들어가신다.',2, 0.0))\n",
        "\n",
        "# SentencePiece를 활용한 encoding -> sentence 복원\n",
        "print(s.DecodeIds(tokensIDs))"
      ],
      "metadata": {
        "colab": {
          "base_uri": "https://localhost:8080/"
        },
        "id": "4DWApXCYQEPR",
        "outputId": "7bd47e28-2cd6-4b22-bb4f-344007751f7f"
      },
      "execution_count": null,
      "outputs": [
        {
          "output_type": "stream",
          "name": "stdout",
          "text": [
            "[1101, 11, 628, 9, 3206, 11, 303, 36, 3]\n",
            "['▁아버지', '가', '방', '에', '들어', '가', '신', '다', '.']\n",
            "아버지가방에들어가신다.\n"
          ]
        }
      ]
    },
    {
      "cell_type": "code",
      "source": [
        "with open(\"./korean_spm.vocab\", 'r') as f:\n",
        "    vocab = f.readlines()\n",
        "\n",
        "print('[vocab size] : ',len(vocab))\n",
        "print()\n",
        "print(\"[vocab 형태 확인]\\n\")\n",
        "print(vocab[0:10])\n",
        "for v in vocab[0:20]:\n",
        "    print(v)\n"
      ],
      "metadata": {
        "colab": {
          "base_uri": "https://localhost:8080/"
        },
        "id": "F_pKDnIOR2qM",
        "outputId": "8e6d9a88-bd90-4e33-e2f9-431d3d988b1d"
      },
      "execution_count": null,
      "outputs": [
        {
          "output_type": "stream",
          "name": "stdout",
          "text": [
            "[vocab size] :  15000\n",
            "\n",
            "[vocab 형태 확인]\n",
            "\n",
            "['<unk>\\t0\\n', '<s>\\t0\\n', '</s>\\t0\\n', '.\\t-3.33588\\n', '▁\\t-3.67633\\n', '을\\t-3.77317\\n', '의\\t-3.86014\\n', '를\\t-4.21518\\n', '는\\t-4.25507\\n', '에\\t-4.32531\\n']\n",
            "<unk>\t0\n",
            "\n",
            "<s>\t0\n",
            "\n",
            "</s>\t0\n",
            "\n",
            ".\t-3.33588\n",
            "\n",
            "▁\t-3.67633\n",
            "\n",
            "을\t-3.77317\n",
            "\n",
            "의\t-3.86014\n",
            "\n",
            "를\t-4.21518\n",
            "\n",
            "는\t-4.25507\n",
            "\n",
            "에\t-4.32531\n",
            "\n",
            "이\t-4.37277\n",
            "\n",
            "가\t-4.4317\n",
            "\n",
            "은\t-4.50481\n",
            "\n",
            ",\t-4.54621\n",
            "\n",
            "고\t-4.59745\n",
            "\n",
            "에서\t-5.07465\n",
            "\n",
            "로\t-5.1514\n",
            "\n",
            "▁“\t-5.16964\n",
            "\n",
            "”\t-5.2144\n",
            "\n",
            "한\t-5.22031\n",
            "\n"
          ]
        }
      ]
    },
    {
      "cell_type": "markdown",
      "source": [
        "Tokenizer 함수 작성"
      ],
      "metadata": {
        "id": "dYzdWOCpQYx1"
      }
    },
    {
      "cell_type": "code",
      "source": [
        "import tensorflow as tf\n",
        "# s는 SentencePiece 모델 객체, corpus는 텍스트 데이터가 저장된 리스트\n",
        "def sp_tokenize(s, corpus):\n",
        "\n",
        "    #토큰화된 데이터의 숫자 시퀀스를 저장할 리스트 tensor\n",
        "    tensor = []\n",
        "\n",
        "    # s.EncodeAsIds(sen) :\n",
        "    # 각 문장을 1. 토큰화 2. 해당 토큰화 결과를 숫자 시퀀스로 변환하여 tensor 리스트에 추가\n",
        "    for sen in corpus:\n",
        "        tensor.append(s.EncodeAsIds(sen))\n",
        "\n",
        "    # 생성했던 vocab 을 활용하여,\n",
        "    with open(\"./korean_spm.vocab\", 'r') as f:\n",
        "        vocab = f.readlines()\n",
        "\n",
        "    word_index = {} # word:idx 담을 dict\n",
        "    index_word = {} # idx:word 담을 dict\n",
        "\n",
        "    for idx, line in enumerate(vocab):\n",
        "        # 위에서 확인했다 시피 \"을\\t-3.77317\\n\" 이런식으로 vocab 에 담겨있음. 여기서 word 만 가져와서, index 로 단어사전 생성\n",
        "        word = line.split(\"\\t\")[0]\n",
        "        word_index.update({word:idx})\n",
        "        index_word.update({idx:word})\n",
        "\n",
        "    # tensor 리스트 내의 숫자 시퀀스들을 패딩하여 동일한 길이를 가지는 시퀀스로 만들기\n",
        "    tensor = tf.keras.preprocessing.sequence.pad_sequences(tensor, padding='post')\n",
        "\n",
        "    return tensor, word_index, index_word"
      ],
      "metadata": {
        "id": "c7snQg6qL-CM"
      },
      "execution_count": null,
      "outputs": []
    },
    {
      "cell_type": "markdown",
      "source": [],
      "metadata": {
        "id": "yVe_CzjFaEb_"
      }
    },
    {
      "cell_type": "code",
      "source": [
        "my_corpus = ['나는 밥을 먹었습니다.', '그러나 여전히 ㅠㅠ 배가 고픕니다...']\n",
        "tensor, word_index, index_word = sp_tokenize(s, my_corpus)\n",
        "print(tensor)\n",
        "print(word_index)\n"
      ],
      "metadata": {
        "colab": {
          "base_uri": "https://localhost:8080/"
        },
        "id": "zTnkAKwgQ5sQ",
        "outputId": "f3d60110-dfa0-4ae6-d1d7-3e6e76580345"
      },
      "execution_count": null,
      "outputs": [
        {
          "output_type": "stream",
          "name": "stdout",
          "text": [
            "[[ 1541  5212     5     4 14973  2458     3     0     0     0     0     0\n",
            "      0     0]\n",
            " [   87  1318    90     4     0   616    11     4    14     0  2653     3\n",
            "      3     3]]\n",
            "{'<unk>': 0, '<s>': 1, '</s>': 2, '.': 3, '▁': 4, '을': 5, '의': 6, '를': 7, '는': 8, '에': 9, '이': 10, '가': 11, '은': 12, ',': 13, '고': 14, '에서': 15, '로': 16, '▁“': 17, '”': 18, '한': 19, '인': 20, '일': 21, ')': 22, '(': 23, '▁이': 24, '과': 25, '으로': 26, '▁있다': 27, '와': 28, '▁수': 29, '도': 30, '▁밝혔다': 31, '▁말했다': 32, '할': 33, '지': 34, '년': 35, '다': 36, '▁있는': 37, '며': 38, '하고': 39, '했다': 40, '▁그': 41, '하는': 42, '▁전': 43, '▁그는': 44, '▁2': 45, '▁1': 46, '▁대한': 47, '▁위해': 48, '만': 49, '월': 50, '▁전했다': 51, '▁한': 52, '해': 53, '▁미국': 54, '기': 55, '▁3': 56, '▁이번': 57, '▁지난': 58, '현지시간': 59, '자': 60, '▁중': 61, '스': 62, '된': 63, '▁미': 64, '▁대해': 65, '\"': 66, '▁것으로': 67, '▁‘': 68, '에게': 69, '▁것': 70, '▁것이라고': 71, '명이': 72, '▁\"': 73, '이라고': 74, '▁있다고': 75, '나': 76, '리': 77, '▁것을': 78, '▁4': 79, 's': 80, '시': 81, '’': 82, '게': 83, '▁이라크': 84, '▁6': 85, '▁5': 86, '▁그러나': 87, '▁더': 88, '▁다른': 89, '히': 90, '▁대통령': 91, '들이': 92, '라': 93, '하게': 94, '▁중국': 95, '하기': 96, '▁한편': 97, '운': 98, '▁10': 99, '라고': 100, '하지': 101, '대': 102, '▁북한': 103, '▁주': 104, '주': 105, '던': 106, '명의': 107, '어': 108, '사': 109, '▁후': 110, '드': 111, '적인': 112, '들은': 113, '▁이후': 114, '▁정부': 115, '▁내': 116, '-': 117, '서': 118, '▁통해': 119, '▁많은': 120, '▁또': 121, '▁위한': 122, '▁대통령은': 123, '명': 124, '▁영국': 125, '세': 126, '트': 127, '▁두': 128, '▁부시': 129, '▁8': 130, '▁가장': 131, '▁동안': 132, '▁같은': 133, '▁것이다': 134, '▁등': 135, '▁7': 136, '▁바': 137, '▁대변인은': 138, '▁한국': 139, '까지': 140, '상': 141, '수': 142, '될': 143, '아': 144, '르': 145, '비': 146, '▁주장했다': 147, '▁될': 148, '▁알': 149, '이다': 150, '적': 151, '성': 152, '▁약': 153, '▁것은': 154, '됐다': 155, '▁한다': 156, '▁세계': 157, '▁할': 158, '했다고': 159, '개': 160, '▁또한': 161, '▁일': 162, '부': 163, '▁오바마': 164, '치': 165, '야': 166, '▁현재': 167, '▁때': 168, '▁12': 169, '▁경우': 170, '▁보도했다': 171, '▁이상': 172, '하며': 173, '▁영화': 174, '▁덧붙였다': 175, '▁관련': 176, '▁9': 177, '면': 178, '▁않았다': 179, '▁있었다': 180, '및': 181, '에는': 182, '▁문제': 183, '▁최근': 184, '니': 185, '미': 186, '했으며': 187, '▁했다': 188, '원': 189, 'e': 190, '들을': 191, '했던': 192, '▁말': 193, '크': 194, '▁자신의': 195, '▁11': 196, '▁뒤': 197, '▁일부': 198, \"'\": 199, '▁아': 200, '▁경제': 201, '▁함께': 202, '▁것이': 203, '▁새로': 204, \"▁'\": 205, '▁당시': 206, '소': 207, '▁20': 208, '선': 209, '전': 210, '마': 211, '진': 212, '▁조사': 213, '화': 214, '▁모든': 215, '▁그리고': 216, '보': 217, '▁일본': 218, '▁때문에': 219, '▁제': 220, '▁지': 221, '▁예정이다': 222, '▁수도': 223, '▁19': 224, '▁없다': 225, '▁있습니다': 226, '▁설명했다': 227, '▁비': 228, '해야': 229, '▁국가': 230, '차': 231, '▁몇': 232, '에서는': 233, '▁있으며': 234, '▁경찰은': 235, '제': 236, '▁모두': 237, '▁시': 238, '▁나': 239, '▁공격': 240, '한다': 241, '▁미군': 242, '분': 243, '약': 244, '억': 245, '▁정부는': 246, '▁파키스탄': 247, '당': 248, '▁프랑스': 249, '▁유엔': 250, '보다': 251, '▁사': 252, '장': 253, '▁계속': 254, '▁이스라엘': 255, '▁큰': 256, '하다': 257, '적으로': 258, '파': 259, '▁사고': 260, '▁오': 261, '▁마': 262, '▁30': 263, '▁민주당': 264, '▁러시아': 265, '들': 266, '▁계획': 267, '▁지역': 268, '타': 269, '▁이들': 270, '바': 271, '▁지난해': 272, '▁하는': 273, '디': 274, '여': 275, '국': 276, '즈': 277, '▁경찰': 278, '명을': 279, '▁열린': 280, '프': 281, '2': 282, '하': 283, '▁않을': 284, '▁대통령이': 285, '조': 286, '▁클린턴': 287, '용': 288, '정': 289, '오': 290, '▁올해': 291, '그': 292, '우': 293, '간': 294, '▁(': 295, '▁거': 296, '▁발생한': 297, '▁이날': 298, '▁반': 299, '▁총리는': 300, '▁우리': 301, '▁the': 302, '신': 303, '▁발표했다': 304, '▁경기': 305, '▁핵': 306, '▁대': 307, 'd': 308, '티': 309, '▁달러': 310, '내': 311, '했습니다': 312, '▁지원': 313, '▁15': 314, '▁받고': 315, '▁후보': 316, '회': 317, '에도': 318, '레': 319, '위': 320, '▁테러': 321, '▁부': 322, '▁해': 323, '▁세': 324, '라는': 325, '러': 326, '▁안': 327, '▁다': 328, '에따르면': 329, '▁결과': 330, '▁있을': 331, '▁결정': 332, '구': 333, '▁가운데': 334, '으며': 335, '이나': 336, '▁하고': 337, '▁연구': 338, '▁미국의': 339, '시간': 340, '었다': 341, '▁존': 342, '▁무': 343, '▁선거': 344, '▁달': 345, '▁16': 346, '▁데': 347, '▁총리': 348, '▁to': 349, 'm': 350, '산': 351, '1': 352, '▁발표': 353, '질': 354, '▁국제': 355, '▁여성': 356, '▁의해': 357, '▁이란': 358, '▁군': 359, '▁회담': 360, '▁된다': 361, '토': 362, '부터': 363, '▁사건': 364, '코': 365, '▁주요': 366, '카': 367, '모': 368, '▁사람들이': 369, '▁파': 370, '노': 371, '▁정부가': 372, '하면서': 373, '▁기': 374, '▁방문': 375, '▁18': 376, '▁다시': 377, ')’': 378, '식': 379, '면서': 380, '▁인해': 381, '▁관계': 382, '▁보고': 383, '길': 384, '입니다': 385, '▁보': 386, '되는': 387, '▁않은': 388, '▁됐다': 389, '려': 390, '▁모': 391, '▁초': 392, '▁에': 393, '▁조': 394, '▁of': 395, '▁아프간': 396, '.”': 397, '관': 398, '▁정': 399, '▁채': 400, '▁13': 401, '브': 402, '▁시위': 403, '호': 404, '▁첫': 405, '▁혐의로': 406, '▁인도': 407, '린': 408, '▁시간': 409, '▁총': 410, 'y': 411, '권': 412, '들의': 413, '▁있다는': 414, 'S': 415, '▁유': 416, '▁노': 417, '단': 418, '계': 419, '되어': 420, '▁조치': 421, '지만': 422, 'o': 423, '▁차': 424, 'a': 425, '▁이미': 426, '실': 427, '▁프로그램': 428, '▁하': 429, '▁승리': 430, '▁14': 431, '돼': 432, '▁위치한': 433, 'km': 434, '▁받았다': 435, '▁대선': 436, '점': 437, '▁회사': 438, '▁우려': 439, '▁강': 440, '번': 441, '하여': 442, '▁팔레스타인': 443, '▁성': 444, '▁줄': 445, '▁없는': 446, '더': 447, '▁피해': 448, '▁불': 449, '살': 450, '▁뉴욕': 451, '▁공': 452, '▁자': 453, '▁아직': 454, '▁TV': 455, '▁독일': 456, '▁신': 457, '▁감독': 458, '▁활동': 459, '▁재': 460, '직': 461, '루': 462, '▁소속': 463, '이라며': 464, '▁추가': 465, '되고': 466, '▁사실을': 467, '▁구': 468, '▁내용': 469, '▁아이': 470, '로부터': 471, '▁25': 472, '▁잘': 473, '안': 474, '▁혐의': 475, '▁관리': 476, '▁매케인': 477, '▁시장': 478, '▁관계자는': 479, '공': 480, '▁않고': 481, '▁간': 482, '체': 483, '/': 484, '▁유럽': 485, '법': 486, '▁지적했다': 487, \"▁''\": 488, '▁한다고': 489, '달러': 490, '▁최고': 491, '▁17': 492, '▁지지': 493, '▁피': 494, '습니다': 495, '▁지금': 496, '▁카': 497, '군': 498, '▁포함': 499, '3': 500, '년간': 501, '▁당': 502, '▁기록': 503, '▁협상': 504, '▁상원의원': 505, '▁W': 506, '▁조지': 507, '물': 508, '▁매우': 509, '▁양': 510, '▁명의': 511, '▁올림픽': 512, '▁이슬람': 513, '▁당국은': 514, '중': 515, '5': 516, '동': 517, '▁원': 518, 'A': 519, '▁탈레반': 520, '▁많': 521, 'ing': 522, '난': 523, '▁대부분': 524, 'ed': 525, '든': 526, '▁시작': 527, '▁호주': 528, '개월': 529, '력': 530, '▁in': 531, '▁없다고': 532, '▁판매': 533, '▁차량': 534, '▁대학': 535, '피': 536, '▁전쟁': 537, '문': 538, '▁받은': 539, '였다': 540, '데': 541, '▁못했다': 542, '처럼': 543, '종': 544, '▁새': 545, '▁않는다': 546, '▁예정': 547, '▁인터넷': 548, '되지': 549, '▁노력': 550, '▁타': 551, '▁이는': 552, '▁소': 553, '포': 554, '발': 555, '▁상': 556, '▁사람': 557, '유': 558, '▁비난': 559, '▁도시': 560, '?': 561, '▁2006': 562, '▁어떤': 563, '▁24': 564, '▁주장': 565, '▁부상': 566, '▁오늘': 567, '▁여러': 568, '▁이에': 569, '▁우주': 570, '무': 571, '▁폭탄': 572, '석': 573, '▁하지만': 574, '키': 575, '했고': 576, '▁사망': 577, '▁매': 578, '▁반대': 579, '▁100': 580, '▁있던': 581, '▁하지': 582, '▁해결': 583, '▁기자': 584, '▁오후': 585, '▁물': 586, '▁석방': 587, '임': 588, '▁21': 589, '▁기술': 590, '▁개발': 591, '▁50': 592, '▁입장': 593, '▁라': 594, 't': 595, '▁생각': 596, 'i': 597, '경': 598, '명은': 599, '▁검찰': 600, '▁방송': 601, '되었다': 602, '터': 603, 'c': 604, '들에게': 605, '▁리': 606, '▁미얀마': 607, '▁날': 608, '형': 609, '▁변화': 610, '반': 611, '▁27': 612, '▁개': 613, '릴': 614, '▁안전': 615, '▁배': 616, '▁정책': 617, '▁합의': 618, '하는데': 619, '▁A': 620, '심': 621, '▁있어': 622, '이었다': 623, '이며': 624, '개의': 625, '학': 626, '▁자동차': 627, '방': 628, '▁23': 629, '▁발': 630, '▁S': 631, '들과': 632, '▁22': 633, '▁준비': 634, '▁인터뷰에서': 635, '▁병원': 636, '란': 637, '거': 638, '▁컴퓨터': 639, '▁김': 640, '네': 641, '▁강조했다': 642, '▁다음': 643, '▁점': 644, '▁어': 645, '▁갖고': 646, '▁이러': 647, '했지만': 648, '▁그들은': 649, '재': 650, '▁스': 651, '▁것에': 652, '버': 653, '▁공화당': 654, '▁처음': 655, '▁된': 656, '▁산': 657, '에따라': 658, '▁도': 659, '▁떨어진': 660, '▁앞서': 661, 'C': 662, '▁발생': 663, '▁반군': 664, '▁원문기사보기': 665, '▁있도록': 666, '▁오전': 667, '▁이어': 668, '▁사이': 669, '감': 670, '▁대표': 671, '▁마지막': 672, '▁남부': 673, '▁의사': 674, '▁이용': 675, '▁a': 676, '▁투표': 677, '▁비난했다': 678, '▁중단': 679, '온': 680, ':': 681, '▁터키': 682, '▁북한이': 683, '▁생산': 684, '▁서': 685, '하도록': 686, '▁코': 687, '▁가진': 688, '▁폭발': 689, 'al': 690, '하기로': 691, '▁증가': 692, '▁경찰이': 693, '했었다': 694, '▁오는': 695, '위원회': 696, '교': 697, '▁볼': 698, '6': 699, '▁2005': 700, '했으나': 701, '▁보도': 702, '▁미국과': 703, '▁장관은': 704, '요': 705, '7': 706, '▁인근': 707, '▁실': 708, '▁상황': 709, '▁처음으로': 710, '이라는': 711, '▁자신이': 712, '▁그녀': 713, '▁외': 714, '됐다고': 715, '▁이를': 716, '▁사용': 717, '▁열': 718, '▁그녀는': 719, '▁위협': 720, '▁정치': 721, '▁규모': 722, '▁남자': 723, '연': 724, '으로부터': 725, '▁버락': 726, '▁성명': 727, 'P': 728, '▁지난달': 729, '▁아시아': 730, '▁치료': 731, '▁없었다': 732, '▁여행': 733, '▁힐러리': 734, 'er': 735, 'n': 736, '▁26': 737, '▁이탈리아': 738, '▁연방': 739, '▁최소': 740, '▁40': 741, '▁지역에서': 742, '▁금융': 743, '다고': 744, '건': 745, '지는': 746, '▁선': 747, '▁앞으로': 748, '▁있지만': 749, '거나': 750, '▁영향': 751, '▁CNN': 752, '▁자신': 753, '▁야당': 754, '▁없이': 755, '▁자금': 756, '▁보인다': 757, '▁장': 758, '▁관한': 759, '▁사망했다': 760, '▁건물': 761, '와의': 762, '▁불법': 763, '▁스페인': 764, '배': 765, '츠': 766, '▁의회': 767, '▁않다': 768, '▁저': 769, '▁사망자': 770, '▁좋은': 771, '▁살해': 772, '▁만에': 773, '워': 774, '▁공식': 775, '▁명': 776, '▁사람들': 777, '▁이름': 778, '번째': 779, '너': 780, '▁현지': 781, '▁가격': 782, '▁미국이': 783, '울': 784, '_': 785, '▁돈': 786, '▁발견': 787, '▁당국': 788, '된다': 789, '는데': 790, '팀': 791, '▁상태': 792, '▁29': 793, '우리는': 794, '▁은행': 795, '▁방': 796, '강': 797, '▁비행기': 798, 'N': 799, '▁사태': 800, '▁런던': 801, '▁행사': 802, '▁언론': 803, '▁가능성': 804, '▁미사일': 805, '▁밤': 806, '▁사람들은': 807, '▁평화': 808, '▁거래': 809, '▁28': 810, '급': 811, 'u': 812, 'article': 813, '▁백악관': 814, '▁무기': 815, '▁위': 816, '▁최대': 817, '▁주둔': 818, '▁동': 819, '▁이들은': 820, '▁레': 821, '날': 822, '▁알려졌다': 823, '▁지도자': 824, '판': 825, '천': 826, '▁AP': 827, '▁조직': 828, '▁논의': 829, 'p': 830, '▁행동': 831, '▁벌이': 832, '▁우': 833, '▁적': 834, '▁불구하고': 835, '됐으며': 836, '▁연기': 837, '▁중요한': 838, '행': 839, '▁팀': 840, '청': 841, '▁발언': 842, '▁오바마는': 843, '▁집': 844, '▁말했습니다': 845, 'E': 846, '▁B': 847, '▁바그다드': 848, '▁공급': 849, '▁이전': 850, '▁발생했다': 851, '▁박사는': 852, '▁사망한': 853, '▁대통령과': 854, '▁서울': 855, '▁요구': 856, '▁게임': 857, '론': 858, '▁필요': 859, '병': 860, '▁포': 861, '스트': 862, '▁것입니다': 863, '작': 864, '▁지구': 865, '▁수사': 866, '하자': 867, '저': 868, '두': 869, '▁용의자': 870, '▁막': 871, '▁이런': 872, '▁정도': 873, '▁역할': 874, '▁미국은': 875, '▁입': 876, '▁공동': 877, '▁발사': 878, '▁반면': 879, '▁관심': 880, '▁분': 881, '▁법원': 882, '▁살': 883, '▁코리아': 884, '▁올': 885, '▁군사': 886, 'M': 887, '▁투자': 888, '▁2008': 889, '▁고위': 890, '▁인질': 891, '▁법': 892, '▁이야기': 893, '▁부토': 894, '▁상승': 895, '층': 896, '▁역사': 897, '’’': 898, '▁학교': 899, '▁메': 900, 'and': 901, '속': 902, '간의': 903, '▁앞': 904, '4': 905, '▁치': 906, '▁무샤라프': 907, '설': 908, '▁호': 909, 'D': 910, 'I': 911, '▁북부': 912, '▁보안': 913, 'T': 914, '류': 915, '▁회장': 916, '▁사망했다고': 917, '2005.08': 918, '▁서비스': 919, '마리': 920, '래': 921, '▁기간': 922, '▁위험': 923, '▁정치적': 924, '▁보다': 925, 'O': 926, '▁나라': 927, '▁의하면': 928, 'CNN': 929, '포인트': 930, '기를': 931, '▁알카에다': 932, '▁단체': 933, '▁모습을': 934, '▁자신들': 935, '탄': 936, '▁길': 937, '▁워싱턴': 938, '▁의원': 939, '▁2005.08': 940, '▁부족': 941, '▁충돌': 942, '▁동영상': 943, '▁사업': 944, '시킬': 945, '친': 946, '▁건강': 947, '▁것이라는': 948, '하면': 949, '▁자살': 950, '▁공항': 951, '▁행위': 952, '▁우승': 953, '▁출신': 954, '▁감소': 955, '▁힘': 956, '▁가능성이': 957, '▁높은': 958, '▁더욱': 959, '스는': 960, '편': 961, '▁손': 962, '▁지난주': 963, 'F': 964, '▁뜻': 965, '▁왔다': 966, '▁국경': 967, '▁시도': 968, '통': 969, '▁정보': 970, '후': 971, '▁인용': 972, '금': 973, '’(': 974, '영': 975, '▁여': 976, '초': 977, '슨': 978, '▁성명에서': 979, '▁뉴스': 980, '▁위기': 981, '▁금지': 982, '▁하마스': 983, '민': 984, '▁통과': 985, '▁&': 986, '▁체포': 987, '▁지역에': 988, '▁폐쇄': 989, 'h': 990, 'l': 991, '한다고': 992, '▁보호': 993, '만달러': 994, '▁전에': 995, '▁신문': 996, '▁가족': 997, '▁하나': 998, '세의': 999, '출': 1000, '▁N': 1001, '▁말을': 1002, '▁아니다': 1003, '▁확인': 1004, '▁이와': 1005, '▁것이며': 1006, '▁인쇄': 1007, '이번': 1008, '▁검사': 1009, '▁문': 1010, '장은': 1011, '▁알고': 1012, '▁환경': 1013, '▁2004': 1014, 'g': 1015, 'B': 1016, '▁전화': 1017, '▁for': 1018, '▁않는': 1019, 'an': 1020, '▁총리가': 1021, '량': 1022, '▁독립': 1023, '▁제안': 1024, '양': 1025, '였던': 1026, '▁캘리포니아': 1027, '▁폭탄테러': 1028, '▁하락': 1029, '▁않았다고': 1030, '▁진행': 1031, '▁경': 1032, '하겠다고': 1033, '▁병력': 1034, '▁철수': 1035, '▁단': 1036, '색': 1037, '▁성공': 1038, '▁시신': 1039, '도록': 1040, '▁기자회견에서': 1041, '하던': 1042, '▁핵무기': 1043, '▁어제': 1044, '▁하루': 1045, '▁보였다': 1046, '▁직접': 1047, '▁필요한': 1048, '▁되는': 1049, '▁납치': 1050, '▁아침': 1051, 'R': 1052, '증': 1053, 'r': 1054, '▁관련된': 1055, '▁라이스': 1056, '▁아니라': 1057, '설명': 1058, '▁회의': 1059, '▁여부': 1060, '품': 1061, '▁곳': 1062, '▁범죄': 1063, '▁생활': 1064, '해서': 1065, '▁결혼': 1066, '▁각': 1067, '▁루': 1068, '억원': 1069, '▁확보': 1070, '▁사람이': 1071, '▁증거': 1072, '▁국방부': 1073, '▁베': 1074, '▁방법': 1075, '함': 1076, '만명': 1077, '▁속': 1078, '▁F': 1079, '▁재개': 1080, '▁베이징': 1081, '인한': 1082, '▁국민': 1083, '“': 1084, '▁우리는': 1085, '▁공개': 1086, '긴': 1087, 'JO': 1088, '차례': 1089, '▁시설': 1090, '▁사르코지': 1091, '▁아들': 1092, '년대': 1093, '▁타고': 1094, '미국': 1095, '▁요청': 1096, '▁주택': 1097, '▁협력': 1098, '그러나': 1099, '했을': 1100, '▁아버지': 1101, '▁정상': 1102, '▁있고': 1103, 'INS': 1104, '▁받을': 1105, '▁작전': 1106, '▁들': 1107, '년에': 1108, '▁원문': 1109, '▁티베트': 1110, '▁맥': 1111, '▁골': 1112, 'f': 1113, '▁석유': 1114, '▁아프가니스탄': 1115, '년까지': 1116, '▁노무현': 1117, '▁콜롬비아': 1118, '▁결국': 1119, '▁상원': 1120, '져': 1121, '졌다': 1122, '▁드': 1123, '생': 1124, 'G': 1125, '▁추': 1126, '▁건설': 1127, '▁역시': 1128, '▁딸': 1129, '▁사진': 1130, '▁번째': 1131, '▁H': 1132, '▁비행': 1133, '▁심': 1134, '▁에너지': 1135, '▁내년': 1136, '▁보내': 1137, '▁아이들': 1138, '하려': 1139, '예': 1140, '▁2003': 1141, '▁열리는': 1142, '▁곧': 1143, 'in': 1144, '▁이유로': 1145, '▁통': 1146, '▁사회': 1147, '▁기업': 1148, '▁숨졌다': 1149, '▁페': 1150, '▁수준': 1151, '▁친구': 1152, '독해': 1153, '▁언급': 1154, '나는': 1155, '▁60': 1156, '▁사건에': 1157, '▁C': 1158, '▁국무부': 1159, '▁눈': 1160, '&': 1161, '▁전체': 1162, '▁부인': 1163, '▁타임즈': 1164, '▁문제에': 1165, '매': 1166, '▁Korea': 1167, '▁의견': 1168, '▁온': 1169, '▁만': 1170, '▁호텔': 1171, '위를': 1172, '▁판결': 1173, '▁구조': 1174, '▁이제': 1175, '▁도로': 1176, '▁경쟁': 1177, '▁인정': 1178, 'en': 1179, 'ar': 1180, '▁연설': 1181, '▁애': 1182, '있는': 1183, '▁지방': 1184, '▁빌': 1185, '측': 1186, '▁예정이라고': 1187, '▁어떻게': 1188, '하라': 1189, '%': 1190, '▁남': 1191, '▁최초': 1192, '에서도': 1193, '▁훈련': 1194, '본': 1195, '▁전망': 1196, '▁시스템': 1197, '▁경선': 1198, '▁못': 1199, '▁같다': 1200, '▁키': 1201, '▁현': 1202, '▁주변': 1203, '됐': 1204, '▁팔': 1205, '▁이동': 1206, '▁폴': 1207, '▁레바논': 1208, '▁성장': 1209, '▁예상': 1210, '▁마을': 1211, '메': 1212, '▁본': 1213, '일간': 1214, '▁시작했다': 1215, '▁승인': 1216, '▁선수': 1217, '▁전문가들은': 1218, '▁요구했다': 1219, '▁한국인': 1220, '만원': 1221, '▁산업': 1222, '▁임무': 1223, '▁해외': 1224, '▁방안': 1225, '▁정보를': 1226, '하려는': 1227, '▁일정': 1228, '로서': 1229, '▁있기': 1230, '▁이같': 1231, '▁까지': 1232, '▁태국': 1233, '▁인구': 1234, '▁200': 1235, '▁변': 1236, '테': 1237, '▁있게': 1238, '▁음악': 1239, '▁또는': 1240, '케': 1241, '업': 1242, 'le': 1243, '▁데이비드': 1244, '▁대선후보': 1245, '명과': 1246, '▁친': 1247, '▁발견했다': 1248, '▁개인': 1249, '▁예': 1250, '처': 1251, '▁2000': 1252, '베': 1253, '▁과학자들': 1254, '▁보고서': 1255, '역': 1256, '시켰다': 1257, '▁선택': 1258, '▁시위대': 1259, '▁수술': 1260, '추': 1261, '▁앞두고': 1262, '▁비디오': 1263, '▁운동': 1264, '▁대변인': 1265, '▁한나라당': 1266, 'com': 1267, '▁사망하고': 1268, '▁비롯': 1269, '▁교육': 1270, '▁여객기': 1271, '▁생각한다': 1272, '으나': 1273, '▁연': 1274, '▁너무': 1275, '쳐': 1276, '▁에서': 1277, '▁배우': 1278, '▁나타났다': 1279, '지역': 1280, '▁어린이': 1281, '▁관할': 1282, '▁대사관': 1283, '▁유지': 1284, '커': 1285, '▁폭력': 1286, '▁민간인': 1287, '▁전투': 1288, '▁장관': 1289, '▁네': 1290, '▁있었던': 1291, '▁포함한': 1292, '▁전세계': 1293, 'K': 1294, '▁행정부': 1295, '▁회복': 1296, '▁멕시코': 1297, '▁도움': 1298, '▁별': 1299, '▁바로': 1300, '혀': 1301, '▁대규모': 1302, '▁가지': 1303, '렌': 1304, '▁운영': 1305, '▁제작': 1306, '▁출전': 1307, '억달러': 1308, '독': 1309, '▁판사': 1310, '▁경고': 1311, '▁화재': 1312, '▁아닌': 1313, '남': 1314, '▁결': 1315, '▁버': 1316, 'L': 1317, '▁여전': 1318, '씨는': 1319, '▁인도네시아': 1320, '▁P': 1321, '▁로버트': 1322, '장을': 1323, '▁안에': 1324, '▁진': 1325, '▁브라운': 1326, '▁아프리카': 1327, '▁인권': 1328, '▁동물': 1329, '▁토': 1330, '▁교수는': 1331, '▁돌': 1332, '▁가지고': 1333, '▁의원은': 1334, '▁L': 1335, '▁출연': 1336, '▁촉구했다': 1337, '합니다': 1338, '투': 1339, '승': 1340, '▁밝혀졌다': 1341, '퍼센트': 1342, '▁주민': 1343, 'on': 1344, '▁무장': 1345, '▁받아': 1346, '표': 1347, '▁수치': 1348, '우리': 1349, '▁온라인': 1350, '▁계약': 1351, '▁벌': 1352, '▁2002': 1353, '립': 1354, '현': 1355, '▁입은': 1356, \")'\": 1357, '▁규정': 1358, '등': 1359, '▁수단': 1360, '▁31': 1361, '▁총선': 1362, '▁스타': 1363, '▁디': 1364, '▁T': 1365, '박': 1366, '▁입었다': 1367, '엔': 1368, 'it': 1369, '▁안보': 1370, '▁특히': 1371, '▁인간': 1372, '8': 1373, '▁건': 1374, 'or': 1375, '▁그들의': 1376, '▁대신': 1377, '▁했다고': 1378, '▁수입': 1379, '목': 1380, '▁국내': 1381, '▁제재': 1382, '~': 1383, '▁경기에서': 1384, '▁갈': 1385, '▁LA': 1386, '▁표': 1387, '▁말한다': 1388, '▁대회': 1389, '▁부통령': 1390, '▁제품': 1391, '▁살고': 1392, '▁만나': 1393, '▁이상이': 1394, '▁항공': 1395, '▁홍콩': 1396, '▁작은': 1397, '▁알리': 1398, '▁천': 1399, '▁마련': 1400, '골': 1401, '▁여자': 1402, '▁암': 1403, '▁직원': 1404, '▁관계자가': 1405, '▁최종': 1406, '▁일을': 1407, '이자': 1408, 'k': 1409, '▁심각한': 1410, '▁푸틴': 1411, '▁정당': 1412, '▁열차': 1413, '▁담당': 1414, '▁번': 1415, '▁M': 1416, '▁필요하다': 1417, '▁경고했다': 1418, '월에': 1419, '▁메시지': 1420, '▁밝힌': 1421, '▁대의원': 1422, '▁연합': 1423, '곳': 1424, '▁가치': 1425, '▁사임': 1426, '▁일이': 1427, '▁연료': 1428, '▁중인': 1429, '▁없을': 1430, '▁개선': 1431, '▁파업': 1432, '▁주도': 1433, '▁플로리다': 1434, '달': 1435, '▁부대': 1436, '▁걸': 1437, '▁관리들': 1438, '▁무장세력': 1439, '▁주식': 1440, '▁반응': 1441, '▁아무': 1442, '▁발표한': 1443, '자들은': 1444, '▁환자': 1445, '▁G': 1446, '▁캐나다': 1447, '▁D': 1448, '▁아기': 1449, '▁종': 1450, '집': 1451, '▁개최': 1452, '태': 1453, '▁주말': 1454, '▁마이클': 1455, '▁벌였다': 1456, '▁동부': 1457, '▁f': 1458, '퍼': 1459, '▁원인': 1460, '링': 1461, '절': 1462, '▁라디오': 1463, '▁비해': 1464, '▁편': 1465, '▁변호사': 1466, '▁얼마': 1467, '▁시험': 1468, '▁기록했다': 1469, '▁대만': 1470, '▁외국인': 1471, '▁K': 1472, '▁광고': 1473, '되기': 1474, '채': 1475, '▁서로': 1476, '▁난': 1477, '▁사실': 1478, '외': 1479, '▁이라크에서': 1480, '락': 1481, '들에': 1482, '▁화요일': 1483, '▁이유': 1484, '줄': 1485, '▁힐': 1486, '▁미국인': 1487, '톤': 1488, '▁지역의': 1489, '50': 1490, '▁중동': 1491, 'b': 1492, '▁브라질': 1493, '▁명이': 1494, '년부터': 1495, '▁책임': 1496, '▁헬기': 1497, '하겠다': 1498, '▁재판': 1499, '▁빈': 1500, '▁감시': 1501, '이었던': 1502, '▁헤': 1503, '▁스미스': 1504, '음': 1505, '▁여름': 1506, '하거나': 1507, '▁제한': 1508, '▁작품': 1509, '▁지명': 1510, '▁해안': 1511, '료': 1512, '▁케냐': 1513, '각': 1514, '복': 1515, '▁실험': 1516, '▁구성': 1517, '▁커': 1518, '▁실시': 1519, '▁들어': 1520, '▁국무장관': 1521, '▁학생': 1522, '▁외국': 1523, '▁짐바브웨': 1524, '▁국영': 1525, '▁내렸다': 1526, '▁미국에서': 1527, '▁후보가': 1528, '▁남편': 1529, 'H': 1530, '▁거리': 1531, '▁각각': 1532, 'w': 1533, '▁비용': 1534, '▁국회': 1535, '상을': 1536, '▁같이': 1537, '▁양국': 1538, '▁식량': 1539, '한다는': 1540, '▁나는': 1541, '범': 1542, '▁시아파': 1543, '▁소송': 1544, '▁해군': 1545, '록': 1546, '▁밖에': 1547, 'es': 1548, '액': 1549, '센터': 1550, '▁차례': 1551, '▁평균': 1552, '▁권리': 1553, '▁대변인이': 1554, '▁특별': 1555, '▁부분': 1556, '▁북': 1557, '불': 1558, '▁쇼': 1559, '열': 1560, '▁시즌': 1561, '▁하원': 1562, '쉬': 1563, '▁배치': 1564, '▁남성': 1565, '▁인상': 1566, '▁파괴': 1567, '망': 1568, '▁찾아': 1569, '▁잡': 1570, '▁국민들': 1571, '▁목적': 1572, '▁가스': 1573, '▁내려': 1574, '▁엘': 1575, '▁전달': 1576, '▁나온': 1577, '▁않아': 1578, '▁발견됐다': 1579, '▁과정에서': 1580, '▁여론조사': 1581, '▁일본의': 1582, '▁과거': 1583, '▁텍사스': 1584, '시켜': 1585, '▁야': 1586, '▁박': 1587, '▁감': 1588, '▁버스': 1589, '이란': 1590, '▁정권': 1591, '업체': 1592, '▁처리': 1593, '▁약속': 1594, '자회담': 1595, '▁파병': 1596, '30': 1597, '▁강제': 1598, '▁부상했다': 1599, 'ch': 1600, '▁체': 1601, '림': 1602, '▁웹사이트': 1603, '▁경찰에': 1604, '▁앤': 1605, '▁다양': 1606, '▁몸': 1607, '튼': 1608, '렸다': 1609, '▁사건이': 1610, '▁공연': 1611, '▁무역': 1612, '▁담': 1613, '▁위성': 1614, '거리': 1615, '일까지': 1616, '▁당신': 1617, '▁다리': 1618, '▁수상': 1619, '▁패': 1620, '▁U': 1621, '▁위원회': 1622, '▁걸쳐': 1623, '광': 1624, '격': 1625, '▁가자지구': 1626, '▁설치': 1627, '언': 1628, '▁강화': 1629, '▁센터': 1630, '▁사이에': 1631, '▁설명': 1632, '▁s': 1633, '▁자유': 1634, '▁자료': 1635, '▁통제': 1636, '개국': 1637, '▁항공사': 1638, '▁기대': 1639, '먼': 1640, '▁/': 1641, '여명': 1642, '기도': 1643, '주의': 1644, '▁사실이': 1645, '▁500': 1646, '▁2007': 1647, '블': 1648, '단체': 1649, '▁평가': 1650, '책': 1651, '▁결정했다': 1652, '가지': 1653, '▁목표': 1654, '▁주재': 1655, '▁발전': 1656, '머': 1657, '▁섬': 1658, '▁안정': 1659, '▁제공': 1660, '▁대상으로': 1661, '▁선고': 1662, 'un': 1663, '▁질': 1664, '▁이에앞서': 1665, '▁논쟁': 1666, '대로': 1667, '▁진압': 1668, '▁수출': 1669, '▁기소': 1670, '▁촬영': 1671, '리아': 1672, '▁것과': 1673, '▁그룹': 1674, '▁유일': 1675, '결': 1676, '자가': 1677, '▁사퇴': 1678, 'W': 1679, '▁지나': 1680, '▁바이러스': 1681, '해왔다': 1682, '▁관계자들은': 1683, '▁주민들': 1684, '갈': 1685, '▁공습': 1686, '▁샤': 1687, '▁The': 1688, '9': 1689, '▁나이': 1690, '▁외교': 1691, '▁희망': 1692, '▁헌법': 1693, '▁알려진': 1694, '▁발견된': 1695, '동안': 1696, '▁그런': 1697, '▁올라': 1698, '▁인물': 1699, '▁대해서는': 1700, '회사': 1701, '▁받는': 1702, '▁되어': 1703, '▁사과': 1704, '▁위반': 1705, '▁참석': 1706, '힌': 1707, '▁차베스': 1708, '▁압력': 1709, '▁후세인': 1710, '하였다': 1711, '▁on': 1712, '▁요청했다': 1713, '▁한다는': 1714, '중인': 1715, '말': 1716, '랑': 1717, '▁기지': 1718, '▁EU': 1719, '▁완전': 1720, '라며': 1721, '명으로': 1722, '▁상대로': 1723, '▁바란다': 1724, '▁서부': 1725, '20': 1726, '▁거부': 1727, '시키는': 1728, '▁그들이': 1729, '▁마약': 1730, '리는': 1731, '▁기사': 1732, '자인': 1733, '▁변호사는': 1734, '▁익명': 1735, '▁만들어': 1736, '▁왕자': 1737, '▁대응': 1738, '▁야후': 1739, '▁예상된다': 1740, '▁후보는': 1741, '▁총격': 1742, '▁교': 1743, '이라크': 1744, '▁집단': 1745, '▁제기': 1746, '▁차이': 1747, '▁복귀': 1748, '▁질문': 1749, '▁생': 1750, '▁병': 1751, '▁불만': 1752, '있다': 1753, '합': 1754, '▁이명박': 1755, '▁밝혔습니다': 1756, '▁귀': 1757, '▁크게': 1758, '▁감염': 1759, '▁전국': 1760, '▁로마': 1761, '▁아직까지': 1762, '▁테': 1763, '▁남한': 1764, '▁사는': 1765, '▁있지': 1766, '▁누': 1767, '▁탑승': 1768, '▁북핵': 1769, '백': 1770, '▁받지': 1771, '▁죽': 1772, '▁하기': 1773, '▁붕괴': 1774, '▁저장': 1775, '▁허가': 1776, '▁이곳': 1777, '성을': 1778, '▁인터뷰': 1779, '되었습니다': 1780, '0': 1781, '사건': 1782, '▁사람은': 1783, '▁US': 1784, '▁책': 1785, '입': 1786, '▁접근': 1787, '▁놓': 1788, '▁적이': 1789, '▁선정': 1790, '일부터': 1791, '500': 1792, '▁중국은': 1793, '▁인수': 1794, '▁베네수엘라': 1795, '▁이집트': 1796, '▁인기': 1797, 'ic': 1798, '▁극': 1799, '기로': 1800, '▁합니다': 1801, '▁어머니': 1802, '▁추진': 1803, '▁음식': 1804, '른': 1805, '▁살인': 1806, '▁아니라고': 1807, '▁성폭행': 1808, '▁따른': 1809, '▁요': 1810, '▁넘': 1811, '▁민주주의': 1812, '▁세력': 1813, '▁사람들을': 1814, '▁정부와': 1815, '▁위해서는': 1816, '▁부부': 1817, '▁때까지': 1818, '▁여론': 1819, '측은': 1820, 'ation': 1821, 'v': 1822, '▁교수': 1823, '▁사이트': 1824, '▁마크': 1825, '▁기관': 1826, '레이': 1827, '▁머리': 1828, '▁되고': 1829, '쿠': 1830, '샤': 1831, '▁암살': 1832, '▁최악': 1833, '▁권력': 1834, '자들이': 1835, '▁쿠바': 1836, '▁받게': 1837, '▁시민': 1838, '▁일반': 1839, '장이': 1840, '▁모델': 1841, '▁임기': 1842, '▁나가': 1843, '▁2001': 1844, '이라': 1845, '세기': 1846, '▁신고': 1847, '령': 1848, '▁비판': 1849, '북': 1850, '▁문화': 1851, '▁장면': 1852, '킨': 1853, '▁무장단체': 1854, 'st': 1855, '▁부모': 1856, '▁매년': 1857, '▁상원의원이': 1858, '▁가졌다': 1859, '▁명령': 1860, '▁유권자들': 1861, '▁내부': 1862, '▁못하고': 1863, '페': 1864, '▁의미': 1865, '▁행': 1866, '▁선출': 1867, '▁수색': 1868, '▁진출': 1869, '▁달리': 1870, '▁사원': 1871, '기구': 1872, '▁긴장': 1873, '▁공격으로': 1874, '▁남북': 1875, '정부': 1876, '플': 1877, '▁c': 1878, '▁계획이다': 1879, '▁뿐': 1880, '되었다고': 1881, '▁언급했다': 1882, '▁일요일': 1883, '▁고용': 1884, '▁보냈다': 1885, '▁두고': 1886, '▁도착': 1887, '그는': 1888, '▁금': 1889, '▁강력한': 1890, '▁왕': 1891, '▁허용': 1892, '▁참가': 1893, '▁이끄는': 1894, '▁밀': 1895, '▁필리핀': 1896, '▁수많은': 1897, '▁도움이': 1898, '▁확인했다': 1899, '▁못한': 1900, '▁나왔다': 1901, '▁선수들': 1902, '▁사항': 1903, '▁수십': 1904, '시키고': 1905, '▁강한': 1906, '▁동료': 1907, '만이': 1908, '▁밝히지': 1909, '▁월요일': 1910, '▁삼': 1911, '▁개혁': 1912, '담': 1913, '▁보고서는': 1914, '▁거대': 1915, '▁병사': 1916, '빌': 1917, '▁정부에': 1918, '▁끝': 1919, '10': 1920, '▁집중': 1921, '▁의료': 1922, '▁오른': 1923, '▁향해': 1924, '때': 1925, '하지만': 1926, '5%': 1927, '하기도': 1928, '▁구매': 1929, '▁파리': 1930, '▁사랑': 1931, '▁임명': 1932, '만한': 1933, '‘': 1934, '취': 1935, '▁한반도': 1936, '▁항공기': 1937, 'ri': 1938, '▁떠나': 1939, '하다고': 1940, '▁상대': 1941, '은행': 1942, '▁군대': 1943, '스타': 1944, '창': 1945, '▁E': 1946, '▁사형': 1947, '▁대사': 1948, '▁b': 1949, '▁통신': 1950, '=2': 1951, '다른': 1952, '▁80': 1953, '▁중앙': 1954, '▁관해': 1955, '▁흑인': 1956, '▁긴급': 1957, '▁임시': 1958, '▁칸': 1959, '▁작년': 1960, '랜드': 1961, '▁접': 1962, '▁제거': 1963, '▁되': 1964, '씨': 1965, '▁증시': 1966, '규': 1967, '회의': 1968, '왔다': 1969, '흐': 1970, '▁탄': 1971, '▁나머지': 1972, '협회': 1973, '▁지진': 1974, '▁주지사는': 1975, '▁참여': 1976, 'ID': 1977, '런': 1978, '악': 1979, '▁상황이': 1980, '▁사우디': 1981, '▁태': 1982, '▁올랐다': 1983, '엘': 1984, '앙': 1985, '▁주지사': 1986, '▁막기': 1987, '▁부상자': 1988, '▁중에': 1989, '▁목숨': 1990, '▁되었다': 1991, '▁소재': 1992, '▁북한에': 1993, '▁잠': 1994, '▁숨지고': 1995, '항': 1996, 'ra': 1997, '▁축구': 1998, '▁대중': 1999, '경기': 2000, '▁다음달': 2001, '▁1000': 2002, '▁주가': 2003, '관계': 2004, '▁교회': 2005, '▁감사': 2006, '총': 2007, '대의': 2008, '▁뇌': 2009, '▁국방장관': 2010, '▁희생자': 2011, '분기': 2012, '▁J': 2013, '▁비밀': 2014, '▁유권자': 2015, '▁백': 2016, '▁전기': 2017, '▁전력': 2018, '변': 2019, '▁직원들': 2020, '▁관광객': 2021, '▁되지': 2022, '▁제임스': 2023, '▁주장하고': 2024, '▁어느': 2025, '▁아내': 2026, '리스': 2027, '▁퍼': 2028, '되면서': 2029, '시키기': 2030, '▁사람들에게': 2031, '▁유명': 2032, '▁받았다고': 2033, '▁따라': 2034, '으로서': 2035, '▁소리': 2036, '▁가능한': 2037, '▁학생들': 2038, '▁후에': 2039, '▁만큼': 2040, '▁넘는': 2041, '리자': 2042, '▁이라크전': 2043, '▁업체': 2044, '▁착륙': 2045, '▁질문에': 2046, '▁외무부': 2047, '▁출발': 2048, '존': 2049, '빈': 2050, '▁제출': 2051, '▁전시': 2052, '국가': 2053, '▁충격': 2054, '▁있다며': 2055, '▁쿠': 2056, '▁시리아': 2057, '▁정도로': 2058, '▁적어도': 2059, '▁수요일': 2060, '▁공장': 2061, '▁캐': 2062, '했다는': 2063, '▁대비': 2064, 're': 2065, '▁끝에': 2066, '▁작업을': 2067, '▁것이라': 2068, '드는': 2069, '율': 2070, '향': 2071, '▁여당': 2072, '▁곳에서': 2073, '▁해리': 2074, '여명이': 2075, '▁가까': 2076, '▁칼': 2077, '▁시기': 2078, '▁어떠한': 2079, '▁패배': 2080, '▁선두': 2081, '▁허리케인': 2082, '▁만들': 2083, '▁높이': 2084, '▁교전': 2085, '▁고통': 2086, '▁제시': 2087, '▁혼란': 2088, '▁접촉': 2089, '▁자체': 2090, '▁O': 2091, '름': 2092, '▁여성이': 2093, '손': 2094, '▁게': 2095, '▁입고': 2096, '▁목': 2097, '▁보여주': 2098, '▁항의': 2099, '▁이래': 2100, '▁수천명': 2101, '▁발생했다고': 2102, '▁방문한': 2103, '▁시행': 2104, '▁집회': 2105, '▁이달': 2106, '▁교통': 2107, '▁일자리': 2108, '▁출마': 2109, '▁심장': 2110, '클': 2111, '사는': 2112, '기간': 2113, '▁선언': 2114, '▁유명한': 2115, '▁설립': 2116, '▁관계자': 2117, '▁수천': 2118, '▁없어': 2119, '▁확대': 2120, '▁압박': 2121, '▁삶': 2122, '5000': 2123, '▁발생해': 2124, '▁팬들': 2125, '▁합의했다': 2126, '▁제조': 2127, '▁신원': 2128, '▁자리': 2129, '침': 2130, '겠다': 2131, '▁전문가': 2132, '▁300': 2133, '▁수행': 2134, '▁씨': 2135, '▁노동': 2136, '환': 2137, '▁35': 2138, '▁사진을': 2139, '▁미군이': 2140, '▁누구': 2141, '▁종교': 2142, 'ion': 2143, '▁사상': 2144, '▁세금': 2145, '칠': 2146, '▁아주': 2147, '▁R': 2148, '▁피해자': 2149, '▁어려움': 2150, '▁찰스': 2151, '▁구호': 2152, '밀': 2153, '▁수백': 2154, '▁오바마가': 2155, '▁표현': 2156, '▁영': 2157, '▁수익': 2158, '▁비슷': 2159, 'us': 2160, '▁등의': 2161, '▁외무장관': 2162, '▁국립': 2163, '▁관광': 2164, '▁쓰': 2165, '▁승객': 2166, '▁대해서': 2167, '▁be': 2168, '▁존스': 2169, '▁민': 2170, '대가': 2171, '▁마음': 2172, '▁UN': 2173, '▁인사': 2174, '렸': 2175, '▁지도자인': 2176, '▁병원에': 2177, '▁총기': 2178, '▁노조': 2179, '▁대표는': 2180, '▁로켓': 2181, '▁파견': 2182, '▁소말리아': 2183, '▁체포됐다': 2184, '지도': 2185, '▁것인지': 2186, '▁대화': 2187, '견': 2188, '▁추락': 2189, 'la': 2190, '▁re': 2191, '문제': 2192, '탈': 2193, '▁현장': 2194, '▁주민들이': 2195, '▁그리스': 2196, '▁작업': 2197, '냐': 2198, '것': 2199, '▁않았지만': 2200, '▁유죄': 2201, '장에서': 2202, '▁자국': 2203, '▁투': 2204, '▁가질': 2205, '▁연장': 2206, '▁주의': 2207, '▁고문': 2208, '▁소비자': 2209, '▁나오': 2210, '▁공군': 2211, '▁능력': 2212, '▁해제': 2213, '▁마리': 2214, '▁해야': 2215, '▁상당': 2216, '▁시간이': 2217, '▁언론은': 2218, '▁이라크에': 2219, '▁지도자들': 2220, '▁숨진': 2221, '축': 2222, '월부터': 2223, '▁이해': 2224, '▁적용': 2225, '▁연구소': 2226, '▁망명': 2227, '안을': 2228, '누': 2229, '맨': 2230, '▁수감': 2231, '▁군인': 2232, '▁카운티': 2233, '능': 2234, '▁사무실': 2235, '▁보여': 2236, '▁경제적': 2237, '▁게이츠': 2238, '▁절차': 2239, '▁판': 2240, '받': 2241, '▁검토': 2242, '자는': 2243, '센': 2244, '▁폭력사태': 2245, '▁카메라': 2246, '▁목표로': 2247, '▁관련해': 2248, 'sp': 2249, '▁오르': 2250, '▁반대하는': 2251, '▁걱정': 2252, '▁말레이시아': 2253, '싼': 2254, '▁휴대폰': 2255, '▁트럭': 2256, '했는데': 2257, '▁대법원': 2258, '▁그것은': 2259, '▁프로젝트': 2260, '▁아베': 2261, '▁사건은': 2262, '▁강력': 2263, '▁취소': 2264, '다면': 2265, '▁사기': 2266, '▁전문': 2267, '턴': 2268, 'at': 2269, '▁보이는': 2270, '▁지불': 2271, '▁최고의': 2272, '겠다고': 2273, '▁청와대': 2274, '▁아무런': 2275, '▁여왕': 2276, '▁내무부': 2277, '족': 2278, '▁장소': 2279, '▁물론': 2280, '▁당선인': 2281, '▁오래': 2282, 'ro': 2283, '▁연결': 2284, '▁받았': 2285, '알': 2286, '준': 2287, '▁시카고': 2288, '였습니다': 2289, '▁젊은': 2290, '▁구속': 2291, '▁뛰어': 2292, '▁동결': 2293, '▁넣': 2294, '▁항상': 2295, '▁순간': 2296, '스러운': 2297, '되': 2298, '▁영어': 2299, '이것은': 2300, '▁경찰관': 2301, '▁위치': 2302, '별': 2303, '▁현대': 2304, '▁집행': 2305, '▁관계자들': 2306, '▁국': 2307, '▁약물': 2308, '▁싶다': 2309, '▁목요일': 2310, '▁마드리드': 2311, '▁들고': 2312, '▁신화통신': 2313, '중국': 2314, '이지만': 2315, '▁미래': 2316, '▁개의': 2317, '▁허': 2318, '▁시작된': 2319, '▁법안을': 2320, '올': 2321, '▁자주': 2322, '▁수석': 2323, '▁과정': 2324, 'The': 2325, '섬': 2326, '▁등을': 2327, '▁보장': 2328, '▁확산': 2329, '▁운행': 2330, '▁지역을': 2331, '▁밝혀지지': 2332, '▁선거에서': 2333, '▁박물관': 2334, '▁놓고': 2335, '60': 2336, '애': 2337, '돌': 2338, '▁촉구': 2339, '볼': 2340, '▁폐': 2341, '순': 2342, '▁신뢰': 2343, '▁단계': 2344, '▁법률': 2345, '▁국제사회': 2346, '▁넘어': 2347, '▁만약': 2348, '▁따': 2349, '▁도중': 2350, '스터': 2351, '션': 2352, '▁기억': 2353, '▁전략': 2354, '평': 2355, '▁도전': 2356, '폭': 2357, '▁창': 2358, '▁당했다': 2359, '▁실패': 2360, '착': 2361, '▁분쟁': 2362, '▁죽음': 2363, '▁이전에': 2364, '▁고려': 2365, '관리': 2366, '▁나타나': 2367, '▁수니파': 2368, '▁이수지': 2369, '▁집권': 2370, '▁판단': 2371, '▁좀': 2372, '▁효과': 2373, '▁술': 2374, '▁있는지': 2375, '패': 2376, '▁I': 2377, 'el': 2378, '▁90': 2379, '▁회담에서': 2380, '▁있음을': 2381, '▁미군은': 2382, '▁체포했다': 2383, '▁얼굴': 2384, '▁조건': 2385, '▁연속': 2386, '▁소식': 2387, '▁동시': 2388, '▁베컴': 2389, ')/': 2390, '로써': 2391, '술': 2392, '▁평': 2393, '▁소장': 2394, '▁가수': 2395, '▁청': 2396, '#': 2397, '▁전자': 2398, '▁만든': 2399, '▁물질': 2400, '▁전까지': 2401, '▁올메르트': 2402, '▁아파트': 2403, '▁애플': 2404, '기가': 2405, '▁저지': 2406, '▁순': 2407, '▁잉글랜드': 2408, '▁영상': 2409, '수가': 2410, '7%': 2411, '▁윌리엄': 2412, '▁기회': 2413, '▁과학': 2414, '▁장기': 2415, '▁수정': 2416, '▁지지자들': 2417, '▁정말': 2418, '▁도쿄': 2419, '▁연설에서': 2420, '▁예측': 2421, '움': 2422, '▁차기': 2423, '▁사상자': 2424, 'is': 2425, 'ment': 2426, '▁찬성': 2427, '▁분노': 2428, '▁연합군': 2429, '▁프리': 2430, '마일': 2431, '▁비상': 2432, '방송': 2433, '▁측': 2434, 'et': 2435, '▁겪고': 2436, '▁직후': 2437, '▁마무리': 2438, '▁홍보': 2439, 'ers': 2440, '▁대형': 2441, '6%': 2442, '▁환영': 2443, '▁당선': 2444, '슈': 2445, '▁한국은': 2446, '▁부정': 2447, '만명이': 2448, '▁자녀': 2449, '▁곳에': 2450, '▁버지니아': 2451, '▁급': 2452, '▁씨는': 2453, '딘': 2454, '▁블레어': 2455, '▁분석': 2456, '▁핵심': 2457, '었습니다': 2458, '씩': 2459, '▁주민들은': 2460, '▁소녀': 2461, '▁옷': 2462, '▁시대': 2463, '▁그들': 2464, '▁슬': 2465, '글': 2466, '▁한미': 2467, '▁근무': 2468, '▁고양이': 2469, '▁경계': 2470, '▁신청': 2471, '▁성인': 2472, '▁선포': 2473, '▁근': 2474, '▁벤': 2475, '▁마감': 2476, '▁영국의': 2477, '▁보이지': 2478, '▁포기': 2479, '▁소지': 2480, '▁가정': 2481, '▁가능': 2482, '▁전통': 2483, 'id': 2484, '▁뉴': 2485, '▁맞아': 2486, '▁스포츠': 2487, '▁협의': 2488, '▁스스로': 2489, '▁비상사태': 2490, '▁몇몇': 2491, '▁머물': 2492, '▁원자로': 2493, '▁산불': 2494, '▁그러': 2495, '▁나토': 2496, '▁군부': 2497, '▁슈': 2498, '▁약간': 2499, '시장': 2500, '▁병원에서': 2501, '▁때문': 2502, 'as': 2503, '▁관': 2504, '▁유사': 2505, '▁이란이': 2506, '▁용': 2507, '한국': 2508, '랜': 2509, 'il': 2510, '▁보이고': 2511, '3%': 2512, '했는지': 2513, '▁이밖에': 2514, '▁빠른': 2515, '▁탁신': 2516, '▁처벌': 2517, '▁BBC': 2518, '▁빠르': 2519, '▁감축': 2520, '▁돌아가': 2521, '까': 2522, '해졌다': 2523, 'cat': 2524, '▁실시된': 2525, 'ist': 2526, '▁격': 2527, '▁크': 2528, '70': 2529, '▁클럽': 2530, '틀': 2531, '▁단지': 2532, '▁완화': 2533, '▁차지했다': 2534, '▁보안관': 2535, '▁실수': 2536, '▁투입': 2537, '▁높다': 2538, '▁떨어져': 2539, '▁협정': 2540, '▁일어난': 2541, '▁고속도로': 2542, '▁절반': 2543, '함으로써': 2544, '▁조금': 2545, '▁문서': 2546, '▁올리': 2547, '▁않': 2548, '▁풀': 2549, '▁증가했다': 2550, '▁보건': 2551, '▁나무': 2552, '트는': 2553, '철': 2554, '컵': 2555, '겐': 2556, '▁스피어스': 2557, 'joins': 2558, '표를': 2559, '▁오랜': 2560, '▁나타냈다': 2561, '▁받기': 2562, '▁조작': 2563, '인지': 2564, '▁알려지': 2565, '▁내각': 2566, '200': 2567, '▁발생할': 2568, '▁의원이': 2569, '▁치안': 2570, '▁가량': 2571, '▁북한과': 2572, '▁코소보': 2573, '▁이미지': 2574, '례': 2575, '▁성적': 2576, '▁지배': 2577, '몬': 2578, '▁중이다': 2579, '▁부인했다': 2580, '월까지': 2581, '▁아마': 2582, '들도': 2583, '▁윌리엄스': 2584, '▁대책': 2585, '▁찾기': 2586, '▁크리스토퍼': 2587, '▁할리우드': 2588, '▁민병대': 2589, '▁소식을': 2590, '▁보기': 2591, '▁고래': 2592, '▁이와같': 2593, '▁대화를': 2594, '하길': 2595, '▁중심': 2596, '▁낮은': 2597, '▁하며': 2598, '▁사망했으며': 2599, '▁매일': 2600, '▁초기': 2601, '▁않겠다': 2602, '▁폭풍': 2603, '▁실제': 2604, '새': 2605, '2%': 2606, '▁그에게': 2607, '염': 2608, '▁w': 2609, '▁글': 2610, '▁보낸': 2611, '명에': 2612, '랄': 2613, '했': 2614, '힐': 2615, 'cnn': 2616, '▁프라이머리': 2617, '▁개봉': 2618, '▁확실히': 2619, '▁70': 2620, '▁동의': 2621, '▁노래': 2622, '▁의혹': 2623, '▁국가들': 2624, '▁원조': 2625, '인들은': 2626, '▁둔': 2627, '시키': 2628, '▁의심': 2629, '▁오랫동안': 2630, '▁Korean': 2631, '자들': 2632, '▁알게': 2633, '시설': 2634, '▁보좌관': 2635, '▁집에서': 2636, '▁말하고': 2637, '▁위기에': 2638, '킬': 2639, 'U': 2640, '▁약속했다': 2641, '▁제외': 2642, '▁유로': 2643, '▁폭': 2644, '▁울': 2645, '▁상황에서': 2646, '▁빠져': 2647, '▁그렇게': 2648, '활동': 2649, '테러': 2650, '▁개입': 2651, '▁등록': 2652, '니다': 2653, '▁대표팀': 2654, '거래': 2655, '▁고든': 2656, '달러를': 2657, '▁크리스': 2658, '▁맺': 2659, '▁후반': 2660, '졌': 2661, '▁차지': 2662, '▁소식통은': 2663, '▁이용해': 2664, '▁참석한': 2665, 'ht': 2666, '사를': 2667, '▁필': 2668, '▁후보에': 2669, '백만': 2670, '▁나섰다': 2671, '▁다쳤다': 2672, '주년': 2673, '▁화성': 2674, '▁원유': 2675, '▁네덜란드': 2676, '▁수백명': 2677, '▁요구한': 2678, '▁민간': 2679, '▁기자회견': 2680, '▁단어': 2681, '▁붙': 2682, '▁난민': 2683, '▁속에': 2684, 'ate': 2685, '▁모습': 2686, '▁후보로': 2687, '▁블로그에': 2688, '상태': 2689, '▁월드컵': 2690, '▁경찰과': 2691, '▁전반': 2692, '▁의한': 2693, '▁깊': 2694, '▁무가베': 2695, '://': 2696, '▁먼저': 2697, '▁하워드': 2698, '▁담배': 2699, 'tp': 2700, '▁남성이': 2701, '▁바다': 2702, '▁2009': 2703, '▁콜': 2704, '▁휴가': 2705, '▁대통령에게': 2706, '▁정신': 2707, '▁중국이': 2708, '북한': 2709, '40': 2710, 'ir': 2711, '▁p': 2712, 'ce': 2713, '▁방해': 2714, '람': 2715, '▁합': 2716, '▁처': 2717, '▁법적': 2718, '▁기회를': 2719, '▁찾는': 2720, '▁캠프': 2721, 'Total': 2722, 'code': 2723, '▁작가': 2724, '▁있었으며': 2725, '▁배럴': 2726, '▁철회': 2727, '▁박사': 2728, '▁사례': 2729, '연합': 2730, '낼': 2731, '▁크리스마스': 2732, '▁대체': 2733, '▁증명': 2734, '▁150': 2735, 'ur': 2736, '▁색': 2737, '▁연구진': 2738, '▁목소리': 2739, '▁세르비아': 2740, '▁구성된': 2741, '슬': 2742, '▁날씨': 2743, '▁위험한': 2744, '▁못할': 2745, '▁사용하는': 2746, '▁비자': 2747, '▁알려져': 2748, '▁외교부': 2749, '▁교체': 2750, '▁조정': 2751, '▁연루': 2752, '됐지만': 2753, '영화': 2754, '▁우크라이나': 2755, '▁지급': 2756, '▁그것': 2757, '▁#': 2758, '▁실종': 2759, '▁브': 2760, '었으며': 2761, '하려고': 2762, '▁다이애나': 2763, '스가': 2764, '▁대표단': 2765, '▁긴': 2766, '▁듯': 2767, 'ent': 2768, '▁위원장은': 2769, '▁시작됐다': 2770, '▁집계': 2771, '이었다고': 2772, '▁45': 2773, '▁침체': 2774, '▁모하메드': 2775, '▁진입': 2776, '▁1999': 2777, '▁400': 2778, '▁손실': 2779, '▁기후': 2780, '인들이': 2781, '▁벌인': 2782, '혈': 2783, '시킨': 2784, '▁실시한': 2785, '베이': 2786, '▁인정했다': 2787, '▁무사': 2788, '▁주에서': 2789, '조치': 2790, '▁니콜라': 2791, '▁의장': 2792, '▁홍수': 2793, '지르': 2794, '▁농': 2795, '극': 2796, '▁빨리': 2797, '▁정확한': 2798, '▁마이크': 2799, '▁분위기': 2800, '▁질병': 2801, '마다': 2802, '▁대피': 2803, '▁영향력': 2804, '▁NASA': 2805, '▁어린': 2806, '▁본부': 2807, '▁조종사': 2808, '▁말한': 2809, '장에': 2810, '▁재정': 2811, '습': 2812, '▁그린': 2813, '▁광': 2814, '▁기념': 2815, '▁않기': 2816, '▁당선자': 2817, '▁여성들': 2818, '성이': 2819, '▁웹사이트에': 2820, '▁돼': 2821, '▁하락했다': 2822, '80': 2823, '▁테러로': 2824, '셔': 2825, '쯤': 2826, '▁부동산': 2827, '▁엄마': 2828, '▁규제': 2829, '▁스티브': 2830, '▁국왕': 2831, '▁부패': 2832, '▁그중': 2833, '▁선박': 2834, '막': 2835, '▁응': 2836, '▁얻었다': 2837, '▁현장에': 2838, '▁도착했다': 2839, '▁위해서': 2840, '었고': 2841, '▁프로': 2842, '정책': 2843, '▁시상식': 2844, '전에': 2845, '▁기자는': 2846, '▁들었다': 2847, '달하는': 2848, '▁있는데': 2849, '▁생명': 2850, '▁추정': 2851, '대통령': 2852, '▁사무총장은': 2853, '▁저녁': 2854, '▁자살폭탄테러': 2855, '▁콘돌': 2856, '▁장난감': 2857, '▁태풍': 2858, '였다고': 2859, '▁바람': 2860, '사가': 2861, '▁통치': 2862, '▁들어가': 2863, '▁독': 2864, '▁32': 2865, '▁정상회담': 2866, '▁충분': 2867, '▁왜': 2868, '▁작성': 2869, '▁태도': 2870, '▁아부': 2871, '▁가격이': 2872, '▁증언': 2873, '▁시민들': 2874, '▁유세': 2875, '▁상징': 2876, '웰': 2877, '▁문제로': 2878, '▁아바스': 2879, '▁이웃': 2880, '▁지도부': 2881, '▁전망이': 2882, '자로': 2883, '허': 2884, '▁당한': 2885, '▁법정': 2886, '녀': 2887, '왔': 2888, '▁취임': 2889, '▁강도': 2890, '▁가족들': 2891, '▁살해한': 2892, '▁승무원': 2893, '▁직': 2894, '개월간': 2895, 'ol': 2896, '▁밝혀': 2897, '▁토요일': 2898, '2009.06': 2899, '▁네팔': 2900, 'se': 2901, '▁최소한': 2902, '▁축하': 2903, '센트': 2904, '낸': 2905, '▁운전': 2906, '▁형': 2907, '▁방어': 2908, '▁않으면': 2909, '▁임': 2910, '위로': 2911, '▁떨어졌다': 2912, '항공': 2913, 'th': 2914, '▁벨': 2915, '▁아직도': 2916, '▁휴전': 2917, '느': 2918, '경찰': 2919, '▁대상': 2920, '▁자신들이': 2921, 'op': 2922, '▁FBI': 2923, '롭': 2924, '▁피터': 2925, '드리': 2926, '엄': 2927, '▁징역': 2928, '▁테이프': 2929, '▁점령': 2930, '▁서명': 2931, '▁지출': 2932, '▁땅': 2933, '▁반발': 2934, '▁입국': 2935, '왕': 2936, '찬': 2937, '▁기타': 2938, '쇼': 2939, '▁최': 2940, '▁자연': 2941, '▁시리즈': 2942, '위에': 2943, '▁일본은': 2944, '었다고': 2945, '▁아랍': 2946, '▁인질들': 2947, '경제': 2948, '▁억류': 2949, '▁진정': 2950, '곤': 2951, '▁쿠르드': 2952, '젠': 2953, '▁결론': 2954, '▁내린': 2955, '▁형성': 2956, '레스': 2957, '▁소비': 2958, '▁사용할': 2959, '▁평양': 2960, '▁만들었다': 2961, '▁주로': 2962, '봉': 2963, '▁지휘': 2964, '서는': 2965, '같은': 2966, '▁주는': 2967, '주간': 2968, '▁케': 2969, '▁향': 2970, '4%': 2971, '자와': 2972, '▁숨': 2973, '▁굴': 2974, '▁교황': 2975, '▁상황에': 2976, '좌': 2977, '렛': 2978, '▁쉽게': 2979, '▁침해': 2980, '▁구입': 2981, '▁타격': 2982, '▁즉시': 2983, '▁통화': 2984, '▁준': 2985, '▁힐튼': 2986, '필': 2987, '숙': 2988, '▁놀라': 2989, '▁요구하는': 2990, '▁복제': 2991, '들로': 2992, '▁전문가들': 2993, '▁움직임': 2994, '▁살아': 2995, '▁잔': 2996, '▁오하이오': 2997, '▁낮': 2998, '▁사령관': 2999, '빙': 3000, '州': 3001, '▁한번': 3002, '▁수반': 3003, '▁연락': 3004, '▁유럽연합': 3005, '▁기준': 3006, '▁수용': 3007, '▁재산': 3008, '기에': 3009, '▁한국과': 3010, '▁의문': 3011, '▁결과가': 3012, '▁웹': 3013, 'ut': 3014, '오바마': 3015, '▁의장은': 3016, '▁팬': 3017, '▁것처럼': 3018, '필드': 3019, '대표': 3020, '▁쉬': 3021, '▁모른다': 3022, '▁엘리자베스': 3023, '▁남북한': 3024, '▁토니': 3025, '냈다': 3026, '▁베이': 3027, '▁휴': 3028, '자금': 3029, '▁우주선': 3030, '▁벌금': 3031, '▁중요하다': 3032, '▁아니': 3033, '▁속에서': 3034, '▁등이': 3035, '라도': 3036, '▁상품': 3037, '▁오픈': 3038, '15': 3039, '▁방식': 3040, 'ot': 3041, '▁진행되': 3042, '▁공화당의': 3043, '▁유리': 3044, '▁토론': 3045, '▁협조': 3046, '▁활용': 3047, '▁론스타': 3048, '▁심각': 3049, '▁구글': 3050, '▁끝난': 3051, '▁육군': 3052, '▁잭슨': 3053, '▁매장': 3054, '▁소프트웨어': 3055, '▁대출': 3056, '▁동맹': 3057, '▁장치': 3058, '▁현장에서': 3059, '▁이르는': 3060, '지에': 3061, '▁자산': 3062, '▁신용': 3063, '▁해당': 3064, '▁대북': 3065, '▁회담은': 3066, '▁범인': 3067, '▁소년': 3068, '▁국제적': 3069, '푸': 3070, '벌': 3071, '▁가는': 3072, '▁스위스': 3073, 've': 3074, '▁총선에서': 3075, '▁실제로': 3076, '▁영국군': 3077, '▁\"\"': 3078, '▁대처': 3079, '▁밝': 3080, '▁되면': 3081, '균': 3082, '▁김정일': 3083, '▁핵실험': 3084, '▁페르베': 3085, '▁갖추': 3086, '▁해고': 3087, '▁즉': 3088, '▁자격': 3089, '▁축제': 3090, '함에따라': 3091, '▁신경': 3092, '▁예방': 3093, '▁우선': 3094, '▁찬': 3095, '▁시위자들': 3096, '▁개정': 3097, '▁조사하고': 3098, '▁대사는': 3099, '▁기구': 3100, '▁임신': 3101, '▁못하': 3102, 'ies': 3103, '▁잘못': 3104, '한다면': 3105, '닝': 3106, '덴': 3107, '▁동원': 3108, '멘': 3109, ';': 3110, '▁사이클론': 3111, '▁1997': 3112, '▁귀국': 3113, '▁신속': 3114, '25': 3115, '▁공공': 3116, '▁결혼식': 3117, '▁공식적으로': 3118, '▁아래': 3119, '▁is': 3120, '▁송': 3121, '▁동물원': 3122, '▁이틀': 3123, '▁소유': 3124, '▁심리': 3125, '▁지도': 3126, 'J': 3127, '▁지연': 3128, '▁나와': 3129, '▁학': 3130, '▁추방': 3131, '스와': 3132, '▁지지자': 3133, '▁갖': 3134, '▁모습이': 3135, '릭': 3136, '▁체포된': 3137, '▁일부는': 3138, '▁요구를': 3139, '▁North': 3140, '▁뉴질랜드': 3141, '▁헤럴드': 3142, '▁매들린': 3143, '▁1998': 3144, '▁법안': 3145, '▁주고': 3146, '▁구제': 3147, '으면': 3148, '▁아르헨티나': 3149, '었던': 3150, '▁구체적인': 3151, '▁걸어': 3152, '▁총리와': 3153, '▁영국에서': 3154, '▁양측': 3155, '▁인식': 3156, '▁마치': 3157, '쳤다': 3158, '우스': 3159, '기관': 3160, '▁성공했다': 3161, '▁확정': 3162, '▁예산': 3163, '▁0': 3164, '▁인하': 3165, '▁포함되어': 3166, '▁혹': 3167, '▁경험': 3168, '겨': 3169, '▁CBS': 3170, '▁드러났다': 3171, '▁있으나': 3172, '▁가입': 3173, '▁의료진': 3174, '▁수용소': 3175, '▁나달': 3176, '▁지지하는': 3177, '▁압둘라': 3178, '▁올렸다': 3179, '▁대단': 3180, '▁성화': 3181, '▁경매': 3182, '▁의도': 3183, '▁희생': 3184, '▁중이라고': 3185, '였으며': 3186, '▁중국과': 3187, '▁킹': 3188, '스키': 3189, '▁언제': 3190, '▁캠페인': 3191, '▁얘기': 3192, '▁변경': 3193, '▁포드': 3194, '▁강경': 3195, '▁이곳에서': 3196, '▁길이': 3197, '▁회담에': 3198, '▁손상': 3199, '린다': 3200, '▁h': 3201, '황': 3202, '▁좋아': 3203, '만큼': 3204, '▁달성': 3205, '들어': 3206, '▁그와': 3207, '▁좋지': 3208, '▁케네디': 3209, '▁리버풀': 3210, '▁에이즈': 3211, '▁루이스': 3212, '▁화': 3213, '▁주인공': 3214, '▁폭행': 3215, '▁불참': 3216, 'kg': 3217, '▁민주화': 3218, '▁만드는': 3219, '▁실행': 3220, '▁경선에서': 3221, '▁지진으로': 3222, '▁싱가포르': 3223, '당한': 3224, '▁보수': 3225, '▁포함해': 3226, '▁지수는': 3227, '▁지적': 3228, '▁학대': 3229, '▁소개': 3230, '▁곳으로': 3231, '둔': 3232, '렉': 3233, '▁안보리': 3234, '▁대부분은': 3235, '▁중요': 3236, '▁주석': 3237, '▁레이': 3238, '▁충': 3239, '▁그래': 3240, '▁투자자들': 3241, 'x': 3242, '▁악': 3243, '▁이혼': 3244, '▁스티븐': 3245, '▁부문': 3246, '▁최신': 3247, '▁맞서': 3248, '▁우라늄': 3249, '▁드라마': 3250, '▁DNA': 3251, '▁벌어진': 3252, '▁음반': 3253, '▁않도록': 3254, '▁1980': 3255, '▁반정부': 3256, '▁행진': 3257, '▁몰': 3258, '▁맨체스터': 3259, '▁열린우리당': 3260, '부시': 3261, '▁진술': 3262, '▁테러가': 3263, '▁터키군': 3264, '계획': 3265, '대에': 3266, '▁역': 3267, '군이': 3268, '▁수백만': 3269, '▁받': 3270, '▁요구하고': 3271, '▁경기에': 3272, '회사인': 3273, '▁터': 3274, '▁휘발유': 3275, '▁페일린': 3276, '▁첼시': 3277, '▁가득': 3278, '▁질환': 3279, '▁음모': 3280, '▁때문이다': 3281, '▁작': 3282, '▁포르투갈': 3283, '▁떠': 3284, '▁집에': 3285, '▁잔해': 3286, '▁장식': 3287, '▁자세': 3288, '▁장관이': 3289, 'ia': 3290, '▁언급하지': 3291, '▁저는': 3292, '▁유치': 3293, '▁미국에': 3294, '▁중에는': 3295, '▁회담이': 3296, '▁공개했다': 3297, 'EU': 3298, '▁분리': 3299, '▁펜실베이니아': 3300, '▁회원국': 3301, '▁공원': 3302, '▁MS': 3303, '▁무릎': 3304, '▁믿고': 3305, '▁훨씬': 3306, '죠': 3307, '▁국제유가': 3308, '▁향후': 3309, '▁1990': 3310, '위원회는': 3311, '▁평화적': 3312, '▁조사에서': 3313, '▁거절': 3314, '▁베트남': 3315, '▁장비': 3316, '▁문제는': 3317, '▁해결하기': 3318, '▁전면': 3319, '▁폐지': 3320, '▁250': 3321, '되면': 3322, '▁용의자들': 3323, '학교': 3324, '▁지시': 3325, '▁m': 3326, '▁불안': 3327, '검': 3328, '라운드': 3329, '▁거주하는': 3330, '▁소니': 3331, '시아': 3332, '▁희생자들': 3333, '▁협회': 3334, '▁페더러': 3335, '▁샌프란시스코': 3336, '▁로봇': 3337, '▁운항': 3338, '있': 3339, '▁속도': 3340, '▁묘사': 3341, '▁밀란': 3342, '▁영토': 3343, '▁예정이며': 3344, '▁추적': 3345, '겼다': 3346, '▁외부': 3347, '▁이들이': 3348, '려는': 3349, '주일': 3350, '▁한국군': 3351, '▁목격자들': 3352, '19': 3353, '▁악화': 3354, '▁지하': 3355, '됐고': 3356, '▁단체는': 3357, '▁주간': 3358, '▁학생들이': 3359, '▁타이': 3360, '척': 3361, 'ly': 3362, '오늘': 3363, '▁불리는': 3364, '▁워싱턴에서': 3365, '▁주장하는': 3366, '▁편지': 3367, '▁생존자': 3368, '!': 3369, '▁밖으로': 3370, '▁콘서트': 3371, '▁반기문': 3372, '▁검색': 3373, '▁맨유': 3374, '▁나쁜': 3375, '▁선거운동': 3376, '▁폭우': 3377, '▁대결': 3378, '▁시절': 3379, '▁무대': 3380, '▁치르': 3381, '개발': 3382, '▁향하': 3383, '텔': 3384, '▁이것이': 3385, '▁랭킹': 3386, '▁방문했다': 3387, '률': 3388, 'TV': 3389, '▁전개': 3390, '델': 3391, '▁트': 3392, '▁기본': 3393, '▁있': 3394, '암': 3395, '▁기독교': 3396, '▁노동자': 3397, '▁푸': 3398, '▁방문할': 3399, '슨은': 3400, '▁며칠': 3401, '팅': 3402, '▁온난화': 3403, '▁세계대전': 3404, '▁금요일': 3405, '▁이메일': 3406, '▁아카데미': 3407, '▁접속': 3408, '▁둘러': 3409, '▁소환': 3410, '▁토론회': 3411, '▁입양': 3412, '▁방지': 3413, '▁방법으로': 3414, '▁밑': 3415, '▁South': 3416, '▁진행된': 3417, '▁잃었다': 3418, '▁쥐': 3419, 'all': 3420, '▁심슨': 3421, '▁계획에': 3422, 'lo': 3423, '▁꿈': 3424, '▁바그다드에서': 3425, '주는': 3426, '▁목격자': 3427, '▁당선인은': 3428, '▁장애': 3429, '▁충분한': 3430, '▁짐': 3431, '▁잡지': 3432, '▁것보다': 3433, '듯': 3434, '▁의원들은': 3435, '▁정부군': 3436, '▁생각하고': 3437, '닉': 3438, '▁특파원': 3439, '현지시각': 3440, '▁9.11': 3441, '▁영변': 3442, '▁취할': 3443, '▁학살': 3444, '▁리비아': 3445, '▁성향': 3446, '통신': 3447, '▁파악': 3448, '▁말합니다': 3449, '▁주식시장': 3450, '▁계획이': 3451, '운동': 3452, '▁밖에서': 3453, '▁선물': 3454, '▁하다': 3455, '▁의무': 3456, '▁앨범': 3457, '▁존재': 3458, '▁이란은': 3459, '▁참': 3460, '▁내에': 3461, '▁성과': 3462, '▁자기': 3463, '였': 3464, '▁내전': 3465, '선수': 3466, '\"\"': 3467, '▁지켜': 3468, '▁회사들': 3469, '육': 3470, '송': 3471, '▁수집': 3472, '▁CIA': 3473, '사회': 3474, '▁예상했다': 3475, '모든': 3476, '▁고객': 3477, '▁다니': 3478, '딩': 3479, '▁사무총장': 3480, '▁리콜': 3481, '▁허락': 3482, '달러에': 3483, '▁화산': 3484, '▁저항': 3485, 'ap': 3486, '▁분명': 3487, '▁특별한': 3488, '▁출시': 3489, '▁원하는': 3490, '▁분야': 3491, '▁체니': 3492, '▁주목': 3493, '어야': 3494, '▁보상': 3495, '벨': 3496, '▁경기장': 3497, 'est': 3498, '그들은': 3499, '제를': 3500, '▁레이스': 3501, '▁이익': 3502, '▁해변': 3503, '▁중국에서': 3504, '헤': 3505, '▁존슨': 3506, '▁파타': 3507, '관은': 3508, '▁논란': 3509, '▁이번주': 3510, '▁생존': 3511, '▁기도': 3512, '세계': 3513, '니아': 3514, '▁유나이티드': 3515, '▁실망': 3516, '▁않았으며': 3517, '▁지키': 3518, '년에는': 3519, '▁마시': 3520, '▁사살': 3521, '으로써': 3522, '▁예비': 3523, '▁대부분이': 3524, '▁철도': 3525, '브라': 3526, '▁늘': 3527, '▁아일랜드': 3528, '▁에드': 3529, '조사': 3530, '▁보면': 3531, '▁모양': 3532, '려고': 3533, '▁사건과': 3534, '▁기업들': 3535, '▁입원': 3536, '트리': 3537, '작업': 3538, '귀': 3539, '완': 3540, '▁바라고': 3541, '▁총재': 3542, '▁여기': 3543, '럴': 3544, '▁챔피언': 3545, '▁찾고': 3546, '▁쿠데타': 3547, '▁헤즈볼라': 3548, '▁대다수': 3549, '▁봄': 3550, '▁나서': 3551, '▁덮': 3552, '▁핵시설': 3553, '▁기능': 3554, '장관은': 3555, '▁격차': 3556, '▁서방': 3557, '▁수요': 3558, '법원': 3559, '▁니': 3560, '▁사건으로': 3561, '안에': 3562, '▁발표된': 3563, '▁처음이다': 3564, '물을': 3565, 'ter': 3566, '▁환': 3567, '▁확신': 3568, '▁유가': 3569, '▁노출': 3570, '▁폭발물': 3571, 'cm': 3572, '▁빛': 3573, '▁차드': 3574, 'de': 3575, '▁외곽': 3576, '▁경찰서장': 3577, '▁전투기': 3578, '▁가까이': 3579, '국인': 3580, '희': 3581, '▁Iraq': 3582, '젤': 3583, '▁멸종': 3584, '▁with': 3585, '▁여자친구': 3586, '▁겨울': 3587, '▁장례식': 3588, '▁마틴': 3589, '▁체결': 3590, '▁복구': 3591, '▁걸릴': 3592, '▁만날': 3593, '▁육': 3594, '100': 3595, '▁면': 3596, '▁파티': 3597, '▁황': 3598, '▁이송': 3599, '▁톰': 3600, 'ry': 3601, '▁시점': 3602, '되며': 3603, '▁달라': 3604, '▁공격이': 3605, '82': 3606, '▁강조': 3607, '장관': 3608, '니는': 3609, '근': 3610, '▁강타': 3611, '▁샤리프': 3612, '▁부르': 3613, 'ma': 3614, '▁힘들': 3615, '▁현재까지': 3616, '공격': 3617, '▁의회의': 3618, '으': 3619, '갑': 3620, '▁알래스카': 3621, '▁다르푸르': 3622, '▁남아': 3623, '▁특정': 3624, '▁심문': 3625, '▁동반': 3626, '▁일환으로': 3627, '했기': 3628, '째': 3629, '▁무력': 3630, '▁업무': 3631, '▁다이아몬드': 3632, '▁답': 3633, '▁신호': 3634, '▁전해': 3635, '▁통합': 3636, '▁CEO': 3637, '▁수감자': 3638, 'te': 3639, '▁추정되는': 3640, '되어야': 3641, '▁최초로': 3642, '▁마르': 3643, '▁알아': 3644, '▁티': 3645, '▁웨스트': 3646, '잡': 3647, '▁요원': 3648, '찰': 3649, '▁탈': 3650, '▁37': 3651, '칸': 3652, '▁제도': 3653, '생활': 3654, '▁둘': 3655, '▁다우존스': 3656, '▁달라이라마': 3657, '▁설득': 3658, 'V': 3659, '▁교환': 3660, '▁식당': 3661, '▁오염': 3662, '▁탐사': 3663, '▁현상': 3664, '▁치러진': 3665, '▁보통': 3666, '대학': 3667, '▁일주일': 3668, '▁사실상': 3669, '▁잠시': 3670, '▁파산': 3671, '▁de': 3672, '▁상점': 3673, '익': 3674, '▁이스라엘군': 3675, '▁견': 3676, '▁니콜': 3677, '▁이스라엘과': 3678, '▁36': 3679, '▁여사': 3680, '▁프': 3681, '▁아이들이': 3682, '▁FTA': 3683, '▁통신은': 3684, '차전': 3685, 'ig': 3686, '웨': 3687, '원제': 3688, '▁제안했다': 3689, '내가': 3690, '▁보고했다': 3691, '▁근거': 3692, '▁광산': 3693, '300': 3694, '▁되기': 3695, ']': 3696, '▁얻어': 3697, '▁더불어': 3698, '▁발굴': 3699, '▁시작한': 3700, '▁바꾸': 3701, '▁않지만': 3702, '▁어려운': 3703, '▁가자': 3704, '▁행복': 3705, '▁묻': 3706, '▁머': 3707, '▁커피': 3708, '학자': 3709, '▁50%': 3710, '▁강요': 3711, '▁업계': 3712, '▁경보': 3713, '선거': 3714, '▁라이': 3715, '▁경찰서': 3716, '▁회원': 3717, '▁내용이': 3718, '▁폐기': 3719, '▁사용되': 3720, '▁이하': 3721, '▁솔': 3722, '▁결정은': 3723, '▁엔': 3724, '▁된다고': 3725, '▁밝히고': 3726, '▁외교적': 3727, '주의자': 3728, '▁대통령에': 3729, '▁FARC': 3730, '▁깨': 3731, '▁목적으로': 3732, '▁협상이': 3733, '▁직면': 3734, '쓰': 3735, '닥': 3736, '욕': 3737, '▁스리랑카': 3738, '▁에드워즈': 3739, '▁갑자': 3740, '▁북극': 3741, '연맹': 3742, '▁출석': 3743, '후드': 3744, '▁매각': 3745, '▁도입': 3746, '▁돌아': 3747, '▁적은': 3748, '400': 3749, '▁신임': 3750, '▁거두': 3751, '▁계속되고': 3752, '▁적절한': 3753, '▁지점': 3754, '▁일본에서': 3755, '▁고대': 3756, '▁영화제': 3757, '▁시장에서': 3758, '▁사전': 3759, '▁감행': 3760, '▁다수': 3761, '▁예상되': 3762, '▁일본이': 3763, '▁있어서': 3764, '▁서울에서': 3765, '▁상승했다': 3766, '▁교도소': 3767, '▁낸': 3768, '▁혼': 3769, 'ak': 3770, '▁감정': 3771, '▁의식': 3772, '▁다우': 3773, '▁책임자': 3774, '▁본사': 3775, '▁시위에': 3776, '▁투어': 3777, '▁Re': 3778, '-1': 3779, '▁시드': 3780, '뿐': 3781, '▁말라': 3782, '▁늘어': 3783, '▁노동자들': 3784, '▁방글라데시': 3785, '▁오스트리아': 3786, '▁칠레': 3787, '▁NBC': 3788, '▁단순': 3789, '▁합동': 3790, '▁성관계': 3791, '▁기존': 3792, '▁넓': 3793, '▁대기': 3794, '로운': 3795, '▁것이라며': 3796, '사태': 3797, '▁샌': 3798, '뉴스': 3799, '▁됩니다': 3800, '▁아동': 3801, '▁의회는': 3802, '▁북측': 3803, '▁보유': 3804, '▁국회의원': 3805, '▁세상': 3806, '▁소수': 3807, '▁그림': 3808, '▁의지': 3809, '▁부근에서': 3810, '만약': 3811, '▁무시': 3812, '▁오브': 3813, '▁중부': 3814, '▁만족': 3815, '▁소식이': 3816, '▁실시되': 3817, '검사': 3818, '됐을': 3819, '▁승리했다': 3820, '최': 3821, '▁벗어나': 3822, '▁야생': 3823, '둘': 3824, '▁수상자': 3825, '폴': 3826, '곡': 3827, '▁부과': 3828, '이슬람': 3829, '▁노스캐롤라이나': 3830, '▁봉쇄': 3831, '롱': 3832, '▁합류': 3833, '▁폭동': 3834, 'ational': 3835, '▁치열': 3836, '▁노력하고': 3837, '▁부담': 3838, '사의': 3839, '세력': 3840, '▁버마': 3841, '▁고소': 3842, '▁각국': 3843, '▁美': 3844, '했음': 3845, '부대': 3846, '스크': 3847, '▁복용': 3848, '빠진': 3849, '▁부여': 3850, '▁공산당': 3851, '▁중독': 3852, '▁즐': 3853, '혼': 3854, '▁조성': 3855, '조원': 3856, '▁추측': 3857, '▁st': 3858, '▁로한': 3859, '▁행성': 3860, '▁말까지': 3861, '▁많다': 3862, '▁공항에서': 3863, '▁테러리스트': 3864, '▁내놓': 3865, '▁순찰': 3866, '정도': 3867, '▁크기': 3868, '참': 3869, '▁블랙': 3870, '켄': 3871, '▁없으며': 3872, '▁마카오': 3873, '▁흡연': 3874, '▁검거': 3875, '▁카르자이': 3876, '▁농축': 3877, '▁가옥': 3878, '▁하늘': 3879, '파키스탄': 3880, '▁대항': 3881, '▁재무장관': 3882, '▁소설': 3883, '▁청소년': 3884, '▁모인': 3885, '▁공중': 3886, '▁만화': 3887, '▁나이지리아': 3888, '▁의회에': 3889, '▁측정': 3890, '택': 3891, '▁사인': 3892, '▁보관': 3893, '▁세우': 3894, '▁현실': 3895, '▁가했다': 3896, '▁명단': 3897, '조직': 3898, '▁일간': 3899, '세인': 3900, '▁식품': 3901, '드라': 3902, '▁라고': 3903, '▁환자들': 3904, '▁북쪽': 3905, '가격': 3906, '▁전날': 3907, '잔': 3908, '지구': 3909, '▁이끌어': 3910, '분의': 3911, '▁나갈': 3912, '▁증가하고': 3913, '걸': 3914, '픽': 3915, '▁네트워크': 3916, '▁훌륭': 3917, '▁습격': 3918, '▁파예드': 3919, '▁카스트로': 3920, '▁취재': 3921, '▁복잡': 3922, '더라도': 3923, '▁목록': 3924, '▁자리에서': 3925, '▁시드니': 3926, '▁최선': 3927, '▁페루': 3928, '▁구출': 3929, '되자': 3930, '▁개방': 3931, '상황': 3932, '스코': 3933, '당국': 3934, '▁식': 3935, '다시': 3936, '▁있었고': 3937, '▁고등학교': 3938, '▁말하는': 3939, '관련': 3940, '▁내릴': 3941, '금을': 3942, '▁린': 3943, '▁야기': 3944, '버그': 3945, '9%': 3946, '▁탐': 3947, '▁헌': 3948, '▁기다리고': 3949, '▁사드르': 3950, '▁선언했다': 3951, '▁조사에': 3952, '년이': 3953, '▁기반': 3954, '▁왕세자': 3955, '▁워': 3956, '▁이유는': 3957, '▁북동부': 3958, '▁스웨덴': 3959, '▁혜택': 3960, '▁훼손': 3961, '▁숫자': 3962, '▁항소': 3963, '▁남아공': 3964, '▁순방': 3965, '맥': 3966, '▁상처': 3967, '싱': 3968, '▁거뒀다': 3969, '▁발병': 3970, '▁움직이': 3971, '업자': 3972, '콘': 3973, '▁모색': 3974, '▁윌': 3975, '▁유감': 3976, '▁삼성': 3977, '▁이루': 3978, '해주': 3979, '▁방화': 3980, '▁불러': 3981, '▁체제': 3982, '12': 3983, '▁공격에': 3984, '▁대답': 3985, '지난': 3986, '▁그동안': 3987, '▁모여': 3988, '슬리': 3989, '▁분석가': 3990, '▁숙': 3991, '▁사라': 3992, 'ne': 3993, '이션': 3994, '▁의회에서': 3995, '도시': 3996, '데이': 3997, '▁지도자들은': 3998, '드로': 3999, '자들의': 4000, '▁이주': 4001, '수를': 4002, '▁베이징에서': 4003, '▁덴마크': 4004, '▁얻기': 4005, '▁이렇게': 4006, '▁정확히': 4007, '▁펼치': 4008, '멋진': 4009, '장치': 4010, '풍': 4011, '▁고향': 4012, '▁주제': 4013, '킹': 4014, '▁진실': 4015, '▁사담': 4016, '▁2010': 4017, '▁특사': 4018, '▁작동': 4019, '▁지진이': 4020, '▁놀': 4021, '▁현금': 4022, '▁이것': 4023, '▁이뤄지': 4024, '▁델': 4025, '▁10%': 4026, '▁올린': 4027, '▁거부했다': 4028, '▁스테': 4029, '▁탈출': 4030, '▁했지만': 4031, '▁시내': 4032, '▁목사': 4033, '건의': 4034, '▁싸': 4035, '▁비율': 4036, '▁본선': 4037, '대회': 4038, '드시': 4039, '로스': 4040, '▁태평양': 4041, '▁AC': 4042, '결과': 4043, '▁해병대': 4044, '▁표시': 4045, '▁카드': 4046, '펠': 4047, '▁바이': 4048, '▁말리키': 4049, '▁플레이': 4050, '켓': 4051, '십': 4052, '컨': 4053, '▁마찬가지': 4054, '▁명확': 4055, '▁will': 4056, '▁커플': 4057, '▁레알': 4058, '▁자극': 4059, '▁입증': 4060, '▁지속': 4061, '▁일리노이주': 4062, '▁만난': 4063, '▁챔피언스리그': 4064, '▁성공적': 4065, '▁선발': 4066, '▁실패했다': 4067, '▁고발': 4068, '▁세포': 4069, '▁유력': 4070, '▁반군이': 4071, '▁수영': 4072, '정보': 4073, '▁군인들': 4074, '현재': 4075, '▁제공하는': 4076, '행위': 4077, '▁발생했으며': 4078, '웨이': 4079, '어진': 4080, '▁끼': 4081, '▁형태': 4082, '▁대가로': 4083, '▁주지': 4084, '▁중지': 4085, '명에게': 4086, '▁하이': 4087, '스티': 4088, '▁시위대는': 4089, '▁공화국': 4090, '제도': 4091, '▁권한': 4092, '▁클레': 4093, '▁Co': 4094, '▁600': 4095, 'PA': 4096, '▁답변': 4097, '▁웨': 4098, '▁승': 4099, '▁빅': 4100, '객': 4101, '지금': 4102, '▁방침': 4103, '▁붉은': 4104, '▁남동부': 4105, '▁예루살렘': 4106, '▁청문회': 4107, '▁엄청': 4108, '▁새끼': 4109, '▁마치고': 4110, '짜리': 4111, '▁임금': 4112, '▁노예': 4113, '▁화학': 4114, '▁소요': 4115, '▁배경': 4116, '그룹': 4117, '▁Japan': 4118, '600': 4119, 'ck': 4120, '연구소': 4121, '어스': 4122, '▁명은': 4123, '▁있다면': 4124, '▁IAEA': 4125, '▁진화': 4126, '▁초점': 4127, '▁이양': 4128, '▁거주': 4129, '▁보안군': 4130, '사인': 4131, '시키려': 4132, '스카': 4133, '적이고': 4134, '▁발생하지': 4135, '▁장군': 4136, '기업': 4137, '90': 4138, '▁끌어': 4139, '▁절대': 4140, '지수': 4141, '▁대회에서': 4142, '▁보인다고': 4143, 'age': 4144, '▁수업': 4145, '▁외교관': 4146, '천만': 4147, '▁항': 4148, '▁그것이': 4149, '▁안에서': 4150, '▁노벨': 4151, '▁사장은': 4152, '▁진전': 4153, '▁체계': 4154, '▁근처': 4155, '▁함': 4156, '▁외교통상부': 4157, '▁활주로': 4158, '▁폴란드': 4159, '▁완벽': 4160, '▁다니엘': 4161, '▁차관': 4162, '▁분열': 4163, '압': 4164, '자리': 4165, '▁멀': 4166, '산업': 4167, '▁받아야': 4168, '충': 4169, '▁이중': 4170, '홍': 4171, '칼': 4172, '▁중순': 4173, '▁보석': 4174, '하고자': 4175, '▁어린이들': 4176, '▁대선에서': 4177, '▁인사들': 4178, '▁봉사': 4179, '▁결의안': 4180, '▁열대': 4181, '▁보이': 4182, '▁철': 4183, '▁낙': 4184, '▁사장': 4185, '▁38': 4186, '▁결정에': 4187, '▁납치된': 4188, '쳤': 4189, '당국은': 4190, '▁군정': 4191, '▁부정적': 4192, '▁측근': 4193, '▁폭격': 4194, '수록': 4195, '이던': 4196, '▁하면': 4197, '▁원한다': 4198, '아이': 4199, '원은': 4200, '국장은': 4201, '해줄': 4202, '탕': 4203, '▁흔들': 4204, '▁의학': 4205, '▁이행': 4206, '▁잃은': 4207, '▁리조트': 4208, '▁삭제': 4209, '▁인디애나': 4210, '▁관찰': 4211, '▁타이틀': 4212, '▁크루즈': 4213, '▁있었지만': 4214, '▁아이디어': 4215, '▁복무': 4216, '▁합병': 4217, '▁모기지': 4218, '▁생긴': 4219, '▁했으며': 4220, '▁철군': 4221, '▁빙하': 4222, '▁PC': 4223, '▁아니면': 4224, '▁고립': 4225, '▁무죄': 4226, '▁분명히': 4227, '▁표했다': 4228, '▁대량': 4229, '▁구금': 4230, '6000': 4231, '▁견해': 4232, '보다는': 4233, '▁발간': 4234, '접': 4235, '팔': 4236, '▁높아지': 4237, '▁난사': 4238, '▁노대통령': 4239, '▁런던에서': 4240, '▁실적': 4241, '▁공유': 4242, '▁호세': 4243, '▁위원회는': 4244, '▁방향': 4245, '▁유전자': 4246, '▁싸움': 4247, '▁뉴욕에서': 4248, '됐었다': 4249, 'z': 4250, 'ity': 4251, '▁기상': 4252, '▁절': 4253, '피트': 4254, '▁수감자들': 4255, '▁폭탄이': 4256, '▁윈': 4257, '▁수상했다': 4258, '▁신체': 4259, '▁지시했다': 4260, '▁피해가': 4261, '▁방송국': 4262, '▁요인': 4263, '▁위원장': 4264, '▁부서': 4265, '▁증권': 4266, '▁시장에': 4267, '겠지만': 4268, '▁주지사가': 4269, '11': 4270, '닌': 4271, '▁데이': 4272, '▁보고서에서': 4273, '징': 4274, '넬': 4275, '▁라스베이거스': 4276, '▁봤다': 4277, '▁태어난': 4278, '▁토마스': 4279, '▁운송': 4280, '▁회동': 4281, 'ine': 4282, '▁은퇴': 4283, '▁채택': 4284, '램': 4285, '▁청구': 4286, '▁일반적으로': 4287, '▁계획이라고': 4288, '주에서': 4289, '▁돌아오': 4290, '영국': 4291, '▁갖게': 4292, '▁위조': 4293, '▁서신': 4294, '▁총격전': 4295, '▁과학자': 4296, '▁누리': 4297, '▁크라이슬러': 4298, '분간': 4299, '▁캘리포니아주': 4300, '▁경영': 4301, '▁계': 4302, '사고': 4303, '99': 4304, '85': 4305, '▁안전한': 4306, '자들에게': 4307, '된다고': 4308, '▁기대하고': 4309, '▁복': 4310, '▁고어': 4311, '▁an': 4312, '▁크레': 4313, '▁의미한다': 4314, '▁방법이': 4315, '▁하던': 4316, '명도': 4317, '▁리그': 4318, '▁십': 4319, '800': 4320, '베나': 4321, '▁나누': 4322, '이기': 4323, '▁달러에': 4324, '되었고': 4325, '대한': 4326, '▁여성의': 4327, '▁지역으로': 4328, '▁성화봉송': 4329, '▁교사': 4330, '▁재단': 4331, '▁맞춰': 4332, '▁앓고': 4333, '▁협박': 4334, '▁심지어': 4335, '▁사우디아라비아': 4336, '▁보여줬다': 4337, '▁면담': 4338, '▁하원의원': 4339, '▁데이터': 4340, '▁보낼': 4341, '▁2012': 4342, '▁카불': 4343, '바이': 4344, '▁거쳐': 4345, 'ow': 4346, '타운': 4347, '궁': 4348, '▁재난': 4349, '▁유발': 4350, '▁값': 4351, '기술': 4352, '▁실종된': 4353, '▁보유하고': 4354, '▁한국에서': 4355, '▁이루어지': 4356, '롤': 4357, '▁시청': 4358, '▁콩고': 4359, '측에': 4360, '틴': 4361, '▁기금': 4362, '▁무선': 4363, '700': 4364, '▁승리한': 4365, '장인': 4366, '▁주기': 4367, '력이': 4368, '▁싶어': 4369, '▁이사회': 4370, '▁영장': 4371, '일본': 4372, '▁자세한': 4373, '▁사회적': 4374, '▁혁명': 4375, '▁뼈': 4376, '리스트': 4377, '군은': 4378, '▁트리': 4379, '▁선거에': 4380, '▁위로': 4381, '▁생각하는': 4382, '현지': 4383, '브레': 4384, 'j': 4385, 'ive': 4386, '▁호텔에서': 4387, '웅': 4388, '▁태양': 4389, '▁바르셀로나': 4390, '릿': 4391, '▁엄격': 4392, '▁휴대전화': 4393, '▁1994': 4394, '▁전역': 4395, '▁논평': 4396, '▁하와이': 4397, '▁마쳤다': 4398, '▁해결책': 4399, '▁단속': 4400, '▁나오는': 4401, '▁명예': 4402, '회담': 4403, '▁무료': 4404, '▁형제': 4405, 'ay': 4406, '▁신발': 4407, '▁추정된다': 4408, '▁대학교': 4409, '▁계획은': 4410, '▁획득': 4411, '▁치러': 4412, '▁죄': 4413, '▁도달': 4414, '대사': 4415, '▁만들어진': 4416, '츠는': 4417, '카운티': 4418, '▁누군가': 4419, '▁못하게': 4420, '기지': 4421, '▁앞에': 4422, '▁사용한': 4423, '▁48': 4424, '작전': 4425, '▁조합': 4426, '련': 4427, '시에': 4428, '▁책임이': 4429, '▁상태에': 4430, 'ang': 4431, '▁빚': 4432, '▁보트': 4433, '▁것이고': 4434, '물이': 4435, '▁초대': 4436, '▁동성애자': 4437, '▁3000': 4438, '핑': 4439, '멸': 4440, '▁찾을': 4441, '▁쓰나미': 4442, '▁에어버스': 4443, '▁외환은행': 4444, '▁급등': 4445, '▁디자인': 4446, '되었던': 4447, '▁스키': 4448, '▁두바이': 4449, '▁중심부': 4450, '▁여권': 4451, '▁시각': 4452, '▁펼쳤다': 4453, '▁신중': 4454, '▁클린턴이': 4455, '▁간단': 4456, '으려': 4457, '▁골프': 4458, '▁동티모르': 4459, '▁녹': 4460, '스타인': 4461, '▁참석했다': 4462, '▁사령관은': 4463, '▁기계': 4464, '▁경제에': 4465, '때문에': 4466, '들로부터': 4467, '네스': 4468, '▁전쟁에': 4469, '▁주한미군': 4470, '▁한때': 4471, '▁비교': 4472, '▁끝나': 4473, '▁못한다': 4474, '▁논란이': 4475, '▁이후로': 4476, '▁잇': 4477, '▁경쟁자': 4478, '▁도시에서': 4479, '사항': 4480, '▁공간': 4481, '▁마비': 4482, '시티': 4483, '▁말하며': 4484, '해진': 4485, '▁펜': 4486, '▁물가': 4487, '▁신부': 4488, '라스': 4489, '▁해양': 4490, '▁회의에서': 4491, '▁운동을': 4492, '▁발생하는': 4493, '▁측은': 4494, '▁비용이': 4495, '험': 4496, '스톤': 4497, '▁홀': 4498, '활': 4499, '▁테러범': 4500, '되었으며': 4501, '▁당신이': 4502, '▁의석': 4503, 'our': 4504, '▁곡': 4505, '▁지정': 4506, '▁취하': 4507, '킬로미터': 4508, '▁그렇지': 4509, '▁불능화': 4510, '▁일으킨': 4511, '▁송환': 4512, '▁저지른': 4513, '▁(=': 4514, '▁기밀': 4515, '▁나올': 4516, '▁이루어졌다': 4517, '▁블': 4518, '▁보복': 4519, '▁공포': 4520, '▁자문': 4521, '▁존중': 4522, '▁점차': 4523, '▁첫번째': 4524, '▁앨': 4525, '칭': 4526, '▁케리': 4527, '▁우리당': 4528, '이었으며': 4529, '▁응답자': 4530, '지역에서': 4531, '▁지켜보': 4532, '▁차관보는': 4533, '▁일으키': 4534, '▁이곳에': 4535, '제대로': 4536, '▁피트': 4537, '세가': 4538, '▁마감했다': 4539, '▁주한': 4540, '널': 4541, '▁감독이': 4542, 'mm': 4543, '▁물건': 4544, '▁못해': 4545, '▁출': 4546, '▁지목': 4547, '▁자유를': 4548, '▁몰아': 4549, '▁케이블': 4550, '▁아이오와': 4551, '▁리처드': 4552, '진다': 4553, '▁죽은': 4554, '▁시티': 4555, '▁주인': 4556, '▁레스토랑': 4557, '▁선거캠프': 4558, '▁옆에': 4559, '▁plan': 4560, '▁흥분': 4561, '▁배출': 4562, 'qu': 4563, '▁우리나라': 4564, '▁제기했다': 4565, '▁종류': 4566, '▁생일': 4567, '▁받았으며': 4568, '▁특수': 4569, '▁노동당': 4570, '▁개표': 4571, '▁유출': 4572, '▁민주': 4573, '▁세계은행': 4574, '▁상공': 4575, '8000': 4576, '▁표명': 4577, '▁여학생': 4578, '▁발전소': 4579, '▁김대중': 4580, '디스': 4581, '▁광장': 4582, '▁법안이': 4583, '▁것이었다': 4584, '▁공약': 4585, '셀': 4586, '돼있다': 4587, '▁답했다': 4588, 'me': 4589, '▁그리': 4590, '▁검사는': 4591, '▁우주비행사': 4592, '▁파손': 4593, '▁중재': 4594, '이스라엘': 4595, '▁가구': 4596, '▁아니었다': 4597, '파운드': 4598, '펜': 4599, '규모': 4600, '▁상어': 4601, 'man': 4602, '▁목격': 4603, '측이': 4604, '▁망': 4605, '▁주문': 4606, '번째로': 4607, '▁비판했다': 4608, '-2': 4609, '오는': 4610, '▁지상': 4611, '심한': 4612, '▁국방': 4613, '▁당수': 4614, '▁130': 4615, '▁지지율': 4616, '▁방영': 4617, 'im': 4618, '▁압둘': 4619, '▁백악관은': 4620, '탁': 4621, '▁42': 4622, '▁발언에': 4623, '▁가슴': 4624, '▁곤잘레스': 4625, '▁되찾': 4626, '▁만났다': 4627, '0,000': 4628, '▁헨리': 4629, '▁핵프로그램': 4630, '쪽': 4631, '▁숀': 4632, '▁강풍': 4633, '▁고위관리': 4634, '▁테스트': 4635, '▁경영진': 4636, '▁인생': 4637, '-3': 4638, '▁1970': 4639, '▁고객들': 4640, '▁조기': 4641, '조차': 4642, '▁사망자수': 4643, '▁백인': 4644, '트로': 4645, '▁지속적': 4646, '▁예전': 4647, '▁보도에따르면': 4648, '세트': 4649, '▁불길': 4650, '▁요소': 4651, '▁주장에': 4652, '▁차단': 4653, '▁칼리': 4654, '▁기자들에게': 4655, '▁다루': 4656, '▁일리노이': 4657, '역을': 4658, '음을': 4659, '▁그래서': 4660, '▁없었': 4661, '홀': 4662, '되었': 4663, '79': 4664, 'Y': 4665, '▁미국측': 4666, '▁하게': 4667, '▁법원에': 4668, '▁국장': 4669, '▁자원': 4670, '▁따라서': 4671, '▁개장': 4672, '▁프로그램에': 4673, '위의': 4674, '▁중간': 4675, '▁총장은': 4676, '▁뿐만아니라': 4677, '▁세워': 4678, '▁선전': 4679, '시위': 4680, '시대': 4681, '▁중국에': 4682, '▁800': 4683, '국제': 4684, '▁세대': 4685, '47': 4686, '달라고': 4687, '▁이민': 4688, '퇴': 4689, '▁사용자': 4690, '▁콘': 4691, '미군': 4692, '▁들어갔다': 4693, '▁나스닥': 4694, '▁북서부': 4695, '▁침입': 4696, '▁와인하우스': 4697, '▁출입': 4698, '▁자유롭': 4699, '▁ABC': 4700, '원이': 4701, '▁화장실': 4702, '▁직업': 4703, '▁진영': 4704, '▁산림': 4705, '▁특': 4706, '▁사막': 4707, '▁화면': 4708, '▁40%': 4709, '▁이라크와': 4710, '▁올려': 4711, '비치': 4712, '65': 4713, '▁쓴': 4714, '▁역사적': 4715, '▁해임': 4716, '차량': 4717, '▁얼음': 4718, '▁논의하기': 4719, '45': 4720, '▁사용될': 4721, '▁-': 4722, '▁열어': 4723, '세로': 4724, '▁리치': 4725, '▁가능하다': 4726, '▁집으로': 4727, '▁두번째': 4728, '▁돼지': 4729, '러시아': 4730, '▁리드': 4731, 'one': 4732, '▁보지': 4733, '▁짓': 4734, '해질': 4735, '▁감지': 4736, '▁재건': 4737, '▁걸리': 4738, '▁셀': 4739, '▁근로자': 4740, '비아': 4741, 'ill': 4742, '놓': 4743, '18': 4744, '▁경비': 4745, '▁생각했다': 4746, '▁시민들이': 4747, '▁아프가니스탄에서': 4748, '▁말해': 4749, '석을': 4750, '▁전원': 4751, '▁베르': 4752, '▁결과는': 4753, '▁건축': 4754, '▁인류': 4755, '▁왔': 4756, '▁요르단': 4757, '▁President': 4758, '▁떠났다': 4759, '▁맞추': 4760, '▁블라디미': 4761, '▁없지만': 4762, '컬': 4763, '▁궤도': 4764, '▁촉발': 4765, '▁활약': 4766, '▁둘러싸': 4767, '닷컴': 4768, '▁받아들이': 4769, '▁라이벌': 4770, '▁대륙': 4771, '▁언어': 4772, '▁패션': 4773, '▁자치정부': 4774, '▁법무부': 4775, '▁주었다': 4776, '▁축소': 4777, '▁왕실': 4778, '▁성격': 4779, '▁불편': 4780, '▁다우지수': 4781, '▁스코틀랜드': 4782, '▁해적': 4783, '아야': 4784, '▁직전': 4785, '▁공모': 4786, '▁북미': 4787, '▁연안': 4788, '▁혐의에': 4789, '▁백악관에서': 4790, '▁맥주': 4791, '얼': 4792, 'ant': 4793, '▁독도': 4794, '폐': 4795, '▁홈': 4796, '▁생물': 4797, '세이': 4798, '놀': 4799, '▁세금을': 4800, '뿐만아니라': 4801, '▁폭락': 4802, '▁대치': 4803, '▁시기에': 4804, '▁주최': 4805, '▁극복': 4806, 'co': 4807, '▁자신에게': 4808, '▁라이트': 4809, '우주': 4810, '▁음': 4811, '▁개시': 4812, '▁연금': 4813, '▁나타내': 4814, '안보': 4815, '▁보내는': 4816, '▁홍': 4817, '▁맡은': 4818, '▁진술했다': 4819, '▁농장': 4820, '▁결의안을': 4821, '버리': 4822, '소를': 4823, '16': 4824, '▁등장': 4825, '간에': 4826, '▁불과': 4827, '즉각적인': 4828, '▁도착한': 4829, '▁후원': 4830, '▁윤': 4831, 'ver': 4832, '▁적극적': 4833, '뜨': 4834, '▁동쪽': 4835, '▁샤라포바': 4836, '▁남서부': 4837, '▁리차드': 4838, '▁가택연금': 4839, '▁받아들일': 4840, '▁겨냥': 4841, '▁천주교': 4842, '▁패트릭': 4843, '▁거듭': 4844, '▁수석대표': 4845, '▁빈곤': 4846, '▁관영': 4847, '▁55': 4848, '▁일어나': 4849, '▁구축': 4850, '▁잡고': 4851, '▁정신적': 4852, '▁낸시': 4853, '▁상업': 4854, '▁자사': 4855, '▁들여': 4856, '▁가해': 4857, '▁사법': 4858, '▁영국인': 4859, '▁해산': 4860, '▁프레스': 4861, '▁즉각': 4862, '▁벌였': 4863, '▁주장하며': 4864, '▁전환': 4865, 'ight': 4866, '폰': 4867, '량이': 4868, '▁위에': 4869, '윈': 4870, '▁120': 4871, '▁지내': 4872, '몰': 4873, '받았다': 4874, '▁모스크바': 4875, '▁만들고': 4876, '▁무엇': 4877, '됐으나': 4878, '매우': 4879, '▁의원들': 4880, '▁g': 4881, '▁자제': 4882, '▁앉아': 4883, '▁부근': 4884, '▁병사들': 4885, '▁일제': 4886, '▁꾸': 4887, '▁Y': 4888, '▁감염된': 4889, '투표': 4890, '▁즐기': 4891, '▁카페': 4892, '국은': 4893, '부는': 4894, '▁애도': 4895, '▁조약': 4896, '95': 4897, '▁소득': 4898, '▁at': 4899, '▁수송': 4900, '▁공개된': 4901, '▁입법': 4902, '탑': 4903, '▁전역에': 4904, '▁눈에': 4905, '▁쌍둥이': 4906, '▁알코올': 4907, '▁상하이': 4908, '▁탄핵': 4909, '▁영웅': 4910, '▁다섯': 4911, '▁케빈': 4912, '▁사람에게': 4913, '▁비난하고': 4914, '▁폭파': 4915, '▁유럽의': 4916, '▁r': 4917, '▁월드': 4918, '▁공항에': 4919, '▁오사마빈라덴': 4920, '▁상태로': 4921, '러스': 4922, '▁카터': 4923, '▁초반': 4924, '▁스타일': 4925, '▁것인가': 4926, '▁나토군': 4927, '▁오바마와': 4928, '▁달려': 4929, '▁묵': 4930, '뉴': 4931, '▁거리에': 4932, '미터': 4933, '▁들어오': 4934, '▁보호하기': 4935, '▁타임스': 4936, '▁던지': 4937, '▁예술': 4938, '▁확실한': 4939, '▁이재민': 4940, '▁헬': 4941, '▁국민들에게': 4942, '▁금리': 4943, '▁폭스': 4944, '▁설': 4945, '▁공사': 4946, '위기': 4947, '▁대상이': 4948, '▁투표에서': 4949, '▁선보': 4950, '답': 4951, '▁증가한': 4952, '버렸다': 4953, '캐': 4954, '▁이론': 4955, '동맹': 4956, '▁동기': 4957, '▁한국에': 4958, '돼야': 4959, '▁평가했다': 4960, '▁떨어졌': 4961, '라드': 4962, '▁날아': 4963, '냈': 4964, '▁하락세': 4965, '▁연관': 4966, '▁시장이': 4967, '▁회사가': 4968, '▁논': 4969, '▁여행객': 4970, '가족': 4971, '▁가져': 4972, '14': 4973, '럼': 4974, '▁인근에': 4975, '▁친구들': 4976, '▁와인': 4977, '▁완전한': 4978, '국이': 4979, '촉': 4980, '콤': 4981, '▁미시시피': 4982, '▁유튜브': 4983, '▁디지털': 4984, '▁마이애미': 4985, '▁캄보디아': 4986, '▁비타민': 4987, '▁침몰': 4988, '▁오딩가': 4989, '▁천연가스': 4990, '나무': 4991, '▁날짜': 4992, '▁지하철': 4993, '▁로이터': 4994, '▁급격': 4995, '▁새벽': 4996, '▁소련': 4997, '▁보는': 4998, '▁사찰단': 4999, '▁산사태': 5000, '▁포로': 5001, '▁채널': 5002, '▁감금': 5003, '▁게재': 5004, '▁엔진': 5005, '▁취임식': 5006, '▁분류': 5007, '▁열리': 5008, '▁전세계적으로': 5009, '▁증상': 5010, '▁보험': 5011, '▁쌀': 5012, '▁경력': 5013, '▁미칠': 5014, '▁원화': 5015, '▁관광객들': 5016, '▁예수': 5017, '▁옮겨': 5018, '▁전부터': 5019, '▁줄어들': 5020, '안전': 5021, '▁장면이': 5022, '텐': 5023, '납': 5024, '▁가상': 5025, '삼': 5026, '농': 5027, '짓': 5028, '▁연구팀': 5029, '▁딕': 5030, '▁상승세': 5031, '▁걸린': 5032, 'ts': 5033, '17': 5034, '▁인종': 5035, '▁합의했다고': 5036, '마자': 5037, '▁코트': 5038, '▁75': 5039, '▁이라크군': 5040, '▁문제들': 5041, '64': 5042, '▁의존': 5043, '13': 5044, '▁경호': 5045, '흘': 5046, '▁쇼핑': 5047, '▁비핵화': 5048, '▁뿌리': 5049, '▁쓰촨성': 5050, '▁좋다': 5051, '▁결선투표': 5052, '▁호랑이': 5053, '▁단체들': 5054, '▁이뤄졌다': 5055, '▁근육': 5056, '▁사냥': 5057, '▁연주': 5058, '▁34': 5059, '▁다윈': 5060, '▁받으며': 5061, '▁포경': 5062, '▁재무부': 5063, '▁소집': 5064, '▁부채': 5065, '▁오늘날': 5066, '▁대립': 5067, '▁공개적으로': 5068, '▁마무': 5069, '▁33': 5070, '▁호소': 5071, '년만에': 5072, '▁가동': 5073, '▁44': 5074, '▁참여한': 5075, '▁로비': 5076, '▁디즈니': 5077, '▁형사': 5078, '께': 5079, '▁이사': 5080, '유로': 5081, '▁조각': 5082, '▁권고': 5083, '▁제조업체': 5084, '▁기다리': 5085, '▁휘': 5086, '▁방식으로': 5087, '헌': 5088, '벽': 5089, '▁만들기': 5090, '▁화물': 5091, '▁부총리': 5092, 'ear': 5093, '▁나왔': 5094, '▁올랐': 5095, '▁전복': 5096, '▁월요일에': 5097, '▁나오지': 5098, '당신': 5099, 'ain': 5100, '▁이에따라': 5101, '▁공정': 5102, '▁차량에': 5103, '꾼': 5104, '얀': 5105, '▁최저': 5106, '켈': 5107, '나갔다': 5108, '[': 5109, '▁갔다': 5110, '▁골키퍼': 5111, '▁늦게': 5112, '▁블라고예비치': 5113, '▁알렉산더': 5114, '▁키바키': 5115, '▁토네이도': 5116, '▁필라델피아': 5117, '▁인플레이션': 5118, '▁리히터': 5119, '▁원숭이': 5120, '▁스캔들': 5121, '▁오히려': 5122, '▁갖춘': 5123, '▁탄압': 5124, '▁보스턴': 5125, '▁영업': 5126, '▁무엇보다': 5127, '▁만남': 5128, '▁내리': 5129, '▁물품': 5130, '▁*': 5131, '▁자본': 5132, '▁들어간': 5133, '▁언론에': 5134, '▁세계적': 5135, '▁축': 5136, '▁반영': 5137, '▁어디': 5138, '지수는': 5139, '준다': 5140, '▁가족과': 5141, '▁운영하': 5142, '▁노선': 5143, '▁표명했다': 5144, '▁상상': 5145, '▁주연': 5146, '▁일간지': 5147, '▁소문': 5148, '트라': 5149, '포드': 5150, '.8%': 5151, '▁차량이': 5152, '장의': 5153, '▁소위': 5154, '▁연구에': 5155, '▁그대로': 5156, '▁키스': 5157, '해야만': 5158, '꺼': 5159, '▁호수': 5160, '벤': 5161, '▁것임': 5162, '솔': 5163, '▁사람들과': 5164, '▁국민들이': 5165, '▁유대인': 5166, '▁노인': 5167, '점으로': 5168, '▁입수': 5169, '▁공대': 5170, '▁기록한': 5171, '▁기소됐다': 5172, 'lu': 5173, '▁이식': 5174, '▁했었다': 5175, '▁응급': 5176, '이상': 5177, '위인': 5178, '리그': 5179, '▁일본과': 5180, '넷': 5181, '▁정치인': 5182, '바르': 5183, '▁파트너': 5184, '랙': 5185, '▁마이크로소프트': 5186, '▁이슬라마바드': 5187, '▁살았': 5188, '▁화이트': 5189, '▁은신처': 5190, '▁남자친구': 5191, '▁있었으나': 5192, '▁종결': 5193, '▁징역형': 5194, '▁통일부': 5195, '사진': 5196, '▁로저': 5197, '▁체코': 5198, '▁다음날': 5199, '▁지휘관': 5200, '▁젊은이들': 5201, '▁초청': 5202, '▁소형': 5203, '▁중대한': 5204, '재판소': 5205, '▁보여준다': 5206, '▁한국이': 5207, '▁산타': 5208, '▁정식': 5209, '▁총상': 5210, '▁시체': 5211, '▁밥': 5212, '▁확인됐다': 5213, '디아': 5214, '▁알카에다와': 5215, '▁증시는': 5216, '▁조사에따르면': 5217, '▁가족들이': 5218, '▁근로자들': 5219, '▁51': 5220, '▁아프간에서': 5221, '해왔': 5222, '▁이스라엘은': 5223, '▁52': 5224, '구를': 5225, '▁홍수로': 5226, '▁보고서에': 5227, '▁제공할': 5228, 'X': 5229, '햄': 5230, '▁해병': 5231, '▁사태에': 5232, '▁부상으로': 5233, '▁구조대원들': 5234, '▁가게': 5235, '▁n': 5236, '▁경험이': 5237, '▁관여': 5238, '▁비행사': 5239, '▁세력이': 5240, '라이트': 5241, '▁공격은': 5242, '▁출판': 5243, '▁러시아는': 5244, '▁일치': 5245, '▁코스': 5246, '전에서': 5247, 'FA': 5248, '므로': 5249, '분에': 5250, 'Z': 5251, '▁코미디': 5252, '▁맞는': 5253, '▁후진타오': 5254, '▁선관위': 5255, '▁펀드': 5256, '▁국제공항': 5257, '▁원칙': 5258, '▁남극': 5259, '▁소탕': 5260, '▁1996': 5261, '▁증': 5262, '▁문제의': 5263, '▁구역': 5264, '▁브랜드': 5265, '▁체중': 5266, '▁가담': 5267, '단은': 5268, '▁배후': 5269, '▁음주': 5270, '▁진단': 5271, '▁시한': 5272, '▁보고서에따르면': 5273, '▁물러나': 5274, '▁뒤에': 5275, '▁성장률': 5276, '▁화재로': 5277, '▁기온': 5278, '▁일으켰다': 5279, 'AN': 5280, '▁화해': 5281, '▁부산': 5282, '▁법무장관': 5283, 'ell': 5284, '▁쓸': 5285, '▁일어났다': 5286, '▁화상': 5287, '▁사실은': 5288, '▁중앙일보': 5289, '으면서': 5290, '▁날개': 5291, '▁결승': 5292, '▁사용했다': 5293, '니스': 5294, '▁행정': 5295, '▁변호사가': 5296, '▁직장': 5297, '지원': 5298, '졌으며': 5299, '▁예정인': 5300, '▁받는다': 5301, '▁의사들': 5302, '▁하나인': 5303, '▁결과에': 5304, '시스템': 5305, '▁급속': 5306, '않게': 5307, '▁양국간': 5308, 'av': 5309, '바로': 5310, '▁여성과': 5311, '▁위협이': 5312, '▁여론조사에서': 5313, '▁이란과': 5314, '▁년간': 5315, '▁웃': 5316, 'ho': 5317, '▁신문사': 5318, '▁남쪽': 5319, '버스': 5320, '레나': 5321, '▁보잉': 5322, '▁밝히': 5323, '념': 5324, '시킨다': 5325, '▁기대한다': 5326, '▁대피했다': 5327, '▁낼': 5328, '▁발생하고': 5329, '스턴': 5330, '▁바라': 5331, '▁통계': 5332, 'ty': 5333, '괴': 5334, '점이': 5335, '75': 5336, '▁내무부는': 5337, '춘': 5338, '▁뭄바이': 5339, '▁연쇄': 5340, '▁탱크': 5341, '톱': 5342, '▁섭취': 5343, '▁택시': 5344, '▁교통사고': 5345, '▁구멍': 5346, '▁과격': 5347, '▁할머니': 5348, '▁소규모': 5349, '▁1993': 5350, '▁폭설': 5351, '▁줄리아니': 5352, '▁정지': 5353, '▁라덴': 5354, '▁이란에': 5355, '▁벨기에': 5356, '▁사생활': 5357, '▁관측': 5358, '▁보존': 5359, '▁구조대': 5360, '▁정치인들': 5361, '▁PPP': 5362, '▁감바리': 5363, '▁초안': 5364, '▁폭발이': 5365, '명인': 5366, '▁조류': 5367, '▁악어': 5368, '▁제작한': 5369, '▁수리': 5370, '▁경호원': 5371, '▁가방': 5372, '▁꼭': 5373, '사와': 5374, '▁수퍼': 5375, '▁여사는': 5376, '정부는': 5377, '▁피부': 5378, '▁올라가': 5379, '▁주장한': 5380, '▁벽': 5381, '▁국적': 5382, '▁방송사': 5383, '▁진행자': 5384, '▁~': 5385, '많은': 5386, '▁아메리카': 5387, '▁1%': 5388, '▁자신과': 5389, '겠습니다': 5390, '▁근처에서': 5391, '▁맡고': 5392, '▁참석할': 5393, '▁투쟁': 5394, '▁공기': 5395, '콜': 5396, '덕': 5397, '▁자택': 5398, '▁아르': 5399, '▁통신이': 5400, '▁남부에서': 5401, '▁생기': 5402, '77': 5403, '▁수립': 5404, '▁GM': 5405, '▁46': 5406, '▁700': 5407, '▁높아': 5408, 'na': 5409, '사업': 5410, 'Ch': 5411, '국민': 5412, '▁펼쳐': 5413, '켜': 5414, '▁비난하는': 5415, '▁극장': 5416, '▁했습니다': 5417, '▁메이': 5418, '▁에도': 5419, '▁주위': 5420, '▁선포했다': 5421, '▁착수': 5422, '▁록': 5423, '▁모리': 5424, '▁출산': 5425, '▁China': 5426, '▁기쁘다': 5427, '▁돕기': 5428, '▁무슬림': 5429, '▁밴드': 5430, '▁재검토': 5431, '▁횡령': 5432, '▁쓰레기': 5433, '▁테일러': 5434, '▁가벼': 5435, '▁다시한번': 5436, '▁침공': 5437, '민감한': 5438, '▁포럼': 5439, '▁지붕': 5440, '▁예멘': 5441, '▁농업': 5442, '▁사용하지': 5443, '▁황금': 5444, '▁아이폰': 5445, '▁블루': 5446, '▁1991': 5447, '▁결함': 5448, '만개': 5449, '▁판정': 5450, '▁파도': 5451, '▁제출했다': 5452, '▁종식': 5453, '▁관계에': 5454, '▁신사': 5455, '▁반복': 5456, '▁적발': 5457, '▁재임': 5458, '▁개정안': 5459, '▁마친': 5460, '▁미국인들이': 5461, '▁비교적': 5462, '▁하나로': 5463, '▁진행되는': 5464, '▁상호': 5465, '▁뇌물': 5466, '▁늘어나': 5467, '▁모아': 5468, '▁수사관': 5469, '86': 5470, '▁번째로': 5471, '▁곳이다': 5472, '▁북쪽으로': 5473, '금지': 5474, '▁인원': 5475, '▁In': 5476, '▁총회': 5477, '▁전통적': 5478, '▁재판관': 5479, '마르': 5480, '▁생각하지': 5481, '▁해도': 5482, '▁근거로': 5483, '아나': 5484, '이었습니다': 5485, '▁민족': 5486, '조건': 5487, '특': 5488, '▁중이었다': 5489, '역사적인': 5490, '7000': 5491, '▁회견': 5492, '▁취해': 5493, '▁따르': 5494, '▁해안에서': 5495, '▁세계적으로': 5496, '▁기자들': 5497, '▁구체적': 5498, '▁압': 5499, '▁스톤': 5500, '▁이용하는': 5501, '▁소식통이': 5502, '▁수상한': 5503, '신문': 5504, '▁피랍': 5505, '있었다': 5506, '▁적십자': 5507, '▁후보자': 5508, '▁처해': 5509, '▁맡': 5510, '▁여성들이': 5511, '▁관계당국': 5512, 'ard': 5513, '▁순위': 5514, '훈': 5515, '▁피해자들': 5516, 'Q': 5517, '▁DVD': 5518, '▁광범위': 5519, '▁안전보장이사회': 5520, '▁협약': 5521, '▁메르켈': 5522, '▁파나마': 5523, '▁스트레스': 5524, '▁봉송': 5525, '▁월스트리트': 5526, '▁억제': 5527, '▁정찰': 5528, '▁싸우': 5529, '▁차별': 5530, '▁신규': 5531, '▁중단했다': 5532, '▁수십명': 5533, '▁반박': 5534, '▁이륙': 5535, '▁사우스캐롤라이나': 5536, '▁자행': 5537, '▁제목': 5538, '▁지수': 5539, '어로': 5540, '▁치명적인': 5541, '▁성직자': 5542, '었지만': 5543, '▁맛': 5544, '▁뉴햄프셔': 5545, '▁빼': 5546, '▁거짓말': 5547, '▁혼자': 5548, '▁조명': 5549, '호가': 5550, '전선': 5551, '▁정상화': 5552, '▁요리': 5553, '▁고장': 5554, '화된': 5555, '▁성당': 5556, '▁레드': 5557, '▁차지하고': 5558, '혔다': 5559, '▁물이': 5560, '▁가족이': 5561, '▁최고치': 5562, '▁많아': 5563, '▁결과로': 5564, '▁승리로': 5565, '잘못된': 5566, '▁가졌': 5567, '▁확실': 5568, '▁물에': 5569, 'IC': 5570, '었으나': 5571, '▁서안': 5572, '▁센': 5573, '▁정전': 5574, '▁여러분': 5575, '▁미치는': 5576, '▁납': 5577, '▁보여주고': 5578, '커스': 5579, '▁계속될': 5580, '▁프레': 5581, '▁미군과': 5582, '▁IOC': 5583, '▁출연한': 5584, '닐': 5585, '▁환호': 5586, '▁경관': 5587, '▁지점에서': 5588, '▁든': 5589, '▁단체가': 5590, '▁연행': 5591, '▁칭': 5592, '교육': 5593, '민주당': 5594, '84': 5595, '▁합의한': 5596, '▁연구원들': 5597, '▁결승전': 5598, '▁적절': 5599, '▁국경지역': 5600, '킨스': 5601, 'ite': 5602, '속도로': 5603, 'tor': 5604, '장과': 5605, '68': 5606, '▁완': 5607, '쉽': 5608, '▁사용해': 5609, '어져': 5610, '▁쏟아': 5611, '▁식료품': 5612, '▁nuclear': 5613, '▁다큐멘터리': 5614, '▁왼쪽': 5615, '▁전당대회': 5616, '▁쿠웨이트': 5617, '왈': 5618, '▁과반수': 5619, '▁일어날': 5620, '▁over': 5621, '▁균형': 5622, '▁위안부': 5623, '▁롬니': 5624, '긍정적인': 5625, '▁난민촌': 5626, '▁완료': 5627, '▁출두': 5628, '▁귀환': 5629, '▁팝': 5630, '▁표준': 5631, '▁검은': 5632, '▁검문소': 5633, '▁탑승객': 5634, '▁1995': 5635, '▁항구': 5636, '▁화려': 5637, '▁동생': 5638, '▁인민': 5639, '▁잭': 5640, '분만에': 5641, '▁조언': 5642, '46': 5643, '▁이름이': 5644, '▁공산주의': 5645, '▁숲': 5646, '▁데에': 5647, '▁보일': 5648, '▁군은': 5649, '▁모임': 5650, '▁`': 5651, '되거나': 5652, '▁군사적': 5653, '▁지원할': 5654, '▁중단할': 5655, '▁스타디움에서': 5656, '▁조용': 5657, '▁수배': 5658, '단계': 5659, '▁나에게': 5660, '▁있어야': 5661, '380': 5662, '▁총재는': 5663, '▁골드': 5664, '▁척': 5665, '▁하미': 5666, '버린': 5667, '▁달러화': 5668, '▁손에': 5669, '에게서': 5670, '▁노리': 5671, '▁쓰고': 5672, '▁와이': 5673, '▁주장한다': 5674, '기록': 5675, '▁선원': 5676, '▁당국에': 5677, '▁먼': 5678, '▁냈다': 5679, '▁달린': 5680, '▁입을': 5681, '▁정원': 5682, '▁실시할': 5683, '끼': 5684, '▁일어났': 5685, '▁보냈': 5686, '휴': 5687, '스럽게': 5688, '않': 5689, '▁무게': 5690, '돈': 5691, '▁충돌이': 5692, '▁후보인': 5693, '▁얼': 5694, '비용': 5695, '▁품': 5696, '▁제정': 5697, '▁운전자': 5698, '▁범': 5699, '첸': 5700, '둥': 5701, '님': 5702, '랭': 5703, '▁국제원자력기구': 5704, '▁듣고': 5705, '▁먹이': 5706, '▁않았던': 5707, '▁어렵다': 5708, '▁얻고': 5709, '▁없게': 5710, '▁없고': 5711, '▁에콰도르': 5712, '▁이산화탄소': 5713, '▁캐릭터': 5714, '▁펠로시': 5715, '▁확장': 5716, '▁매니저': 5717, '▁받아들여': 5718, '▁흥미': 5719, '▁퇴임': 5720, '▁붙잡': 5721, '▁득표율': 5722, '▁플라': 5723, '▁침대': 5724, '▁낮추': 5725, '▁쉽지': 5726, '▁복역': 5727, '▁떠난': 5728, '▁레이건': 5729, '▁케이트': 5730, '▁부위': 5731, '▁일련': 5732, '▁범행': 5733, '▁조지아주': 5734, 'mp': 5735, '▁해리포터': 5736, '▁상영': 5737, '▁당초': 5738, '▁투르': 5739, '▁후보와': 5740, '져야': 5741, '▁매체': 5742, '▁승려들': 5743, '▁인력': 5744, '▁뛰': 5745, '▁운영하고': 5746, '▁64': 5747, '▁AT': 5748, '▁코끼리': 5749, '▁신조': 5750, '▁부상당': 5751, '▁남성은': 5752, '페이스': 5753, '▁생산량': 5754, '▁회원국들': 5755, '▁아난': 5756, '▁계속되는': 5757, '▁다르다': 5758, '스테': 5759, '시켰다고': 5760, '▁운전사': 5761, '▁기차': 5762, '▁텍사스주': 5763, '원들이': 5764, '▁창문': 5765, '▁공개됐다': 5766, '▁늘리': 5767, '병원': 5768, '▁전달했다': 5769, '▁촬영한': 5770, '▁자랑': 5771, '▁조치는': 5772, '▁발표하고': 5773, '▁조건으로': 5774, '▁확신한다': 5775, 'um': 5776, '▁무어': 5777, '▁요금': 5778, '▁뉴욕시': 5779, '▁서장': 5780, '▁미국인들': 5781, '라면': 5782, '▁발견되었다': 5783, '▁보게': 5784, '쪽으로': 5785, '위안': 5786, 'IAEA': 5787, '▁만일': 5788, '▁한나라당은': 5789, '▁발견한': 5790, '행사': 5791, '▁소식에': 5792, 'to': 5793, 'ie': 5794, '전쟁': 5795, '▁인근에서': 5796, '▁정의': 5797, '타임': 5798, '▁회담의': 5799, '효': 5800, '▁부모들': 5801, '▁거절했다': 5802, '럽': 5803, '▁우리에게': 5804, '렐': 5805, '▁작업에': 5806, '틸': 5807, '넨': 5808, '▁from': 5809, '▁샌디에이고': 5810, '▁일으킬': 5811, '룸': 5812, '▁외무성': 5813, '▁마라톤': 5814, '▁여겨지': 5815, '▁어깨': 5816, '▁졸업': 5817, '▁상륙': 5818, '63': 5819, '48': 5820, '▁생방송': 5821, '▁심의': 5822, '것이': 5823, '▁창출': 5824, '▁탄생': 5825, '▁몰려': 5826, '▁끝날': 5827, '▁최저치': 5828, '▁드러냈다': 5829, '식이': 5830, '▁분량': 5831, '▁론': 5832, '▁거부권': 5833, '▁방출': 5834, '▁교도소에': 5835, '▁음성': 5836, '▁이뤄진': 5837, '▁1960': 5838, '▁분석가들은': 5839, '▁미디어': 5840, '▁월가': 5841, '▁밝혀진': 5842, '▁발포': 5843, '▁지도자가': 5844, 'no': 5845, '▁진보': 5846, '▁알렸다': 5847, '▁모건': 5848, '▁행사에': 5849, '▁마리아': 5850, '▁증세': 5851, '▁오하이오주': 5852, '▁상태이다': 5853, '▁거부하': 5854, '▁비난하며': 5855, '▁기여': 5856, '▁예정이었다': 5857, '▁방문하는': 5858, 'ta': 5859, '▁식사': 5860, '▁테니스': 5861, '▁포함돼': 5862, '▁자택에서': 5863, '▁스턴': 5864, '시오': 5865, '▁세부': 5866, '▁브리': 5867, '▁무장대원': 5868, '워터': 5869, '정부가': 5870, '방위': 5871, '▁동의했다': 5872, '미니': 5873, '▁일본에': 5874, '▁깊이': 5875, '줬다': 5876, '▁th': 5877, '▁유럽에서': 5878, '장으로': 5879, 'ure': 5880, '▁하루에': 5881, '▁정책에': 5882, '김': 5883, 'NASA': 5884, '지역에': 5885, '26': 5886, '▁용기': 5887, '▁상태에서': 5888, '앞으로': 5889, '▁토지': 5890, '수술': 5891, '연방': 5892, '▁최근에': 5893, '▁치러지': 5894, 'ca': 5895, '76': 5896, 'BA': 5897, '▁무리': 5898, '▁불리': 5899, '21': 5900, '▁싱': 5901, '▁외국인들': 5902, '롬': 5903, '▁한국인들': 5904, '▁전사': 5905, '▁긍정적': 5906, '▁느낄': 5907, '▁자카르타': 5908, '▁프리미어리그': 5909, '▁new': 5910, '▁줄기세포': 5911, '▁하락한': 5912, '▁유혈사태': 5913, '▁샘플': 5914, '▁특징': 5915, '▁탐험': 5916, '▁앤드류': 5917, '▁로딕': 5918, '▁화요일에': 5919, '▁계좌': 5920, '▁MBC': 5921, '▁여지': 5922, '▁동일한': 5923, '▁빌딩': 5924, '▁밝혔지만': 5925, '▁실업률': 5926, '▁표결': 5927, '▁다국적군': 5928, '에이커': 5929, '▁서양': 5930, '▁테러와': 5931, '▁틀': 5932, '▁원래': 5933, '▁보조': 5934, '▁선임': 5935, '▁국가들은': 5936, '▁발행': 5937, '35': 5938, '▁서울시': 5939, '직원': 5940, '▁법안은': 5941, '▁문제와': 5942, '버트': 5943, '▁방법은': 5944, '▁권': 5945, '▁벗': 5946, '소리': 5947, '▁클라': 5948, '▁교황은': 5949, 'ab': 5950, '▁소유하고': 5951, '▁외치': 5952, '▁해당하는': 5953, '▁돌고래': 5954, '당했다': 5955, '▁취한': 5956, '▁소매': 5957, '▁2500': 5958, '▁기부': 5959, '▁코커스': 5960, '▁겨': 5961, '▁지지한다': 5962, '▁국기': 5963, '▁로스': 5964, '었을': 5965, '▁해상': 5966, '▁실종자': 5967, '객들': 5968, '데스': 5969, '씨가': 5970, '▁아들이': 5971, '▁촉구하': 5972, '▁실시했다': 5973, '▁바라는': 5974, '▁발표됐다': 5975, '됩니다': 5976, '핵': 5977, '▁학교에': 5978, '힘': 5979, '1000': 5980, '기자': 5981, 'BC': 5982, '▁페이지': 5983, '감독': 5984, '▁가리': 5985, '▁알지': 5986, '미국은': 5987, '▁유전': 5988, '▁전부': 5989, '▁국가로': 5990, '4000': 5991, '▁로드': 5992, '▁팀이': 5993, '24': 5994, '▁일본인': 5995, '▁멜': 5996, '잉': 5997, '▁pro': 5998, '헨': 5999, '▁멤버': 6000, '▁애완견': 6001, '▁윔블던': 6002, '▁프랭크': 6003, '▁항공우주국': 6004, '▁힘입어': 6005, '넌': 6006, '▁마흐디': 6007, '▁예를들어': 6008, '▁좌절': 6009, '▁검증': 6010, '▁정거장': 6011, '▁잇따': 6012, '▁노르웨이': 6013, '▁브리핑': 6014, '▁암컷': 6015, '2006.01': 6016, '▁녹음': 6017, '▁화합': 6018, '▁않았으나': 6019, '▁밝혔으며': 6020, '▁쿠퍼': 6021, '▁영화배우': 6022, '▁오마르': 6023, '▁포착': 6024, '▁종료': 6025, '▁not': 6026, '▁외환': 6027, '▁내려졌다': 6028, '▁돌파': 6029, '▁통증': 6030, '▁자리에': 6031, '▁매달': 6032, '▁도망': 6033, '▁해주': 6034, '▁개편': 6035, '▁리처드슨': 6036, '▁부부가': 6037, '▁상원의원과': 6038, '▁선수가': 6039, '▁이슬람교': 6040, '▁잡스': 6041, '▁키우': 6042, '▁접전': 6043, '▁격렬한': 6044, '▁마을에서': 6045, '우디': 6046, '▁사설': 6047, '▁청사': 6048, '▁재직': 6049, '▁국가에서': 6050, '내용': 6051, '▁양측은': 6052, '▁열렸다': 6053, '▁HIV': 6054, '▁세트': 6055, '▁후보들': 6056, '▁5%': 6057, '54': 6058, '▁부실': 6059, '▁화장': 6060, '▁라이언': 6061, '이런': 6062, '▁1500': 6063, '▁보이며': 6064, '▁장악': 6065, '▁포장': 6066, '▁최대의': 6067, '▁가족은': 6068, '▁판다': 6069, '▁위대': 6070, '▁득점': 6071, '▁요청을': 6072, '▁막아': 6073, '▁법안에': 6074, '하우스': 6075, '▁중심가': 6076, '▁소식은': 6077, '▁정권이': 6078, '▁추세': 6079, '39': 6080, '▁협상에': 6081, '▁기울이': 6082, '▁상승한': 6083, '▁투표에': 6084, '▁소식통': 6085, '보호': 6086, '▁파운드': 6087, '▁지분': 6088, '▁NATO': 6089, '▁FRB': 6090, '▁단체인': 6091, '▁목표는': 6092, '겼': 6093, '응': 6094, '900': 6095, '폭탄': 6096, '프랑스': 6097, '연구': 6098, '▁카라': 6099, '▁장군은': 6100, '▁장착': 6101, '▁잡아': 6102, '▁온도': 6103, '평화': 6104, '▁이용한': 6105, '▁생각이': 6106, '렸으며': 6107, '▁움직': 6108, '첼': 6109, '▁커지': 6110, '▁운명': 6111, '98': 6112, '▁살해했다': 6113, '렘': 6114, '▁프라이머리에서': 6115, '쌍': 6116, '럭': 6117, '카르': 6118, '첨': 6119, '짝': 6120, '▁세웠다': 6121, '▁않았고': 6122, '▁없습니다': 6123, '▁피라미드': 6124, '▁침략': 6125, '▁마돈나': 6126, '▁배터리': 6127, '▁데이빗': 6128, '▁객실': 6129, '▁서식지': 6130, '▁여섯': 6131, '▁라파엘': 6132, '▁졸리': 6133, '2005.09': 6134, '▁빠지': 6135, '▁his': 6136, '▁몰고': 6137, '▁비틀즈': 6138, '▁자선단체': 6139, '▁다이': 6140, '▁탈락': 6141, '▁1992': 6142, '▁금액': 6143, '과학': 6144, '▁테러조직': 6145, '▁물러': 6146, '▁산책': 6147, '▁아마디': 6148, '▁급증': 6149, '▁인형': 6150, '▁전국적으로': 6151, '▁불구': 6152, '▁승무원들': 6153, '▁않는다면': 6154, '▁본토': 6155, '▁고급': 6156, '▁government': 6157, '▁강행': 6158, '▁65': 6159, '▁as': 6160, '내내': 6161, '▁보급': 6162, '▁약화': 6163, '▁자동': 6164, '▁감소했다': 6165, '▁30%': 6166, '▁피살': 6167, '▁상당히': 6168, '56': 6169, '▁남용': 6170, '▁유산': 6171, '▁댄': 6172, '▁담은': 6173, '▁회의에': 6174, '지방': 6175, '▁고무': 6176, '▁4000': 6177, 'ast': 6178, '▁58': 6179, '▁방향으로': 6180, '▁플로리다주': 6181, '저는': 6182, '▁제리': 6183, '▁sh': 6184, '▁BA': 6185, '티스': 6186, '▁일이다': 6187, '▁손해': 6188, '▁카르': 6189, '▁사실에': 6190, '자유': 6191, '위성': 6192, '▁등으로': 6193, '▁약세': 6194, '▁처한': 6195, '▁유인': 6196, '리안': 6197, '▁88': 6198, '때까지': 6199, '혔': 6200, '공사': 6201, '▁포함됐다': 6202, 'ess': 6203, '▁국가들이': 6204, '▁글로': 6205, '▁지지자들이': 6206, '.9%': 6207, '카드': 6208, '풀': 6209, '탈레반': 6210, '▁유도': 6211, '음악': 6212, '▁엘리': 6213, '▁수면': 6214, '▁강세': 6215, 'ary': 6216, '▁53': 6217, '▁흔': 6218, '▁관타나모': 6219, '▁오토바이': 6220, '▁우주왕복선': 6221, '▁울포위츠': 6222, '▁파바로티': 6223, '▁플라스틱': 6224, '社': 6225, '밍': 6226, '▁자유무역협정': 6227, '▁퍼거슨': 6228, '큐': 6229, '▁경기부양책': 6230, '▁벌써': 6231, '▁롤링': 6232, '▁헌법재판소': 6233, '▁낙태': 6234, '▁넘겨': 6235, '▁드러내': 6236, '▁저희': 6237, '▁점검': 6238, '▁영양': 6239, '▁오른쪽': 6240, '▁상대방': 6241, '▁NK': 6242, '▁집권당': 6243, 'der': 6244, '▁백신': 6245, '▁매출': 6246, '통제': 6247, '▁연계': 6248, '후보': 6249, '▁멀리': 6250, '▁제시했다': 6251, '▁군함': 6252, '▁죽음을': 6253, '▁실린': 6254, '▁도심': 6255, '▁표면': 6256, '▁건물이': 6257, '▁존경': 6258, '▁수위': 6259, '▁운동가들': 6260, '▁모금': 6261, '▁St': 6262, '▁요구하며': 6263, '▁지원하는': 6264, '▁촉진': 6265, '▁나이트': 6266, '달러로': 6267, 'Mar': 6268, '▁딸이': 6269, '▁계속된': 6270, '포트': 6271, '▁중요성': 6272, '복을': 6273, '▁내려진': 6274, '▁자치': 6275, '▁이틀간': 6276, '코프': 6277, '▁법원에서': 6278, '▁다음주': 6279, '▁햄': 6280, '제품': 6281, '▁제보': 6282, '▁참여할': 6283, '▁로브': 6284, '▁수행하': 6285, '▁대통령직': 6286, '타르': 6287, '위원': 6288, '▁유지하고': 6289, '▁각자': 6290, '▁갈라': 6291, '사무소': 6292, '▁남자는': 6293, '▁대학생': 6294, '▁브라운은': 6295, '▁못했': 6296, '▁전역에서': 6297, '▁대전': 6298, '분께': 6299, '▁기소된': 6300, '▁위원': 6301, '▁인질들을': 6302, '▁UEFA': 6303, '▁제공한': 6304, '▁대학에서': 6305, '▁여부에': 6306, '22': 6307, '▁계기': 6308, '값': 6309, '▁승객들': 6310, '`': 6311, '▁제출한': 6312, '서비스': 6313, '▁본다': 6314, '▁향상': 6315, '▁지대': 6316, '▁콜로라도': 6317, '▁용의자로': 6318, '베리': 6319, '▁뉴욕주': 6320, '▁출생': 6321, '촌': 6322, '웬': 6323, '컴': 6324, '칙': 6325, '튜': 6326, '▁Obama': 6327, '▁루아얄': 6328, '▁뮤지컬': 6329, '▁싶지': 6330, '▁옮기': 6331, '▁허커비': 6332, '톨': 6333, '▁게릴라': 6334, '▁경기침체': 6335, '▁포르노': 6336, '▁아테네': 6337, '▁옐친': 6338, '▁징후': 6339, '▁시라크': 6340, '▁불가리아': 6341, '▁본격적': 6342, '▁2005.10': 6343, '▁벽돌': 6344, '▁공룡': 6345, '▁관람': 6346, '▁살아남': 6347, '▁있었습니다': 6348, '▁탄광': 6349, '▁함유': 6350, '소한': 6351, '베르토': 6352, '▁남편이': 6353, '▁형식': 6354, '▁승부': 6355, 'American': 6356, '▁조절': 6357, '▁국방성': 6358, '▁자신감': 6359, '▁실무': 6360, '▁점거': 6361, '▁연간': 6362, '▁공판': 6363, '▁기분': 6364, '▁소동': 6365, '▁접수': 6366, '▁통보': 6367, '▁한국은행': 6368, '▁지지하고': 6369, '▁얼마전': 6370, '▁제이': 6371, '자료': 6372, '▁희망한다': 6373, '▁벌어졌다': 6374, '▁범위': 6375, '(1': 6376, '91': 6377, '▁사용하고': 6378, '▁북부에': 6379, '▁1,000': 6380, '▁뱀': 6381, '▁호소했다': 6382, '아직': 6383, '▁동성': 6384, '▁좋아하는': 6385, '▁케이': 6386, '▁사체': 6387, '▁신분': 6388, '▁발표했습니다': 6389, 'per': 6390, '▁취했다': 6391, '▁140': 6392, '▁갖는': 6393, '▁겸': 6394, '▁고려하고': 6395, '▁내렸': 6396, '▁떨어지': 6397, '▁브로': 6398, '▁경사': 6399, '▁7000': 6400, '58': 6401, '▁PKK': 6402, '▁데일리': 6403, '▁노력이': 6404, '▁곰': 6405, '▁나선': 6406, '▁승인했다': 6407, '▁성명은': 6408, '▁테러리스트들': 6409, '▁포함된': 6410, '▁몸에': 6411, '▁불어': 6412, '▁베를린': 6413, '28': 6414, '▁탄도': 6415, '▁해소': 6416, '과정': 6417, '▁지원하고': 6418, 'iz': 6419, '▁도시인': 6420, '55': 6421, '▁con': 6422, '▁털': 6423, '▁직원이': 6424, '회전': 6425, '늘': 6426, '▁대법원장': 6427, '▁동맹국': 6428, 'IS': 6429, '아프간': 6430, '어떤': 6431, '사령관': 6432, '금융': 6433, 'tr': 6434, '▁떼': 6435, '생산': 6436, '퀴': 6437, '▁매춘': 6438, '▁열고': 6439, '▁금메달': 6440, '▁디자이너': 6441, '▁아닙니다': 6442, '▁지지선언': 6443, '▁카트리나': 6444, '▁멈추': 6445, '▁징계': 6446, '▁흘러': 6447, '▁보이콧': 6448, '▁이자율': 6449, '2006.08': 6450, '▁개막': 6451, '▁디스크': 6452, '▁알렉스': 6453, '강전에서': 6454, '▁막대한': 6455, '▁떠날': 6456, '▁경향': 6457, '▁사이클': 6458, '업계': 6459, '▁오스카': 6460, '▁핵개발': 6461, '▁러드': 6462, '▁정착': 6463, '▁않으며': 6464, '▁상담': 6465, 'way': 6466, '▁인터': 6467, '▁인공': 6468, '다란': 6469, '▁서류': 6470, '▁래리': 6471, '▁미첼': 6472, '▁준수': 6473, '▁장교': 6474, '▁애리조나': 6475, '▁통과시켰다': 6476, '▁쏘': 6477, '▁도청': 6478, '▁타임': 6479, '▁발발': 6480, '▁탄소': 6481, '▁포함하여': 6482, '▁조사한': 6483, '▁참석하지': 6484, '▁정계': 6485, '업자들': 6486, '▁흔적': 6487, '▁부당': 6488, '89': 6489, 'ha': 6490, '▁챔피언십': 6491, '▁정보부': 6492, '▁플레이어': 6493, '▁선수로': 6494, '2000': 6495, '▁기상청': 6496, '▁서서': 6497, '▁160': 6498, '▁확산되고': 6499, 'ish': 6500, '학과': 6501, '▁레바논군': 6502, '스런': 6503, '▁V': 6504, '▁바스라': 6505, '디어': 6506, '▁하자': 6507, '▁에어': 6508, '▁불이': 6509, '▁풀어': 6510, '▁정상회담을': 6511, '44': 6512, '야드': 6513, '요원': 6514, '▁WHO': 6515, '▁시인': 6516, '천명': 6517, '▁래': 6518, '죄': 6519, '▁43': 6520, 'min': 6521, '▁모르': 6522, '▁건강이': 6523, '▁원인이': 6524, '▁게리': 6525, '▁56': 6526, '▁무고': 6527, '▁철저': 6528, '▁풍': 6529, 'Ma': 6530, '▁건너': 6531, '▁악화되': 6532, '▁정상들': 6533, '▁테러에': 6534, '▁당해': 6535, '▁옥': 6536, '▁아메리칸': 6537, '앤': 6538, '률이': 6539, '자동차': 6540, '범죄': 6541, '▁지도자는': 6542, '널리': 6543, '▁밝혔': 6544, '▁준비하고': 6545, '▁메일': 6546, '▁보도에': 6547, '▁일이라고': 6548, '▁필요로': 6549, '93': 6550, '▁유기': 6551, '▁장관과': 6552, '▁에베레스트': 6553, '▁아름다': 6554, '겁': 6555, '냉': 6556, '▁로드리게스': 6557, '▁베네딕': 6558, '▁오클라호마': 6559, '▁이브라힘': 6560, '▁찾지': 6561, '▁최첨단': 6562, '▁히틀러': 6563, '셨': 6564, 'World': 6565, '▁심장마비': 6566, '▁의약품': 6567, '▁평화유지군': 6568, 'PGA': 6569, '▁압바스': 6570, '▁따뜻': 6571, '▁빼앗': 6572, '▁중남미': 6573, '▁아마디네자드': 6574, '▁스크린': 6575, '▁2008.10': 6576, '▁인터폴': 6577, '▁터널': 6578, '2007.12': 6579, '▁가짜': 6580, '▁품목': 6581, '▁NBA': 6582, '▁술집': 6583, '▁회수': 6584, '▁연례': 6585, '▁거짓': 6586, '▁들어갈': 6587, '▁1989': 6588, '▁세탁': 6589, '▁이루어진': 6590, '▁새롭': 6591, '▁풍부': 6592, '▁계산': 6593, '▁동물들': 6594, '▁39': 6595, '▁벗어': 6596, '▁구름': 6597, '▁채취': 6598, '▁조항': 6599, '▁단행': 6600, '▁돌려': 6601, '원인': 6602, 'ti': 6603, '▁발급': 6604, '교회': 6605, '▁대대적': 6606, '▁암호': 6607, '동물': 6608, '▁휴대': 6609, '▁뿐이다': 6610, '▁스파이': 6611, '▁에티오피아': 6612, '▁출동': 6613, '▁변호': 6614, '▁신장': 6615, '▁언급하며': 6616, '▁보건부': 6617, '▁임대': 6618, '노조': 6619, '▁해체': 6620, '▁당국자들': 6621, '▁경비원': 6622, '▁신화': 6623, '▁테러단체': 6624, '▁코치': 6625, '▁문구': 6626, '▁여행객들': 6627, '인들에게': 6628, '▁트레': 6629, '곳에': 6630, 'ance': 6631, '▁하나는': 6632, '▁결승전에서': 6633, '▁공격했다': 6634, '▁있을지': 6635, '▁73': 6636, '▁동료들': 6637, '해달라': 6638, '▁총장': 6639, '주전': 6640, '▁알려': 6641, '▁곳이': 6642, '용으로': 6643, '▁요원들': 6644, '에르': 6645, '▁미스': 6646, '▁달간': 6647, '▁지식': 6648, '더스': 6649, '▁조지아': 6650, '▁사진이': 6651, '▁되며': 6652, '▁경매에': 6653, '▁불가능': 6654, '▁모르는': 6655, '▁넘기': 6656, '▁5000': 6657, '▁거주하': 6658, '▁법정에서': 6659, '▁입었': 6660, '29': 6661, '▁기업의': 6662, 'old': 6663, '▁영화에': 6664, '▁경로': 6665, '▁프라': 6666, '룬': 6667, 'pr': 6668, '▁포인트': 6669, '▁up': 6670, '▁했으나': 6671, '▁달한다': 6672, '▁지불하': 6673, '논': 6674, '▁잠재적': 6675, '▁일어나는': 6676, '▁소방': 6677, '▁휩싸': 6678, '해리포터': 6679, 'PPP': 6680, 'ph': 6681, 'ood': 6682, '▁브라이언': 6683, '▁조사할': 6684, '흉': 6685, '▁목격했다': 6686, '▁학교에서': 6687, '쾌': 6688, '낭': 6689, '▁플래': 6690, '5,000': 6691, '▁고이즈미': 6692, '▁노트북': 6693, '▁뉴올리언스': 6694, '▁느낌': 6695, '▁두려움': 6696, '▁망원경': 6697, '▁맞이하': 6698, '▁성추행': 6699, '▁쇠고기': 6700, '▁시나리오': 6701, '▁우울증': 6702, '▁조승희': 6703, '▁무승부': 6704, '▁again': 6705, '▁기숙사': 6706, '▁허드슨': 6707, '▁수류탄': 6708, '▁활발': 6709, '▁무너지': 6710, '▁당부했다': 6711, '▁교섭': 6712, '▁저항세력': 6713, '▁남아프리카': 6714, '▁맥캔': 6715, '▁무덤': 6716, '▁의상': 6717, '▁받아왔다': 6718, '▁아니지만': 6719, '▁구호단체': 6720, '▁체류': 6721, '▁소행성': 6722, '▁타밀': 6723, '▁사육': 6724, '연패': 6725, '▁모술': 6726, '▁착수했다': 6727, '▁붙여': 6728, '▁밀려': 6729, '▁바탕': 6730, '▁고위급': 6731, '▁낮아': 6732, '▁있은': 6733, '▁49': 6734, '▁향한': 6735, '▁열심': 6736, '▁구류': 6737, '▁유통': 6738, '▁전반적인': 6739, '▁모래': 6740, '▁위하여': 6741, '▁예약': 6742, '▁목사는': 6743, '▁저질렀다': 6744, 'ke': 6745, '▁사라졌다': 6746, '▁빠졌다': 6747, '▁경비대': 6748, '▁작업이': 6749, '▁모터': 6750, '▁벌여': 6751, '스케': 6752, '▁가중': 6753, '▁미술': 6754, '▁경쟁력': 6755, '▁바위': 6756, '▁움직임은': 6757, '▁때문이라': 6758, '▁모자': 6759, '▁착용': 6760, '▁좁': 6761, '▁옹호': 6762, '곳에서': 6763, '▁보인': 6764, '▁동성애': 6765, '▁항의하': 6766, '▁정리': 6767, '▁양국은': 6768, '▁범인이': 6769, '해준': 6770, '플레': 6771, '▁우세': 6772, '▁입지': 6773, 'has': 6774, '▁중심지': 6775, '▁듀': 6776, '▁사면': 6777, '▁추구하': 6778, '▁느끼고': 6779, '게임': 6780, '▁공안': 6781, '▁상금': 6782, '▁X': 6783, '▁나타내는': 6784, '▁수행할': 6785, '▁맨': 6786, '▁군인들이': 6787, '▁시인했다': 6788, '▁열기': 6789, '▁부검': 6790, '▁회장이': 6791, \"'(\": 6792, '▁가족들과': 6793, '▁은행에': 6794, '▁남성들': 6795, '27': 6796, '▁2%': 6797, '▁인권단체': 6798, '▁힘들다': 6799, '호주': 6800, '키로': 6801, '96': 6802, '▁슈퍼': 6803, 'ong': 6804, '▁선거법': 6805, '▁반대로': 6806, 'mo': 6807, '인권': 6808, '▁변호인': 6809, '▁부족하다': 6810, '▁담당자': 6811, '▁66': 6812, '▁예술가': 6813, 'ag': 6814, '▁출연했다': 6815, '▁수여': 6816, '04': 6817, '▁분야에서': 6818, '▁섹스': 6819, '▁성공한': 6820, 'os': 6821, '자들과': 6822, '어질': 6823, '▁제작사': 6824, '▁are': 6825, '▁시작했다고': 6826, '▁4%': 6827, '▁부지': 6828, '▁방문해': 6829, '▁사용자들': 6830, '▁크리스티': 6831, '최근': 6832, '▁점수': 6833, '▁농민들': 6834, '틱': 6835, '▁국립공원': 6836, '▁높게': 6837, '▁뉴델리': 6838, '▁위스콘신': 6839, '▁유죄판결': 6840, '▁자르다리': 6841, '▁출구조사': 6842, '▁펼친': 6843, '▁플루토늄': 6844, '▁확률': 6845, '박근혜': 6846, '찌': 6847, '▁도요타': 6848, '▁삭감': 6849, '▁취급': 6850, '▁빅토리아': 6851, '▁알바니아': 6852, '▁62': 6853, '▁부사장': 6854, '▁talks': 6855, '▁숨졌으며': 6856, '▁증강': 6857, '▁기아': 6858, '▁중앙은행': 6859, '▁1987': 6860, '카를로스': 6861, '▁남학생': 6862, '▁교외': 6863, '▁압도적': 6864, '▁물고기': 6865, '됐는지': 6866, '▁바르': 6867, '▁델타': 6868, '▁out': 6869, '▁하원의장': 6870, '▁완성': 6871, '▁이내에': 6872, '▁예배': 6873, '▁왕세자비': 6874, '▁복원': 6875, '▁비서실장': 6876, '베르': 6877, '▁업적': 6878, '▁모른다고': 6879, '▁포터': 6880, '▁후송': 6881, '▁양쪽': 6882, '▁총통': 6883, '▁해서': 6884, '▁지역인': 6885, '▁물체': 6886, '▁맡았다': 6887, '▁행위에': 6888, '▁발휘': 6889, '▁상관': 6890, '▁배제': 6891, '▁아프': 6892, '번호': 6893, '▁게시': 6894, '었는지': 6895, '62': 6896, '레이크': 6897, '▁차질': 6898, '▁독일인': 6899, '▁남아있다': 6900, '▁묻는': 6901, '▁도디': 6902, '▁대서양': 6903, '▁선고했다': 6904, '▁안내': 6905, '▁미래에': 6906, '▁양보': 6907, '▁영국과': 6908, '▁Ar': 6909, '▁제공했다': 6910, '▁남자아이': 6911, '▁상당수': 6912, '▁대리인': 6913, 'tion': 6914, '▁도구': 6915, '▁제시한': 6916, '97': 6917, '▁써': 6918, '▁퀸': 6919, '▁의원들이': 6920, '▁웨인': 6921, '오르': 6922, '▁정기적': 6923, '▁남아있는': 6924, '▁턱': 6925, '▁도착할': 6926, '▁파리에서': 6927, '▁암시': 6928, '된다면': 6929, '일에는': 6930, '▁두려워': 6931, 'out': 6932, '▁제치': 6933, '▁압수': 6934, '▁인터넷에': 6935, '▁참가자들': 6936, '▁정기': 6937, '▁테리': 6938, '메르': 6939, '▁상황이다': 6940, '르게': 6941, '▁대가': 6942, '▁진지': 6943, '▁건강에': 6944, 'ee': 6945, '▁체포되었다': 6946, '▁베리': 6947, '▁도와': 6948, '▁일대': 6949, '▁Ca': 6950, '▁당황': 6951, '▁신도들': 6952, 'ens': 6953, '▁익': 6954, '▁나타났': 6955, '▁강진이': 6956, '크리': 6957, '▁남부에': 6958, '▁시작으로': 6959, '빠': 6960, '년전': 6961, '시장에서': 6962, '▁판결이': 6963, '▁피난': 6964, '흑': 6965, '셉': 6966, '팔레스타인': 6967, '놈': 6968, '븐': 6969, '·': 6970, '▁visit': 6971, '▁나눴다': 6972, '▁메드베데프': 6973, '▁않았습니다': 6974, '▁앞섰다': 6975, '▁얻게': 6976, '▁잃어버': 6977, '▁최루탄': 6978, '▁하이브리드': 6979, '툴': 6980, '▁해수면': 6981, '▁우간다': 6982, '▁첩보': 6983, '▁온실가스': 6984, '▁에드워드': 6985, '됨에따라': 6986, '▁교착상태': 6987, '▁글로벌': 6988, '▁권총': 6989, '▁Roh': 6990, '▁부분이': 6991, '▁its': 6992, '▁수색작업': 6993, '▁급습': 6994, '▁데리고': 6995, '▁금융위기': 6996, '▁이뤄질': 6997, '▁씨가': 6998, '▁호송': 6999, '▁사과했다': 7000, '▁지위': 7001, '▁석방됐다': 7002, '▁갈등': 7003, '▁추격': 7004, '▁송금': 7005, '▁지역사회': 7006, '▁연출': 7007, '▁에릭': 7008, '▁줄이기': 7009, '▁위험성': 7010, '▁정밀': 7011, '▁실현': 7012, '▁60%': 7013, '▁포스트': 7014, '▁매매': 7015, '▁개체수': 7016, '▁톰슨': 7017, '▁오리': 7018, '▁뚫': 7019, '▁부처': 7020, '▁보증': 7021, '열차': 7022, '52': 7023, '▁부품': 7024, '▁물어': 7025, '▁군사력': 7026, '▁실려': 7027, '▁사용된': 7028, '▁드러': 7029, '▁해저': 7030, '▁고안': 7031, '경찰이': 7032, 'port': 7033, '우드': 7034, '▁상을': 7035, '▁도살': 7036, '▁가난한': 7037, '▁20%': 7038, '▁2-1': 7039, 'MDC': 7040, '▁남성의': 7041, '▁공개하지': 7042, '▁개인적': 7043, '▁밝혀내': 7044, '▁관객': 7045, '▁너무나': 7046, '▁재미있': 7047, '일부': 7048, '▁토대': 7049, '▁열었다': 7050, '▁패스': 7051, '대와': 7052, '▁경험을': 7053, '▁해적들': 7054, '▁남측': 7055, '▁상세': 7056, 'AP': 7057, '▁이름으로': 7058, '▁연구원은': 7059, '▁출신으로': 7060, '▁위원장이': 7061, '▁MD': 7062, '▁셰': 7063, '▁화가': 7064, '▁시사': 7065, '▁인정하지': 7066, '▁종교적': 7067, '스텔': 7068, '▁판매량': 7069, '49': 7070, '▁외상': 7071, '▁폰': 7072, '?”': 7073, '▁이슈': 7074, '▁방송에': 7075, '▁건물에': 7076, '▁포기하': 7077, '▁담당자는': 7078, 'oo': 7079, '▁응답': 7080, '받고': 7081, '▁방콕': 7082, '▁중이며': 7083, 'ice': 7084, '▁차지하는': 7085, '▁크다': 7086, '▁필립': 7087, '월드': 7088, '하에': 7089, '▁금리를': 7090, '당시': 7091, '룰': 7092, '수사': 7093, '▁데이비스': 7094, '▁IBM': 7095, '▁국가비상사태': 7096, '▁메릴랜드': 7097, '▁서브프라임': 7098, '▁파파라치': 7099, '눌': 7100, 'FIFA': 7101, '▁국제우주정거장': 7102, '▁바티칸': 7103, '▁깨끗': 7104, '▁주유소': 7105, '▁윈도우': 7106, '▁퇴진': 7107, '▁좌석': 7108, '▁자전거': 7109, '▁야생동물': 7110, '▁행렬': 7111, '▁켈리': 7112, '▁바꿀': 7113, 'time': 7114, '▁데뷔': 7115, '▁국민투표': 7116, '▁긴밀': 7117, '▁인접': 7118, '▁동참': 7119, '▁유괴': 7120, '▁다룬': 7121, '▁설계': 7122, '딸': 7123, '▁재배치': 7124, '▁가택': 7125, '▁서식하': 7126, '▁절약': 7127, '▁단독': 7128, '▁tr': 7129, '▁통행': 7130, '▁위생': 7131, '성근': 7132, '▁어려': 7133, '▁일원': 7134, '▁연임': 7135, '▁추모': 7136, '해지고': 7137, '유엔': 7138, '▁상병': 7139, '▁야구': 7140, '▁2008.12': 7141, 'ail': 7142, '▁무슨': 7143, '▁61': 7144, '▁불교': 7145, '▁우즈': 7146, '▁출장': 7147, '▁일하고': 7148, '▁미성년자': 7149, '본부': 7150, '연승': 7151, '▁진전이': 7152, '벨리': 7153, '31': 7154, '▁IMF': 7155, '▁김치': 7156, '▁절도': 7157, '차원': 7158, '▁권고했다': 7159, '▁노스': 7160, '▁조선': 7161, '▁공개한': 7162, '▁돌아와': 7163, '~2': 7164, '▁공정한': 7165, 'sh': 7166, '▁카리': 7167, '▁미리': 7168, '▁양성': 7169, '▁내정': 7170, '▁반전': 7171, '▁공격한': 7172, '▁방법에': 7173, '▁이뤄': 7174, '▁지나가': 7175, '자이자': 7176, '받은': 7177, '▁전격': 7178, '▁가고': 7179, '▁지구에': 7180, '▁살아있': 7181, '까지도': 7182, '▁고조': 7183, '▁경주': 7184, 'ER': 7185, '▁사라지': 7186, '▁매수': 7187, '북한이': 7188, '▁광부': 7189, '▁휴일': 7190, '스트라': 7191, '▁결정적인': 7192, '마크': 7193, '▁준다': 7194, '▁나치': 7195, '▁동영상에서': 7196, '▁안으로': 7197, '▁수감된': 7198, '▁궁': 7199, '▁폴리': 7200, '▁거부한': 7201, '치료': 7202, '▁여기에': 7203, '▁연구에서': 7204, '▁관객들': 7205, '▁군과': 7206, '▁공무원': 7207, '월에는': 7208, '▁고조되': 7209, '▁탈레반이': 7210, '▁참가한': 7211, '▁얻었': 7212, '▁68': 7213, '▁서쪽': 7214, '▁직접적': 7215, '▁국민의': 7216, '▁업체들': 7217, '▁미국인들은': 7218, '▁네바다': 7219, '▁현상이': 7220, '▁v': 7221, '▁유해': 7222, '혹': 7223, '졸': 7224, '▁믿는다': 7225, '▁아웅산수치': 7226, '▁인명피해': 7227, '▁창기라이': 7228, '▁최우선': 7229, '랩': 7230, '▁선거관리위원회': 7231, '▁세속주의': 7232, '▁모니터': 7233, '▁언덕': 7234, '▁원자력': 7235, '▁아스날': 7236, '▁내무장관': 7237, '▁시티그룹': 7238, '▁AIG': 7239, '▁회계': 7240, '▁앨런': 7241, '▁포셋': 7242, '▁Minister': 7243, '▁돌아갈': 7244, '▁교착': 7245, '▁후임': 7246, '▁담고': 7247, '▁구조작업': 7248, '▁국무총리': 7249, '멜': 7250, '▁산맥': 7251, '▁개막식': 7252, '바라데이': 7253, '▁창설': 7254, '쳤으며': 7255, '▁연말': 7256, '▁역임': 7257, '▁1986': 7258, '▁존스턴': 7259, '▁않습니다': 7260, '▁환율': 7261, '▁의심되는': 7262, '▁심판': 7263, '▁by': 7264, '▁시민권': 7265, '▁던진': 7266, '▁약혼': 7267, '윤': 7268, '환경': 7269, '▁모집': 7270, '▁못했지만': 7271, '▁72': 7272, '▁수컷': 7273, '▁재활용': 7274, '▁파커': 7275, '▁종파': 7276, '▁시골': 7277, '▁던졌다': 7278, '담당': 7279, '투데이': 7280, '▁주거': 7281, '▁활동에': 7282, '▁여러번': 7283, '▁걸렸다': 7284, '▁파월': 7285, '▁전해지': 7286, '▁윌슨': 7287, '▁도난': 7288, '▁정유': 7289, '▁돌아왔다': 7290, '▁적합한': 7291, '팬': 7292, '▁소년이': 7293, '▁리버': 7294, '▁불가능하다': 7295, '▁투표율': 7296, '분경': 7297, '▁진행될': 7298, '▁클': 7299, '▁출전하지': 7300, '▁의견이': 7301, '▁느끼': 7302, '▁불과하다': 7303, '▁산하': 7304, '▁달아': 7305, '▁발견되지': 7306, '▁해석': 7307, '69': 7308, '▁주류': 7309, '▁알라': 7310, '▁납치한': 7311, '▁덜': 7312, '연대': 7313, '▁엑': 7314, '▁관련하여': 7315, '분야': 7316, '▁루니': 7317, '정치': 7318, '▁학생들에게': 7319, '▁하에': 7320, '세포': 7321, '하러': 7322, 'CC': 7323, '▁유물': 7324, '▁54': 7325, '▁지원금': 7326, '83': 7327, '▁찾아내': 7328, '▁피하기': 7329, '▁un': 7330, '▁꽃': 7331, '▁소비자들': 7332, '▁라인': 7333, '▁알바': 7334, '▁전범': 7335, '▁학생이': 7336, '트릭': 7337, '▁계속할': 7338, '▁독재': 7339, '▁교도소에서': 7340, '▁이어지': 7341, '▁간부': 7342, '▁호주에서': 7343, 'res': 7344, '▁진행중': 7345, '▁행동에': 7346, '체제': 7347, '▁취하고': 7348, '사이트': 7349, '쟁': 7350, 'ide': 7351, '▁재무': 7352, 'ial': 7353, '▁거리에서': 7354, '▁포트': 7355, '05': 7356, '▁국회에서': 7357, '▁지속되': 7358, '▁로이': 7359, '▁기각': 7360, '부분': 7361, '▁매력': 7362, '▁위치해': 7363, '정권': 7364, '해서는': 7365, '▁합의에': 7366, '봐': 7367, '▁똑같': 7368, '▁윈프리': 7369, '▁반대하고': 7370, '혜': 7371, '꼬': 7372, '뷰': 7373, '왓': 7374, '▁Seoul': 7375, '▁맞았다': 7376, '▁박격포': 7377, '▁스타벅스': 7378, '▁없애': 7379, '▁찾았다': 7380, '▁토크쇼': 7381, '▁호나우두': 7382, '▁후지모리': 7383, '껏': 7384, '뻐': 7385, '캄': 7386, '▁음주운전': 7387, 'head': 7388, '▁켄터키': 7389, 'WTO': 7390, '▁고유가': 7391, '▁가져올': 7392, '▁포획': 7393, '▁돌아올': 7394, '▁대로': 7395, '▁이들에게': 7396, '▁기획': 7397, '▁자동차업계': 7398, '▁워렌': 7399, '▁가끔': 7400, '▁자발적': 7401, '▁안드레': 7402, '▁참배': 7403, '▁드레스': 7404, '▁결합': 7405, '▁독감': 7406, '▁해안에': 7407, '▁연구결과': 7408, '▁클라크': 7409, '▁설정': 7410, '▁처형': 7411, '▁카라치': 7412, '▁포경선': 7413, '▁로켓포': 7414, '▁예선': 7415, '▁마찰': 7416, '▁매입': 7417, '▁치매': 7418, 'ence': 7419, '▁개헌안': 7420, '▁던져': 7421, '▁방송에서': 7422, '▁밀러': 7423, '▁넣었다': 7424, '빅': 7425, '말리키': 7426, 'FBI': 7427, '▁부결': 7428, '뉴욕': 7429, '시즌': 7430, '▁재배': 7431, '▁피랍된': 7432, '보고서': 7433, '▁의제': 7434, '▁반등': 7435, '▁약탈': 7436, 'ga': 7437, '▁기증': 7438, '▁부속': 7439, '▁전형적': 7440, '▁서브': 7441, '▁소유주': 7442, '▁사살했다': 7443, '▁전체가': 7444, '▁정체': 7445, '▁상사': 7446, '▁해방': 7447, '▁이득': 7448, '마라': 7449, '▁일시적': 7450, '▁줄리': 7451, '▁하거나': 7452, '▁강간': 7453, '▁펄': 7454, '율이': 7455, '몬드': 7456, '▁간에': 7457, '▁내리는': 7458, '▁대비해': 7459, '▁대변': 7460, '▁대우': 7461, '▁재정적': 7462, '▁업무를': 7463, '▁FDA': 7464, '▁명성': 7465, '전략': 7466, '▁재판에서': 7467, '▁죽이': 7468, '▁하비': 7469, '▁정부군과': 7470, '받아': 7471, '▁일단': 7472, '▁초에': 7473, '▁기울': 7474, '▁분석했다': 7475, '▁개성': 7476, '▁배상': 7477, '▁표시했다': 7478, '바리': 7479, '▁주권': 7480, '▁단장': 7481, '▁출신인': 7482, '▁아미': 7483, '▁이적': 7484, '▁국무': 7485, 'be': 7486, '▁선택했다': 7487, '장비': 7488, '학생': 7489, '▁기원': 7490, '▁춤': 7491, '교수': 7492, '43': 7493, '▁결심': 7494, '▁무샤라프는': 7495, '▁세운': 7496, '리오': 7497, '감시': 7498, '▁평화상': 7499, '▁끝내': 7500, '▁수락': 7501, '변화': 7502, '▁크기의': 7503, '▁북부에서': 7504, '이었지만': 7505, '▁병력이': 7506, '▁스토': 7507, '▁파키스탄군': 7508, '▁벌어지': 7509, '▁은행들': 7510, '푸르': 7511, '▁아시아에서': 7512, '▁보유한': 7513, '▁다르': 7514, '▁탈레반측': 7515, '▁못하다': 7516, '▁호텔에': 7517, '▁쪽': 7518, '▁pre': 7519, '▁소유한': 7520, '▁입어': 7521, '구조': 7522, '유지': 7523, '▁맡았': 7524, '▁간주': 7525, '▁위장': 7526, '대책': 7527, '▁뉴저지': 7528, '냥': 7529, '섭': 7530, '덤': 7531, '▁휩쓸': 7532, '프라': 7533, '까요': 7534, '딜': 7535, '팩': 7536, '▁Bush': 7537, '▁러닝메이트': 7538, '▁맨해튼': 7539, '▁애완동물': 7540, '▁유람선': 7541, '▁활성화': 7542, '끔찍한': 7543, '쉐': 7544, '▁비공식': 7545, '▁하버드': 7546, '▁섹시': 7547, '▁라모스': 7548, '▁남아프리카공화국': 7549, '▁기다려': 7550, '▁알제리': 7551, '▁넬슨': 7552, '▁브레이크': 7553, '▁슈퍼볼': 7554, '▁밝혀냈다': 7555, '▁라호르': 7556, 'able': 7557, '▁머레이': 7558, '▁외쳤다': 7559, '▁연령': 7560, '▁아빠': 7561, '▁미셸': 7562, '▁진료': 7563, '▁생명체': 7564, '기때문에': 7565, '▁불안정': 7566, '▁만료': 7567, '▁승점': 7568, '▁사안': 7569, '▁대테러': 7570, '▁케이시': 7571, '▁기념식': 7572, '▁발매': 7573, '▁응원': 7574, '▁교내': 7575, '아버지': 7576, '▁사이버': 7577, '떼': 7578, '착륙': 7579, '▁단식': 7580, '그것은': 7581, '잘': 7582, '▁유행': 7583, '3000': 7584, '▁가르': 7585, '▁사회당': 7586, 'APEC': 7587, '▁특사는': 7588, '▁거친': 7589, '같이': 7590, '▁차지한': 7591, '▁사라진': 7592, '진압': 7593, '▁연구원': 7594, '▁유럽과': 7595, '▁사무': 7596, '▁내지': 7597, '▁공직': 7598, '▁클린턴과': 7599, '▁실패한': 7600, '▁생성': 7601, '▁연대': 7602, '▁화제': 7603, '▁총리직': 7604, '▁있음': 7605, '▁피신': 7606, '▁먼지': 7607, '년형': 7608, '▁버지니아주': 7609, '▁제작자': 7610, '▁이어졌다': 7611, '▁지지자들에게': 7612, '▁리오': 7613, '▁받아들이지': 7614, '▁기분이': 7615, '▁남쪽으로': 7616, '▁소화': 7617, '문서': 7618, '체계': 7619, '▁걸려': 7620, '▁수사관들은': 7621, '▁인도분': 7622, '▁59': 7623, '였고': 7624, '달라': 7625, '▁산소': 7626, '▁예측했다': 7627, '방식': 7628, '었': 7629, '올해': 7630, '▁성분': 7631, '▁지방에서': 7632, '▁69': 7633, '▁템': 7634, '▁수사에': 7635, '▁거래됐다': 7636, '▁그랜드': 7637, '라이브': 7638, '▁약속한': 7639, 'oll': 7640, '▁상자': 7641, '하드': 7642, '▁성명서': 7643, '▁이민자들': 7644, '▁일어나지': 7645, '▁확인하기': 7646, '▁영화에서': 7647, '▁즐기는': 7648, '▁이른': 7649, '▁강타한': 7650, '▁선호': 7651, '▁메리': 7652, '▁Ro': 7653, '▁근처에': 7654, '득': 7655, '▁눈물': 7656, '▁최고위': 7657, '▁느끼는': 7658, '▁폭력사태로': 7659, '▁프랑스에서': 7660, '▁본드': 7661, '78': 7662, 'MS': 7663, '평방': 7664, '건설': 7665, '▁war': 7666, '▁양자': 7667, '▁명단에': 7668, '▁전용': 7669, '▁이라크내': 7670, '자들에': 7671, '▁민간인들': 7672, '▁대안': 7673, 'ise': 7674, '▁비난한': 7675, '▁철수시키': 7676, '그들이': 7677, '▁노대통령은': 7678, '▁취소했다': 7679, '▁소비자들이': 7680, '건물': 7681, '워드': 7682, '37': 7683, '티드': 7684, '▁계속하고': 7685, '▁57': 7686, '▁종이': 7687, '▁가즈니': 7688, '▁재해': 7689, 'da': 7690, '▁문제점': 7691, '▁용납': 7692, '레오': 7693, '▁언급한': 7694, 'ub': 7695, '슐': 7696, '▁신원이': 7697, '겔': 7698, '▁듣지': 7699, '▁디트로이트': 7700, '▁럼스펠드': 7701, '▁스탈린': 7702, '▁억만장자': 7703, '▁최고경영자': 7704, '▁텔레비전': 7705, '▁피츠버그': 7706, '▁헬리콥터': 7707, '닛': 7708, '▁브루니': 7709, '▁딜러': 7710, '▁덴버': 7711, '▁돌아다니': 7712, '▁코카인': 7713, '▁낭비': 7714, '▁티벳': 7715, '▁고등법원': 7716, '2007.09': 7717, '▁텐트': 7718, '▁왜곡': 7719, '▁친환경': 7720, '▁파키스탄에서': 7721, '▁동굴': 7722, '▁복합': 7723, '▁처방': 7724, '▁생겨': 7725, '▁요르단강': 7726, '▁대선주자': 7727, '▁장벽': 7728, '▁다가오': 7729, '▁절감': 7730, 'TA': 7731, '▁구호품': 7732, '▁위축': 7733, '▁바지': 7734, '▁불황': 7735, '▁위협에': 7736, '▁70%': 7737, '▁치른': 7738, '▁유혈': 7739, '▁소총': 7740, '▁출국': 7741, '▁보수당': 7742, '▁목요일에': 7743, '▁사우스': 7744, '▁추천': 7745, '▁휴식': 7746, '▁반환': 7747, '▁느낀다': 7748, '▁유골': 7749, '▁파크': 7750, '실질적인': 7751, '▁하트': 7752, '▁고속': 7753, '▁라울': 7754, 'mb': 7755, '▁아랍에미리트': 7756, '몽': 7757, '▁파편': 7758, '▁배포': 7759, '▁합의문': 7760, '▁첫날': 7761, '아메리칸': 7762, 'con': 7763, '▁개발한': 7764, '유럽': 7765, '▁그들에게': 7766, '클린턴': 7767, '잠': 7768, '▁치를': 7769, '▁없다며': 7770, '▁그곳에서': 7771, '▁비평': 7772, '이라면': 7773, '▁밀어': 7774, '▁수요일에': 7775, '▁호전': 7776, '▁과제': 7777, '건강': 7778, '▁분야에': 7779, '▁중점': 7780, '블리': 7781, '▁유명하다': 7782, '▁명백한': 7783, '▁구타': 7784, '▁아라비아': 7785, '▁아니며': 7786, '여행': 7787, '▁선적': 7788, '▁샤리프는': 7789, '티아': 7790, '▁심화': 7791, '▁제프': 7792, '▁구단': 7793, '▁리비': 7794, '▁이른다': 7795, '▁집회에': 7796, '▁시작될': 7797, '수단': 7798, '▁장성': 7799, '▁군중들': 7800, '▁조직원': 7801, '▁상위': 7802, '▁반미': 7803, '▁중단됐다': 7804, '▁취하지': 7805, '소득': 7806, '▁언론과': 7807, '문화': 7808, '프리': 7809, '사실': 7810, '▁41': 7811, '▁무엇이': 7812, '▁기본적': 7813, '▁전합니다': 7814, '▁페리': 7815, '되도록': 7816, '94': 7817, '▁원주민': 7818, '▁입수한': 7819, '▁편집': 7820, '▁조치로': 7821, '73': 7822, '헤드': 7823, '죄로': 7824, '보드': 7825, '▁복장': 7826, '▁법적으로': 7827, '▁확산되': 7828, '▁통해서': 7829, '▁순례': 7830, '▁투기': 7831, '▁난민들': 7832, 'ick': 7833, '▁남자들': 7834, '▁형태로': 7835, '▁해왔다': 7836, '호프': 7837, '▁원하지': 7838, '▁들어와': 7839, '▁참여했다': 7840, '코트': 7841, '▁그레': 7842, '퍼스': 7843, '베스': 7844, '▁남성과': 7845, '▁An': 7846, '▁선박이': 7847, '▁웨이': 7848, '▁급락': 7849, '▁명백': 7850, '기금': 7851, '라니': 7852, '▁미라': 7853, '▁피고인': 7854, '▁자녀들': 7855, '36': 7856, '▁덧붙': 7857, '▁청소': 7858, '▁종합': 7859, '▁모았다': 7860, '▁버냉키': 7861, '▁스튜디오': 7862, '▁침묵': 7863, '▁끝났다': 7864, '▁브래드': 7865, '▁느껴': 7866, '▁규칙': 7867, '▁take': 7868, '▁유수프': 7869, '▁바하마': 7870, '▁태우고': 7871, '▁부양책': 7872, '▁휴스턴': 7873, '▁스콧': 7874, '▁안토니오': 7875, '▁놀랄': 7876, '▁가혹': 7877, '▁반체제': 7878, '▁국방위원장': 7879, '▁집필': 7880, '▁부활': 7881, '▁새겨': 7882, '▁90%': 7883, '▁금속': 7884, '(2': 7885, '▁CD': 7886, '▁화석': 7887, '▁발생했': 7888, '▁장거리': 7889, '구역': 7890, '▁한달': 7891, '▁쓰는': 7892, '▁보조금': 7893, '▁네바다주': 7894, '▁처분': 7895, '▁대령': 7896, '▁추문': 7897, '▁개설': 7898, '▁피어': 7899, '▁장소에서': 7900, '▁시청자들': 7901, '▁예선전': 7902, '▁지나치': 7903, '옥': 7904, '▁환수': 7905, '▁구경': 7906, '▁선원들': 7907, '▁밝히며': 7908, '▁지질': 7909, '▁아민': 7910, '▁움직임이': 7911, '▁입원했다': 7912, '▁콰': 7913, 'po': 7914, '▁투명': 7915, '▁연이': 7916, '▁봉': 7917, '▁병사들이': 7918, '▁가족들에게': 7919, '▁무산': 7920, '▁나체': 7921, '▁해역': 7922, '▁증언했다': 7923, 'ian': 7924, '▁당일': 7925, '▁공무원들': 7926, '▁제외하고': 7927, '▁생각해': 7928, '터키': 7929, '▁경제학자': 7930, '▁선출된': 7931, '▁CDC': 7932, '아웃': 7933, '▁가기': 7934, '▁탈북자': 7935, '▁측이': 7936, '▁바닥에': 7937, '▁서한': 7938, '▁밝히기': 7939, '▁된다면': 7940, '타스': 7941, '▁같': 7942, '▁착용하': 7943, '나라': 7944, '▁과도': 7945, '비행기': 7946, '▁조씨': 7947, '▁일으키는': 7948, '▁에스': 7949, '▁강화할': 7950, '리나': 7951, '▁부리': 7952, '▁부인하고': 7953, '▁AI': 7954, '▁이송됐다': 7955, '▁배심원': 7956, '▁대답했다': 7957, '▁모두에게': 7958, '▁중반': 7959, '▁명령했다': 7960, '▁확인하고': 7961, '▁대리': 7962, '▁돌입': 7963, '발전': 7964, '08': 7965, '▁축출': 7966, '▁유지할': 7967, '▁대회에': 7968, '▁상원에서': 7969, '▁의자': 7970, '▁47': 7971, '▁롤': 7972, '▁추락한': 7973, '▁재선': 7974, '얼리': 7975, '▁군중': 7976, '리언': 7977, '지오': 7978, '▁경찰청': 7979, '사람': 7980, '예프': 7981, '▁갖기': 7982, '룩': 7983, '▁71': 7984, '이기도': 7985, '중이다': 7986, '▁고수': 7987, '▁부르는': 7988, '▁확인되': 7989, '▁이외': 7990, '▁음료': 7991, '하였으며': 7992, '▁재활': 7993, '▁제작된': 7994, '▁구제금융': 7995, '▁180': 7996, '▁주말에': 7997, '첩': 7998, '셋': 7999, '즘': 8000, '쿨': 8001, '펴': 8002, '▁괜찮': 8003, '▁마이스페이스': 8004, '▁military': 8005, '▁끊임없': 8006, '▁내셔널': 8007, '▁뒷받침': 8008, '▁마케팅': 8009, '▁애틀랜타': 8010, '▁에르도간': 8011, '▁잡았다': 8012, '▁풀려났다': 8013, '▁호날두': 8014, '맘': 8015, '▁기준금리': 8016, '▁브리트니': 8017, '덩어리': 8018, '▁1-0': 8019, '▁퇴역': 8020, '▁좌파': 8021, '▁나눠': 8022, '▁바바라': 8023, '▁신용카드': 8024, '▁요즘': 8025, '▁세인트': 8026, '▁밝혔으나': 8027, '▁무소속': 8028, '▁재판이': 8029, '▁나아가': 8030, '▁화염': 8031, '▁Day': 8032, '▁조짐': 8033, '되었는데': 8034, '▁감바': 8035, '▁코스피': 8036, '▁영광': 8037, '레즈': 8038, '▁돌아온': 8039, '▁월터': 8040, '▁도핑': 8041, '▁170': 8042, '▁소유권': 8043, '▁레이저': 8044, '단체가': 8045, '▁금연': 8046, '▁대기업': 8047, '▁때문입니다': 8048, '▁나와즈': 8049, '▁들어온': 8050, '▁타결': 8051, '▁히트': 8052, '어졌다': 8053, '▁배심원단': 8054, '9000': 8055, '▁급진': 8056, '▁닭': 8057, '리어': 8058, '▁배급': 8059, '▁당연': 8060, '▁교육부': 8061, '▁쉬운': 8062, 'AU': 8063, '▁보좌관들': 8064, '▁석방된': 8065, '공장': 8066, '87': 8067, 'ook': 8068, '▁식수': 8069, '▁주주들': 8070, '▁포위': 8071, '물질': 8072, '67': 8073, '위원장은': 8074, '▁리더': 8075, '▁대폭': 8076, '▁예정되어': 8077, '▁헐': 8078, '▁스카이': 8079, '▁앞선': 8080, '▁장기간': 8081, '▁전시회': 8082, '축구': 8083, '▁저지르': 8084, '▁약품': 8085, '또': 8086, '▁여유': 8087, '▁미치지': 8088, '▁8%': 8089, '▁보호하고': 8090, '▁연방정부': 8091, '▁여아': 8092, '▁복지': 8093, '▁있었기': 8094, '▁클로': 8095, '▁비극': 8096, '관광': 8097, 'are': 8098, '▁민주당원': 8099, '▁참사': 8100, '▁좋아한다': 8101, '▁남기': 8102, '▁구간': 8103, '▁시카고에서': 8104, '▁발달': 8105, '▁mo': 8106, '▁의장이': 8107, '▁사회에': 8108, '▁확신했다': 8109, '▁한다면': 8110, '사람들이': 8111, '▁나간': 8112, '▁회견에서': 8113, '▁슛': 8114, '▁77': 8115, 'ern': 8116, '머리': 8117, '▁반도': 8118, '▁su': 8119, '▁죽었다': 8120, '▁금년': 8121, '▁논의했다': 8122, '▁칼라': 8123, '▁실업': 8124, '▁여사와': 8125, '▁빌리': 8126, '▁독재자': 8127, '▁가자지구에서': 8128, '▁적자': 8129, '▁대원들': 8130, '▁적극': 8131, '업체들': 8132, '▁통신사': 8133, '▁파손됐다': 8134, '▁제공하고': 8135, '▁강화하고': 8136, '▁도주': 8137, '▁중심에': 8138, '타이거': 8139, '▁것이기': 8140, '▁우승자': 8141, '▁추락했다': 8142, '조정': 8143, '▁내리고': 8144, '▁주소': 8145, '▁가족에게': 8146, '▁전쟁에서': 8147, '▁일어나고': 8148, '▁투자자': 8149, '▁개최된': 8150, '민주': 8151, '되었지만': 8152, 'ress': 8153, '▁바닥': 8154, '▁생산하는': 8155, '▁전파': 8156, '▁폭로': 8157, '▁78': 8158, '부족': 8159, '▁재판에': 8160, '▁분쟁이': 8161, '였지만': 8162, '시키며': 8163, '▁다수의': 8164, '▁잃었': 8165, '▁성지': 8166, '세트에서': 8167, '달간': 8168, '▁관광지': 8169, '▁De': 8170, '▁과정에': 8171, '▁사임했다': 8172, '▁줄이는': 8173, '▁러시아와': 8174, '▁AS': 8175, '▁보도한': 8176, '▁공학': 8177, '▁판결에': 8178, '▁열렸': 8179, '▁특이': 8180, '▁요청할': 8181, '▁중계': 8182, '▁확인된': 8183, '▁평양에서': 8184, '통신은': 8185, '▁인정받': 8186, '▁76': 8187, '▁전임': 8188, '▁사람과': 8189, 'Al': 8190, '▁프랑스와': 8191, '끔': 8192, '▁득표': 8193, '옐': 8194, '▁끌려': 8195, '햇': 8196, '▁Show': 8197, '▁가즈프롬': 8198, '▁골든글로브': 8199, '▁떨어질': 8200, '▁베탕쿠르': 8201, '▁시애틀': 8202, '▁썼다': 8203, '▁애니메이션': 8204, '▁엘리베이터': 8205, '▁원자바오': 8206, '▁일으켜': 8207, '▁테러지원국': 8208, '긋': 8209, '렁': 8210, '▁식민지': 8211, '▁아칸소': 8212, '▁캔자스': 8213, '▁되돌아': 8214, '▁맥케인': 8215, '▁혈액': 8216, '▁양키스': 8217, '▁고릴라': 8218, '▁트로피': 8219, '▁북극곰': 8220, '▁인도주의적': 8221, '▁유적지': 8222, '▁크레이그': 8223, '▁멸종위기': 8224, '▁몸값': 8225, '▁숨겨': 8226, 'Con': 8227, '▁기술자': 8228, '▁떠올': 8229, '▁작용': 8230, '▁출범': 8231, '▁적응': 8232, '▁가죽': 8233, '▁차원에서': 8234, '▁1988': 8235, '▁운반': 8236, '▁군사작전': 8237, '▁대략': 8238, '▁개념': 8239, '▁입학': 8240, '▁폭등': 8241, '▁남녀': 8242, '▁저택': 8243, '▁논문': 8244, '▁패리스': 8245, '봐야': 8246, '▁모험': 8247, '▁국회에': 8248, '있거나': 8249, '▁참모': 8250, '▁영감': 8251, '▁베어': 8252, '▁입었으며': 8253, '벨트': 8254, '▁거둔': 8255, '▁탐사선': 8256, '▁농민': 8257, '53': 8258, '▁안된다': 8259, '▁면제': 8260, '▁창조': 8261, '▁편안': 8262, '▁지낸': 8263, '▁설문': 8264, '▁받아들였다': 8265, '▁평소': 8266, '▁때마다': 8267, '▁그곳에': 8268, '▁입력': 8269, '▁신병': 8270, '▁연방준비제도이사회': 8271, '▁1950': 8272, '▁선장': 8273, '▁주장했지만': 8274, '▁분실': 8275, '▁타이어': 8276, '▁관점에서': 8277, '▁겪었다': 8278, '▁알려주': 8279, '▁열려': 8280, '▁여단': 8281, '▁팜': 8282, '▁파문': 8283, '▁가져다': 8284, '▁비치': 8285, '41': 8286, '▁New': 8287, '셰': 8288, '▁여야': 8289, '▁하산': 8290, '▁폴슨': 8291, '아프리카': 8292, '캔': 8293, '▁라파': 8294, '알카에다': 8295, '스페인': 8296, '페이지': 8297, '섹스': 8298, '▁공조': 8299, '▁요청한': 8300, '▁유용': 8301, '▁권위': 8302, '슬러': 8303, '▁자정': 8304, '대부분': 8305, '▁붕괴된': 8306, '주택': 8307, '▁줬다': 8308, '▁dis': 8309, '▁기록하며': 8310, '모어': 8311, '▁원치': 8312, '▁아바': 8313, '▁맹': 8314, '▁싶어한다': 8315, '▁손자': 8316, '▁끄': 8317, '시경': 8318, '▁들어가는': 8319, 'ah': 8320, '▁제공하기': 8321, '해져': 8322, '▁현지경찰': 8323, 'up': 8324, '▁명시': 8325, '▁물었다': 8326, '▁데비': 8327, '▁사용한다': 8328, '▁이해할': 8329, '▁인도네시아에서': 8330, '59': 8331, '▁3%': 8332, '▁필요성을': 8333, 'ba': 8334, '▁성사': 8335, '▁헤이': 8336, '▁미끄러': 8337, '▁유지하기': 8338, '▁남아있': 8339, '▁조국': 8340, '▁작성한': 8341, '▁비만': 8342, '▁주차': 8343, '▁지도자들과': 8344, '교류': 8345, '야당': 8346, '▁국회의원들': 8347, '▁지원하기': 8348, '▁나타난': 8349, '▁추구': 8350, '▁교전이': 8351, '▁나빠': 8352, 'ame': 8353, '▁안나': 8354, '나갈': 8355, '▁친척': 8356, 'day': 8357, '▁요구에': 8358, '▁방문객들': 8359, '▁벌어졌': 8360, 'US': 8361, '▁시위자': 8362, '▁이래로': 8363, '▁부문에서': 8364, '▁연예': 8365, '위원장': 8366, '여성': 8367, '쁜': 8368, '▁중동평화': 8369, '흡': 8370, '▁끝나는': 8371, '멈': 8372, '▁구호물품': 8373, '▁국회의사당': 8374, '▁머리카락': 8375, '▁베어스턴스': 8376, '▁비즈니스': 8377, '▁에스토니아': 8378, '▁티셔츠': 8379, '▁펭귄': 8380, '▁평화협상': 8381, '▁흰색': 8382, '홉': 8383, '▁베이루트': 8384, '▁취득': 8385, '▁have': 8386, '▁다운로드': 8387, '▁그린피스': 8388, '▁니케이': 8389, '▁추산했다': 8390, '▁착취': 8391, '▁오렌지': 8392, '▁대한민국': 8393, 'WFP': 8394, '▁원문기사': 8395, '▁2008.11': 8396, '▁간호사': 8397, '▁덕분에': 8398, '2007.07': 8399, '▁소탕작전': 8400, '▁맥도날드': 8401, '2007.08': 8402, '▁바꿔': 8403, '▁마사지': 8404, '▁칭찬': 8405, '2006.02': 8406, '▁진흙': 8407, '▁동유럽': 8408, '▁오늘밤': 8409, '2006.05': 8410, '▁에디': 8411, '2007.11': 8412, '▁troops': 8413, '▁같습니다': 8414, '▁발효': 8415, '▁회부': 8416, '▁기리': 8417, '▁명칭': 8418, '▁역설': 8419, '▁하얀': 8420, '▁플로': 8421, '2006.10': 8422, '▁근교': 8423, '▁금융시장': 8424, '▁보호하는': 8425, '▁아이돌': 8426, '▁볼튼': 8427, '▁모르겠다': 8428, '▁탈레반과': 8429, '▁기습': 8430, '▁받았지만': 8431, '▁현행': 8432, '돌프': 8433, '▁상반기': 8434, '▁마침': 8435, '▁인체': 8436, '▁다이애나비': 8437, '▁죄수': 8438, '▁영원': 8439, '▁테마': 8440, '▁포도': 8441, '▁미셀': 8442, '▁코피': 8443, '▁조속': 8444, '▁묘지': 8445, '▁복수': 8446, '▁뒤집': 8447, '▁제프리': 8448, '▁인기가': 8449, '▁예보': 8450, '▁느꼈다': 8451, '▁예상보다': 8452, '▁참여하지': 8453, '▁인정한': 8454, '▁알렌': 8455, '▁죽어': 8456, '▁격리': 8457, '▁참석해': 8458, '23': 8459, '▁이룩': 8460, '▁시판': 8461, '▁호화': 8462, '더미': 8463, '▁부유': 8464, '▁적십자사': 8465, '▁참여하는': 8466, '▁채권': 8467, '▁확실하지': 8468, '▁시달리고': 8469, '▁제압': 8470, '굴': 8471, '▁기권': 8472, '▁제방': 8473, '▁결의안에': 8474, '▁선고받': 8475, '▁비유': 8476, '털': 8477, '▁줄여': 8478, '▁출연해': 8479, '▁투표할': 8480, '▁과시': 8481, '▁전대통령': 8482, '▁괴한': 8483, '▁폭격기': 8484, '▁올리고': 8485, '▁중령': 8486, '▁전염': 8487, '▁지문': 8488, '▁불화': 8489, '▁경제학자들': 8490, '▁2,000': 8491, '▁거주지': 8492, '▁주최측은': 8493, '줬': 8494, 'ext': 8495, '▁자크': 8496, '▁이어질': 8497, '배우': 8498, '▁실어': 8499, '▁감시단': 8500, '▁제약': 8501, '니까': 8502, '▁실력': 8503, '▁청년': 8504, '▁OPEC': 8505, '▁불평': 8506, '▁머리에': 8507, '▁15%': 8508, '▁오프라': 8509, '▁드립니다': 8510, '▁정치적으로': 8511, '적이며': 8512, '▁성전': 8513, 'NU': 8514, '▁속한': 8515, '92': 8516, '▁관리자': 8517, '▁당국과': 8518, '▁정신과': 8519, '▁김씨': 8520, '▁사제': 8521, '▁행사에서': 8522, '▁심사': 8523, '놓고': 8524, '▁건수': 8525, '스틴': 8526, '▁선언한': 8527, '구간': 8528, '하르': 8529, 'En': 8530, '략': 8531, '▁회원들': 8532, '버릴': 8533, '▁어머니와': 8534, '리틀': 8535, '▁클리': 8536, '▁장기적': 8537, '▁검토하': 8538, '무라': 8539, '▁자라': 8540, '▁유니': 8541, 'ile': 8542, '▁지구에서': 8543, '▁중단하고': 8544, '▁몽': 8545, '회의에서': 8546, 'act': 8547, '▁To': 8548, '▁미시간': 8549, '▁아기들': 8550, 'part': 8551, '베라': 8552, '▁전설': 8553, '▁참석하기': 8554, '융': 8555, '쁘': 8556, '스트리트': 8557, '▁AFP': 8558, '▁Secretary': 8559, '▁로스앤젤레스': 8560, '▁맞붙': 8561, '▁모가디슈': 8562, '▁뮌헨': 8563, '▁불렀다': 8564, '▁브리티시': 8565, '▁상관없이': 8566, '▁오케스트라': 8567, '▁유니세프': 8568, '▁이르기까지': 8569, '▁이르렀다': 8570, '▁재확인': 8571, '▁정해지지': 8572, '▁칸다하르': 8573, '▁트라볼타': 8574, '▁항생제': 8575, '▁황우석': 8576, '쉴': 8577, '잎': 8578, '▁매머드': 8579, '▁무너져': 8580, '▁집무실': 8581, '▁가속화': 8582, '▁어두운': 8583, '▁되풀이': 8584, '▁유조선': 8585, '▁크로커': 8586, '▁대주교': 8587, '마누엘': 8588, '▁중산층': 8589, '▁국가주석': 8590, '▁세비야': 8591, '▁흐름': 8592, '▁침범': 8593, '▁브루스': 8594, '▁풀려': 8595, '사령부': 8596, '▁효력': 8597, '▁잔혹': 8598, '▁히드로': 8599, '(25)': 8600, '▁면접': 8601, '▁벌어들': 8602, '▁캐롤': 8603, '▁공군기지': 8604, '▁아마존': 8605, '▁1981': 8606, '▁다행히': 8607, '▁밤새': 8608, '▁풍선': 8609, '▁피닉스호': 8610, '▁사용하기': 8611, '▁1/4': 8612, '▁라이프': 8613, '▁2011': 8614, '▁가축': 8615, '▁다녀': 8616, '▁감량': 8617, '▁계열사': 8618, '공항': 8619, '▁요새': 8620, '▁난동': 8621, '▁없었던': 8622, '▁가결': 8623, '▁패한': 8624, '▁미치': 8625, '▁제패': 8626, '▁놓여': 8627, '▁개최되': 8628, '▁정치범': 8629, '▁인계': 8630, '▁줄이고': 8631, '▁레이더': 8632, '▁폐기물': 8633, '▁우리베': 8634, '▁정상회의': 8635, '▁소란': 8636, '▁프린스': 8637, '▁정교': 8638, '▁지니': 8639, '시켜야': 8640, '▁크로아티아': 8641, '학자들': 8642, '▁천문학자들': 8643, '▁입구': 8644, 'Po': 8645, '▁염려': 8646, '▁페르': 8647, '▁감원': 8648, '▁열정': 8649, '▁비전': 8650, '▁가한': 8651, '방안': 8652, '▁서약': 8653, '▁전송': 8654, '▁제공해': 8655, '▁나란': 8656, '렌스': 8657, '▁걸었다': 8658, '▁노동부': 8659, '▁방치': 8660, '▁의원들에게': 8661, '▁버전': 8662, '▁연방수사국': 8663, '▁채우': 8664, '▁정오': 8665, 'FARC': 8666, '▁초래': 8667, '▁BDA': 8668, '검찰': 8669, '▁부상자들': 8670, '▁1200': 8671, '개혁': 8672, '▁시계': 8673, '▁개인적으로': 8674, '▁경찰에따르면': 8675, '있으며': 8676, 'ber': 8677, '▁대조': 8678, '주민들': 8679, '▁확보했다': 8680, '▁똑': 8681, '▁성공회': 8682, '▁국정': 8683, '▁한쪽': 8684, '▁넣어': 8685, '▁공부': 8686, '주기': 8687, '▁말하면서': 8688, '▁닐': 8689, '▁본국': 8690, '▁81': 8691, '▁경기도': 8692, '▁팔려': 8693, '▁덕': 8694, '▁선정됐다': 8695, '▁서명했다': 8696, '▁조사하기': 8697, '사람들은': 8698, '▁출전한': 8699, '▁기소했다': 8700, '투어': 8701, '▁신도': 8702, '▁프레드': 8703, '▁허위': 8704, '▁장악하': 8705, 'air': 8706, '그린': 8707, '▁위협했다': 8708, '▁63': 8709, '▁do': 8710, '▁바다로': 8711, '▁총격으로': 8712, '▁수만명': 8713, '▁고려해': 8714, '▁모스크바에서': 8715, '▁증진': 8716, 'sk': 8717, '▁Be': 8718, '▁동맹국들': 8719, '전문': 8720, '▁가정에': 8721, 'NA': 8722, '군데': 8723, '▁증인': 8724, '▁제트': 8725, '▁정보국': 8726, '▁주교': 8727, '=': 8728, '09': 8729, '▁당국자': 8730, '▁동해': 8731, '▁해외에서': 8732, 'low': 8733, '▁차관보': 8734, '▁가서': 8735, '▁관계자들과': 8736, '▁아내와': 8737, '▁시점에서': 8738, '▁미소': 8739, '▁효율적': 8740, '▁단계에': 8741, '▁탈출했다': 8742, '파크': 8743, '▁금지하고': 8744, '▁학생들과': 8745, '▁공격수': 8746, '▁ex': 8747, '▁지지도': 8748, '▁기자들이': 8749, '▁사진들': 8750, '▁For': 8751, 'ore': 8752, '▁지수가': 8753, '33': 8754, 'ust': 8755, '시까지': 8756, '▁캔': 8757, '▁보내기': 8758, '▁참가했다': 8759, '▁주인이': 8760, '▁지지율이': 8761, '▁힐튼이': 8762, '여부': 8763, '학년': 8764, '▁우드': 8765, '▁판결했다': 8766, '▁불가피': 8767, '▁라이브': 8768, '▁밝혔었': 8769, '▁등급': 8770, '▁자바': 8771, '▁혼란에': 8772, '▁Foreign': 8773, '▁광우병': 8774, '▁글래스고': 8775, '▁상파울루': 8776, '▁싶었': 8777, '▁야스쿠니': 8778, '▁양육권': 8779, '▁왕복선': 8780, '▁우주정거장': 8781, '▁좋게': 8782, '▁카자흐스탄': 8783, '▁커뮤니티': 8784, '킴': 8785, 'down': 8786, '▁수퍼대의원': 8787, '▁스튜어트': 8788, '▁인종차별': 8789, '윗': 8790, '▁당나귀': 8791, '▁몸무게': 8792, '▁무너진': 8793, '▁부작용': 8794, '▁예언자': 8795, '▁마라도나': 8796, '▁침투': 8797, '▁카지노': 8798, '인디아나': 8799, '▁닉슨': 8800, '▁교과서': 8801, '▁모로코': 8802, '▁쇼핑몰': 8803, '▁동북아': 8804, '▁회색': 8805, '▁State': 8806, '▁침수': 8807, '▁수비수': 8808, '▁힌두교': 8809, '▁있었는지': 8810, '▁회피': 8811, '▁연휴': 8812, '▁쿠르드족': 8813, '▁높아졌다': 8814, '▁농담': 8815, '▁풍경': 8816, '▁필리스': 8817, '▁호킹': 8818, '▁가려': 8819, '▁활기': 8820, 'ISS': 8821, '▁임박': 8822, '▁연극': 8823, '▁유효': 8824, '▁워너': 8825, '줘야': 8826, '▁오픈에서': 8827, '▁하더라도': 8828, '▁버튼': 8829, '▁할아버지': 8830, '▁재벌': 8831, '▁헌신': 8832, '▁종양': 8833, '▁토양': 8834, '▁번지': 8835, '▁지닌': 8836, '▁추출': 8837, '해졌': 8838, '▁극단주의자들': 8839, '▁지속될': 8840, '▁기름': 8841, '▁후퇴': 8842, '▁준결승전': 8843, '▁차림': 8844, '▁구단주': 8845, '▁조종': 8846, '▁부른': 8847, '▁복사': 8848, '스럽다': 8849, '▁이례적': 8850, '▁책정': 8851, '▁일축했다': 8852, '▁면적': 8853, '▁유예': 8854, '아이들': 8855, '▁소식통들': 8856, '코스': 8857, '▁교량': 8858, '▁강연': 8859, '▁문신': 8860, '74': 8861, '▁일상적': 8862, '▁감면': 8863, '▁구형': 8864, '▁확실하다': 8865, '▁재발': 8866, '▁협상단': 8867, '▁도와주': 8868, '▁포기했다': 8869, '내려': 8870, 'ever': 8871, '▁소방관': 8872, '▁동전': 8873, '국가들': 8874, '▁지키기': 8875, '▁특별히': 8876, '▁수십억': 8877, '▁900': 8878, '시민': 8879, '▁파손되': 8880, '▁변호사들': 8881, '느냐': 8882, '▁Mo': 8883, '▁설치된': 8884, 'line': 8885, '만여': 8886, '▁누르고': 8887, '빛': 8888, '핀': 8889, '죽': 8890, 'UEFA': 8891, 'CIA': 8892, '▁녹화': 8893, '▁집어': 8894, '언론': 8895, '▁말하지': 8896, '▁보낸다': 8897, '▁수용할': 8898, '▁취임한': 8899, '▁통일': 8900, '42': 8901, '▁꺼': 8902, '잡지': 8903, '▁2009.01': 8904, '역대': 8905, '▁시작되는': 8906, '▁벌어지고': 8907, '연구원': 8908, '▁추진하고': 8909, '▁장려': 8910, '▁돌리': 8911, '시키는데': 8912, '▁기적': 8913, 'NS': 8914, '▁군부대': 8915, '▁여자아이': 8916, '▁시작되었다': 8917, '▁향했다': 8918, '노프': 8919, '지도자': 8920, '▁물리치': 8921, '그러': 8922, '▁발리': 8923, '데르': 8924, '▁크고': 8925, '▁포함된다': 8926, '▁해명': 8927, '▁연기했다': 8928, '▁이베이': 8929, '▁군복': 8930, '일째': 8931, '▁표현했다': 8932, '해진다': 8933, '▁무장대원들': 8934, '전문가': 8935, '▁학위': 8936, '▁엠': 8937, '▁북부지역': 8938, '▁과장': 8939, '81': 8940, '▁호위': 8941, '▁경찰서에': 8942, '▁구상': 8943, '▁세관': 8944, '▁반지': 8945, '▁문자': 8946, '있던': 8947, 'OS': 8948, '▁확인해': 8949, '▁비교해': 8950, 'ese': 8951, '▁아이들에게': 8952, '▁시상식에서': 8953, '▁독자': 8954, 'son': 8955, '▁측면': 8956, '▁취소됐다': 8957, '▁인명': 8958, '▁아사': 8959, '▁중상': 8960, '▁산악': 8961, '▁구하기': 8962, '▁가할': 8963, '▁74': 8964, '▁의혹에': 8965, '▁보호할': 8966, '▁펜실베니아': 8967, '▁지냈': 8968, '▁파악하': 8969, '▁감옥에': 8970, '차관': 8971, '▁루이지애나': 8972, '▁선거전': 8973, '▁매사추세츠': 8974, '사단': 8975, '▁시위대와': 8976, '▁승자': 8977, '줘': 8978, '샬': 8979, '▁가난': 8980, '멍': 8981, '삭': 8982, '덩': 8983, '▁세계보건기구': 8984, '텍': 8985, '&#8226;': 8986, '▁Party': 8987, '▁뉴캐슬': 8988, '▁동계올림픽': 8989, '▁매코맥': 8990, '▁맥코맥': 8991, '▁미드필더': 8992, '▁악영향': 8993, '▁알았다': 8994, '▁암스트롱': 8995, '▁종신형': 8996, '▁촛불': 8997, '▁친선경기': 8998, '▁포괄적': 8999, '넥': 9000, '랫': 9001, '▁protest': 9002, '▁도널드': 9003, '▁빠뜨': 9004, '엽': 9005, '▁아스널': 9006, '▁제니퍼': 9007, '▁총기난사': 9008, 'PML': 9009, '▁바쿠바': 9010, '▁흥행': 9011, '▁안락사': 9012, '▁3-0': 9013, '▁election': 9014, '▁린제이': 9015, '▁크라우': 9016, '▁여파로': 9017, '▁치솟': 9018, '▁꼬리': 9019, '▁중서부': 9020, '▁속옷': 9021, '▁퇴장': 9022, '2006.06': 9023, '▁취약': 9024, '▁기후변화': 9025, '▁수하물': 9026, '▁계곡': 9027, '▁둘째': 9028, '2008.06': 9029, '▁여배우': 9030, '▁Kim': 9031, '▁환경보호': 9032, '▁대피령': 9033, '▁청소년들': 9034, '▁뒤따': 9035, 'ncy': 9036, '▁허블': 9037, '▁면역': 9038, '▁몰래': 9039, '▁정보기관': 9040, '2006.12': 9041, '▁받았으나': 9042, '▁연방법원': 9043, '▁만찬': 9044, '▁불안감': 9045, '▁품질': 9046, '▁가르치': 9047, '▁복권': 9048, '▁성행위': 9049, '▁맹세': 9050, '▁국가안보': 9051, '▁아끼': 9052, '▁아닐': 9053, '▁존드로': 9054, '▁윤리': 9055, '▁피셔': 9056, '▁해킹': 9057, '▁외교관계': 9058, '▁승객들이': 9059, '▁배제하지': 9060, '▁격려': 9061, '▁USA': 9062, '▁내장': 9063, '▁식물': 9064, '▁공백': 9065, '▁산악지역': 9066, '▁교토': 9067, '▁과실': 9068, '▁모욕': 9069, '▁코너': 9070, '기위해': 9071, '▁둔화': 9072, '▁돌보': 9073, '▁후보들은': 9074, '▁불행': 9075, '▁버진': 9076, '▁성경': 9077, '▁대학살': 9078, '▁일반적인': 9079, '▁남미': 9080, '▁붐': 9081, '▁산타클로스': 9082, '▁결장': 9083, '▁들었': 9084, '▁생겼다': 9085, '▁요트': 9086, '▁아카데미상': 9087, '르트': 9088, '▁생존자들': 9089, '▁아이티': 9090, '사이드': 9091, '▁혼다': 9092, '▁말했지만': 9093, '▁운하': 9094, '▁아이들과': 9095, '▁홀리': 9096, 'DR': 9097, '▁여기서': 9098, '▁leader': 9099, '밤': 9100, '▁장악한': 9101, '▁Center': 9102, '▁포기하지': 9103, 'FRB': 9104, '▁사정': 9105, '▁빗': 9106, '책임자': 9107, '▁숨기': 9108, '▁기반으로': 9109, '2008': 9110, '▁리서치': 9111, '등급': 9112, '▁부장관': 9113, '▁단서': 9114, '▁현안': 9115, '폭력': 9116, '▁부진': 9117, '▁짜': 9118, '▁만나기': 9119, '재판': 9120, '▁효율': 9121, '비행': 9122, '▁칼로': 9123, '▁67': 9124, '▁25%': 9125, '▁캐리': 9126, '▁연예인': 9127, '모두': 9128, '▁끈': 9129, '▁저널': 9130, '▁관료': 9131, '▁강진': 9132, '▁comm': 9133, '▁당국자는': 9134, '▁환영했다': 9135, '▁있었': 9136, 'imp': 9137, '▁350': 9138, '▁피의자': 9139, '밀리에': 9140, '병력': 9141, '▁동부지역': 9142, '▁시작해': 9143, '▁유입': 9144, '▁어린이들이': 9145, '▁광부들': 9146, 'AT': 9147, '▁손님': 9148, '▁있었을': 9149, '▁지연되': 9150, '새로': 9151, '▁듯한': 9152, '역사': 9153, '▁Sa': 9154, '버렸': 9155, '▁중단시키': 9156, 'ors': 9157, '00': 9158, '프린': 9159, '▁유세에서': 9160, 'the': 9161, '카트': 9162, '▁공세': 9163, '▁반대했다': 9164, '▁새해': 9165, 'ney': 9166, '▁공산': 9167, '▁주지사와': 9168, '▁일으켰': 9169, '▁얼음이': 9170, '▁du': 9171, '▁장소로': 9172, '▁남편과': 9173, '▁추정되': 9174, '▁들리': 9175, '▁호흡': 9176, '겠': 9177, 'tic': 9178, '▁국정원': 9179, '▁경영자': 9180, '▁불확실': 9181, '▁움직임에': 9182, '워진': 9183, '▁부근에': 9184, '픈': 9185, '▁제공한다': 9186, '▁조사단': 9187, '뒀': 9188, '얄': 9189, '흙': 9190, '▁유럽축구연맹': 9191, '7,000': 9192, '•': 9193, '▁House': 9194, '▁같았다': 9195, '▁모하마드': 9196, '▁미네소타': 9197, '▁사형집행': 9198, '▁생중계': 9199, '▁슈워제네거': 9200, '▁승용차': 9201, '▁않았을': 9202, '▁오키나와': 9203, '▁재정경제부': 9204, '▁침팬지': 9205, '▁클루니': 9206, '▁터미널': 9207, '▁퍼트레이어스': 9208, '▁펼칠': 9209, '▁피추시킨': 9210, '▶': 9211, '헴': 9212, '▁냄새': 9213, '뻔': 9214, '팍': 9215, '▁호르몬': 9216, '▁깃발': 9217, '▁뉴욕타임스': 9218, '▁북동쪽': 9219, '▁페이스북': 9220, 'NEW': 9221, '▁갤런당': 9222, '▁영부인': 9223, '▁지중해': 9224, '▁냉전': 9225, '▁염두': 9226, '▁북서쪽': 9227, '(32)': 9228, '▁앗아': 9229, 'back': 9230, '▁미망인': 9231, '▁방사능': 9232, '▁무하메드': 9233, '▁흐르': 9234, '▁노왁': 9235, '▁타이완': 9236, '2006.07': 9237, '▁패널': 9238, '▁면밀': 9239, '▁say': 9240, '▁알자와히리': 9241, '▁공략': 9242, '▁메이저': 9243, '▁녹색': 9244, '▁조셉': 9245, '▁나쁘': 9246, '▁완공': 9247, '2007.10': 9248, '▁페리노': 9249, '▁준장은': 9250, '▁밀림': 9251, '▁왔습니다': 9252, '▁라틴': 9253, '▁요격': 9254, '▁교황청': 9255, '▁항복': 9256, '리프': 9257, '▁주치의': 9258, '▁건립': 9259, '▁강사': 9260, '▁787': 9261, '▁적대적': 9262, '▁제라드': 9263, '▁토론토': 9264, '▁변함': 9265, '▁행방': 9266, '브리지': 9267, '▁세균': 9268, '▁총알': 9269, '▁타입': 9270, '놨다': 9271, '▁어디서': 9272, '▁어려워': 9273, '▁2005.1': 9274, '▁베스트': 9275, '▁발목': 9276, '▁크리스티나': 9277, '▁이루어': 9278, '▁병역': 9279, '▁중단하라': 9280, '▁비준': 9281, '▁우연': 9282, '▁후보에게': 9283, '▁탄약': 9284, '▁사법부': 9285, '▁대피소': 9286, '▁지속된': 9287, '▁보상금': 9288, '단지': 9289, '▁정통': 9290, '▁미하': 9291, '▁통역': 9292, 'fire': 9293, '▁진행됐다': 9294, '▁근무하': 9295, '비오': 9296, 'ner': 9297, '▁순찰대': 9298, '▁제트기': 9299, '▁유포': 9300, '▁그럼': 9301, '▁임명된': 9302, '▁off': 9303, '▁누드': 9304, '▁자리잡고': 9305, '▁무장괴한': 9306, '▁빵': 9307, '▁갖는다': 9308, '▁않자': 9309, '▁무시하고': 9310, '▁하나이다': 9311, '▁신고했다': 9312, '왔지만': 9313, '▁그라운드': 9314, '▁임원': 9315, '07': 9316, '▁팬들에게': 9317, '▁110': 9318, '▁그쳤다': 9319, '자회담에서': 9320, '▁페레': 9321, '▁군용': 9322, '▁기내': 9323, '▁발부': 9324, '▁고마': 9325, '▁싶어하': 9326, '▁전례': 9327, '▁확인하는': 9328, '▁상승으로': 9329, '▁로라': 9330, '▁사회주의': 9331, '▁자선': 9332, '짐': 9333, '▁카페인': 9334, 'ease': 9335, 'NATO': 9336, '쥐': 9337, '미얀마': 9338, '▁기자들과': 9339, '민족': 9340, '학회': 9341, '▁광대': 9342, '▁신비': 9343, '▁집안': 9344, '▁Pa': 9345, '프레스': 9346, '아시아': 9347, '▁고고학자들': 9348, '요원들': 9349, '증권': 9350, '▁든다': 9351, '▁광장에': 9352, '▁IT': 9353, 'ling': 9354, '▁미친': 9355, '▁피해지역': 9356, '▁장관들': 9357, '▁수행한': 9358, '▁지표': 9359, '▁불안한': 9360, '▁지역이다': 9361, '▁go': 9362, 'ator': 9363, '▁묘': 9364, '32': 9365, 'red': 9366, '▁금지하는': 9367, 'ther': 9368, '▁관중': 9369, '법에따라': 9370, '▁목격한': 9371, '제작': 9372, '그녀는': 9373, '▁시작되': 9374, '34': 9375, '▁반대한다': 9376, '▁국가들과': 9377, '처리': 9378, '▁공원에서': 9379, 'AS': 9380, '▁전설적': 9381, '▁제조사': 9382, '네트': 9383, '▁가하고': 9384, '▁다운': 9385, '만여명': 9386, '▁관광객들은': 9387, '▁KT': 9388, '▁걸려있': 9389, '▁부탁': 9390, '▁박탈': 9391, '▁적합': 9392, '라트': 9393, '▁소유자': 9394, '▁물리': 9395, '천억': 9396, '▁피닉스': 9397, '▁줄기': 9398, '엇': 9399, '▁갑작스': 9400, '딴': 9401, '▁2-0': 9402, '어지고': 9403, '뮤': 9404, 'International': 9405, '▁200806.0': 9406, '▁그루지아': 9407, '▁그루지야': 9408, '▁만장일치': 9409, '▁메사추세츠': 9410, '▁박테리아': 9411, '▁벨몬트': 9412, '▁보았다': 9413, '▁블룸버그': 9414, '▁이스탄불': 9415, '▁캥거루': 9416, '▁케르비엘': 9417, '▁탈라바니': 9418, '▁프로듀서': 9419, '둬': 9420, '▁work': 9421, '▁남았다': 9422, '▁넘어섰다': 9423, '▁놀랐다': 9424, '▁마흐무드': 9425, '▁스피처': 9426, '▁오징어': 9427, '▁캠벨': 9428, '▁클리블랜드': 9429, '띠': 9430, '믹': 9431, '셈': 9432, '▁겁니다': 9433, '▁김계관': 9434, '▁앙겔': 9435, '▁피아노': 9436, '▁실업수당': 9437, '▁비영리': 9438, '▁셰이크': 9439, '▁year': 9440, '▁닥터': 9441, '▁셔츠': 9442, '▁자서전': 9443, '▁다뤄': 9444, '▁월드시리즈': 9445, '▁뉴멕시코': 9446, '▁습관': 9447, '▁흡수': 9448, '▁하리리': 9449, '▁김선일': 9450, '2007.05': 9451, '▁빨간색': 9452, '▁구조조정': 9453, '▁전염병': 9454, '▁무엇인지': 9455, '▁디스커버리호': 9456, '▁심사위원': 9457, '▁압승': 9458, '▁불쾌': 9459, '▁후계자': 9460, '▁두뇌': 9461, '▁간섭': 9462, '▁재미': 9463, '▁다짐': 9464, '▁평결': 9465, '▁국영방송': 9466, '▁모르지만': 9467, '▁영입': 9468, '▁평범': 9469, '▁꽤': 9470, '▁격추': 9471, '▁선데이': 9472, '▁사마라': 9473, '▁올랐으며': 9474, '▁데니스': 9475, '▁결백': 9476, '▁악재': 9477, '▁벌금형': 9478, '▁감추': 9479, '▁LG': 9480, '▁안겨': 9481, '▁담겨있다': 9482, '▁장관급': 9483, '▁참전': 9484, '▁곡물': 9485, '▁생각합니다': 9486, '▁국토': 9487, '▁분출': 9488, '▁번역': 9489, '▁외출': 9490, '▁육상': 9491, '▁악화될': 9492, '▁독점': 9493, '▁공개되지': 9494, '▁주어진': 9495, '▁위치하': 9496, '▁것이냐': 9497, '▁지침': 9498, '▁걸프': 9499, '▁공통': 9500, '▁서버': 9501, '▁십대': 9502, '▁면에서': 9503, '▁초래할': 9504, '▁불가피하다': 9505, '▁소감': 9506, '▁아버지와': 9507, '▁기초': 9508, '▁편집자': 9509, '천억원': 9510, '▁부인과': 9511, '▁이용하여': 9512, '▁공방': 9513, '▁벽에': 9514, '▁잠재': 9515, '▁안건': 9516, '▁안심': 9517, '하려면': 9518, '▁사무실에서': 9519, '▁인적': 9520, '▁주당': 9521, '▁개조': 9522, 'ting': 9523, '▁장착된': 9524, '▁상정': 9525, '연료': 9526, '▁과도한': 9527, '▁비방': 9528, '▁조카': 9529, '▁리타': 9530, '▁파견된': 9531, '호르': 9532, '▁발생했던': 9533, '▁암살된': 9534, '부문': 9535, '총리는': 9536, '▁지목했다': 9537, '▁콩': 9538, '일만에': 9539, '▁상태였다': 9540, '▁납치됐다': 9541, '▁들어있는': 9542, '▁놓았다': 9543, '▁도쿄에서': 9544, '▁상아': 9545, '▁샘': 9546, '꾸': 9547, '헬': 9548, '묘': 9549, '▁환영한다': 9550, '경기장': 9551, '탐': 9552, '회장': 9553, '미사일': 9554, '처음': 9555, '▁유아': 9556, '레이트': 9557, '▁사원에서': 9558, '▁보여주기': 9559, '▁오해': 9560, '장애': 9561, '▁고려할': 9562, '▁칩': 9563, '대사관': 9564, '▁폐쇄했다': 9565, '▁경제학': 9566, '▁맡아': 9567, '▁교회에서': 9568, '▁양상': 9569, '▁이겨': 9570, '▁모르고': 9571, '▁여진이': 9572, '리노': 9573, '▁관해서': 9574, '▁것이지만': 9575, 'tions': 9576, '▁유지하는': 9577, '빌리': 9578, '▁분리주의': 9579, '▁이사는': 9580, '▁국민에게': 9581, '▁이탈': 9582, '▁예비선거': 9583, '▁그때': 9584, '과정에서': 9585, '▁떨어지는': 9586, '▁웹사이트에서': 9587, '▁개최지': 9588, '▁전략적': 9589, '▁목소리로': 9590, 'La': 9591, '▁단기': 9592, '▁대장': 9593, '▁실직': 9594, '▁핀': 9595, '졌지만': 9596, '용의자': 9597, '▁공개할': 9598, '▁진행할': 9599, '▁안되': 9600, '▁시리아와': 9601, '버거': 9602, '▁녹아': 9603, '▁치명적': 9604, '▁펼쳤': 9605, '실적': 9606, '반군': 9607, '총리': 9608, '▁통상': 9609, '▁당장': 9610, '순위': 9611, '둑': 9612, '렬': 9613, '쇠': 9614, '4,000': 9615, '▁YORK': 9616, '▁first': 9617, '▁과테말라': 9618, '▁구스마오': 9619, '▁높였다': 9620, '▁늘어났다': 9621, '▁댈러스': 9622, '▁돌아갔다': 9623, '▁알렉산드': 9624, '▁애틀란타': 9625, '▁여동생': 9626, '▁인플루엔자': 9627, '▁자메이카': 9628, '▁조선중앙통신': 9629, '겹': 9630, '▁Court': 9631, '▁나타낸': 9632, '▁따돌리': 9633, '▁세실리아': 9634, '▁수하르토': 9635, '▁에탄올': 9636, '▁열렬한': 9637, '▁정동영': 9638, '무장혁명군': 9639, '▁agree': 9640, '▁토마토': 9641, '▁뉴욕증시': 9642, '▁애쓰고': 9643, '▁좌익': 9644, '▁비공개': 9645, '▁검찰총장': 9646, '▁냉동': 9647, '▁검출': 9648, '▁이벤트': 9649, '▁하반기': 9650, '▁러셀': 9651, '(23)': 9652, '▁터뜨': 9653, '▁결렬': 9654, '▁ETA': 9655, '▁머무': 9656, '▁논의하고': 9657, '▁열쇠': 9658, '▁과잉': 9659, '▁코미디언': 9660, '2006.09': 9661, '▁호주오픈': 9662, '▁태양열': 9663, '▁블록': 9664, '▁혼합': 9665, '▁석상': 9666, '▁레논': 9667, '▁펠리': 9668, '▁노리에가': 9669, '▁연합뉴스': 9670, '▁메뉴': 9671, '▁뜨거': 9672, '▁워커': 9673, '▁유혹': 9674, '▁설교': 9675, '▁계층': 9676, '▁글렌': 9677, '▁이른바': 9678, '▁삼림': 9679, '▁밀집': 9680, '▁영예': 9681, '▁머피': 9682, '▁사진기자': 9683, '▁규명': 9684, '▁광경': 9685, '▁매춘부': 9686, '▁바퀴': 9687, '▁제이미': 9688, '▁지폐': 9689, '▁80%': 9690, '▁메달': 9691, '▁방북': 9692, '실장': 9693, '▁도왔다': 9694, '▁고백': 9695, '▁감옥': 9696, '▁SK': 9697, '▁격분': 9698, '▁맡게': 9699, '▁시술': 9700, '▁악성': 9701, '▁농구': 9702, '▁올릴': 9703, '▁부각': 9704, '▁자매': 9705, '▁자유당': 9706, '▁야간': 9707, '▁오락': 9708, '▁국면': 9709, '▁장난': 9710, '▁위법': 9711, '▁시범': 9712, '▁노동력': 9713, '▁발견돼': 9714, '▁가두': 9715, '▁홈페이지에': 9716, '▁대도시': 9717, '글리': 9718, '▁호흡기': 9719, '▁당원': 9720, '▁주장해': 9721, '▁비자금': 9722, '▁우파': 9723, '▁경위': 9724, '▁레저': 9725, '▁구제안': 9726, '▁살해하겠다': 9727, '▁입원한': 9728, '▁후임자': 9729, '▁마련하기': 9730, '▁방문객': 9731, '▁만든다': 9732, '▁매트': 9733, '▁내정자': 9734, '▁결과에따르면': 9735, '년째': 9736, '▁철저한': 9737, '▁폭발했다': 9738, '▁각료': 9739, '▁음와': 9740, '▁시도했다': 9741, '▁강조하고': 9742, '먼트': 9743, '▁섞': 9744, '▁내주': 9745, '▁대표들은': 9746, '▁굿': 9747, 'EC': 9748, '▁고전': 9749, '드레': 9750, '▁돌입했다': 9751, '▁사랑하는': 9752, '예비선거': 9753, '2005.1': 9754, '태평양': 9755, 'New': 9756, '올림픽': 9757, '큰': 9758, '▁줄어': 9759, '월드컵': 9760, '▁대원': 9761, 'DH': 9762, '▁빌라': 9763, '▁거주자': 9764, '슈퍼': 9765, '티브': 9766, '에너지': 9767, '▁참가자': 9768, '▁결승에서': 9769, '능력': 9770, '작품': 9771, '▁찬사': 9772, '그런': 9773, '▁박수': 9774, '조합': 9775, '▁거치': 9776, '조각': 9777, '▁수반과': 9778, '▁갇혀': 9779, '▁블로그': 9780, '▁내리기': 9781, '노동': 9782, '위권': 9783, '▁테러범들': 9784, '되게': 9785, '수준': 9786, '▁시민단체': 9787, '▁일부에서는': 9788, '▁부수': 9789, '스텐': 9790, '▁기념일': 9791, 'ster': 9792, '▁수의사': 9793, '▁말했으며': 9794, '▁기어': 9795, '▁강화했다': 9796, '▁줄어들고': 9797, '▁코커스에서': 9798, '었기': 9799, '▁보였': 9800, '▁중유': 9801, 'ai': 9802, '적이지': 9803, '320': 9804, '▁마련했다': 9805, '▁주최측': 9806, '▁여성에게': 9807, 'mer': 9808, '▁지명자': 9809, '▁국경지역에': 9810, '▁주문했다': 9811, '▁살리': 9812, '▁결의안은': 9813, '▁범죄자들': 9814, '사원': 9815, '국민들': 9816, '▁여행사': 9817, '투자': 9818, '▁비극적': 9819, '▁아담': 9820, '▁개헌': 9821, '지요': 9822, '▁요한': 9823, '▁유명인사': 9824, '랍': 9825, '흥': 9826, '옹': 9827, '▁숙박': 9828, '콕': 9829, '▁200806.1': 9830, '▁BMW': 9831, '▁갤럭시': 9832, '▁곤돌라': 9833, '▁단백질': 9834, '▁라왈핀디': 9835, '▁로페즈': 9836, '▁보건복지부': 9837, '▁부딪혀': 9838, '▁삼았다': 9839, '▁아웅산수지': 9840, '▁웨스트버지니아': 9841, '▁이끌었다': 9842, '▁이끌었던': 9843, '▁집행유예': 9844, '▁카톨릭': 9845, '▁페널티킥': 9846, '▁횟수': 9847, '듬': 9848, '딱': 9849, '벡': 9850, '찔': 9851, '톡': 9852, '▁FTSE': 9853, '▁농작물': 9854, '▁조코비치': 9855, '▁초등학교': 9856, '▁크누트': 9857, '▁퍼레이드': 9858, '뇨': 9859, '룽': 9860, '▁내비쳤다': 9861, '▁마닐라': 9862, '▁싱가폴': 9863, '▁안타까': 9864, '▁원정경기': 9865, '▁작곡가': 9866, '▁카라카스': 9867, '▁카리스마': 9868, '▁종업원': 9869, '▁콜레라': 9870, '▁수족관': 9871, '▁1/3': 9872, '▁동남아시아': 9873, '▁빠질': 9874, '▁빈민가': 9875, '▁뱅크': 9876, '▁도덕적': 9877, '▁살모넬라균': 9878, '▁원내대표': 9879, '▁대지진': 9880, '▁월마트': 9881, '▁검진': 9882, '▁모바일': 9883, '▁가자시티': 9884, '▁낙찰': 9885, '▁신용위기': 9886, '2008.09': 9887, '▁티켓': 9888, '▁꾸준': 9889, '▁관광산업': 9890, '▁부정선거': 9891, '▁밀접': 9892, '▁참패': 9893, '▁결승골': 9894, '▁면허': 9895, '▁삼엄': 9896, '▁비싸': 9897, '▁배럭': 9898, '▁울머': 9899, '▁부회장': 9900, '▁남겼다': 9901, '▁오스틴': 9902, '▁입찰': 9903, '▁결별': 9904, '▁개발도상국': 9905, '▁경제성장률': 9906, '▁이정인': 9907, '▁기둥': 9908, '▁당분간': 9909, '▁태양계': 9910, '▁몸집': 9911, '▁사찰': 9912, '▁세레나': 9913, '▁밀매': 9914, '▁도착했을': 9915, '▁포스터': 9916, '▁숨지게': 9917, '▁1984': 9918, '▁연립': 9919, '▁권유': 9920, '▁연구조사': 9921, '▁2014': 9922, '▁번영': 9923, '▁생물학자': 9924, '▁외각': 9925, '▁보수파': 9926, '▁피플': 9927, '▁DC': 9928, '▁폭풍우': 9929, '▁무너졌다': 9930, '▁원격': 9931, '▁상반': 9932, '▁보석금': 9933, '▁시사회': 9934, '게이트': 9935, '▁발작': 9936, '▁재생': 9937, '▁뿐이라': 9938, '▁우방': 9939, '▁자회사': 9940, '▁더이상': 9941, '▁육성': 9942, '=26': 9943, '▁가이드': 9944, '▁번식': 9945, '▁점심': 9946, '▁95%': 9947, '펠드': 9948, '쿠폰': 9949, '▁판사들': 9950, '정신': 9951, '▁보류': 9952, '▁심정': 9953, '▁줄어들었다': 9954, '▁정상적으로': 9955, '▁후보작': 9956, '▁관심사': 9957, '▁투표권': 9958, '▁입장권': 9959, '▁일기로': 9960, '▁실내': 9961, '▁크리스티아': 9962, '▁밀수': 9963, '▁피난민': 9964, '▁와서': 9965, '▁1800': 9966, '▁1-1': 9967, '▁사이즈': 9968, '▁댐': 9969, '▁질서': 9970, '▁101': 9971, '느라': 9972, '▁고정': 9973, '▁이룬': 9974, '▁대처하기': 9975, '마이어': 9976, '▁감독상': 9977, '▁연관된': 9978, '▁前': 9979, '▁납치했다': 9980, 'PF': 9981, '▁수잔': 9982, '▁3,000': 9983, '▁was': 9984, '▁방콕에서': 9985, '▁범죄자': 9986, 'ical': 9987, '▁친구들과': 9988, '▁사망했고': 9989, '▁잡혀있': 9990, '폭발': 9991, '▁방사': 9992, '▁포기할': 9993, '▁식으로': 9994, '춤': 9995, '정상': 9996, '▁퇴원': 9997, '▁정비': 9998, '눈': 9999, 'WHO': 10000, '▁언제든': 10001, '사드르': 10002, 'IOC': 10003, '오픈': 10004, '▁기록적인': 10005, '▁정부로부터': 10006, '▁지정된': 10007, '분쟁': 10008, '▁발생하기': 10009, '▁Sp': 10010, 'MD': 10011, '정말': 10012, '▁유대': 10013, '▁닷': 10014, '천여': 10015, '▁살해됐다': 10016, '▁베를린에서': 10017, '▁알파': 10018, '▁감기': 10019, '▁구조대원': 10020, '▁에바': 10021, '▁수감됐다': 10022, '▁임신한': 10023, '▁당원들': 10024, '▁발표하지': 10025, '▁바스라에서': 10026, '▁알리기': 10027, '▁감행했다': 10028, '▁나르': 10029, '피크': 10030, '▁동원해': 10031, '대학교': 10032, '장소': 10033, '방법': 10034, '▁자랑스럽': 10035, '▁해변에서': 10036, '▁거라고': 10037, '여개': 10038, '▁통신과': 10039, '▁기념하기': 10040, '▁용인': 10041, '▁보아': 10042, '▁남지': 10043, '주재': 10044, '▁그날': 10045, '▁통근': 10046, 'bu': 10047, '▁의뢰': 10048, '▁복용한': 10049, '▁고국': 10050, '▁양곤': 10051, '▁퍼지': 10052, '▁영구': 10053, '-4': 10054, '▁고리': 10055, '▁획득했다': 10056, '▁국세청': 10057, '▁조달': 10058, '되었으나': 10059, '▁누르': 10060, '▁mor': 10061, '▁이어진': 10062, 'Com': 10063, '▁파괴됐다': 10064, '▁홈페이지': 10065, '▁상업적': 10066, 'land': 10067, '▁125': 10068, '▁버몬트': 10069, '▁석방했다': 10070, '획': 10071, '▁경제성장': 10072, '▁주사': 10073, '2007.06': 10074, '▁SUV': 10075, '▁가톨릭': 10076, '▁국가보안법': 10077, '▁대중교통': 10078, '▁대통합민주신당': 10079, '▁리얼리티': 10080, '▁마호메트': 10081, '▁많았다': 10082, '▁무크타다': 10083, '▁무혐의': 10084, '▁베테랑': 10085, '▁브로드웨이': 10086, '▁사카쉬빌리': 10087, '▁얀코비치': 10088, '▁엉덩이': 10089, '▁올바른': 10090, '▁이데올로기': 10091, '▁추수감사절': 10092, '▁캠퍼스': 10093, '▁컨퍼런스': 10094, '▁프리메라리가': 10095, '▁합참의장': 10096, '궐': 10097, '돋': 10098, '뭉': 10099, '솜': 10100, '캣': 10101, '쿤': 10102, '▁금융제재': 10103, '▁백화점': 10104, '▁임산부': 10105, '▁저작권': 10106, '▁페르난도': 10107, '캘': 10108, '▁횡단': 10109, '▁휴양지': 10110, '▁두개골': 10111, '▁의구심': 10112, '▁제네바': 10113, '▁팔루자': 10114, '▁최우수': 10115, '▁뮤직': 10116, '▁링컨': 10117, '▁번호판': 10118, '▁테이블': 10119, '▁도메인': 10120, '터무니': 10121, '▁엄중': 10122, '▁억압': 10123, '▁뒤덮': 10124, '▁이소연': 10125, '▁활력': 10126, '▁소수민족': 10127, '▁아지즈': 10128, '▁와중에': 10129, '▁쟁점': 10130, '▁동점골': 10131, '▁표적이': 10132, '▁낙관적': 10133, '▁후보자들': 10134, '▁범람': 10135, '▁근접': 10136, '▁홈런': 10137, '▁홀랜드': 10138, '▁궁금': 10139, 'Brit': 10140, '▁액수': 10141, '▁계절': 10142, '▁에이미': 10143, '▁지뢰': 10144, '▁흉기': 10145, '▁제재조치': 10146, '호르타': 10147, '2006.11': 10148, '▁초대형': 10149, '▁창립': 10150, '▁자치구': 10151, '▁평생': 10152, '▁시작하기': 10153, '▁없었지만': 10154, '▁inter': 10155, '▁피델': 10156, '▁심장병': 10157, 'ung': 10158, '▁필수': 10159, '▁구입한': 10160, '▁포격': 10161, '▁지칭': 10162, '▁취해야': 10163, '▁완수': 10164, '▁페퍼': 10165, '▁천연': 10166, '▁미사': 10167, '▁전반적으로': 10168, '▁750': 10169, '▁울프': 10170, '▁터진': 10171, '▁감안': 10172, '▁고집': 10173, '▁동행': 10174, '▁대담': 10175, '▁걸음': 10176, 'ami': 10177, '▁반격': 10178, '▁최상': 10179, '▁드문': 10180, '▁이끈': 10181, '▁원장은': 10182, '▁조업': 10183, '▁영역': 10184, '▁보수적인': 10185, '▁풍자': 10186, '▁사격': 10187, '만톤': 10188, '▁인용하여': 10189, '▁휩싸였다': 10190, '▁건조': 10191, '▁예금': 10192, '▁단호': 10193, '▁분명하다': 10194, '▁작용할': 10195, '▁제어': 10196, '▁인파': 10197, '▁가즈니주': 10198, '▁상임': 10199, '▁맺었다': 10200, '▁국민당': 10201, '▁지하드': 10202, 'Pro': 10203, '▁여정': 10204, 'cent': 10205, '▁호우': 10206, '그녀': 10207, '▁상원의원직': 10208, '십만': 10209, '▁치타': 10210, '▁줄었다': 10211, '▁미쳤다': 10212, '▁43%': 10213, '▁관세': 10214, '▁후임으로': 10215, '▁1600': 10216, '▁행운': 10217, '▁두목': 10218, '▁발사된': 10219, 'oint': 10220, '▁발견했으며': 10221, '▁NFL': 10222, '▁넘어서': 10223, '▁어선': 10224, '▁심각하다': 10225, '▁앤더슨은': 10226, '▁필립스': 10227, '▁열리기': 10228, '베키': 10229, '▁올드': 10230, '▁구분': 10231, '▁he': 10232, '▁불과했다': 10233, '▁배아': 10234, '▁명명': 10235, '▁경찰청장': 10236, '▁빚어': 10237, '월말': 10238, '▁의원들과': 10239, '▁투자가들': 10240, '▁일종': 10241, '▁거물': 10242, '▁노르': 10243, '▁지지율로': 10244, '▁차지할': 10245, '▁흔들리': 10246, '▁개혁안': 10247, '▁만족한다': 10248, '▁Do': 10249, '▁헤르': 10250, '▁파르': 10251, '딕': 10252, '엠': 10253, '▁제작자들': 10254, '몇': 10255, '인터넷': 10256, '▁발견되': 10257, '뼈': 10258, '▁결정될': 10259, 'AM': 10260, '데요': 10261, '▁공급받': 10262, 'ash': 10263, '식품': 10264, '연설': 10265, '자루': 10266, '▁루스': 10267, '▁잡기': 10268, '▁접근할': 10269, '▁교도': 10270, '▁홀에서': 10271, '포스': 10272, '▁과다': 10273, '▁맡기': 10274, '▁세번째': 10275, '▁인정하고': 10276, '▁들어가기': 10277, '팀장은': 10278, '▁0.2': 10279, '마트': 10280, '▁관료들': 10281, 'ord': 10282, 'AC': 10283, '▁표기': 10284, '마른': 10285, '됐기': 10286, '▁미군측': 10287, '▁난자': 10288, '▁감자': 10289, '조약': 10290, 'ark': 10291, '▁괴한들': 10292, '▁합의안': 10293, '▁지사': 10294, '화물': 10295, '▁Gr': 10296, 'reat': 10297, '▁Vi': 10298, '▁소방관들': 10299, '▁보여준': 10300, '▁극심': 10301, '전화': 10302, '▁겪었': 10303, '▁가사': 10304, '▁중재자': 10305, '▁증가시키': 10306, 'org': 10307, 'GM': 10308, '▁일반인들': 10309, '▁과학적': 10310, '▁못하면': 10311, '▁콜린': 10312, '▁다국적': 10313, '▁테네시': 10314, '▁오프': 10315, '롯': 10316, '▁남겨': 10317, '▁퇴직': 10318, 'Chinese': 10319, '▁said': 10320, '▁그린스펀': 10321, '▁낙하산': 10322, '▁닌텐도': 10323, '▁루마니아': 10324, '▁말았다': 10325, '▁몬타나': 10326, '▁버시바우': 10327, '▁브뤼셀': 10328, '▁앨라배마': 10329, '▁없음': 10330, '▁엔데버호': 10331, '▁엔터테인먼트': 10332, '▁여객선': 10333, '▁오차범위': 10334, '▁짝짓기': 10335, '▁쫓겨': 10336, '▁콘크리트': 10337, '▁콜레스테롤': 10338, '▁타블로이드': 10339, '▁프란시스': 10340, '늄': 10341, '옌': 10342, '짙': 10343, '촨': 10344, '튠': 10345, 'OECD': 10346, '▁급상승': 10347, '▁벤자민': 10348, '▁무차별': 10349, '▁무책임': 10350, '▁보스니아': 10351, 'HSBC': 10352, '▁자이툰': 10353, '▁저녁식사': 10354, '▁수마트라': 10355, 'WWF': 10356, '▁검열': 10357, '▁힉스': 10358, '▁유태인': 10359, '▁안젤리': 10360, '(27)': 10361, '(29)': 10362, '▁가볍': 10363, '▁기번스': 10364, '▁의료보험': 10365, '▁황교수': 10366, '▁사냥꾼': 10367, '=31': 10368, '▁싱글': 10369, '▁무엇인가': 10370, '▁아르빌': 10371, '▁get': 10372, '▁나중에': 10373, '▁별도로': 10374, '▁state': 10375, '2008.0': 10376, '▁자살폭탄': 10377, '▁줄어든': 10378, '▁토끼': 10379, '▁자본주의': 10380, '▁동맹관계': 10381, 'light': 10382, '▁간첩': 10383, '▁보도자료': 10384, '▁Star': 10385, '▁토로했다': 10386, '▁이루어질': 10387, '▁평창': 10388, '▁싸울': 10389, '▁신념': 10390, '▁총격사건': 10391, '▁철거': 10392, '▁앙리': 10393, '▁보였지만': 10394, '▁친밀': 10395, 'ZA': 10396, '▁늘어난': 10397, '▁증산': 10398, '▁왔으며': 10399, '▁관행': 10400, '▁팔렸다': 10401, '▁테네시주': 10402, '▁중태라': 10403, '▁친절': 10404, '▁누설': 10405, '▁지나친': 10406, '▁테러공격': 10407, '▁샤론': 10408, '▁단절': 10409, '▁매사추세츠주': 10410, '▁모닝': 10411, '▁납부': 10412, '▁우편': 10413, '▁한국전쟁': 10414, '▁받았습니다': 10415, '▁바이오': 10416, '▁강화하기': 10417, '▁재능': 10418, '▁털어': 10419, '▁동남': 10420, '▁911': 10421, '▁책임감': 10422, '▁잔디': 10423, '▁서열': 10424, '▁HD': 10425, '▁윤리적': 10426, '▁불경기': 10427, '▁분양': 10428, '▁관계자에따르면': 10429, '▁감동': 10430, '▁태어났다': 10431, '▁뉴저지주': 10432, '▁급파': 10433, '▁만행': 10434, '살짜리': 10435, '▁변동': 10436, '▁질식': 10437, '▁도박': 10438, '▁충돌했다': 10439, '▁2~3': 10440, '▁동요': 10441, '▁사절': 10442, '▁상속': 10443, '▁참수': 10444, '▁섬유': 10445, '▁대승': 10446, '▁탈세': 10447, '▁신설': 10448, '▁상징적인': 10449, '▁생선': 10450, '케르': 10451, '▁들어보': 10452, '▁탈당': 10453, '▁대신해': 10454, '▁보행': 10455, '▁태아': 10456, '▁피랍됐': 10457, '▁불거': 10458, '▁로즈': 10459, '▁버크': 10460, '▁외모': 10461, '▁신종': 10462, '▁말라위': 10463, '▁비행선': 10464, '▁항해': 10465, '리터': 10466, '▁반란': 10467, '▁스노': 10468, '▁피터슨': 10469, '▁양호': 10470, '▁교통부': 10471, '론자들': 10472, '▁재계': 10473, '▁억류된': 10474, '▁총살': 10475, '▁발사했다': 10476, 'PD': 10477, '런스': 10478, '▁서쪽으로': 10479, '▁답변했다': 10480, '▁기대된다': 10481, '하겠지만': 10482, '클린': 10483, '▁직면한': 10484, '▁ban': 10485, '▁유타': 10486, '▁진정시키': 10487, '▁주둔군': 10488, '▁봉인': 10489, '겼으며': 10490, '▁끝나지': 10491, '▁450': 10492, '▁나라들': 10493, '클레': 10494, '▁카디': 10495, '▁말했었다': 10496, '▁효과적인': 10497, '▁양당': 10498, '▁서부지역': 10499, '▁일이었다': 10500, '▁내리지': 10501, '조차도': 10502, '▁허용하는': 10503, '▁공격하기': 10504, '▁실종됐다고': 10505, '▁의뢰인': 10506, '▁허리': 10507, '▁불가능한': 10508, '▁의미하는': 10509, '▁부상했으며': 10510, '▁전술': 10511, '▁요구해': 10512, 'eep': 10513, '▁입장이다': 10514, '▁근거지': 10515, '▁이행하': 10516, '▁생각된다': 10517, '▁작품상': 10518, '▁230': 10519, '▁일조': 10520, '▁추정하': 10521, '▁순례객': 10522, 'form': 10523, '▁par': 10524, '▁참가하는': 10525, '▁이동했다': 10526, '▁끝내고': 10527, '▁수습': 10528, '▁도달했다': 10529, '▁지불할': 10530, '▁참가국들': 10531, '▁심리학': 10532, '즐': 10533, '콩': 10534, '클럽': 10535, '▁마르코': 10536, '▁살상': 10537, '▁시선': 10538, '티베트': 10539, '투쟁': 10540, 'FTA': 10541, '▁해치': 10542, '특별': 10543, '카메라': 10544, '한나라당': 10545, '▁두려워하': 10546, '반응': 10547, 'into': 10548, '▁올렸': 10549, '▁제조회사': 10550, '외교': 10551, '스위스': 10552, '▁주도하고': 10553, '▁대학생들': 10554, '▁소행': 10555, '▁경고하고': 10556, '▁실시됐다': 10557, '때로는': 10558, '▁법무': 10559, '▁내용이다': 10560, '▁Su': 10561, '▁지미': 10562, '▁치료제': 10563, '▁리사': 10564, '▁서울대': 10565, '▁후안': 10566, 'ron': 10567, '▁안개': 10568, '▁모였다': 10569, '▁수행했다': 10570, '▁Ri': 10571, '▁모여들': 10572, '다소': 10573, '▁확신하': 10574, '시안': 10575, '▁경상': 10576, '▁마련된': 10577, '▁시작한다': 10578, '▁가나': 10579, '▁엔지니어': 10580, '아무': 10581, '이어서': 10582, '▁주립': 10583, '▁사망했': 10584, 'ja': 10585, '정치적': 10586, '▁파견했다': 10587, '▁판매되': 10588, '▁승려': 10589, '▁수백만명': 10590, '컷': 10591, '▁America': 10592, '걸스': 10593, '▁담겨': 10594, '▁울리': 10595, '▁검문': 10596, '▁도착해': 10597, '정당': 10598, '▁발령': 10599, '▁근본주의': 10600, '▁필요성': 10601, '훔': 10602, '▁빨간': 10603, '펀': 10604, '갱': 10605, '앵': 10606, '▁Association': 10607, '▁president': 10608, '파이낸셜': 10609, '2007.03': 10610, 'Australia': 10611, 'United': 10612, '▁BBK': 10613, '▁England': 10614, '▁issue': 10615, '▁국제사면위원회': 10616, '▁내다봤다': 10617, '▁대량살상무기': 10618, '▁돈세탁': 10619, '▁로맨틱': 10620, '▁롱고리아': 10621, '▁부정부패': 10622, '▁선거캠페인': 10623, '▁솔로몬': 10624, '▁슈나이더': 10625, '▁스탠리': 10626, '▁아이슬란드': 10627, '▁애널리스트': 10628, '▁언색호': 10629, '▁자이언트': 10630, '▁찍었다': 10631, '▁참모총장': 10632, '▁카메론': 10633, '▁플레이오프': 10634, '▁혐오': 10635, '밭': 10636, '셜': 10637, '썩': 10638, '츄': 10639, '폴라로이드': 10640, '▁가금류': 10641, '▁몰디브': 10642, '▁손해배상': 10643, '▁신행정수도': 10644, '▁전화통화': 10645, '▁좋았다': 10646, '▁클레이코트': 10647, '▁황박사': 10648, 'Human': 10649, '▁크리켓': 10650, '▁올랜도': 10651, '▁이용자들': 10652, '▁갱신': 10653, '▁태어나': 10654, '▁그렇다면': 10655, '▁탑재': 10656, '▁프리킥': 10657, '▁몬테': 10658, '▁선진국': 10659, '▁정부청사': 10660, '▁곤란': 10661, '▁발레리': 10662, '▁진원지': 10663, '▁라시드': 10664, '▁퇴치': 10665, '(24)': 10666, '▁접어들': 10667, '(21)': 10668, '▁리더십': 10669, '▁페인트': 10670, '▁격돌한': 10671, '▁설문조사': 10672, '▁선제골': 10673, '▁쓰러졌': 10674, '재단': 10675, '▁방위군': 10676, '▁공동성명': 10677, '▁삼성그룹': 10678, '▁소요사태': 10679, '괴롭': 10680, '▁다툼': 10681, '▁푸켓': 10682, '▁이틀째': 10683, '▁Lee': 10684, '▁불쾌감': 10685, '▁곳곳에서': 10686, '▁있겠지만': 10687, '▁유시프': 10688, '▁51%': 10689, '▁서있': 10690, '▁반도체': 10691, '▁통계청': 10692, '▁페트로': 10693, '▁지방선거': 10694, '▁투항': 10695, '▁물러난': 10696, '▁당첨': 10697, '후쿠다': 10698, '링턴': 10699, '▁평등': 10700, '▁기념품': 10701, '▁다룰': 10702, '▁헌터': 10703, '▁터너': 10704, '학생들': 10705, '▁발송': 10706, '▁종말': 10707, '▁감각': 10708, '▁단축': 10709, '▁고등': 10710, '▁대기권': 10711, '▁금지령': 10712, '▁늘려': 10713, '▁미술관': 10714, '▁검시관': 10715, '▁정교회': 10716, '▁저자인': 10717, '▁출간': 10718, '▁해산물': 10719, '▁마텔': 10720, '▁본래': 10721, '▁성능': 10722, '▁일삼': 10723, '▁무패': 10724, '▁프로디': 10725, '▁북경': 10726, '▁나이키': 10727, '▁인천': 10728, '▁지난밤': 10729, '▁온천': 10730, '▁방침이다': 10731, '▁황제': 10732, '▁재료': 10733, '▁린치': 10734, '▁교역': 10735, '▁바스크': 10736, '▁빈번': 10737, '▁공범': 10738, '▁콜린스': 10739, '시께': 10740, '시프': 10741, '▁현직': 10742, '▁끌어들이': 10743, '▁온실': 10744, '▁비정부': 10745, '▁역전': 10746, '▁풀어주': 10747, '▁노벨상': 10748, '▁순회': 10749, '▁구조됐다': 10750, '▁연정': 10751, 'eac': 10752, '▁선동': 10753, '▁영아': 10754, '▁본즈': 10755, '▁표한다': 10756, '므': 10757, '▁용서': 10758, '▁낮게': 10759, '▁자란': 10760, '▁샤프': 10761, '▁피고인들': 10762, '▁주차장에서': 10763, '▁결과에따라': 10764, '▁상실': 10765, '▁240': 10766, 'ull': 10767, '▁42%': 10768, '▁감염자': 10769, '▁반감': 10770, '▁주입': 10771, '▁공표': 10772, '▁배정': 10773, '▁연상': 10774, '▁190': 10775, '▁보호소': 10776, '▁투수': 10777, '▁시사했다': 10778, '▁알아내': 10779, '▁피우': 10780, '▁외계인': 10781, '▁발표하면서': 10782, '▁연어': 10783, '관리국': 10784, '▁판명': 10785, '▁비중': 10786, '▁경유': 10787, '38': 10788, '▁내려오': 10789, '용품': 10790, '▁들어서': 10791, '▁영해': 10792, '▁확인하지': 10793, '▁FC': 10794, '▁전통적으로': 10795, 'use': 10796, '▁밝혀지': 10797, '▁아랍어': 10798, '▁관여한': 10799, '▁외교관들': 10800, '▁아카': 10801, '▁위반했다': 10802, '▁고기': 10803, '카우': 10804, '▁조직원들': 10805, '해줬다': 10806, '하트': 10807, '▁배달': 10808, '▁앤드': 10809, '▁직위': 10810, '▁주립대학': 10811, '▁진상': 10812, '▁금지된': 10813, '▁악명': 10814, '싸': 10815, '따': 10816, '2008.12': 10817, '▁상표': 10818, '시리즈': 10819, '공화국': 10820, '무샤라프': 10821, '▁쓰지': 10822, '▁압수했다': 10823, '흔': 10824, '▁왕위': 10825, '웨스트': 10826, '방향': 10827, '▁신성': 10828, 'UN': 10829, '모델': 10830, '코르': 10831, '결정': 10832, '▁계속됐다': 10833, '집단': 10834, 'tter': 10835, '▁고민': 10836, '▁설립자': 10837, '수퍼': 10838, 'LA': 10839, '▁이혼했다': 10840, '▁있으면': 10841, '상품': 10842, '▁지배하': 10843, '▁파괴된': 10844, '웃으며': 10845, '탈리아': 10846, '▁팔리': 10847, '민들': 10848, '▁잡혀': 10849, '적당한': 10850, '▁여진': 10851, '▁당선된': 10852, '하기위해': 10853, '▁선보였': 10854, '혁명': 10855, '마저': 10856, '▁숨지': 10857, '▁앤더슨': 10858, '▁있을까': 10859, '▁여러분들': 10860, 'Man': 10861, '▁참가국': 10862, '▁실종됐다': 10863, '▁연기됐다': 10864, '군사': 10865, '▁헤어': 10866, 'AI': 10867, '▁격렬': 10868, '▁항의했다': 10869, '스파이스': 10870, 'fi': 10871, '▁남부지역': 10872, '▁한국측': 10873, '▁여자들': 10874, '▁숨졌': 10875, '▁납치범들': 10876, '▁경호원들': 10877, '붕': 10878, '뷔': 10879, '갤': 10880, '봇': 10881, '툰': 10882, '▁인디언': 10883, '윙': 10884, 'NYMEX': 10885, 'inancial': 10886, 'world': 10887, '▁death': 10888, '▁high': 10889, '▁minister': 10890, '▁가라앉': 10891, '▁가로질러': 10892, '▁가이트너': 10893, '▁농산물': 10894, '▁높았다': 10895, '▁디얄라': 10896, '▁라스무센': 10897, '▁라우터바흐': 10898, '▁레드삭스': 10899, '▁로널드': 10900, '▁맞춘': 10901, '▁믿음': 10902, '▁밀리밴드': 10903, '▁불필요': 10904, '▁빈라덴': 10905, '▁선생님': 10906, '▁스콜세지': 10907, '▁와지리스탄': 10908, '▁유네스코': 10909, '▁지구온난화': 10910, '▁질렀다': 10911, '▁코네티컷': 10912, '▁콘텐트': 10913, '▁테헤란': 10914, '▁펌프': 10915, '▁페르난데스': 10916, '▁포틀랜드': 10917, '▁푸에르토리코': 10918, '덟': 10919, '볕': 10920, '봅': 10921, '쯔': 10922, '하였으나': 10923, '▁가석방': 10924, '▁무중력': 10925, '▁브라더스': 10926, '▁졸릭': 10927, '▁주미대사': 10928, 'WTI': 10929, '▁자부심': 10930, 'ould': 10931, '깜짝': 10932, '▁본거지': 10933, '▁아메드': 10934, '▁획기적': 10935, '▁오마바': 10936, '▁텔레콤': 10937, 'GPS': 10938, '▁남동쪽': 10939, '▁비평가들은': 10940, '▁트레이드': 10941, '▁위안화': 10942, '▁남서쪽': 10943, '▁나이로비': 10944, '▁주니어': 10945, '▁놀랍': 10946, '▁지저스': 10947, '▁소아과': 10948, '▁딜리': 10949, '▁강아지': 10950, '▁블레이크': 10951, '▁석탄': 10952, '▁아이팟': 10953, '▁떠오르': 10954, '이건희': 10955, '▁불러일으키': 10956, 'ECB': 10957, '▁화폐': 10958, '▁않으려': 10959, '▁포옹': 10960, '▁may': 10961, '▁납북': 10962, '▁취업': 10963, '▁왕궁': 10964, '▁완승': 10965, '▁점유율': 10966, '▁폐허': 10967, '▁재처리': 10968, '스테이트': 10969, '▁자유로운': 10970, '2008.02': 10971, '▁그린랜드': 10972, '▁음란물': 10973, '▁기차역': 10974, '▁프라임': 10975, '▁외교정책': 10976, '▁아바타': 10977, '▁철강': 10978, '▁연습': 10979, '▁난폭': 10980, '▁우익': 10981, '▁1953': 10982, '▁주머니': 10983, '▁소식통에따르면': 10984, '▁은폐': 10985, '환자': 10986, '▁청색': 10987, '▁사촌': 10988, '▁투병': 10989, '▁1975': 10990, '▁계단': 10991, '▁잠재력': 10992, '▁추모식': 10993, 'uk': 10994, '▁화물선': 10995, '▁함정': 10996, '▁돌아간': 10997, '▁증오': 10998, '▁선정했다': 10999, '함으로서': 11000, '▁긴장감': 11001, '▁선언문': 11002, '▁디에고': 11003, '▁가졌으며': 11004, '▁선거자금': 11005, '▁익사': 11006, '▁앞서있다': 11007, '▁기부금': 11008, '▁정글': 11009, '▁미시간주': 11010, '▁엔화': 11011, '▁시청률': 11012, '▁문화적': 11013, '▁복부': 11014, '▁우주센터': 11015, '▁핵문제': 11016, '▁웃음': 11017, '▁변형': 11018, '▁유언': 11019, '▁보험금': 11020, '▁판결문': 11021, '▁분배': 11022, '▁달렸다': 11023, '▁투하': 11024, '▁원한다면': 11025, '▁공공장소에서': 11026, '▁교정': 11027, '▁합법적으로': 11028, '코브': 11029, '▁대열': 11030, '▁시작됐으며': 11031, '▁지도력': 11032, '▁시합': 11033, '▁붙였다': 11034, '▁분리주의자들': 11035, '▁시작했고': 11036, '▁종전': 11037, '▁레노': 11038, '▁루즈': 11039, '▁전념': 11040, '▁들어왔다': 11041, '▁치우': 11042, '▁루디': 11043, '▁3-1': 11044, '▁의존하고': 11045, '▁금주': 11046, '▁펜실베이니아주': 11047, '▁예상치': 11048, 'My': 11049, '▁팔아': 11050, '▁내달': 11051, '▁의사당': 11052, '▁조사팀': 11053, '▁의류': 11054, '▁가계': 11055, '▁결성': 11056, '▁철학': 11057, '▁보건당국': 11058, '판매': 11059, '▁이끌어내': 11060, '▁해법': 11061, '▁수영장': 11062, '▁목표물': 11063, '▁보험사': 11064, '▁중국인들': 11065, '▁양곤에서': 11066, '▁치아': 11067, '▁이행할': 11068, '▁되려': 11069, '생물학': 11070, '▁출판사': 11071, '▁di': 11072, '▁시작했으며': 11073, '폴리스': 11074, '▁후속': 11075, '▁취했': 11076, '▁기록했으며': 11077, '▁들어주': 11078, '▁남부지역에서': 11079, '▁동상': 11080, '▁조화': 11081, '▁하퍼': 11082, '▁측면에서': 11083, '▁Te': 11084, '▁착용한': 11085, '▁입히': 11086, '▁비티': 11087, 'ix': 11088, '▁하사': 11089, '▁돌아왔': 11090, '▁호주군': 11091, 'ld': 11092, '▁몰린': 11093, '▁주심': 11094, '▁손님들': 11095, '▁기업체': 11096, '▁한국계': 11097, '▁손상된': 11098, '▁적게': 11099, '88': 11100, '▁앉아있': 11101, '훈련': 11102, '하였고': 11103, '▁저명': 11104, '▁완화하기': 11105, '매치': 11106, '▁기르': 11107, '▁결심했다': 11108, '▁등록된': 11109, '▁자식': 11110, '남북': 11111, '었었다': 11112, '▁실리': 11113, '평화로운': 11114, '보좌관': 11115, '뒤': 11116, '하마스': 11117, '폭풍': 11118, '▁설립된': 11119, '물리학': 11120, '▁갇혀있': 11121, '▁정국': 11122, '결국': 11123, '▁임명했다': 11124, '▁폭락했다': 11125, '모양': 11126, '파업': 11127, '▁운전자들': 11128, '▁퇴원했다': 11129, '▁소방대원': 11130, '▁Me': 11131, '▁순수': 11132, '▁고고학자': 11133, '아갈': 11134, '자녀': 11135, '식량': 11136, '▁중국정부': 11137, '▁강화된': 11138, 'ler': 11139, '▁충족': 11140, '시리아': 11141, '▁우주비행사들': 11142, '▁일본인들': 11143, '▁정직': 11144, '▁간부들': 11145, '명씩': 11146, '노엘': 11147, '있지': 11148, '▁알려졌': 11149, '하느냐': 11150, '▁변수': 11151, '▁만들었': 11152, '▁일본군': 11153, '▁한국정부': 11154, '보리스': 11155, '▁느끼지': 11156, '▁본부장': 11157, '▁몰렸': 11158, '륙': 11159, '▁자원봉사': 11160, 'MC': 11161, '하원': 11162, '▁기록됐다': 11163, '보관소': 11164, 'rap': 11165, '▁몰리': 11166, '▁벌여왔': 11167, '▁태어났': 11168, '▁정규': 11169, '▁시달': 11170, '▁AK': 11171, '▁우주비행': 11172, '▁미주리': 11173, '욱': 11174, '▁메모리': 11175, '▁심리학자': 11176, '▁얼룩': 11177, '그렇다': 11178, '팰': 11179, '▁뉴욕상업거래소': 11180, 'life': 11181, '퓨': 11182, '▁UFO': 11183, '▁WASHINGTON': 11184, '▁peace': 11185, '▁̋미국': 11186, '▁갖췄다': 11187, '▁그랜드슬램': 11188, '▁김경준': 11189, '▁네그로폰테': 11190, '▁막았다': 11191, '▁맞교환': 11192, '▁매카트니': 11193, '▁베스트셀러': 11194, '▁생태계': 11195, '▁소렌스탐': 11196, '▁식이요법': 11197, '▁신용경색': 11198, '▁신천옹': 11199, '▁쓰러져': 11200, '▁아라파트': 11201, '▁아흐마디네자드': 11202, '▁않았기': 11203, '▁얼어붙': 11204, '▁영유권': 11205, '▁우비넨': 11206, '▁윌리암': 11207, '▁평론가들은': 11208, '▁포츠머스': 11209, '▁현수막': 11210, '굽': 11211, '배아줄기세포': 11212, '콴': 11213, '푼': 11214, '▁about': 11215, '▁resign': 11216, '▁국가정보원': 11217, '▁만델라': 11218, '▁알자지라': 11219, '▁해리왕자': 11220, '▁훔쳐': 11221, '▁start': 11222, '▁마리화나': 11223, '▁마스터스': 11224, '▁파이프라인': 11225, '▁눈보라': 11226, '▁갱단': 11227, 'Two': 11228, 'UAE': 11229, '▁프리츨': 11230, '▁2/3': 11231, '사관학교': 11232, '▁발자국': 11233, '▁몰아넣': 11234, '▁매도프': 11235, '▁추종자들': 11236, '▁함부르크': 11237, '▁이뤄져야': 11238, '▁침실': 11239, '▁땅콩': 11240, '▁있느냐': 11241, '▁에어웨이': 11242, '▁가르시아': 11243, '▁참의원': 11244, '▁혜성': 11245, '▁프레슬리': 11246, '▁봉착': 11247, '▁투옥': 11248, '2007.04': 11249, '▁파이프': 11250, '▁흘리': 11251, '▁삭스': 11252, '▁거세지': 11253, '▁도미니카': 11254, '▁가져왔다': 11255, '▁퍼뜨': 11256, '▁잡혔다': 11257, '▁창업자': 11258, '▁동물보호': 11259, '▁출항': 11260, '▁선고받았다': 11261, '▁신분증': 11262, '▁척추': 11263, '멜라': 11264, '▁call': 11265, '▁크로스': 11266, '▁금연법': 11267, '▁육박': 11268, '▁위헌': 11269, '▁지방법원': 11270, '▁우호적': 11271, '▁거슬러': 11272, '▁생물학적': 11273, '▁증권거래소': 11274, '▁솔직하': 11275, '▁연애': 11276, '▁이민법': 11277, '▁사절단': 11278, '▁인준': 11279, '▁인질극': 11280, 'arly': 11281, '▁없었으며': 11282, '▁버려진': 11283, '▁바이든': 11284, '▁독립국가': 11285, '▁피해여성': 11286, '▁진열': 11287, '▁일환': 11288, '▁첫째': 11289, '▁예외': 11290, '▁단언': 11291, '▁31%': 11292, '▁정황': 11293, 'now': 11294, '▁사탕': 11295, '▁남긴': 11296, '▁조사결과': 11297, '▁호박': 11298, '▁파타당': 11299, '▁승진': 11300, '▁사이먼': 11301, '▁카이로': 11302, '▁경색': 11303, '▁물리적': 11304, '프라이스': 11305, '▁조율': 11306, '▁Dis': 11307, '▁따내': 11308, '▁부착': 11309, '▁체포됐으며': 11310, '▁버려': 11311, '▁교실': 11312, '▁유머': 11313, '▁시몬': 11314, '▁투여': 11315, '▁데이트': 11316, '▁콜로라도주': 11317, '▁정박': 11318, '▁살리기': 11319, '▁지나간': 11320, '▁조립': 11321, '▁납치범': 11322, '▁동거': 11323, '▁하위': 11324, '▁정부기관': 11325, '▁make': 11326, '▁힐러리경': 11327, '▁아이오와주': 11328, '▁인수위원회': 11329, '▁박차': 11330, '▁만들어내': 11331, '▁치료법': 11332, '▁금융계': 11333, '▁합법적인': 11334, '여금': 11335, '▁조각상': 11336, '-8': 11337, '▁관광객들에게': 11338, '▁제기되': 11339, '▁다행': 11340, '▁따라잡': 11341, '▁만회': 11342, '▁스위': 11343, '▁실었다': 11344, '▁케이스': 11345, '▁도피': 11346, '▁채무': 11347, '▁번개': 11348, '▁문학': 11349, '▁태세': 11350, '▁발표되지': 11351, '▁못했으며': 11352, '▁1400': 11353, '▁근본': 11354, '▁실바': 11355, '▁국제법': 11356, '▁레이드': 11357, '▁comp': 11358, '▁배역': 11359, '▁선제': 11360, '▁128': 11361, '▁상승하며': 11362, '▁끌어내': 11363, '▁기각했다': 11364, '▁연주자': 11365, '▁친척들': 11366, '▁토드': 11367, '▁우주복': 11368, '▁말했으나': 11369, '▁민주적': 11370, '▁조그': 11371, '▁추락해': 11372, '▁심어': 11373, '▁제조업': 11374, '▁전용기': 11375, '▁기용': 11376, '외국': 11377, '▁왕국': 11378, '▁나타난다': 11379, '▁투표소': 11380, '공학': 11381, '▁자진': 11382, '▁2.5': 11383, '▁서울시장': 11384, '스버그': 11385, 'umb': 11386, '▁처했다': 11387, '▁고르': 11388, '▁구속했다': 11389, '▁바라보': 11390, '▁연행됐다': 11391, '▁매력적': 11392, '▁위협받': 11393, '▁박스': 11394, '▁주시하': 11395, '▁토레': 11396, '▁죽였다': 11397, '앞': 11398, '▁히스': 11399, '▁News': 11400, '▁이사장': 11401, '▁정보원': 11402, '타카': 11403, '헌법': 11404, '프로그램': 11405, '꽃': 11406, '붙': 11407, '턱': 11408, '끝': 11409, '닷': 11410, '왜': 11411, '다이애나': 11412, '▁1.6': 11413, '아메리카': 11414, '가능한': 11415, '▁장점': 11416, '▁노린': 11417, '▁기관들': 11418, '보험': 11419, 'ally': 11420, '소송': 11421, '지휘': 11422, '업무': 11423, '▁이루어져': 11424, '▁노출되': 11425, '무역': 11426, '▁방문했': 11427, '친구': 11428, '▁높이기': 11429, '▁구속됐다': 11430, '▁농촌': 11431, '혈관': 11432, '▁걸렸': 11433, '▁자연적': 11434, '▁북한측': 11435, '▁1.5': 11436, '▁단계적': 11437, '보안': 11438, '▁개정된': 11439, '▁시청자': 11440, '연금': 11441, '요금': 11442, '▁동의한다': 11443, '▁근본적': 11444, '▁유대인들': 11445, '중앙': 11446, '▁악화된': 11447, '▁숨어': 11448, '▁별개': 11449, '▁들어왔': 11450, '▁Ge': 11451, '▁위험하다': 11452, '▁웨스': 11453, '▁외계': 11454, '▁나타냈': 11455, 'ful': 11456, '▁집행위원': 11457, '▁민영': 11458, '▁슈퍼대의원': 11459, 'war': 11460, '룡': 11461, '깃': 11462, '▁힌두': 11463, '돔': 11464, '2007.01': 11465, '8,000': 11466, 'ject': 11467, '▁Bank': 11468, '▁GNP': 11469, '▁Life': 11470, '▁Wild': 11471, '▁foreign': 11472, '▁가솔린': 11473, '▁갤러리': 11474, '▁국토안보부': 11475, '▁꿀벌': 11476, '▁낳았다': 11477, '▁니스텔로이': 11478, '▁디스플레이': 11479, '▁뚜렷': 11480, '▁매릴랜드': 11481, '▁바랍니다': 11482, '▁박정희': 11483, '▁방코델타아시아': 11484, '▁버틀러': 11485, '▁불매운동': 11486, '▁셰퍼드': 11487, '▁싫어하': 11488, '▁앙카라': 11489, '▁애틀랜티스호': 11490, '▁와이오밍': 11491, '▁요하네스버그': 11492, '▁즐거움': 11493, '▁초콜릿': 11494, '▁토튼햄': 11495, '▁투탕카멘': 11496, '▁팽팽': 11497, '▁핸드폰': 11498, '▁헝가리': 11499, '늬': 11500, '뜯': 11501, '륭': 11502, '빔': 11503, '인터내셔널': 11504, '자르카위': 11505, '콥': 11506, '풋': 11507, '▁9/11': 11508, '▁금강산': 11509, '▁버클리': 11510, '▁잠수함': 11511, '▁파란색': 11512, '▁학부모': 11513, '벵': 11514, '▁미항공우주국': 11515, '▁재규어': 11516, '▁중앙정보국': 11517, '▁키드먼': 11518, '▁합법화': 11519, '▁200809.1': 11520, '▁노워크': 11521, '▁밀라노': 11522, '▁영사관': 11523, '▁자민당': 11524, '▁중소기업': 11525, '▁딜런': 11526, '▁순이익': 11527, '▁조선일보': 11528, '▁나뉘어': 11529, '▁선거유세': 11530, '▁예정이었으나': 11531, '▁원자재': 11532, '▁폭넓': 11533, '▁홈구장': 11534, '▁기다렸다': 11535, 'dition': 11536, '▁오사카': 11537, '▁오페라': 11538, '▁대운하': 11539, '▁액션': 11540, '▁하루종일': 11541, '▁반짝이': 11542, '▁소령은': 11543, '▁나이트클럽': 11544, '▁막바지': 11545, '(33)': 11546, '▁관절염': 11547, '▁핑크': 11548, '▁강원도': 11549, '▁under': 11550, '▁Prim': 11551, '▁몸싸움': 11552, '(26)': 11553, '▁번화가': 11554, '▁페라로': 11555, '▁실질적으로': 11556, 'uff': 11557, '▁참혹': 11558, '▁연못': 11559, '▁0.5%': 11560, '▁곤경에': 11561, '▁휴이트': 11562, '▁독특': 11563, '▁하이킹': 11564, '▁바오로': 11565, '갤론': 11566, '▁혼잡': 11567, '▁게놈': 11568, '▁want': 11569, '▁로얄': 11570, '▁재건축': 11571, '▁2.13': 11572, '▁흑자': 11573, '▁틀림': 11574, '▁잠비아': 11575, '▁라싸': 11576, '었음': 11577, '▁외딴': 11578, '▁체첸': 11579, '▁휘말': 11580, '▁형벌': 11581, '▁작별': 11582, 'action': 11583, '▁넘겼다': 11584, '▁불빛': 11585, '▁돌풍': 11586, '▁내놓았다': 11587, '▁정회장': 11588, '▁뒤이어': 11589, '▁막으려': 11590, '▁아시안': 11591, '▁쉽다': 11592, '▁가정집': 11593, '▁스테판': 11594, '▁반란군': 11595, '▁숨져': 11596, '▁스몰': 11597, '▁벤처': 11598, '메모리얼': 11599, '▁기원전': 11600, '▁금융기관': 11601, '▁소방차': 11602, '▁조사관들': 11603, '▁절단': 11604, '▁야외': 11605, '▁해리슨': 11606, '▁데이브': 11607, '▁라이더': 11608, '▁사라질': 11609, '▁법규': 11610, '▁만들어졌다': 11611, '▁도착하자': 11612, '▁직무': 11613, '▁각료회의': 11614, '▁법령': 11615, '▁들렸다': 11616, 'ound': 11617, '▁관여하': 11618, '▁크루': 11619, '▁예정이지만': 11620, '▁저격': 11621, '▁꾸미': 11622, '▁며칠간': 11623, '▁초드리': 11624, '▁Un': 11625, '▁미시건주': 11626, '▁사귀': 11627, '▁보였으며': 11628, '▁허브': 11629, '▁속출': 11630, '▁CO': 11631, '▁사과문': 11632, '1945': 11633, '▁비틀': 11634, '▁푸미': 11635, '▁개체': 11636, '▁생길': 11637, '▁가져오': 11638, '▁관제': 11639, '▁경감': 11640, '▁쿠즈': 11641, '▁힘들었': 11642, '▁형량': 11643, '▁반세기': 11644, '▁만연': 11645, '▁대통령궁': 11646, '▁PS': 11647, '▁테디': 11648, '▁측에서는': 11649, '▁구성원': 11650, '▁100%': 11651, '▁벤치': 11652, '▁들어있다': 11653, '▁표정': 11654, '▁구두': 11655, 'Thi': 11656, '▁주장했었다': 11657, '▁장애물': 11658, '▁손길': 11659, '▁전사들': 11660, '▁놓치': 11661, '벨라': 11662, '▁드러나': 11663, '▁친분': 11664, '▁돌진': 11665, '▁파워': 11666, '▁자원봉사자들': 11667, '▁거행': 11668, '▁날려': 11669, '▁포즈': 11670, '▁총력': 11671, '▁민족주의': 11672, '▁서구': 11673, '▁입원해': 11674, '▁반경': 11675, '▁카카': 11676, '▁연관성': 11677, '부르크': 11678, '▁회복세': 11679, '▁포크': 11680, '▁공개될': 11681, '▁리우': 11682, '▁구속력': 11683, 'ton': 11684, '▁작가들': 11685, '▁유전적': 11686, '▁들소': 11687, '▁은신': 11688, '▁마루': 11689, '▁연합통신': 11690, '스프링스': 11691, '▁동력': 11692, 'uck': 11693, '▁우수': 11694, 'ony': 11695, '▁어미': 11696, '▁우표': 11697, '▁버드': 11698, '▁끝나기': 11699, '▁신선': 11700, '▁책상': 11701, '▁14%': 11702, '▁과거사': 11703, '▁본회의': 11704, 'dict': 11705, '2007': 11706, '▁당선됐다': 11707, '▁다르지': 11708, 'All': 11709, '▁몰아내': 11710, '▁수송기': 11711, '▁BE': 11712, '▁소원': 11713, '▁등장하': 11714, '▁hel': 11715, '▁실직자': 11716, '▁진압하기': 11717, '▁통신원': 11718, '였음': 11719, '머니': 11720, '▁시행되': 11721, '▁추방된': 11722, '출동한': 11723, '▁보니': 11724, 'side': 11725, '▁농부들': 11726, '▁따르지': 11727, '휘': 11728, '▁원주민들': 11729, '수익': 11730, '짜': 11731, '데릭': 11732, '낙': 11733, '톰': 11734, '매케인': 11735, '떠': 11736, '곰': 11737, '쿠르': 11738, '▁신체적': 11739, '재정': 11740, '민주적인': 11741, '▁효과적': 11742, '납치': 11743, '행동': 11744, '1983': 11745, '동료': 11746, '▁동원됐다': 11747, '▁바라지': 11748, '▁심리적': 11749, '전문가들': 11750, '▁존재하지': 11751, '공연': 11752, '부적절한': 11753, '▁농부': 11754, '메이어': 11755, '소속': 11756, '▁Go': 11757, '대원들': 11758, '▁조심': 11759, '중단': 11760, '▁권했다': 11761, '▁합법적': 11762, '▁권장': 11763, '▁노출된': 11764, '▁이라크인들': 11765, '여건': 11766, '▁7.9': 11767, '점이다': 11768, '▁소방서': 11769, '메스': 11770, 'dge': 11771, '▁주정부': 11772, '▁들어있': 11773, '그램': 11774, '▁시달리': 11775, '▁계열': 11776, '뢰': 11777, 'bar': 11778, '륜': 11779, '▁첨단': 11780, 'ISAF': 11781, '▁Corp': 11782, '▁RCTV': 11783, '▁Russia': 11784, '▁Science': 11785, '▁Street': 11786, '▁arrest': 11787, '▁가깝게': 11788, '▁개성공단': 11789, '▁경기후퇴': 11790, '▁리트비넨코': 11791, '▁메르세데스': 11792, '▁무하마드': 11793, '▁베를루스코니': 11794, '▁부패혐의': 11795, '▁상임이사국': 11796, '▁새크라멘토': 11797, '▁샌안토니오': 11798, '▁선거기부금': 11799, '▁세골렌': 11800, '▁심장질환': 11801, '▁아제르바이잔': 11802, '▁아프카니스탄': 11803, '▁안았다': 11804, '▁애슐리': 11805, '▁옮겼다': 11806, '▁유엔사무총장': 11807, '▁이어갔다': 11808, '▁정권인수팀': 11809, '▁정확하게': 11810, '▁제너럴': 11811, '▁좋겠다': 11812, '▁즈보나레바': 11813, '▁지켜봤다': 11814, '▁지켰다': 11815, '▁찍힌': 11816, '▁췌장암': 11817, '▁쿠즈넷소바': 11818, '▁핀란드': 11819, '▁하드웨어': 11820, '▁해안경비대': 11821, '▁화성탐사': 11822, '▁히스패닉': 11823, '시켰으며': 11824, '엑스파일': 11825, '캇': 11826, '커뮤니케이션': 11827, '키티호크': 11828, '흠': 11829, '▁price': 11830, '▁국제축구연맹': 11831, '▁대니얼': 11832, '▁성매매': 11833, '▁스프레이': 11834, '▁앵커': 11835, '▁오리건주': 11836, '▁푸에르타': 11837, '▁회교도': 11838, '▁forces': 11839, '▁로날드': 11840, '헝': 11841, '▁승부차기': 11842, '▁신생아': 11843, '▁컨셉': 11844, '▁나타날': 11845, '▁대법관': 11846, '▁메신저': 11847, '국제올림픽위원회': 11848, 'EPL': 11849, '▁깁슨': 11850, '▁카펠로': 11851, '▁희귀': 11852, '▁추기경': 11853, '▁캐롤라인': 11854, 'USGS': 11855, 'UCI': 11856, '▁하니야': 11857, '▁게이머': 11858, '▁사직서': 11859, '▁아폴로': 11860, '▁희박': 11861, '▁동성결혼': 11862, '▁뉴잉글랜드': 11863, '▁비너스': 11864, '▁무자비': 11865, '▁test': 11866, '▁사형선고': 11867, '▁괴물': 11868, '▁빙산': 11869, '▁좌우': 11870, '▁그리핀': 11871, '▁아로요': 11872, 'ncer': 11873, '▁묵념': 11874, '▁즐겁': 11875, '습니까': 11876, '▁적혀있': 11877, '▁블랙워터': 11878, '▁항구도시': 11879, '▁룰라': 11880, '▁에밀리': 11881, '▁빠져나가': 11882, '▁바레인': 11883, '▁황폐': 11884, '▁탈퇴': 11885, '▁인내심': 11886, '▁욕구': 11887, '▁오스만': 11888, '▁즐겨': 11889, '▁쿠마르': 11890, '▁벌어질': 11891, '▁러브': 11892, '▁드라이브': 11893, '▁잠자리': 11894, '▁쏟아져': 11895, '▁잠겨': 11896, '▁옮겨졌다': 11897, '▁무효': 11898, '▁제이슨': 11899, '▁묻혀': 11900, '▁디젤': 11901, '▁꺼내': 11902, '▁요구사항': 11903, '▁순결': 11904, '▁연봉': 11905, '▁attacks': 11906, '▁모여들었다': 11907, '▁들어올': 11908, '▁어윈': 11909, '▁터져': 11910, '▁주어지': 11911, '▁환급': 11912, '▁호황': 11913, '▁중동평화회의': 11914, '▁최후': 11915, '▁난항': 11916, '▁취하기': 11917, '▁아이다호': 11918, '▁그레이스': 11919, '해왔으며': 11920, '▁버리고': 11921, '▁오닐': 11922, '&#4': 11923, '▁빅토': 11924, '▁의논': 11925, '▁표범': 11926, '▁교도통신': 11927, '▁아흐메드': 11928, '▁지하실': 11929, '▁누출': 11930, '▁난처': 11931, '▁루머': 11932, '▁JP': 11933, '▁무척': 11934, '▁집결': 11935, '▁티모': 11936, '▁항공편': 11937, '▁마스크': 11938, '▁과속': 11939, '▁강철': 11940, '▁전인대': 11941, '▁밝혀질': 11942, '▁출산율': 11943, '▁카누': 11944, '▁접종': 11945, '▁기대감': 11946, '▁소유즈': 11947, '▁종사하': 11948, '▁그런데': 11949, '▁과감': 11950, '▁탈선': 11951, '/4': 11952, '▁않을까': 11953, 'Inter': 11954, '▁제왕': 11955, '▁가져야': 11956, '▁제약회사': 11957, '-16': 11958, '▁오르기': 11959, '▁카렌': 11960, '▁자체적으로': 11961, '▁다름': 11962, '스러워': 11963, '▁이르다': 11964, '▁여러차례': 11965, '▁삼바': 11966, 'ship': 11967, '▁골든': 11968, '▁자동차업체': 11969, '▁수익금': 11970, '▁펜실베니아주': 11971, '▁비스타': 11972, '▁선교': 11973, '▁후원자': 11974, '▁고층': 11975, '▁감당': 11976, '▁코란': 11977, '0%': 11978, '▁1930': 11979, '▁사료': 11980, '▁알아야': 11981, '▁들려': 11982, '▁애정': 11983, '▁사립': 11984, '▁부양': 11985, '▁정당화': 11986, '▁사용하여': 11987, '▁선박들': 11988, '▁제작진': 11989, '▁운동화': 11990, '▁부의장': 11991, '▁티나': 11992, '▁타마': 11993, '▁친미': 11994, '▁벗어나기': 11995, '▁공화당원들': 11996, '▁지냈다': 11997, '웃': 11998, '▁가루': 11999, '▁저하': 12000, 'atch': 12001, '▁제품들': 12002, '▁원내': 12003, '했거나': 12004, '▁위크': 12005, '▁지질학': 12006, '▁충성': 12007, '▁예산안': 12008, 'tive': 12009, '▁적군': 12010, '▁부국장': 12011, 'former': 12012, '▁축하하기': 12013, '▁수사관들': 12014, '▁확정됐다': 12015, '▁측근들': 12016, '▁스티븐스': 12017, '▁노인들': 12018, '▁사용된다': 12019, '군요': 12020, '▁정부측': 12021, '화씨': 12022, '▁편집장': 12023, '▁석유회사': 12024, '▁인종적': 12025, '▁물건들': 12026, '▁병장': 12027, '▁다양성': 12028, '탈루': 12029, '▁넘었다': 12030, 'fter': 12031, '▁자백': 12032, '졌으나': 12033, '1974': 12034, '▁적었다': 12035, '▁고통스러': 12036, '렉스': 12037, '▁소행이라': 12038, '▁생사': 12039, '▁자백했다': 12040, '폭탄테러': 12041, '세르비아': 12042, '잇': 12043, '넣': 12044, '캘리포니아': 12045, '힐러리': 12046, '랭킹': 12047, '아일랜드': 12048, '자신의': 12049, '▁되는데': 12050, '▁운영되': 12051, '완전': 12052, '누구': 12053, '▁교사들': 12054, '노동자': 12055, '▁별장': 12056, '▁같지': 12057, '석유': 12058, '▁자국민': 12059, '▁희생됐다': 12060, '▁일방적': 12061, '▁관람객': 12062, '▁소매업': 12063, '회복': 12064, '▁우주국': 12065, '▁sur': 12066, '백만명': 12067, '▁준결승': 12068, '▁미시건': 12069, '▁브랜': 12070, '셸': 12071, '▁당사자': 12072, 'even': 12073, '▁주차장': 12074, '옳': 12075, '▁바람직': 12076, '벳': 12077, '▁살모넬라': 12078, 'Time': 12079, '팽': 12080, '켐': 12081, 'employ': 12082, '反': 12083, '펙': 12084, 'EADS': 12085, '▁claim': 12086, '▁official': 12087, '▁people': 12088, '▁strike': 12089, '▁summit': 12090, '▁two': 12091, '▁̋2007.11': 12092, '▁걸림돌': 12093, '▁검정색': 12094, '▁고르바초프': 12095, '▁늦추': 12096, '▁당뇨병': 12097, '▁독극물': 12098, '▁르완다': 12099, '▁리우데자네이루': 12100, '▁메릴린치': 12101, '▁몰랐다': 12102, '▁민주노동당': 12103, '▁바나프샤': 12104, '▁블래터': 12105, '▁빈민층': 12106, '▁서둘러': 12107, '▁스탤론': 12108, '▁스필버그': 12109, '▁아디다스': 12110, '▁악천후': 12111, '▁않았었다': 12112, '▁암스테르담': 12113, '▁예방접종': 12114, '▁위태롭게': 12115, '▁인신매매': 12116, '▁조류독감': 12117, '▁칠면조': 12118, '▁트리폴리': 12119, '▁헐리우드': 12120, '▁확립': 12121, '▁휴전협정': 12122, '▁흩어져': 12123, '英': 12124, '뚝': 12125, '띤': 12126, '샨': 12127, '쥬': 12128, '퐁': 12129, '2007.02': 12130, 'break': 12131, 'week': 12132, '▁KBS': 12133, '▁구소련': 12134, '▁여중생': 12135, '▁오래전부터': 12136, '▁제퍼슨': 12137, '▁즐거운': 12138, '▁항공모함': 12139, '팻': 12140, '▁마스터즈': 12141, '▁정보통신부': 12142, '▁쿼터백': 12143, '▁다이어트': 12144, '▁불공정': 12145, '▁영업이익': 12146, '▁에스트라다': 12147, '▁급성장': 12148, '▁낭독': 12149, '▁오디오': 12150, '▁존엄성': 12151, '▁하토야': 12152, '▁센트럴': 12153, '▁대성당': 12154, '▁조세프': 12155, '▁유동성': 12156, '▁고아원': 12157, '▁흥정': 12158, '▁개구리': 12159, '▁치뤄': 12160, '▁루카스': 12161, '▁깁스': 12162, '▁다둘라': 12163, '▁Polic': 12164, '▁산체스': 12165, '▁조심스럽게': 12166, '▁강대국': 12167, '▁차세대': 12168, '▁징조': 12169, '(36)': 12170, '(31)': 12171, '▁진상조사': 12172, '▁정착촌': 12173, '▁인공위성': 12174, '▁플루': 12175, '▁경수로': 12176, '▁특혜': 12177, '▁다이앤': 12178, '▁그만두': 12179, '▁노숙자': 12180, '▁북아일랜드': 12181, '▁카펫': 12182, '▁Burm': 12183, '▁유가족들': 12184, '▁클릭': 12185, '▁통합민주당': 12186, '▁진짜': 12187, '▁도망쳤다': 12188, '▁역전승': 12189, '▁블랙홀': 12190, '▁기념행사': 12191, '▁국영언론': 12192, '▁극도로': 12193, '▁사무국장은': 12194, '▁타계했다': 12195, '▁Press': 12196, '▁출혈': 12197, '▁크리스틴': 12198, '▁물리학자': 12199, '▁좁혀': 12200, '▁부유층': 12201, '▁More': 12202, '▁항의시위': 12203, '▁총파업': 12204, '▁리옹': 12205, '▁식별': 12206, '▁군복무': 12207, '▁로렌': 12208, '▁체험': 12209, '▁헬렌': 12210, '▁절망': 12211, '▁십자가': 12212, '▁출현': 12213, '▁Ex': 12214, '▁어워드': 12215, '▁관례': 12216, '▁무효화': 12217, '▁크랜': 12218, '▁핵연료': 12219, '▁무장조직': 12220, '▁로비스트': 12221, '▁몰락': 12222, '▁임원들': 12223, '▁진척': 12224, '▁인텔': 12225, '▁이슬람교도들': 12226, '▁카타르': 12227, '▁손잡': 12228, '극적으로': 12229, '▁그래함': 12230, '▁베니스': 12231, '▁올라왔다': 12232, '▁살인사건': 12233, '▁통신망': 12234, '▁머무르': 12235, '▁소년병': 12236, '▁실망감': 12237, '▁평화롭': 12238, '▁피켓': 12239, '▁축복': 12240, '▁돌렸다': 12241, '▁미주리주': 12242, '▁넘긴': 12243, '▁기네스': 12244, '▁제휴': 12245, '▁소실': 12246, '▁근방': 12247, '▁환경단체': 12248, '▁표본': 12249, 'ness': 12250, '▁절정': 12251, '▁상점들': 12252, '▁의장직': 12253, '▁일축': 12254, '▁로렌스': 12255, '▁737': 12256, '▁urge': 12257, '▁상환': 12258, '▁고등학생': 12259, '▁보내졌다': 12260, '▁국무회의': 12261, '▁강탈': 12262, '▁구제금융안': 12263, '▁명절': 12264, '▁망치': 12265, '▁지상군': 12266, '▁재앙': 12267, '▁현저': 12268, '▁귀중': 12269, '▁휘트': 12270, '▁오찬': 12271, '▁최장': 12272, '▁발령했다': 12273, '▁견제': 12274, '▁유타주': 12275, '▁SG': 12276, '레이즈': 12277, '▁고독': 12278, '▁진동': 12279, '▁황소': 12280, '▁최적': 12281, '▁조장하': 12282, '▁개통': 12283, '▁베이비': 12284, '▁마샤': 12285, '▁영하': 12286, '▁어류': 12287, '▁매설': 12288, '▁진술서': 12289, '▁싶다면': 12290, '▁변호인단': 12291, '▁임상': 12292, '▁불량': 12293, '군사훈련': 12294, '▁소비자들에게': 12295, '▁주의보': 12296, '▁구사하': 12297, '▁점유': 12298, '▁관용': 12299, '▁정복': 12300, '▁원형': 12301, '▁부친': 12302, '▁결선': 12303, '▁다량': 12304, '▁왔었다': 12305, '▁아담스': 12306, '▁자재': 12307, '▁부탁했다': 12308, '회사들': 12309, '▁집계됐다': 12310, '▁급락했다': 12311, '▁보잉사': 12312, '▁숨어있': 12313, '▁구조물': 12314, '▁처사': 12315, '행해진': 12316, '▁문화원': 12317, '됐음': 12318, '▁태워': 12319, '▁계획이었다': 12320, '▁경찰관들': 12321, '▁차이점': 12322, 'other': 12323, '▁우리들': 12324, '▁악수': 12325, '▁해안지역': 12326, '▁음식점': 12327, '▁비슷하다': 12328, 'ju': 12329, '▁깨어': 12330, '▁원석': 12331, '▁사망률': 12332, '▁정해진': 12333, '▁개별': 12334, '구조대': 12335, '베르트': 12336, '▁잠들': 12337, '▁참석자들': 12338, '▁정보통': 12339, '▁혁신적': 12340, '▁cont': 12341, 'rop': 12342, '▁게르': 12343, 'USS': 12344, '끈': 12345, '▁사라져': 12346, '▁1,2': 12347, '라이스': 12348, '▁작위': 12349, '담당자': 12350, '칩': 12351, '드립니다': 12352, '깊': 12353, 'CEO': 12354, '아프가니스탄': 12355, '콜롬비아': 12356, '심각한': 12357, '민주주의': 12358, '▁붕괴되': 12359, '결혼': 12360, '충격': 12361, '그리고': 12362, '득점': 12363, '어머니': 12364, '버락': 12365, '전세계': 12366, '특히': 12367, '코리아': 12368, '바라크': 12369, '▁생겼': 12370, '▁라벨': 12371, 'tar': 12372, '▁MP': 12373, '▁보이기': 12374, '▁0.7': 12375, '▁촉진시키': 12376, '▁정신병': 12377, '▁자동차회사': 12378, '불안': 12379, 'uni': 12380, '▁신자들': 12381, 'NT': 12382, '▁빠졌': 12383, '▁자리잡': 12384, '▁살아있다': 12385, '▁작동되': 12386, 'net': 12387, '즉각적으로': 12388, '▁거뒀': 12389, '▁극단주의': 12390, '바락': 12391, '▁메디컬': 12392, '▁급증했다': 12393, 'ism': 12394, 'ology': 12395, '▁냉각': 12396, 'ating': 12397, '섯': 12398, 'ina': 12399, '콧': 12400, '▁불러일으': 12401, 'eneral': 12402, '놔': 12403, '▁Week': 12404, '▁이바노비치': 12405, 'UNHCR': 12406, '▁Administration': 12407, '▁Health': 12408, '▁Securit': 12409, '▁Senate': 12410, '▁chief': 12411, '▁demand': 12412, '▁economic': 12413, '▁건강검진': 12414, '▁깨달았다': 12415, '▁놀이공원': 12416, '▁뇌졸중': 12417, '▁떠올랐다': 12418, '▁리투아니아': 12419, '▁멜버른': 12420, '▁물러났다': 12421, '▁바랐다': 12422, '▁볼티모어': 12423, '▁불균형': 12424, '▁불러일으켰다': 12425, '▁블록버스터': 12426, '▁스틸러스': 12427, '▁시에라리온': 12428, '▁식품의약국': 12429, '▁언젠가': 12430, '▁옥스포드': 12431, '▁재결합': 12432, '▁준이치로': 12433, '▁찾으려': 12434, '▁츠방기라이': 12435, '▁퀘벡': 12436, '▁평화협정': 12437, '▁프랑크푸르트': 12438, '▁플레이스테이션': 12439, '▁휠체어': 12440, '市': 12441, '긍': 12442, '늑': 12443, '랏': 12444, '스러웠다': 12445, '쑤': 12446, '윅': 12447, '▁200809.0': 12448, '▁ABN': 12449, '▁기울여야': 12450, '▁나미비아': 12451, '▁남동생': 12452, '▁볼드윈': 12453, '▁부총재': 12454, '▁비아그라': 12455, '▁옵션': 12456, '▁자페타': 12457, '▁트러스트': 12458, '뚜': 12459, '텀': 12460, '팡': 12461, '▁공상과학': 12462, '▁남겨두고': 12463, '▁내보냈다': 12464, '▁모레스모': 12465, '▁부동층': 12466, '▁카르발라': 12467, '▁패트로스': 12468, '▁햇빛': 12469, '퍼레이션': 12470, '▁노던록': 12471, 'HDA': 12472, '▁tax': 12473, '▁스즈키': 12474, '▁청원서': 12475, '▁탄원서': 12476, '▁전자메일': 12477, '▁흡입': 12478, '▁구속영장': 12479, '▁헬만드': 12480, '▁타디치': 12481, '▁상무부': 12482, 'GDP': 12483, '▁산악지대': 12484, '▁인수제안': 12485, '▁사무차장': 12486, '▁스콜스': 12487, '▁원동력': 12488, '▁중질유': 12489, '▁침착하': 12490, '▁사로잡': 12491, '▁서두르': 12492, '▁산시성': 12493, '▁컬럼비아호': 12494, '▁trans': 12495, '▁버나드': 12496, '▁포브스': 12497, '▁로드아일랜드': 12498, '▁수수료': 12499, '▁때때로': 12500, '▁엘리엇': 12501, '▁자위대': 12502, '▁그려진': 12503, '▁해들리': 12504, '▁있으므로': 12505, 'count': 12506, '▁trial': 12507, '▁다저스': 12508, '▁프린트': 12509, '▁이스마일': 12510, '▁축구팬들': 12511, '▁궁극적으로': 12512, '시드르': 12513, '▁희미': 12514, '▁검역': 12515, '▁액체': 12516, '▁작가조합': 12517, '으므로': 12518, '▁슬픈': 12519, '▁노동조합': 12520, '▁Medic': 12521, '▁레빈슨': 12522, '▁철폐': 12523, '▁벗겨': 12524, '▁국가안보회의': 12525, '▁six': 12526, '▁압델': 12527, '▁놓여있다': 12528, '▁Park': 12529, '▁현대자동차': 12530, '▁추산되': 12531, '▁언니': 12532, '▁주변국들': 12533, '▁부활절': 12534, '▁유대교': 12535, '▁soldiers': 12536, '▁당직자': 12537, '▁예상됩니다': 12538, '▁있냐': 12539, '▁신흥': 12540, '▁집값': 12541, '▁우주여행': 12542, '▁출처': 12543, '▁랜디': 12544, '▁계승': 12545, '▁연구자들': 12546, '▁찾아냈다': 12547, '▁차량폭탄': 12548, '▁헤엄': 12549, '▁스튜': 12550, '▁나눈': 12551, '▁키팅': 12552, '▁생애': 12553, '▁도발적': 12554, '▁1.5%': 12555, '▁알라위': 12556, 'ww': 12557, '▁불법행위': 12558, '▁신기록': 12559, '▁합쳐': 12560, '▁장례': 12561, '▁법무상': 12562, '▁내륙': 12563, '▁자동차산업': 12564, '▁1967': 12565, '▁생물체': 12566, '▁공헌': 12567, '첸코': 12568, '▁찰리': 12569, '▁완구': 12570, '▁오웬': 12571, '▁지명되기': 12572, '▁관통': 12573, '▁야채': 12574, '▁코웰': 12575, '▁폭도들': 12576, '▁흔들었다': 12577, '▁생생': 12578, '▁종목': 12579, '▁레빈': 12580, '▁Air': 12581, '▁증파': 12582, '▁폴락': 12583, '▁그레그': 12584, '▁유명인사들': 12585, '▁단결': 12586, '▁당사자들': 12587, '▁골절': 12588, '▁흉내': 12589, '▁용감': 12590, '▁풀려나': 12591, '▁사무국': 12592, '▁팬더': 12593, '▁돌아보': 12594, '▁찾아온': 12595, '▁사라졌': 12596, '▁루이지애나주': 12597, '▁자폭': 12598, '▁거론하': 12599, '▁무력화': 12600, '▁바꾼': 12601, '▁게시물': 12602, '▁청산': 12603, '▁단편': 12604, '▁아델': 12605, '▁강조하며': 12606, '짐에따라': 12607, '▁위함': 12608, '▁왕관': 12609, '▁진심': 12610, '▁줄리아': 12611, '▁브라이언트': 12612, '▁통제권': 12613, '▁배출량': 12614, '▁유로화': 12615, '▁거래되': 12616, '▁돌파구': 12617, '써': 12618, '▁애리조나주': 12619, '▁격전': 12620, '▁루터': 12621, '▁간주되': 12622, '▁증대': 12623, '▁발판': 12624, '▁과오': 12625, '▁도출': 12626, '▁타워': 12627, '▁청년들': 12628, '▁천국': 12629, '▁궁전': 12630, '▁실업자': 12631, '▁바다위': 12632, '▁깨진': 12633, '▁말해주': 12634, '▁생산업체': 12635, '▁늘었다': 12636, '▁난관': 12637, 'PR': 12638, '▁집중적': 12639, '▁등장한다': 12640, '▁박탈당': 12641, '▁특성': 12642, '▁중단시켰다': 12643, '투성이': 12644, '▁요리사': 12645, '▁인내': 12646, '▁독자적': 12647, 'cal': 12648, '▁관람객들': 12649, '▁동점': 12650, '▁지방정부': 12651, '▁조각들': 12652, 'long': 12653, '▁밝혀져': 12654, '▁하나였다': 12655, '▁위력': 12656, '▁해당한다': 12657, '프로스트': 12658, 'than': 12659, 'pose': 12660, 'ift': 12661, '▁통과시키': 12662, '▁축출된': 12663, 'ui': 12664, '▁부대변인': 12665, 'bur': 12666, '▁이루어졌': 12667, '▁장갑': 12668, '헌재': 12669, '▁블로거': 12670, 'rel': 12671, '▁관중들': 12672, '▁수출국': 12673, '▁이송됐으': 12674, '오카': 12675, '브론': 12676, '▁출동했다': 12677, '글래': 12678, '▁간주하': 12679, 'cial': 12680, 'EL': 12681, '▁맺어': 12682, '▁극복하': 12683, '못': 12684, '듀': 12685, 'OPEC': 12686, 'PKK': 12687, '홈': 12688, '따라서': 12689, '2009.01': 12690, '퀸': 12691, '여객기': 12692, '워싱턴': 12693, '레바논': 12694, '사르코지': 12695, '데일리': 12696, '베컴': 12697, '▁무장세력들': 12698, '여러분': 12699, '등록': 12700, '▁목장': 12701, '▁천장': 12702, 'orn': 12703, 'ft': 12704, '▁이재민들': 12705, '금치': 12706, '혁': 12707, '▁존재한다': 12708, 'illion': 12709, '▁소녀들': 12710, '되었는지': 12711, '프레드': 12712, '▁알려왔': 12713, 'We': 12714, '▁저질렀': 12715, '▁스타디움': 12716, '▁경찰국장': 12717, '▁같아': 12718, '▁신씨': 12719, '▁콜롬': 12720, 'ough': 12721, '▁kill': 12722, '▁지원자들': 12723, '갓': 12724, '▁끊겼': 12725, 'ING': 12726, 'People': 12727, '▁2007~2008': 12728, '▁California': 12729, '▁DAX': 12730, '▁France': 12731, '▁High': 12732, '▁IRNA': 12733, '▁Iran': 12734, '▁NHC': 12735, '▁Research': 12736, '▁Work': 12737, '▁candidate': 12738, '▁group': 12739, '▁market': 12740, '▁굉장히': 12741, '▁국가평의회': 12742, '▁냉장고': 12743, '▁다비덴코': 12744, '▁대검찰청': 12745, '▁래드클리프': 12746, '▁멤피스': 12747, '▁버킹엄': 12748, '▁부드러운': 12749, '▁사이언톨로지': 12750, '▁슈퍼마켓': 12751, '▁아르메니아': 12752, '▁전비법안': 12753, '▁칼데론': 12754, '▁타임스퀘어': 12755, '▁티크리트': 12756, '▁파키스탄인민당': 12757, '▁프랑수아': 12758, '▁하르툼': 12759, '▁혹등고래': 12760, '쟈': 12761, '줌': 12762, '퀘': 12763, '6,000': 12764, 'usiness': 12765, '▁grow': 12766, '▁구제금융법안': 12767, '▁국제영화제': 12768, '▁루고보이': 12769, '▁매몰된': 12770, '▁무기징역': 12771, '▁볼리비아': 12772, '▁애완용': 12773, '▁애틀랜틱': 12774, '▁출퇴근': 12775, '▁포유류': 12776, '북대서양조약기구': 12777, '엉': 12778, 'Black': 12779, '▁Thai': 12780, '▁니제르': 12781, '세컨드라이프': 12782, '▁대배심': 12783, '▁즐긴다': 12784, '▁home': 12785, '▁파딜라': 12786, '타이타닉': 12787, '▁섭씨': 12788, '▁여기저기': 12789, 'rious': 12790, '▁메이도프': 12791, '▁트레일러': 12792, '▁1972': 12793, '▁바이에른': 12794, '▁핵폐기': 12795, '▁아메바': 12796, '▁재경부': 12797, '▁금리인하': 12798, '▁리브니': 12799, '▁제레미': 12800, '▁메케인': 12801, '스타워즈': 12802, '▁모으고': 12803, '▁올림피': 12804, '▁파라오': 12805, '하였는데': 12806, '▁FAA': 12807, '▁불가사의': 12808, '▁버크헤드': 12809, '슬라브': 12810, '솔직히': 12811, '▁사진작가': 12812, 'house': 12813, '▁말리부': 12814, '(41)': 12815, '▁뛰어넘': 12816, '▁무언가': 12817, '(37)': 12818, 'rug': 12819, '▁바시르': 12820, '▁어쩔': 12821, '도날드': 12822, '▁소비에트': 12823, '(22)': 12824, '▁플린': 12825, '▁화학물질': 12826, '▁로빈': 12827, '▁알라스카': 12828, '▁비정상적': 12829, '▁show': 12830, '▁미뤄': 12831, '▁용도로': 12832, '쿼터': 12833, '▁군사행동': 12834, '▁CAC': 12835, '▁메인주': 12836, '▁남태평양': 12837, '▁마스리': 12838, '▁베이징올림픽': 12839, '▁killed': 12840, '▁1,500': 12841, '(30)': 12842, '▁봉투': 12843, '▁부모님': 12844, 'rough': 12845, '▁동아시아': 12846, '▁불륜': 12847, '▁옳은': 12848, '▁부정행위': 12849, '▁피난처': 12850, '▁홈경기': 12851, '▁로리언': 12852, '▁비밀요원': 12853, '▁포털': 12854, '▁로지스': 12855, '▁날카로': 12856, '▁4.5%': 12857, '▁십먼': 12858, '▁놀라움': 12859, '▁콜롬보': 12860, '▁복음': 12861, '▁우발적': 12862, '▁입후보': 12863, '▁푸른': 12864, '▁멜론': 12865, '▁비웃': 12866, '▁XP': 12867, '▁스노우': 12868, '▁범죄행위': 12869, '▁해산시키기': 12870, '▁정몽': 12871, '기동대': 12872, '▁누구인지': 12873, '▁빈센트': 12874, '▁hit': 12875, '▁일기장': 12876, '층짜리': 12877, '▁축구스타': 12878, '▁근절': 12879, '▁아프리카연합': 12880, '▁기관총': 12881, '▁자치권': 12882, '▁에베레스트산': 12883, '▁엔론': 12884, '▁하렐': 12885, '▁계급': 12886, '▁최신작': 12887, '▁놀란': 12888, '▁인권문제': 12889, 'had': 12890, '▁운용': 12891, '▁폭발사고': 12892, '▁형편': 12893, '▁교각': 12894, '▁난입': 12895, '▁도로변': 12896, '▁우편물': 12897, '▁대국민': 12898, '▁set': 12899, '▁보스톤': 12900, '▁야망': 12901, '▁로빈슨': 12902, '▁태생': 12903, '▁절실': 12904, '▁즉석': 12905, '▁만평': 12906, '▁번복': 12907, '▁고심하': 12908, '▁공공연': 12909, '▁선례': 12910, '▁국회의장': 12911, '▁거론되': 12912, '▁경합': 12913, '▁평온': 12914, '▁은둔': 12915, '▁용납하지': 12916, '▁2018': 12917, '▁들어설': 12918, '▁할렘': 12919, '▁설전': 12920, 'val': 12921, '▁버몬트주': 12922, '▁상향': 12923, '▁담요': 12924, '▁과연': 12925, '▁설비': 12926, '▁건축물': 12927, '▁매료': 12928, '▁난방': 12929, '▁연합정부': 12930, '▁악마': 12931, '▁대피시켰다': 12932, '▁생계': 12933, '▁포탄': 12934, '▁위독': 12935, '▁마술': 12936, '통합': 12937, '▁왕조': 12938, '▁궁지에': 12939, '▁0.5': 12940, '▁음료수': 12941, '▁인류학': 12942, '▁거머쥐었': 12943, 'ween': 12944, '▁불확실성': 12945, '▁소방당국': 12946, '▁제공되': 12947, '정규직': 12948, '실질적': 12949, '▁꺼리': 12950, '▁소실됐다': 12951, '▁보험회사': 12952, '▁토레스': 12953, '▁펼쳐진': 12954, '▁국세청장': 12955, '▁설사': 12956, 'VS': 12957, '클래': 12958, '학술': 12959, '▁보건장관': 12960, '▁방영되': 12961, '▁동의안': 12962, '▁향상시키': 12963, '▁구성원들': 12964, '▁통상적': 12965, '겠는가': 12966, '▁군사정부': 12967, '▁휴회': 12968, '▁나누어': 12969, '▁교장': 12970, '▁경쟁자들': 12971, 'emi': 12972, '▁기술자들': 12973, '셰르': 12974, '▁활동가들': 12975, '▁던졌': 12976, '▁존재하': 12977, '▁관점': 12978, '어지면서': 12979, '줬으': 12980, '김양': 12981, '강국': 12982, 'Tri': 12983, '▁구매자들': 12984, '맹': 12985, '끄': 12986, '슛': 12987, '템': 12988, '숨': 12989, '몸': 12990, '코소보': 12991, '녹': 12992, '라디오': 12993, '첫': 12994, '바이러스': 12995, '▁힘들어': 12996, '오프라': 12997, '위험': 12998, '남편': 12999, '▁약화시키': 13000, '▁각료들': 13001, '▁거기에': 13002, '▁미성년': 13003, '▁제압하': 13004, '▁떨어뜨': 13005, '▁천문학': 13006, '~200': 13007, '1977': 13008, '▁제조업자': 13009, '▁Sup': 13010, '▁6.8': 13011, '거래소에서': 13012, '▁2.0': 13013, '자와히리': 13014, '쿼': 13015, '덱': 13016, '탬': 13017, '애국전선': 13018, '껴': 13019, '▁Rights': 13020, '▁Society': 13021, '▁남우주연상': 13022, '▁네브라스카': 13023, '▁뉴욕타임즈': 13024, '▁아리조나': 13025, '뚱': 13026, '랴': 13027, '쿡': 13028, '퉁': 13029, '훌': 13030, '(57)': 13031, '(61)': 13032, 'Academy': 13033, 'SNCF': 13034, 'lobal': 13035, '▁Control': 13036, '▁economy': 13037, '▁problem': 13038, '▁return': 13039, '▁securit': 13040, '▁support': 13041, '▁threaten': 13042, '▁withdraw': 13043, '▁공동기자회견에': 13044, '▁나스랄라': 13045, '▁담았다': 13046, '▁대기오염': 13047, '▁대선예비후보': 13048, '▁더글라스': 13049, '▁디카프리오': 13050, '▁따돌렸다': 13051, '▁만토바니': 13052, '▁맛봤다': 13053, '▁머물렀다': 13054, '▁미식축구': 13055, '▁믿어지': 13056, '▁바예스테로스': 13057, '▁박스오피스': 13058, '▁발렌시아': 13059, '▁벗어났다': 13060, '▁분리독립': 13061, '▁사우스다코타': 13062, '▁시니오라': 13063, '▁신시내티': 13064, '▁아름답': 13065, '▁아쿠아리움': 13066, '▁에메랄드': 13067, '▁와코비아': 13068, '▁워싱턴포스트': 13069, '▁잉그리드': 13070, '▁카메룬': 13071, '▁카스파로프': 13072, '▁크라이튼': 13073, '▁홀로코스트': 13074, '눕': 13075, '뜰': 13076, '멕': 13077, '뭘': 13078, '샵': 13079, '샹': 13080, '펠릭스': 13081, '▁견뎌': 13082, '▁국가대표팀': 13083, '▁독립선언': 13084, '▁배트맨': 13085, '▁옥수수': 13086, '▁최연소': 13087, '갑작스럽게': 13088, '▁[[': 13089, '▁공청회': 13090, '▁쓰러진': 13091, '▁크로포드': 13092, '어느때보다': 13093, 'NDO': 13094, '▁라말라': 13095, '▁인공심장': 13096, '▁비무장지대': 13097, '▁우체국': 13098, '▁은하계': 13099, '▁전두환': 13100, '▁패터슨': 13101, '▁놀이기구': 13102, '▁퇴근': 13103, '▁허덕이': 13104, '▁사이언스': 13105, '▁산티아고': 13106, '▁분화구': 13107, '▁알메이다': 13108, '▁마피아': 13109, '▁어둡': 13110, '▁돌려보내': 13111, 'RBS': 13112, '▁성범죄자': 13113, '▁세르게이': 13114, 'AIDS': 13115, '▁보너스': 13116, '▁삼성전자': 13117, '▁도서관': 13118, '▁아침식사': 13119, '▁퇴출': 13120, '▁국가안보보좌관': 13121, '▁세비르': 13122, '외할머니': 13123, '▁제국주의': 13124, '▁올라간다': 13125, '▁종지부': 13126, '▁결론지었다': 13127, '(38)': 13128, '▁떠다니': 13129, '▁씨앗': 13130, '▁추도식': 13131, '▁민주변화운동': 13132, '▁트레이시': 13133, '▁헐값': 13134, '▁어쩌': 13135, '▁종합병원': 13136, '(52)': 13137, '다빈치': 13138, '▁리프트': 13139, '▁홍보담당자': 13140, '▁현명한': 13141, '▁와일드': 13142, '▁버핏': 13143, '▁김일성': 13144, '▁Union': 13145, '▁업종': 13146, '▁탐지기': 13147, '갤런': 13148, '▁켄트': 13149, '▁구급차': 13150, '▁탈옥': 13151, '▁선거인단': 13152, '▁재가동': 13153, '▁어둠': 13154, '▁평의회': 13155, '▁불상사': 13156, '▁온몸': 13157, '▁천수이': 13158, '(19)': 13159, '▁사육사들': 13160, '▁출몰': 13161, '▁회생': 13162, '▁낫다': 13163, '(40)': 13164, '▁아름다움': 13165, '▁건강보험': 13166, '했었지만': 13167, '▁출근': 13168, '▁패션쇼': 13169, '▁빠져나갔다': 13170, '▁who': 13171, '▁겨누': 13172, '(20)': 13173, '▁주모자': 13174, '▁갈망하': 13175, '▁고의적으로': 13176, '▁디즈니랜드': 13177, '▁틸리': 13178, '▁교훈': 13179, '▁약물검사': 13180, '▁수감생활': 13181, 'sex': 13182, '▁사형제도': 13183, '▁봉급': 13184, '▁베풀': 13185, '바레드': 13186, '▁잠정적': 13187, '2008.01': 13188, '▁검은색': 13189, '▁별칭': 13190, '할로윈': 13191, '▁있었는데': 13192, '▁노골적': 13193, '▁압류': 13194, '▁cut': 13195, '▁갑작스러': 13196, '▁채굴': 13197, '▁유명해졌다': 13198, '▁드럼': 13199, '▁완강': 13200, '▁만들어낸': 13201, '▁휴먼': 13202, '▁City': 13203, '▁도미니': 13204, '▁MTV': 13205, '플랜': 13206, '▁머독': 13207, '▁감기약': 13208, '▁잃었으며': 13209, '▁청취': 13210, '▁사망원인': 13211, '▁대리모': 13212, '▁페드로': 13213, 'AMA': 13214, '▁뉴먼': 13215, '▁마샬': 13216, '▁가져온': 13217, '▁축구협회': 13218, '▁필사적': 13219, '▁환경운동': 13220, '▁종교단체': 13221, '▁잠입': 13222, '▁떨어지면서': 13223, '▁터졌다': 13224, '▁암살사건': 13225, '▁편견': 13226, '▁월급': 13227, '▁축구선수': 13228, '▁숙박비': 13229, 'IJ': 13230, '▁케이티': 13231, '▁담합': 13232, '▁처방전': 13233, '▁deal': 13234, '▁샤리아': 13235, '▁주택시장': 13236, 'reme': 13237, '▁화산재': 13238, '▁애견': 13239, '▁홀더': 13240, '▁Iraqi': 13241, '▁합작': 13242, '▁소도시': 13243, '▁과열': 13244, '▁자궁': 13245, '▁듀크': 13246, '▁정치활동': 13247, '▁USB': 13248, '▁투자은행': 13249, '▁에릭슨': 13250, '▁구슬': 13251, '▁학계': 13252, '▁독려': 13253, '▁로케': 13254, '▁인출': 13255, '▁친지들': 13256, '▁카나리': 13257, '▁보장받': 13258, '프로축구': 13259, '부총리': 13260, '쥐스틴': 13261, '무차관': 13262, '▁청장': 13263, '▁않음': 13264, '▁이민국': 13265, '▁보수주의자들': 13266, '트루먼': 13267, '▁투명성': 13268, '▁근본주의자들': 13269, '▁용량': 13270, '▁임시정부': 13271, '▁소비량': 13272, 'dom': 13273, '▁상무위원': 13274, '1191': 13275, '▁office': 13276, '▁거주지역': 13277, 'Big': 13278, '▁통과시킨': 13279, '▁도와준': 13280, 'nois': 13281, '▁관장': 13282, '▁bill': 13283, '개인적': 13284, '▁산업지수': 13285, '유니티': 13286, '범들': 13287, '▁사죄': 13288, '▁부적절': 13289, '▁프라하': 13290, 'ham': 13291, '▁감정적': 13292, '▁소방대원들': 13293, '▁초고속': 13294, '▁교수들': 13295, '▁2008.12.1': 13296, '▁요인들': 13297, '▁인권단체들': 13298, '973': 13299, '▁스키장': 13300, '라이츠': 13301, 'WB': 13302, '▁연결하': 13303, '▁cl': 13304, '▁선호하': 13305, '▁탈북자들': 13306, '굿': 13307, '샘': 13308, '기상청': 13309, '꿈': 13310, '싸움': 13311, '누군가': 13312, '박물관': 13313, '앨범': 13314, '백악관': 13315, '마지막': 13316, '마이클': 13317, '사망자': 13318, '테니스': 13319, '경쟁': 13320, '리서치': 13321, 'night': 13322, '실험': 13323, '▁0.4': 13324, '▁경영자들': 13325, '▁lead': 13326, '▁받으면': 13327, '▁알프레': 13328, '▁중단하겠다': 13329, 'unda': 13330, '▁나와있': 13331, '▁작용하': 13332, '985': 13333, '▁드러냈': 13334, '▁검시': 13335, '평했다': 13336, '▁디스커버리': 13337, '듭': 13338, '스피어': 13339, '▁경기부양': 13340, 'Space': 13341, '오피니언': 13342, '▁발렌타인': 13343, '쏠': 13344, '캐시미르': 13345, '프로농구': 13346, 'Defense': 13347, 'Europe': 13348, 'John': 13349, '▁Commission': 13350, '▁Group': 13351, '▁Israel': 13352, '▁Microsoft': 13353, '▁NHK': 13354, '▁Washington': 13355, '▁capital': 13356, '▁sanction': 13357, '▁system': 13358, '▁고혈압': 13359, '▁굉장한': 13360, '▁나뭇가지': 13361, '▁노스다코타': 13362, '▁대북제재': 13363, '▁루프트한자': 13364, '▁맨하탄': 13365, '▁백과사전': 13366, '▁보궐선거': 13367, '▁브래들리': 13368, '▁비디오테이프': 13369, '▁사파테로': 13370, '▁산업자원부': 13371, '▁서부텍사스산': 13372, '▁스펙터': 13373, '▁아틀레티코': 13374, '▁알레르기': 13375, '▁알츠하이머': 13376, '▁연방준비은행': 13377, '▁월경작전': 13378, '▁인수합병': 13379, '▁조기총선': 13380, '▁족자카르타': 13381, '▁쫓아내': 13382, '▁차이나데일리': 13383, '▁캄푸쉬': 13384, '▁컨소시엄': 13385, '▁코리아타임즈': 13386, '▁코뿔소': 13387, '▁코펜하겐': 13388, '▁클랩튼': 13389, '▁클리브랜드': 13390, '▁통합러시아당': 13391, '▁트럼프': 13392, '▁파라마운트': 13393, '▁폴란스키': 13394, '▁해밀턴': 13395, '▁해수욕장': 13396, '▁행정명령': 13397, '▁확고히': 13398, '▁휘두르': 13399, '故': 13400, '간담회에서': 13401, '뎀': 13402, '드림라이너': 13403, '샴': 13404, '샷': 13405, '슬로바키아': 13406, '싹': 13407, '쥔': 13408, '챈': 13409, 'place': 13410, '▁Agency': 13411, '▁missile': 13412, '▁듀프레': 13413, '▁밀워키': 13414, '▁북방한계선': 13415, '▁스머프': 13416, '▁엔터프라이즈': 13417, '▁울프위츠': 13418, '▁이슬라미야': 13419, '性': 13420, '륨': 13421, '씬': 13422, '쪼': 13423, '퍽': 13424, '▁광저우': 13425, '▁서포터': 13426, '▁시트콤': 13427, '▁유럽중앙은행': 13428, '▁이스트우드': 13429, '▁천안문': 13430, '▁타바스코': 13431, '▁테러리즘': 13432, '만배럴': 13433, '언더파': 13434, '▁비무장': 13435, '▁스릴러': 13436, '▁시베리아': 13437, '▁에버튼': 13438, '어리석은': 13439, 'Earth': 13440, 'Green': 13441, '▁3~4': 13442, '▁냉소적': 13443, '▁복부비만': 13444, '▁현충일': 13445, '▁드물게': 13446, '▁친인척': 13447, '▁라마디': 13448, '▁배기가스': 13449, '▁유니폼': 13450, 'MLS': 13451, '▁임상실험': 13452, '▁트레이너': 13453, '▁혈압': 13454, '▁카제미': 13455, '▁곤봉': 13456, '▁루시디': 13457, 'KGB': 13458, '▁만수르': 13459, '퍼시픽': 13460, '▁스프링스틴': 13461, '▁카밀라': 13462, '▁쓰러지': 13463, '▁엘비스': 13464, '▁구덩이': 13465, '▁붐비는': 13466, '학저널': 13467, '▁끼치지': 13468, '▁착각': 13469, 'stem': 13470, '▁조연상': 13471, '▁주일미군': 13472, '▁헬멧': 13473, '됨으로써': 13474, '▁그랜트': 13475, '▁의정서': 13476, '▁혈통': 13477, '▁미생물': 13478, '▁에모리': 13479, '참전용사': 13480, '▁발리우드': 13481, '(42)': 13482, '▁디아즈': 13483, '▁비서관': 13484, '▁민주변화': 13485, '▁rul': 13486, '▁로하스': 13487, '▁어렸을': 13488, '▁스트립': 13489, '(35)': 13490, '▁적임자': 13491, '▁경신했다': 13492, '▁선두주자': 13493, '(28)': 13494, '▁클리닉': 13495, '▁메세지': 13496, '▁집주인': 13497, '▁클라우디': 13498, '▁확실시되': 13499, '▁에어컨': 13500, '▁스코어': 13501, '▁얼룩말': 13502, '▁블랙베리': 13503, '▁폭죽': 13504, '▁move': 13505, '▁클린트': 13506, '1966': 13507, '▁골드버그': 13508, '나르기스': 13509, '▁히잡': 13510, '▁give': 13511, '▁데이비스컵': 13512, '▁깨뜨': 13513, '▁청중들': 13514, '▁마땅': 13515, '▁report': 13516, '▁특검': 13517, '▁현존하': 13518, '▁전자제품': 13519, '▁겸손': 13520, '▁권좌': 13521, '▁press': 13522, '▁완패': 13523, '▁압축': 13524, 'water': 13525, '▁장병들': 13526, '▁Watch': 13527, '▁rate': 13528, '▁굴욕': 13529, '▁가르쳐': 13530, '▁타깃': 13531, 'Georg': 13532, '▁차량폭탄테러': 13533, '▁음란': 13534, '▁61%': 13535, '▁훔쳤': 13536, '▁과격단체': 13537, '▁보호구역': 13538, '▁상여금': 13539, '했어야': 13540, '카스피': 13541, '▁기상학자': 13542, '▁쇼핑센터': 13543, '▁지켜볼': 13544, '▁추락사고': 13545, '▁학습': 13546, '▁경범죄': 13547, '▁폭염': 13548, '▁돌봐': 13549, '▁남아시아': 13550, '▁서유럽': 13551, '▁없었으나': 13552, '▁금전적': 13553, '▁성폭력': 13554, '▁슈스터': 13555, '▁항목': 13556, '▁입혔다': 13557, '▁부흥': 13558, '▁38%': 13559, '▁3.5%': 13560, '▁유로스타': 13561, '▁출품': 13562, '▁붉은색': 13563, '▁굴복': 13564, '▁친근': 13565, '▁휩쓸려': 13566, '▁가리키': 13567, '▁평화회담': 13568, '▁슬림': 13569, '▁빛나는': 13570, '한계선': 13571, '▁대슐': 13572, '▁관절': 13573, '▁특유': 13574, '▁짐작': 13575, '대책본부': 13576, '▁종족': 13577, '▁올라있다': 13578, '▁소멸': 13579, '▁성폭행범': 13580, '▁추산하': 13581, '▁어부들': 13582, '▁취지': 13583, '▁교도관': 13584, 'clos': 13585, 'NSC': 13586, '▁요한슨': 13587, '▁잠복': 13588, '▁바람직하다': 13589, '해보면': 13590, '해지면서': 13591, '▁슈퍼대의원들': 13592, '▁최신호에': 13593, 'TAM': 13594, '선수들': 13595, '클로버': 13596, '▁leg': 13597, '▁시에나': 13598, '▁조합원들': 13599, '▁추측된다': 13600, 'poll': 13601, '▁행해지': 13602, '▁행정장관': 13603, '▁주가지수': 13604, '▁회기': 13605, '▁보수주의': 13606, '통계국': 13607, '▁응급실': 13608, '▁국정원장': 13609, '▁중부지역': 13610, 'Live': 13611, '▁소방서장': 13612, '▁글로리': 13613, 'well': 13614, '▁세워졌': 13615, '979': 13616, '▁심각해지': 13617, '▁영구적': 13618, '▁외곽지역': 13619, '▁통근자들': 13620, '▁취하겠다': 13621, '▁배심원들': 13622, '▁상인들': 13623, '보호법': 13624, '▁쥐들': 13625, '▁1.8': 13626, 'defe': 13627, '▁끝냈': 13628, 'stro': 13629, '▁추측되': 13630, '▁인기있': 13631, '▁행성들': 13632, '놓는다': 13633, '▁블로거들': 13634, '팬들': 13635, '▁당선되': 13636, '▁제조업체들': 13637, 'stra': 13638, '▁개별적': 13639, '▁장갑차': 13640, '▁Service': 13641, '놓았다': 13642, '뇌': 13643, '엑': 13644, '949': 13645, '벗': 13646, '빗': 13647, '덜': 13648, 'FDA': 13649, 'CDC': 13650, '쓸': 13651, '테러범들': 13652, '고등학교': 13653, '교도소': 13654, '웹': 13655, '일리노이': 13656, '컴퓨터': 13657, '중요한': 13658, '섞': 13659, '부상자': 13660, '라이언': 13661, '2009.0': 13662, '▁스프링': 13663, '▁무장괴한들': 13664, '▁범인들': 13665, '976': 13666, '▁악화시키': 13667, '▁발휘하': 13668, '▁느꼈': 13669, '▁모욕적': 13670, '▁기념하': 13671, '▁열정적': 13672, '▁개발도상국들': 13673, '▁attack': 13674, '▁증권거래': 13675, '▁안토니': 13676, '멧': 13677, '컬럼비아': 13678, '숭': 13679, '횡': 13680, '▁짐바브웨아프리카민족': 13681, 'Little': 13682, 'YouTube': 13683, '▁Heart': 13684, '▁TGV': 13685, '▁police': 13686, '▁program': 13687, '▁국제통화기금': 13688, '▁네델란드': 13689, '▁레터맨': 13690, '▁세계경제포럼': 13691, '▁세계무역센터': 13692, '▁아틀란티스': 13693, '▁업데이트': 13694, '▁융통성': 13695, '▁펀자브': 13696, '新': 13697, '넛': 13698, '엿': 13699, '줍': 13700, 'Church': 13701, 'IPCC': 13702, 'Wii': 13703, 'ccess': 13704, '▁Clinton': 13705, '▁EMI': 13706, '▁ESTA': 13707, '▁Government': 13708, '▁PETA': 13709, '▁UCLA': 13710, '▁hostage': 13711, '▁job': 13712, '▁toward': 13713, '▁공영방송': 13714, '▁굶주림': 13715, '▁까다로운': 13716, '▁나폴리타노': 13717, '▁난투극': 13718, '▁노란색': 13719, '▁노벨평화상': 13720, '▁뇌종양': 13721, '▁댕기열': 13722, '▁델라웨어': 13723, '▁레슬링': 13724, '▁록펠러': 13725, '▁롤러코스터': 13726, '▁맥클라렌': 13727, '▁메탄가스': 13728, '▁무너뜨리': 13729, '▁바뀌었다': 13730, '▁바리케이드': 13731, '▁보디가드': 13732, '▁부에노스아이레스': 13733, '▁브란카토': 13734, '▁선덜랜드': 13735, '▁수족구병': 13736, '▁순조롭': 13737, '▁스테로이드': 13738, '▁스트라이커': 13739, '▁스폰서': 13740, '▁스프린트': 13741, '▁어려웠다': 13742, '▁여우주연상': 13743, '▁오두막': 13744, '▁오랑우탄': 13745, '▁오마이뉴스': 13746, '▁유니버셜': 13747, '▁죄책감': 13748, '▁츠요시': 13749, '▁카트만두': 13750, '▁컨텐츠': 13751, '▁코카콜라': 13752, '▁콜럼버스': 13753, '▁콜럼비아': 13754, '▁쿠알라룸푸르': 13755, '▁테스토스테론': 13756, '▁템파베이': 13757, '▁파키스탄무슬림리그': 13758, '▁플랫폼': 13759, '▁핵사찰단': 13760, '▁행방불명': 13761, '▁헨더슨': 13762, '▁호나우지뉴': 13763, '▁히말라야': 13764, '랠': 13765, '삐': 13766, '산업평균지수': 13767, '쉘': 13768, '엣': 13769, '젼': 13770, '칫': 13771, '쿵': 13772, '트래포드': 13773, 'Facebook': 13774, 'KCNA': 13775, '▁control': 13776, '▁마르세유': 13777, '▁메디슨': 13778, '▁메트로폴리': 13779, '▁모토로라': 13780, '▁불태우': 13781, '▁스피커': 13782, '▁심사숙고': 13783, '교통안전위원회': 13784, '트랜스포머': 13785, 'rank': 13786, '▁가디언': 13787, '▁가비알': 13788, '▁로버츠': 13789, '▁애국심': 13790, '▁유투브': 13791, '▁의사소통': 13792, '▁팽창': 13793, '▁헤드폰': 13794, 'Change': 13795, 'entral': 13796, '▁강렬한': 13797, '▁극단적인': 13798, '▁저질러': 13799, '선글라스': 13800, '펜타곤': 13801, '▁이병헌': 13802, '▁2006.03': 13803, '▁고래상어': 13804, '▁국유화': 13805, '▁현기증': 13806, 'NLD': 13807, '▁목걸이': 13808, '▁살펴보': 13809, '▁갓난': 13810, '▁멜리사': 13811, '▁컨트리': 13812, '오피니언리서치': 13813, '▁내버려': 13814, '▁물대포': 13815, '▁안테나': 13816, '▁모니카': 13817, '▁클래식': 13818, '▁비엔나': 13819, '▁로보트': 13820, '▁징집': 13821, '▁비참한': 13822, '▁빌라로사': 13823, '▁아세안': 13824, '▁제노아': 13825, 'eague': 13826, '▁플레임': 13827, '▁납세자들': 13828, '▁내보내': 13829, '▁에볼라': 13830, '▁레예스': 13831, '▁불도저': 13832, '▁오마하': 13833, '불공평': 13834, '▁훔치': 13835, '▁욕설': 13836, '▁어소시에이션': 13837, '▁튜브': 13838, 'CPS': 13839, '▁갑판': 13840, '▁불어넣': 13841, '▁좌초': 13842, '▁맹렬': 13843, '▁산유국': 13844, '▁카우치': 13845, '▁염증': 13846, '▁자랑스러워': 13847, '▁Times': 13848, '▁플로렌스': 13849, '▁아스카리': 13850, '▁흉선': 13851, '▁니가타': 13852, '▁리스본': 13853, '▁욕실': 13854, '▁가오리': 13855, '▁끼치는': 13856, '▁운전기사': 13857, '▁무작위': 13858, '(59)': 13859, '▁Ill': 13860, '▁왓슨': 13861, '▁다가왔다': 13862, '▁익숙하': 13863, '▁consumer': 13864, '▁너머': 13865, '▁로스쿨': 13866, '▁브라우': 13867, '▁마운트': 13868, '▁체인점': 13869, '▁플래카드': 13870, '▁영국인들': 13871, '▁양조장': 13872, '▁유원지': 13873, '▁부녀자': 13874, '▁히트곡': 13875, '▁셀틱': 13876, '(48)': 13877, '이었는데': 13878, '▁good': 13879, '(44)': 13880, '▁무리뉴': 13881, '▁안와르': 13882, '▁악몽': 13883, '▁선거운동본부': 13884, '▁free': 13885, '▁호프만': 13886, '▁윈스턴': 13887, '▁meeting': 13888, '▁몰려들었': 13889, '▁취미': 13890, '▁징수': 13891, '▁터뜨렸다': 13892, '▁탁자': 13893, '▁붙어있': 13894, '▁풍습': 13895, '▁제주도': 13896, '▁사무엘': 13897, '▁마지드': 13898, '▁니켈': 13899, '▁강제진압': 13900, '▁돌려받': 13901, '▁fail': 13902, '▁기반시설': 13903, '▁처해있다': 13904, '▁웬디': 13905, '▁폰테': 13906, '=278': 13907, '▁크리스마스트리': 13908, '▁슈웨': 13909, '▁달려있다': 13910, '▁Hong': 13911, '▁스마트': 13912, '▁관중석': 13913, '▁목욕': 13914, '▁펠트': 13915, '▁용암': 13916, '▁따냈다': 13917, '▁동결자금': 13918, '▁풍속': 13919, '▁도둑': 13920, '▁잠겼다': 13921, '▁높아져': 13922, '▁라이플': 13923, '▁바에즈': 13924, 'ground': 13925, '▁납품': 13926, '▁결탁': 13927, '▁멕시코시티': 13928, '▁브랜슨': 13929, 'less': 13930, '▁베넷': 13931, '▁48%': 13932, '▁스페이스': 13933, '▁쌍방': 13934, '▁중개인': 13935, '더러운': 13936, '▁민감하': 13937, '▁율법': 13938, '▁실정이': 13939, '었어요': 13940, '▁4~5': 13941, '▁종합지수': 13942, '▁필수적': 13943, '▁vote': 13944, 'Good': 13945, '▁둔화되': 13946, '▁현명하': 13947, '▁연결시키': 13948, '▁외교부장관': 13949, '▁이슬람인들': 13950, '▁용이하': 13951, 'round': 13952, '▁엔지니어들': 13953, 'udi': 13954, '일방적인': 13955, '▁0.1': 13956, '▁충족시키': 13957, '▁이뤄졌으': 13958, '자유주의': 13959, '대변인은': 13960, '1.7%': 13961, '스토어': 13962, '▁절대적': 13963, '▁아니었': 13964, '▁부끄러': 13965, '▁연인들': 13966, '▁혁신': 13967, '▁시민단체들': 13968, '▁주최하': 13969, '클라라': 13970, '▁생산되': 13971, '▁있겠': 13972, '▁트랜': 13973, '3,000': 13974, '2,000': 13975, '▁장려하': 13976, '겸': 13977, '옷': 13978, '넘': 13979, '주한미군': 13980, '조종사': 13981, '윌리엄': 13982, '멕시코': 13983, '▁투표자들': 13984, '희생자': 13985, '화요일': 13986, 'Korean': 13987, '똑': 13988, '이집트': 13989, '묻': 13990, '소비자': 13991, '여성들': 13992, '사람들': 13993, '▁연결되': 13994, '▁공공장소': 13995, '▁비서실': 13996, '▁Africa': 13997, 'Sea': 13998, '낫': 13999, 'Institute': 14000, '▁York': 14001, '▁announce': 14002, '▁investigation': 14003, '▁교토의정서': 14004, '▁되돌려': 14005, '▁샌디에고': 14006, '▁압수수색': 14007, '▁약물복용': 14008, '▁유벤투스': 14009, '▁타지마할': 14010, '맙': 14011, '송완영': 14012, 'ASEAN': 14013, 'Democrat': 14014, 'Federal': 14015, 'JAXA': 14016, 'Memorial': 14017, 'NTSB': 14018, 'Organization': 14019, '▁French': 14020, '▁IUCN': 14021, '▁OLPC': 14022, '▁Prevention': 14023, '▁SARS': 14024, '▁Taliban': 14025, '▁envoy': 14026, '▁illegal': 14027, '▁invest': 14028, '▁short': 14029, '▁가브리엘': 14030, '▁곤살레스': 14031, '▁교통체증': 14032, '▁구테레스': 14033, '▁기조연설': 14034, '▁네브래스카': 14035, '▁되찾았다': 14036, '▁디와니야': 14037, '▁라이베리아': 14038, '▁라자스탄': 14039, '▁레오나르도': 14040, '▁마르티네즈': 14041, '▁맥코넬': 14042, '▁몬태나': 14043, '▁무사콸라': 14044, '▁문자메시지': 14045, '▁버밍엄': 14046, '▁보드랜더': 14047, '▁브루클린': 14048, '▁소용돌이': 14049, '▁스페셜': 14050, '▁아틀란타': 14051, '▁아흐마드': 14052, '▁야누코비치': 14053, '▁에스판디아리': 14054, '▁여겨진다': 14055, '▁원심분리기': 14056, '▁유혈충돌': 14057, '▁인테르팍스': 14058, '▁자바코뿔소': 14059, '▁전시작전통제권': 14060, '▁조직폭력배': 14061, '▁치솟았다': 14062, '▁카디널스': 14063, '▁카슈미르': 14064, '▁컵케이크': 14065, '▁콘테스트': 14066, '▁큐레이터': 14067, '▁크루그먼': 14068, '▁크메르루즈': 14069, '▁태즈메이니아': 14070, '▁파르베즈': 14071, '▁페르난데즈': 14072, '▁펠프스': 14073, '▁풍력발전기': 14074, '▁프랑코': 14075, '▁프리미엄': 14076, '▁피츠제럴드': 14077, '▁황열병': 14078, '▁휴먼라이츠워치': 14079, '▁흑색종': 14080, '궂': 14081, '다케시마': 14082, '렝': 14083, '시킴으로써': 14084, '오퍼튜니티': 14085, '프레틸린': 14086, 'Kurdis': 14087, '▁Auto': 14088, '▁dead': 14089, '▁politic': 14090, '▁고프섬': 14091, '▁공동묘지': 14092, '▁공정거래위원회': 14093, '▁데이터베이스': 14094, '▁박스데일': 14095, '▁백만장자': 14096, '▁보았습니': 14097, '▁불충분': 14098, '▁스펜서': 14099, '▁양귀비': 14100, '▁연방대법원': 14101, '▁치나왓': 14102, '▁secret': 14103, '▁거식증': 14104, '▁농무부': 14105, '▁뇌물수수': 14106, '▁동아태': 14107, '▁반독점': 14108, '▁삽입': 14109, '▁수뇌부': 14110, '▁십자군': 14111, '▁핵원자로': 14112, '▁회계연도': 14113, '녕': 14114, '▁Dae': 14115, '▁나가사키': 14116, '▁상무장관': 14117, '▁알레한드': 14118, '▁트레제게': 14119, '▁파라과이': 14120, '▁라리자니': 14121, '▁마들렌': 14122, '▁숭배': 14123, '▁영주권': 14124, '▁체스판': 14125, '▁친서방': 14126, '▁나탄즈': 14127, '▁앵커리지': 14128, '▁울타리': 14129, '▁동호회': 14130, '▁모레노': 14131, '▁프로세서': 14132, '▁Law': 14133, '▁개회식': 14134, '▁미들턴': 14135, '롤링스톤스': 14136, '▁아티스트': 14137, '▁언쟁': 14138, '▁외무상': 14139, '▁관방장관': 14140, '▁농경지': 14141, 'KLM': 14142, '▁재구성': 14143, '▁비키니': 14144, '▁호기심': 14145, '캐리비안': 14146, 'MySpace': 14147, '▁고생물학자': 14148, '▁인권운동가': 14149, '▁탬파': 14150, '▁오클리': 14151, '▁구치소': 14152, '▁메수드': 14153, '▁불사조': 14154, '▁오름세': 14155, '▁산토스': 14156, '▁엄밀': 14157, '▁0.6%': 14158, '▁아파치': 14159, '▁Music': 14160, '▁총기소지': 14161, '▁밀어붙': 14162, '▁누워있': 14163, '▁국가안전보장회의': 14164, '▁잔디코트': 14165, '▁냉정': 14166, '▁노스웨스트': 14167, '▁바우어': 14168, '▁prim': 14169, '▁켈러': 14170, '▁general': 14171, '▁해파리': 14172, '▁Spain': 14173, '▁피아트': 14174, '▁국가원수': 14175, '▁럭비': 14176, '▁메이저리그': 14177, '▁선제공격': 14178, '▁리브스': 14179, '▁징크': 14180, '▁풀어줬다': 14181, '▁아메리칸리그': 14182, '▁갑부': 14183, '▁매혹적': 14184, '▁붙잡혔다': 14185, '▁성수기': 14186, '▁쇼핑객들': 14187, '▁007': 14188, '▁도보로': 14189, '▁팩스': 14190, '▁미립자': 14191, '▁자유무역': 14192, '▁마이어스': 14193, '▁유대관계': 14194, '▁고속철': 14195, '▁정전사태': 14196, '▁파트너십': 14197, '▁arm': 14198, '▁양로원': 14199, '▁알리탈리아': 14200, '▁교묘': 14201, '▁남아메리카': 14202, '▁레이첼': 14203, '▁자연보호': 14204, '▁대명사': 14205, 'power': 14206, '▁권익': 14207, '▁보복공격': 14208, '▁일어났는지': 14209, '▁다이빙': 14210, '▁데려가': 14211, '▁받으려': 14212, '▁특허': 14213, '▁이글스': 14214, '▁East': 14215, '▁이정표': 14216, '▁41%': 14217, '▁클래스': 14218, '▁옳다': 14219, '했어요': 14220, '▁체이스': 14221, '▁회상했': 14222, '▁습성': 14223, '▁open': 14224, '▁난무하': 14225, '▁사교적': 14226, '▁실용적': 14227, '▁apolog': 14228, '▁플러': 14229, 'person': 14230, '▁남겨놓': 14231, 'Meet': 14232, '▁점진적': 14233, '▁출생률': 14234, 'Free': 14235, '항소법원': 14236, '▁예일대': 14237, '▁India': 14238, '▁주력하': 14239, '▁원로들': 14240, '▁주관하': 14241, '▁투입되': 14242, '▁당황스럽': 14243, '▁살고있': 14244, '▁개발자들': 14245, 'rida': 14246, '레일리': 14247, '주지사': 14248, '▁환호하': 14249, '▁물리쳤': 14250, '▁고민하': 14251, '▁증진시키': 14252, 'Shi': 14253, '▁택하': 14254, 'ormer': 14255, '▁인식되': 14256, '▁법사위': 14257, '前': 14258, 'BDA': 14259, 'Center': 14260, '앨': 14261, '챔피언십': 14262, '윌': 14263, '돌고래': 14264, '밥': 14265, '그래서': 14266, '여론조사': 14267, '변호사': 14268, '오랫동안': 14269, '가자지구': 14270, '짐바브웨': 14271, '텍사스': 14272, '공화당': 14273, '▁초래하': 14274, '유대인': 14275, 'off': 14276, '▁옹호하': 14277, '▁성직자들': 14278, '▁염려하': 14279, '▁느낀': 14280, '▁무너졌': 14281, '▁않았으': 14282, '▁아흐메': 14283, '럿': 14284, '왁': 14285, '▁Elect': 14286, '핏': 14287, 'onsumer': 14288, '뉘': 14289, '낀': 14290, 'Barack': 14291, '▁2-0(7-6': 14292, '▁research': 14293, 'Google': 14294, 'mission': 14295, '▁2-0(6-46-': 14296, '▁AEY': 14297, '▁Council': 14298, '▁Office': 14299, '▁ambassador': 14300, '▁bomb': 14301, '▁dispute': 14302, '▁expresse': 14303, '▁human': 14304, '▁resume': 14305, '▁school': 14306, '▁spending': 14307, '▁국내총생산': 14308, '▁군사분계선': 14309, '▁낙관론': 14310, '▁내려앉았다': 14311, '▁네티즌': 14312, '▁당혹감': 14313, '▁도로매설폭탄테러': 14314, '▁도마뱀': 14315, '▁떠들썩': 14316, '▁뚱뚱': 14317, '▁레즈비언': 14318, '▁류마티스': 14319, '▁르윈스키': 14320, '▁모래주머니': 14321, '▁몽고메리': 14322, '▁무그니예': 14323, '▁무력충돌': 14324, '▁미네아폴리스': 14325, '▁밴쿠버': 14326, '▁보르네오': 14327, '▁사모펀드': 14328, '▁상파울로': 14329, '▁선댄스': 14330, '▁스턴트맨': 14331, '▁아유르베다': 14332, '▁안타깝게': 14333, '▁알루미늄': 14334, '▁앞질렀다': 14335, '▁양쯔강': 14336, '▁연두교서': 14337, '▁오클랜드': 14338, '▁온두라스': 14339, '▁은자메나': 14340, '▁이매뉴얼': 14341, '▁인권탄압': 14342, '▁자이언츠': 14343, '▁전년동기': 14344, '▁준우승': 14345, '▁최루가스': 14346, '▁추돌사고': 14347, '▁컨디션': 14348, '▁콘텐츠': 14349, '▁크렘린': 14350, '▁트리니다드': 14351, '▁틀림없다': 14352, '▁티모셴코': 14353, '▁파브레가스': 14354, '▁파이어폭스': 14355, '▁페더라인': 14356, '▁페덜라인': 14357, '▁페샤와르': 14358, '▁프랜시스': 14359, '▁하룻밤': 14360, '▁햄프셔': 14361, '▁호주오픈테니스대회': 14362, '▁히딩크': 14363, '농축우라늄': 14364, '센티미터': 14365, '주택담보대출': 14366, '펭': 14367, '▁Intel': 14368, '▁declar': 14369, '▁detain': 14370, '▁public': 14371, '▁ready': 14372, '▁공중보건': 14373, '▁도라에몽': 14374, '▁식약청': 14375, '▁신입생': 14376, '▁안타깝다': 14377, '▁이슬라믹': 14378, '▁캐스팅': 14379, '▁쿠르드노동자당': 14380, '▁탄자니아': 14381, '▁테베즈': 14382, '난민고등판무관': 14383, 'ODM': 14384, 'credit': 14385, '▁country': 14386, '▁경각심': 14387, '▁경질유': 14388, '▁깃털': 14389, '▁나침반': 14390, '▁대한축구협회': 14391, '▁사탕수수': 14392, '▁앞당겨': 14393, '▁에라카트': 14394, '▁이라와디': 14395, '▁처토프': 14396, '▁핵탄두': 14397, '▁볼프강': 14398, '▁송유관': 14399, '▁아인슈타인': 14400, '▁요제프': 14401, '▁차베즈': 14402, '▁법조계': 14403, '▁불시착': 14404, '▁빙붕': 14405, '▁양키즈': 14406, '▁코리아타임스': 14407, '▁토머스': 14408, '▁불투명': 14409, '▁비아컴': 14410, '▁습득': 14411, '포토맥': 14412, 'BOJ': 14413, '▁더블린': 14414, '7.1%': 14415, '▁군수품': 14416, '▁솟아': 14417, '▁유독성': 14418, '▁놔두': 14419, '▁로맨스': 14420, '▁아유브': 14421, '▁오초아': 14422, '▁발코니': 14423, '▁펑크': 14424, '▁하누만': 14425, '레키마': 14426, '헥타르': 14427, '▁라보프': 14428, '▁소더비': 14429, '▁희곡': 14430, '▁장신구': 14431, '▁코레아': 14432, '▁Prosecutors': 14433, '▁DRM': 14434, '▁야스오': 14435, '▁행정수도': 14436, '▁treat': 14437, '▁대참사': 14438, '▁웨일즈': 14439, '▁고구려': 14440, '▁오스본': 14441, '불가사리': 14442, '▁시험발사': 14443, '▁허친스': 14444, '▁앞장서': 14445, '▁욕망': 14446, '▁행자부': 14447, '▁호르무': 14448, '▁가로지르': 14449, '▁에어라인': 14450, '▁쿠르조': 14451, '▁미스터리': 14452, '▁은하수': 14453, '▁이회창': 14454, '▁오피스': 14455, '▁증폭되': 14456, '▁타리크': 14457, '▁털어놨다': 14458, '▁카다피': 14459, '▁되살리': 14460, '▁퇴거': 14461, '▁흐른': 14462, 'CES': 14463, 'SAG': 14464, '▁잉카': 14465, '▁내세우': 14466, '▁과체중': 14467, '▁혈류': 14468, '▁나자프': 14469, '▁피로연': 14470, '▁Act': 14471, 'NGO': 14472, '▁중무장': 14473, '▁졸업생들': 14474, '▁첨단기술': 14475, '▁콘돔': 14476, '▁여겨졌': 14477, '▁million': 14478, '▁힐러리여사': 14479, 'jung': 14480, '▁욕조': 14481, '(34)': 14482, '장기기증': 14483, '▁러닝': 14484, '▁관영언론': 14485, '▁아마존닷컴': 14486, '▁파울로': 14487, '▁침식': 14488, '▁무관하다': 14489, '▁랄프': 14490, '▁편의점': 14491, '유망주': 14492, '(17)': 14493, '▁dra': 14494, '▁디디에': 14495, '▁나아지': 14496, '▁흑해': 14497, '▁Thre': 14498, '올스타전': 14499, '▁경제대국': 14500, '▁부러지': 14501, '▁모으는': 14502, '▁이력서': 14503, '▁선거구에서': 14504, '1961': 14505, '▁프로이드': 14506, '▁피고측': 14507, '▁Asia': 14508, '▁창시자': 14509, '▁지부장': 14510, '▁선천적': 14511, '▁부족장들': 14512, 'Today': 14513, '▁고용주들': 14514, 'gue': 14515, '▁퍼부었': 14516, '▁텔레': 14517, '▁담겨있': 14518, 'surge': 14519, '▁order': 14520, '▁덧붙였': 14521, '들끼리': 14522, '심의위원회': 14523, '0.1%': 14524, '▁야만적': 14525, 'AAA': 14526, '7,500': 14527, 'Tech': 14528, '야생보호': 14529, '▁고통스럽': 14530, '▁Che': 14531, '잘랄': 14532, '▁도처에': 14533, '▁산악인들': 14534, '▁이용되': 14535, '▁모여있': 14536, '▁호의적': 14537, '▁인도인들': 14538, '▁Islam': 14539, '▁기독교인들': 14540, '5.5%': 14541, '▁악의적': 14542, '▁09:': 14543, 'prom': 14544, '▁유입되': 14545, '0.8': 14546, '▁09:0': 14547, 'ific': 14548, '▁공급되': 14549, '아라비아': 14550, '연방수사국': 14551, '깨': 14552, 'IMF': 14553, '좁': 14554, '대서양': 14555, 'Korea': 14556, '낮': 14557, '플레이어': 14558, '법무장관': 14559, '디즈니': 14560, '크라이슬러': 14561, '美': 14562, '다이아몬드': 14563, '아르헨티나': 14564, '테러리스트들': 14565, '인도네시아': 14566, '베네수엘라': 14567, '곧': 14568, '노무현': 14569, '비디오': 14570, '펄': 14571, '2006.0': 14572, 'were': 14573, 'rgin': 14574, '▁받아들였': 14575, '6-4)': 14576, '▁인지하': 14577, '섹': 14578, '애나폴리스': 14579, 'niversa': 14580, '툼': 14581, '크로프트': 14582, '됨': 14583, '▁meet': 14584, 'uge': 14585, '냄': 14586, '▁오렌지민주운동': 14587, '꼈': 14588, 'Dream': 14589, 'craft': 14590, 'onfidence': 14591, '▁Afghanistan': 14592, '▁Baghdad': 14593, '▁Department': 14594, '▁Foundation': 14595, '▁MVP': 14596, '▁RSPB': 14597, '▁celebr': 14598, '▁rights': 14599, '▁국정홍보처': 14600, '▁니네베': 14601, '▁다이얄라': 14602, '▁뛰쳐나': 14603, '▁세계무역기구': 14604, '▁식습관': 14605, '▁아날로그': 14606, '▁않았음': 14607, '▁철조망': 14608, '▁텔레그래프': 14609, '▁퍼시픽라이프': 14610, '▁피오렌티나': 14611, '▁헬맨드': 14612, '9,000': 14613, 'Girls': 14614, 'OSCE': 14615, 'Palestinian': 14616, 'Tibet': 14617, 'Transport': 14618, 'Travel': 14619, 'cross': 14620, 'space': 14621, '▁AHA': 14622, '▁Beijing': 14623, '▁CITY': 14624, '▁Internet': 14625, '▁Island': 14626, '▁Republican': 14627, '▁SNL': 14628, '▁accuse': 14629, '▁damage': 14630, '▁face': 14631, '▁increase': 14632, '▁insurgent': 14633, '▁militant': 14634, '▁push': 14635, '▁question': 14636, '▁unveil': 14637, '▁가시와자키': 14638, '▁고농축': 14639, '▁고맙게': 14640, '▁골든노리호': 14641, '▁공업평균지수': 14642, '▁기상캐스터': 14643, '▁나노튜브': 14644, '▁남북정상회담': 14645, '▁대학탐방': 14646, '▁동메달': 14647, '▁마다가스카르': 14648, '▁마우리타니아': 14649, '▁만리장성': 14650, '▁맨스필드': 14651, '▁맨하튼': 14652, '▁머큐리': 14653, '▁미니애폴리스': 14654, '▁발기부전': 14655, '▁베오그라드': 14656, '▁변양균': 14657, '▁부딪혔다': 14658, '▁불꽃놀이': 14659, '▁블란쳇': 14660, '▁비윤리적': 14661, '▁상호작용': 14662, '▁새천년민주당': 14663, '▁샐러드': 14664, '▁서던캘리포니아': 14665, '▁서머타임제': 14666, '▁세계식량계획': 14667, '▁세인트루이스': 14668, '▁소사이어티': 14669, '▁소크라테스': 14670, '▁솔루션': 14671, '▁스퀘어': 14672, '▁스탠포드': 14673, '▁스톡홀름': 14674, '▁시기상조라': 14675, '▁신용불량자': 14676, '▁쌓여있': 14677, '▁영양실조': 14678, '▁운전면허': 14679, '▁원자력발전소': 14680, '▁월스트리트저널': 14681, '▁유칼립투스': 14682, '▁육군참모총장': 14683, '▁이타르타스': 14684, '▁인센티브': 14685, '▁적신월사': 14686, '▁진눈깨비': 14687, '▁질병통제예방센터': 14688, '▁집중호우': 14689, '▁최후통첩': 14690, '▁칼럼니스트': 14691, '▁케플리': 14692, '▁키르쿠크': 14693, '▁토너먼트': 14694, '▁파푸아뉴기니': 14695, '▁필하모닉': 14696, '▁항생물질': 14697, '▁환경오염': 14698, '깅': 14699, '스나입스': 14700, '옴': 14701, '워터큐브': 14702, '찮': 14703, '▁PBS': 14704, '▁send': 14705, '같': 14706, '댄': 14707, '갖': 14708, '뱀': 14709, '묵': 14710, '샌': 14711, '좀': 14712, '꼭': 14713, '놨': 14714, '즌': 14715, '둠': 14716, '삽': 14717, '댈': 14718, '핼': 14719, '휠': 14720, '땅': 14721, '빼': 14722, '댐': 14723, '빵': 14724, '뛰': 14725, '콰': 14726, '멀': 14727, '맛': 14728, '쌀': 14729, '즉': 14730, 'q': 14731, '팟': 14732, '펫': 14733, '앗': 14734, '탤': 14735, '쳇': 14736, '붐': 14737, '헐': 14738, '팜': 14739, '킥': 14740, '깜': 14741, '폼': 14742, '펑': 14743, '귄': 14744, '낄': 14745, '뭇': 14746, '촛': 14747, '룻': 14748, '셴': 14749, '셍': 14750, '잭': 14751, '쓴': 14752, '밑': 14753, '삶': 14754, '꿀': 14755, '쩔': 14756, '솟': 14757, '옵': 14758, '싯': 14759, '쏘': 14760, '맡': 14761, '숲': 14762, '큼': 14763, '꿔': 14764, '눠': 14765, '볍': 14766, '쩌': 14767, '숫': 14768, '츨': 14769, '헥': 14770, '덧': 14771, '닭': 14772, '뚫': 14773, '*': 14774, '넓': 14775, '뜻': 14776, '룹': 14777, '벼': 14778, '깁': 14779, '끗': 14780, '걱': 14781, '훼': 14782, '덮': 14783, '맺': 14784, '빚': 14785, '밝': 14786, '뤄': 14787, '힉': 14788, '벙': 14789, '많': 14790, '꽤': 14791, '팝': 14792, '숀': 14793, '봄': 14794, '끓': 14795, '갚': 14796, '쾰': 14797, '찼': 14798, '찢': 14799, '잰': 14800, '웸': 14801, '샐': 14802, '깥': 14803, '겉': 14804, '팸': 14805, '몹': 14806, '꼴': 14807, '씌': 14808, '맷': 14809, '뀐': 14810, '깎': 14811, '콸': 14812, '쏴': 14813, '썹': 14814, '슭': 14815, '킷': 14816, '챌': 14817, '얇': 14818, '씀': 14819, '뀔': 14820, '꽉': 14821, '꽂': 14822, '±': 14823, '뭐': 14824, '댕': 14825, '꿨': 14826, '꾀': 14827, '깐': 14828, '얹': 14829, '쐈': 14830, '뱃': 14831, '긱': 14832, '씻': 14833, '뻗': 14834, '렷': 14835, '낚': 14836, '꼼': 14837, '$': 14838, '잦': 14839, '엎': 14840, '숍': 14841, '뭔': 14842, '맑': 14843, '핫': 14844, '핍': 14845, '몫': 14846, '짖': 14847, '샀': 14848, '낡': 14849, '곁': 14850, '컸': 14851, '캡': 14852, '쏜': 14853, '젭': 14854, '싣': 14855, '맵': 14856, '닮': 14857, '젖': 14858, '쁨': 14859, '릅': 14860, '궈': 14861, '탓': 14862, '캥': 14863, '웍': 14864, '굶': 14865, '뮬': 14866, '릇': 14867, '횟': 14868, '췌': 14869, '틈': 14870, '댓': 14871, '붓': 14872, '́': 14873, '챙': 14874, '앰': 14875, '닿': 14876, '펌': 14877, '흩': 14878, '뮌': 14879, '뤼': 14880, '뿔': 14881, '괜': 14882, '뤘': 14883, '튀': 14884, '꼽': 14885, '굳': 14886, '굉': 14887, '녔': 14888, '랬': 14889, '곱': 14890, '픔': 14891, '밸': 14892, '닙': 14893, '낌': 14894, '띄': 14895, '넹': 14896, '밟': 14897, '눴': 14898, '싫': 14899, '윔': 14900, '괄': 14901, '옛': 14902, '탔': 14903, '썼': 14904, '핸': 14905, '딪': 14906, '잊': 14907, '깝': 14908, '멤': 14909, '벅': 14910, '흰': 14911, '갇': 14912, '췄': 14913, '묶': 14914, '뱅': 14915, '닫': 14916, '왼': 14917, '뀌': 14918, '렴': 14919, '읽': 14920, '깔': 14921, '궤': 14922, '탱': 14923, '탠': 14924, '쌓': 14925, '쫓': 14926, '짧': 14927, '쏟': 14928, '뭄': 14929, '뒷': 14930, '걷': 14931, '슴': 14932, '훨': 14933, '릎': 14934, '뽑': 14935, '뿌': 14936, '붉': 14937, '앓': 14938, '얘': 14939, '옆': 14940, '멋': 14941, '꺾': 14942, '낳': 14943, '곽': 14944, '휩': 14945, '돕': 14946, '녁': 14947, '듣': 14948, '춰': 14949, '끊': 14950, '됩': 14951, '젝': 14952, '늦': 14953, '앉': 14954, '슷': 14955, '렵': 14956, '쿄': 14957, '밴': 14958, '옮': 14959, '봤': 14960, '젊': 14961, '챔': 14962, '촬': 14963, '빨': 14964, '찍': 14965, '떻': 14966, '렀': 14967, '웠': 14968, '겪': 14969, '믿': 14970, '펼': 14971, '섰': 14972, '먹': 14973, '렇': 14974, '̋': 14975, '잃': 14976, '캠': 14977, '싶': 14978, '랐': 14979, '끌': 14980, '갔': 14981, '켰': 14982, '밖': 14983, '얻': 14984, '쇄': 14985, '좋': 14986, '찾': 14987, '떤': 14988, '떨': 14989, '높': 14990, '맞': 14991, '났': 14992, '혐': 14993, '협': 14994, '확': 14995, '둡': 14996, '없': 14997, '뎌': 14998, '았': 14999}\n"
          ]
        }
      ]
    },
    {
      "cell_type": "markdown",
      "source": [
        "# Naver sentiment movie corpus v1.0 데이터로, Sentencepiece tokenizer 모델 생성"
      ],
      "metadata": {
        "id": "fWhRItZeVJ_g"
      }
    },
    {
      "cell_type": "markdown",
      "source": [
        "https://github.com/e9t/nsmc/"
      ],
      "metadata": {
        "id": "KkGU0myoVckk"
      }
    },
    {
      "cell_type": "markdown",
      "source": [
        "## Data Preprocessing"
      ],
      "metadata": {
        "id": "f-ZutQwFVseE"
      }
    },
    {
      "cell_type": "code",
      "source": [
        "!wget https://raw.githubusercontent.com/e9t/nsmc/master/ratings_train.txt -P /content/nsmc_data\n",
        "!wget https://raw.githubusercontent.com/e9t/nsmc/master/ratings_test.txt -P /content/nsmc_data\n"
      ],
      "metadata": {
        "colab": {
          "base_uri": "https://localhost:8080/"
        },
        "id": "qhx5RZpJVczS",
        "outputId": "23bec4d3-c36e-443a-f39c-e8ff9e117fb0"
      },
      "execution_count": null,
      "outputs": [
        {
          "output_type": "stream",
          "name": "stdout",
          "text": [
            "--2023-08-16 04:52:36--  https://raw.githubusercontent.com/e9t/nsmc/master/ratings_train.txt\n",
            "Resolving raw.githubusercontent.com (raw.githubusercontent.com)... 185.199.111.133, 185.199.109.133, 185.199.110.133, ...\n",
            "Connecting to raw.githubusercontent.com (raw.githubusercontent.com)|185.199.111.133|:443... connected.\n",
            "HTTP request sent, awaiting response... 200 OK\n",
            "Length: 14628807 (14M) [text/plain]\n",
            "Saving to: ‘/content/nsmc_data/ratings_train.txt.2’\n",
            "\n",
            "ratings_train.txt.2 100%[===================>]  13.95M  --.-KB/s    in 0.1s    \n",
            "\n",
            "2023-08-16 04:52:37 (119 MB/s) - ‘/content/nsmc_data/ratings_train.txt.2’ saved [14628807/14628807]\n",
            "\n",
            "--2023-08-16 04:52:37--  https://raw.githubusercontent.com/e9t/nsmc/master/ratings_test.txt\n",
            "Resolving raw.githubusercontent.com (raw.githubusercontent.com)... 185.199.108.133, 185.199.109.133, 185.199.110.133, ...\n",
            "Connecting to raw.githubusercontent.com (raw.githubusercontent.com)|185.199.108.133|:443... connected.\n",
            "HTTP request sent, awaiting response... 200 OK\n",
            "Length: 4893335 (4.7M) [text/plain]\n",
            "Saving to: ‘/content/nsmc_data/ratings_test.txt’\n",
            "\n",
            "ratings_test.txt    100%[===================>]   4.67M  --.-KB/s    in 0.07s   \n",
            "\n",
            "2023-08-16 04:52:37 (62.3 MB/s) - ‘/content/nsmc_data/ratings_test.txt’ saved [4893335/4893335]\n",
            "\n"
          ]
        }
      ]
    },
    {
      "cell_type": "code",
      "source": [
        "\n",
        "import pandas as pd\n",
        "train_path = '/content/nsmc_data/ratings_train.txt'\n",
        "test_path = '/content/nsmc_data/ratings_test.txt'\n",
        "\n",
        "train_data = pd.read_table(train_path, sep='\t',usecols=['id', 'document', 'label'], encoding='UTF-8')\n",
        "test_data = pd.read_table(test_path, sep='\t',usecols=['id', 'document', 'label'], encoding='UTF-8')"
      ],
      "metadata": {
        "id": "N4VoXZWLWH26"
      },
      "execution_count": null,
      "outputs": []
    },
    {
      "cell_type": "code",
      "source": [
        "display(train_data.head())\n",
        "display(test_data.head())"
      ],
      "metadata": {
        "colab": {
          "base_uri": "https://localhost:8080/",
          "height": 395
        },
        "id": "TCb8d9nkWdAt",
        "outputId": "1378dee7-bdfe-4e25-98f9-0a142ec8ce46"
      },
      "execution_count": null,
      "outputs": [
        {
          "output_type": "display_data",
          "data": {
            "text/plain": [
              "         id                                           document  label\n",
              "0   9976970                                아 더빙.. 진짜 짜증나네요 목소리      0\n",
              "1   3819312                  흠...포스터보고 초딩영화줄....오버연기조차 가볍지 않구나      1\n",
              "2  10265843                                  너무재밓었다그래서보는것을추천한다      0\n",
              "3   9045019                      교도소 이야기구먼 ..솔직히 재미는 없다..평점 조정      0\n",
              "4   6483659  사이몬페그의 익살스런 연기가 돋보였던 영화!스파이더맨에서 늙어보이기만 했던 커스틴 ...      1"
            ],
            "text/html": [
              "\n",
              "\n",
              "  <div id=\"df-9671522b-eea3-4896-800e-94a219c5d1b3\">\n",
              "    <div class=\"colab-df-container\">\n",
              "      <div>\n",
              "<style scoped>\n",
              "    .dataframe tbody tr th:only-of-type {\n",
              "        vertical-align: middle;\n",
              "    }\n",
              "\n",
              "    .dataframe tbody tr th {\n",
              "        vertical-align: top;\n",
              "    }\n",
              "\n",
              "    .dataframe thead th {\n",
              "        text-align: right;\n",
              "    }\n",
              "</style>\n",
              "<table border=\"1\" class=\"dataframe\">\n",
              "  <thead>\n",
              "    <tr style=\"text-align: right;\">\n",
              "      <th></th>\n",
              "      <th>id</th>\n",
              "      <th>document</th>\n",
              "      <th>label</th>\n",
              "    </tr>\n",
              "  </thead>\n",
              "  <tbody>\n",
              "    <tr>\n",
              "      <th>0</th>\n",
              "      <td>9976970</td>\n",
              "      <td>아 더빙.. 진짜 짜증나네요 목소리</td>\n",
              "      <td>0</td>\n",
              "    </tr>\n",
              "    <tr>\n",
              "      <th>1</th>\n",
              "      <td>3819312</td>\n",
              "      <td>흠...포스터보고 초딩영화줄....오버연기조차 가볍지 않구나</td>\n",
              "      <td>1</td>\n",
              "    </tr>\n",
              "    <tr>\n",
              "      <th>2</th>\n",
              "      <td>10265843</td>\n",
              "      <td>너무재밓었다그래서보는것을추천한다</td>\n",
              "      <td>0</td>\n",
              "    </tr>\n",
              "    <tr>\n",
              "      <th>3</th>\n",
              "      <td>9045019</td>\n",
              "      <td>교도소 이야기구먼 ..솔직히 재미는 없다..평점 조정</td>\n",
              "      <td>0</td>\n",
              "    </tr>\n",
              "    <tr>\n",
              "      <th>4</th>\n",
              "      <td>6483659</td>\n",
              "      <td>사이몬페그의 익살스런 연기가 돋보였던 영화!스파이더맨에서 늙어보이기만 했던 커스틴 ...</td>\n",
              "      <td>1</td>\n",
              "    </tr>\n",
              "  </tbody>\n",
              "</table>\n",
              "</div>\n",
              "      <button class=\"colab-df-convert\" onclick=\"convertToInteractive('df-9671522b-eea3-4896-800e-94a219c5d1b3')\"\n",
              "              title=\"Convert this dataframe to an interactive table.\"\n",
              "              style=\"display:none;\">\n",
              "\n",
              "  <svg xmlns=\"http://www.w3.org/2000/svg\" height=\"24px\"viewBox=\"0 0 24 24\"\n",
              "       width=\"24px\">\n",
              "    <path d=\"M0 0h24v24H0V0z\" fill=\"none\"/>\n",
              "    <path d=\"M18.56 5.44l.94 2.06.94-2.06 2.06-.94-2.06-.94-.94-2.06-.94 2.06-2.06.94zm-11 1L8.5 8.5l.94-2.06 2.06-.94-2.06-.94L8.5 2.5l-.94 2.06-2.06.94zm10 10l.94 2.06.94-2.06 2.06-.94-2.06-.94-.94-2.06-.94 2.06-2.06.94z\"/><path d=\"M17.41 7.96l-1.37-1.37c-.4-.4-.92-.59-1.43-.59-.52 0-1.04.2-1.43.59L10.3 9.45l-7.72 7.72c-.78.78-.78 2.05 0 2.83L4 21.41c.39.39.9.59 1.41.59.51 0 1.02-.2 1.41-.59l7.78-7.78 2.81-2.81c.8-.78.8-2.07 0-2.86zM5.41 20L4 18.59l7.72-7.72 1.47 1.35L5.41 20z\"/>\n",
              "  </svg>\n",
              "      </button>\n",
              "\n",
              "\n",
              "\n",
              "    <div id=\"df-d5c1d333-5634-46ac-a905-79527a69ed69\">\n",
              "      <button class=\"colab-df-quickchart\" onclick=\"quickchart('df-d5c1d333-5634-46ac-a905-79527a69ed69')\"\n",
              "              title=\"Suggest charts.\"\n",
              "              style=\"display:none;\">\n",
              "\n",
              "<svg xmlns=\"http://www.w3.org/2000/svg\" height=\"24px\"viewBox=\"0 0 24 24\"\n",
              "     width=\"24px\">\n",
              "    <g>\n",
              "        <path d=\"M19 3H5c-1.1 0-2 .9-2 2v14c0 1.1.9 2 2 2h14c1.1 0 2-.9 2-2V5c0-1.1-.9-2-2-2zM9 17H7v-7h2v7zm4 0h-2V7h2v10zm4 0h-2v-4h2v4z\"/>\n",
              "    </g>\n",
              "</svg>\n",
              "      </button>\n",
              "    </div>\n",
              "\n",
              "<style>\n",
              "  .colab-df-quickchart {\n",
              "    background-color: #E8F0FE;\n",
              "    border: none;\n",
              "    border-radius: 50%;\n",
              "    cursor: pointer;\n",
              "    display: none;\n",
              "    fill: #1967D2;\n",
              "    height: 32px;\n",
              "    padding: 0 0 0 0;\n",
              "    width: 32px;\n",
              "  }\n",
              "\n",
              "  .colab-df-quickchart:hover {\n",
              "    background-color: #E2EBFA;\n",
              "    box-shadow: 0px 1px 2px rgba(60, 64, 67, 0.3), 0px 1px 3px 1px rgba(60, 64, 67, 0.15);\n",
              "    fill: #174EA6;\n",
              "  }\n",
              "\n",
              "  [theme=dark] .colab-df-quickchart {\n",
              "    background-color: #3B4455;\n",
              "    fill: #D2E3FC;\n",
              "  }\n",
              "\n",
              "  [theme=dark] .colab-df-quickchart:hover {\n",
              "    background-color: #434B5C;\n",
              "    box-shadow: 0px 1px 3px 1px rgba(0, 0, 0, 0.15);\n",
              "    filter: drop-shadow(0px 1px 2px rgba(0, 0, 0, 0.3));\n",
              "    fill: #FFFFFF;\n",
              "  }\n",
              "</style>\n",
              "\n",
              "    <script>\n",
              "      async function quickchart(key) {\n",
              "        const containerElement = document.querySelector('#' + key);\n",
              "        const charts = await google.colab.kernel.invokeFunction(\n",
              "            'suggestCharts', [key], {});\n",
              "      }\n",
              "    </script>\n",
              "\n",
              "      <script>\n",
              "\n",
              "function displayQuickchartButton(domScope) {\n",
              "  let quickchartButtonEl =\n",
              "    domScope.querySelector('#df-d5c1d333-5634-46ac-a905-79527a69ed69 button.colab-df-quickchart');\n",
              "  quickchartButtonEl.style.display =\n",
              "    google.colab.kernel.accessAllowed ? 'block' : 'none';\n",
              "}\n",
              "\n",
              "        displayQuickchartButton(document);\n",
              "      </script>\n",
              "      <style>\n",
              "    .colab-df-container {\n",
              "      display:flex;\n",
              "      flex-wrap:wrap;\n",
              "      gap: 12px;\n",
              "    }\n",
              "\n",
              "    .colab-df-convert {\n",
              "      background-color: #E8F0FE;\n",
              "      border: none;\n",
              "      border-radius: 50%;\n",
              "      cursor: pointer;\n",
              "      display: none;\n",
              "      fill: #1967D2;\n",
              "      height: 32px;\n",
              "      padding: 0 0 0 0;\n",
              "      width: 32px;\n",
              "    }\n",
              "\n",
              "    .colab-df-convert:hover {\n",
              "      background-color: #E2EBFA;\n",
              "      box-shadow: 0px 1px 2px rgba(60, 64, 67, 0.3), 0px 1px 3px 1px rgba(60, 64, 67, 0.15);\n",
              "      fill: #174EA6;\n",
              "    }\n",
              "\n",
              "    [theme=dark] .colab-df-convert {\n",
              "      background-color: #3B4455;\n",
              "      fill: #D2E3FC;\n",
              "    }\n",
              "\n",
              "    [theme=dark] .colab-df-convert:hover {\n",
              "      background-color: #434B5C;\n",
              "      box-shadow: 0px 1px 3px 1px rgba(0, 0, 0, 0.15);\n",
              "      filter: drop-shadow(0px 1px 2px rgba(0, 0, 0, 0.3));\n",
              "      fill: #FFFFFF;\n",
              "    }\n",
              "  </style>\n",
              "\n",
              "      <script>\n",
              "        const buttonEl =\n",
              "          document.querySelector('#df-9671522b-eea3-4896-800e-94a219c5d1b3 button.colab-df-convert');\n",
              "        buttonEl.style.display =\n",
              "          google.colab.kernel.accessAllowed ? 'block' : 'none';\n",
              "\n",
              "        async function convertToInteractive(key) {\n",
              "          const element = document.querySelector('#df-9671522b-eea3-4896-800e-94a219c5d1b3');\n",
              "          const dataTable =\n",
              "            await google.colab.kernel.invokeFunction('convertToInteractive',\n",
              "                                                     [key], {});\n",
              "          if (!dataTable) return;\n",
              "\n",
              "          const docLinkHtml = 'Like what you see? Visit the ' +\n",
              "            '<a target=\"_blank\" href=https://colab.research.google.com/notebooks/data_table.ipynb>data table notebook</a>'\n",
              "            + ' to learn more about interactive tables.';\n",
              "          element.innerHTML = '';\n",
              "          dataTable['output_type'] = 'display_data';\n",
              "          await google.colab.output.renderOutput(dataTable, element);\n",
              "          const docLink = document.createElement('div');\n",
              "          docLink.innerHTML = docLinkHtml;\n",
              "          element.appendChild(docLink);\n",
              "        }\n",
              "      </script>\n",
              "    </div>\n",
              "  </div>\n"
            ]
          },
          "metadata": {}
        },
        {
          "output_type": "display_data",
          "data": {
            "text/plain": [
              "        id                                           document  label\n",
              "0  6270596                                                굳 ㅋ      1\n",
              "1  9274899                               GDNTOPCLASSINTHECLUB      0\n",
              "2  8544678             뭐야 이 평점들은.... 나쁘진 않지만 10점 짜리는 더더욱 아니잖아      0\n",
              "3  6825595                   지루하지는 않은데 완전 막장임... 돈주고 보기에는....      0\n",
              "4  6723715  3D만 아니었어도 별 다섯 개 줬을텐데.. 왜 3D로 나와서 제 심기를 불편하게 하죠??      0"
            ],
            "text/html": [
              "\n",
              "\n",
              "  <div id=\"df-c4490a10-95bb-4b58-8122-30624bd805e2\">\n",
              "    <div class=\"colab-df-container\">\n",
              "      <div>\n",
              "<style scoped>\n",
              "    .dataframe tbody tr th:only-of-type {\n",
              "        vertical-align: middle;\n",
              "    }\n",
              "\n",
              "    .dataframe tbody tr th {\n",
              "        vertical-align: top;\n",
              "    }\n",
              "\n",
              "    .dataframe thead th {\n",
              "        text-align: right;\n",
              "    }\n",
              "</style>\n",
              "<table border=\"1\" class=\"dataframe\">\n",
              "  <thead>\n",
              "    <tr style=\"text-align: right;\">\n",
              "      <th></th>\n",
              "      <th>id</th>\n",
              "      <th>document</th>\n",
              "      <th>label</th>\n",
              "    </tr>\n",
              "  </thead>\n",
              "  <tbody>\n",
              "    <tr>\n",
              "      <th>0</th>\n",
              "      <td>6270596</td>\n",
              "      <td>굳 ㅋ</td>\n",
              "      <td>1</td>\n",
              "    </tr>\n",
              "    <tr>\n",
              "      <th>1</th>\n",
              "      <td>9274899</td>\n",
              "      <td>GDNTOPCLASSINTHECLUB</td>\n",
              "      <td>0</td>\n",
              "    </tr>\n",
              "    <tr>\n",
              "      <th>2</th>\n",
              "      <td>8544678</td>\n",
              "      <td>뭐야 이 평점들은.... 나쁘진 않지만 10점 짜리는 더더욱 아니잖아</td>\n",
              "      <td>0</td>\n",
              "    </tr>\n",
              "    <tr>\n",
              "      <th>3</th>\n",
              "      <td>6825595</td>\n",
              "      <td>지루하지는 않은데 완전 막장임... 돈주고 보기에는....</td>\n",
              "      <td>0</td>\n",
              "    </tr>\n",
              "    <tr>\n",
              "      <th>4</th>\n",
              "      <td>6723715</td>\n",
              "      <td>3D만 아니었어도 별 다섯 개 줬을텐데.. 왜 3D로 나와서 제 심기를 불편하게 하죠??</td>\n",
              "      <td>0</td>\n",
              "    </tr>\n",
              "  </tbody>\n",
              "</table>\n",
              "</div>\n",
              "      <button class=\"colab-df-convert\" onclick=\"convertToInteractive('df-c4490a10-95bb-4b58-8122-30624bd805e2')\"\n",
              "              title=\"Convert this dataframe to an interactive table.\"\n",
              "              style=\"display:none;\">\n",
              "\n",
              "  <svg xmlns=\"http://www.w3.org/2000/svg\" height=\"24px\"viewBox=\"0 0 24 24\"\n",
              "       width=\"24px\">\n",
              "    <path d=\"M0 0h24v24H0V0z\" fill=\"none\"/>\n",
              "    <path d=\"M18.56 5.44l.94 2.06.94-2.06 2.06-.94-2.06-.94-.94-2.06-.94 2.06-2.06.94zm-11 1L8.5 8.5l.94-2.06 2.06-.94-2.06-.94L8.5 2.5l-.94 2.06-2.06.94zm10 10l.94 2.06.94-2.06 2.06-.94-2.06-.94-.94-2.06-.94 2.06-2.06.94z\"/><path d=\"M17.41 7.96l-1.37-1.37c-.4-.4-.92-.59-1.43-.59-.52 0-1.04.2-1.43.59L10.3 9.45l-7.72 7.72c-.78.78-.78 2.05 0 2.83L4 21.41c.39.39.9.59 1.41.59.51 0 1.02-.2 1.41-.59l7.78-7.78 2.81-2.81c.8-.78.8-2.07 0-2.86zM5.41 20L4 18.59l7.72-7.72 1.47 1.35L5.41 20z\"/>\n",
              "  </svg>\n",
              "      </button>\n",
              "\n",
              "\n",
              "\n",
              "    <div id=\"df-2f705fb7-d11f-41e5-be59-88990c1ff3c9\">\n",
              "      <button class=\"colab-df-quickchart\" onclick=\"quickchart('df-2f705fb7-d11f-41e5-be59-88990c1ff3c9')\"\n",
              "              title=\"Suggest charts.\"\n",
              "              style=\"display:none;\">\n",
              "\n",
              "<svg xmlns=\"http://www.w3.org/2000/svg\" height=\"24px\"viewBox=\"0 0 24 24\"\n",
              "     width=\"24px\">\n",
              "    <g>\n",
              "        <path d=\"M19 3H5c-1.1 0-2 .9-2 2v14c0 1.1.9 2 2 2h14c1.1 0 2-.9 2-2V5c0-1.1-.9-2-2-2zM9 17H7v-7h2v7zm4 0h-2V7h2v10zm4 0h-2v-4h2v4z\"/>\n",
              "    </g>\n",
              "</svg>\n",
              "      </button>\n",
              "    </div>\n",
              "\n",
              "<style>\n",
              "  .colab-df-quickchart {\n",
              "    background-color: #E8F0FE;\n",
              "    border: none;\n",
              "    border-radius: 50%;\n",
              "    cursor: pointer;\n",
              "    display: none;\n",
              "    fill: #1967D2;\n",
              "    height: 32px;\n",
              "    padding: 0 0 0 0;\n",
              "    width: 32px;\n",
              "  }\n",
              "\n",
              "  .colab-df-quickchart:hover {\n",
              "    background-color: #E2EBFA;\n",
              "    box-shadow: 0px 1px 2px rgba(60, 64, 67, 0.3), 0px 1px 3px 1px rgba(60, 64, 67, 0.15);\n",
              "    fill: #174EA6;\n",
              "  }\n",
              "\n",
              "  [theme=dark] .colab-df-quickchart {\n",
              "    background-color: #3B4455;\n",
              "    fill: #D2E3FC;\n",
              "  }\n",
              "\n",
              "  [theme=dark] .colab-df-quickchart:hover {\n",
              "    background-color: #434B5C;\n",
              "    box-shadow: 0px 1px 3px 1px rgba(0, 0, 0, 0.15);\n",
              "    filter: drop-shadow(0px 1px 2px rgba(0, 0, 0, 0.3));\n",
              "    fill: #FFFFFF;\n",
              "  }\n",
              "</style>\n",
              "\n",
              "    <script>\n",
              "      async function quickchart(key) {\n",
              "        const containerElement = document.querySelector('#' + key);\n",
              "        const charts = await google.colab.kernel.invokeFunction(\n",
              "            'suggestCharts', [key], {});\n",
              "      }\n",
              "    </script>\n",
              "\n",
              "      <script>\n",
              "\n",
              "function displayQuickchartButton(domScope) {\n",
              "  let quickchartButtonEl =\n",
              "    domScope.querySelector('#df-2f705fb7-d11f-41e5-be59-88990c1ff3c9 button.colab-df-quickchart');\n",
              "  quickchartButtonEl.style.display =\n",
              "    google.colab.kernel.accessAllowed ? 'block' : 'none';\n",
              "}\n",
              "\n",
              "        displayQuickchartButton(document);\n",
              "      </script>\n",
              "      <style>\n",
              "    .colab-df-container {\n",
              "      display:flex;\n",
              "      flex-wrap:wrap;\n",
              "      gap: 12px;\n",
              "    }\n",
              "\n",
              "    .colab-df-convert {\n",
              "      background-color: #E8F0FE;\n",
              "      border: none;\n",
              "      border-radius: 50%;\n",
              "      cursor: pointer;\n",
              "      display: none;\n",
              "      fill: #1967D2;\n",
              "      height: 32px;\n",
              "      padding: 0 0 0 0;\n",
              "      width: 32px;\n",
              "    }\n",
              "\n",
              "    .colab-df-convert:hover {\n",
              "      background-color: #E2EBFA;\n",
              "      box-shadow: 0px 1px 2px rgba(60, 64, 67, 0.3), 0px 1px 3px 1px rgba(60, 64, 67, 0.15);\n",
              "      fill: #174EA6;\n",
              "    }\n",
              "\n",
              "    [theme=dark] .colab-df-convert {\n",
              "      background-color: #3B4455;\n",
              "      fill: #D2E3FC;\n",
              "    }\n",
              "\n",
              "    [theme=dark] .colab-df-convert:hover {\n",
              "      background-color: #434B5C;\n",
              "      box-shadow: 0px 1px 3px 1px rgba(0, 0, 0, 0.15);\n",
              "      filter: drop-shadow(0px 1px 2px rgba(0, 0, 0, 0.3));\n",
              "      fill: #FFFFFF;\n",
              "    }\n",
              "  </style>\n",
              "\n",
              "      <script>\n",
              "        const buttonEl =\n",
              "          document.querySelector('#df-c4490a10-95bb-4b58-8122-30624bd805e2 button.colab-df-convert');\n",
              "        buttonEl.style.display =\n",
              "          google.colab.kernel.accessAllowed ? 'block' : 'none';\n",
              "\n",
              "        async function convertToInteractive(key) {\n",
              "          const element = document.querySelector('#df-c4490a10-95bb-4b58-8122-30624bd805e2');\n",
              "          const dataTable =\n",
              "            await google.colab.kernel.invokeFunction('convertToInteractive',\n",
              "                                                     [key], {});\n",
              "          if (!dataTable) return;\n",
              "\n",
              "          const docLinkHtml = 'Like what you see? Visit the ' +\n",
              "            '<a target=\"_blank\" href=https://colab.research.google.com/notebooks/data_table.ipynb>data table notebook</a>'\n",
              "            + ' to learn more about interactive tables.';\n",
              "          element.innerHTML = '';\n",
              "          dataTable['output_type'] = 'display_data';\n",
              "          await google.colab.output.renderOutput(dataTable, element);\n",
              "          const docLink = document.createElement('div');\n",
              "          docLink.innerHTML = docLinkHtml;\n",
              "          element.appendChild(docLink);\n",
              "        }\n",
              "      </script>\n",
              "    </div>\n",
              "  </div>\n"
            ]
          },
          "metadata": {}
        }
      ]
    },
    {
      "cell_type": "code",
      "source": [
        "# 데이터 살펴보기\n",
        "def data_info(data, title):\n",
        "    print(f\"<{title}>\")\n",
        "    print(\"*\" * 50)\n",
        "    print(\"data len:\", len(data))\n",
        "    print(\"null data:\", data.isnull().sum())\n",
        "    print(\"duplicates data:\", len(data)-len(set(data)))\n",
        "    print(\"*\" * 50, end=\"\\n\\n\")\n",
        "\n",
        "\n",
        "data_info(train_data[\"document\"], \"train data\")\n",
        "data_info(test_data[\"document\"], \"test data\")"
      ],
      "metadata": {
        "colab": {
          "base_uri": "https://localhost:8080/"
        },
        "id": "NtUnn-nvWegF",
        "outputId": "8dac76e2-eddd-411d-a1da-b3fb63930219"
      },
      "execution_count": null,
      "outputs": [
        {
          "output_type": "stream",
          "name": "stdout",
          "text": [
            "<train data>\n",
            "**************************************************\n",
            "data len: 150000\n",
            "null data: 5\n",
            "duplicates data: 3817\n",
            "**************************************************\n",
            "\n",
            "<test data>\n",
            "**************************************************\n",
            "data len: 50000\n",
            "null data: 3\n",
            "duplicates data: 842\n",
            "**************************************************\n",
            "\n"
          ]
        }
      ]
    },
    {
      "cell_type": "markdown",
      "source": [
        "데이터 전처리 수행"
      ],
      "metadata": {
        "id": "VjT9PiLWYL3B"
      }
    },
    {
      "cell_type": "code",
      "source": [
        "import re\n",
        "def regex_sentence(corpus):\n",
        "    sentences = []\n",
        "    for sentence in corpus:\n",
        "        sentence = re.sub(r\"[^a-zA-Zㅋㅎㅜㅠ가-힣0-9!;?.,]+\", r\"\", sentence)\n",
        "        sentences.append(sentence)\n",
        "    corpus = sentences\n",
        "\n",
        "    return corpus"
      ],
      "metadata": {
        "id": "z0b2DnhwYH2J"
      },
      "execution_count": null,
      "outputs": []
    },
    {
      "cell_type": "code",
      "source": [
        "train_data['document'].replace('', np.nan, inplace=True)\n",
        "train_data.dropna(subset=['document'], inplace=True)\n",
        "train_data['document'] = regex_sentence(train_data['document'])\n",
        "train_data.drop_duplicates(subset=['document'], inplace=True)"
      ],
      "metadata": {
        "id": "zRSXYJMNYEji"
      },
      "execution_count": null,
      "outputs": []
    },
    {
      "cell_type": "code",
      "source": [
        "test_data['document'].replace('', np.nan, inplace=True)\n",
        "test_data.dropna(subset=['document'], inplace=True)\n",
        "test_data['document'] = regex_sentence(test_data['document'])\n",
        "test_data.drop_duplicates(subset=['document'], inplace=True)"
      ],
      "metadata": {
        "id": "vlkIHjz0Y102"
      },
      "execution_count": null,
      "outputs": []
    },
    {
      "cell_type": "code",
      "source": [
        "min_len = 999\n",
        "max_len = 0\n",
        "sum_len = 0\n",
        "\n",
        "cleaned_corpus = list(set(train_data['document']))\n",
        "print(\"Data size:\", len(cleaned_corpus))\n",
        "\n",
        "for sen in train_data['document']:\n",
        "    length = len(sen)\n",
        "\n",
        "    # 문장 최소 길이 찾기\n",
        "    if min_len > length:\n",
        "        min_len = length\n",
        "\n",
        "    # 문장 최대 길이 찾기\n",
        "    if max_len < length:\n",
        "        max_len = length\n",
        "\n",
        "    # 전체 문장을 합쳐서 나온 길이\n",
        "    sum_len += length\n",
        "\n",
        "print(\"문장의 최단 길이:\", min_len)\n",
        "print(\"문장의 최장 길이:\", max_len)\n",
        "print(\"문장의 평균 길이:\", sum_len // len(train_data))\n",
        "\n",
        "# 전체 길이를 0 벡터로 만듦.\n",
        "# 길이에 따른 문장의 수를 저장하기 위해서 0으로 이루어진 list를 만듦.\n",
        "sentence_length = np.zeros((max_len), dtype=np.int)\n",
        "\n",
        "# 0으로 이루어진 벡터에 문장 count를 더한 뒤 넣는다.\n",
        "for sen in train_data['document']:\n",
        "    sentence_length[len(sen)-1] += 1\n",
        "\n",
        "plt.bar(range(max_len), sentence_length, width=1.0) # 너비는 1.0씩 늘어나도록 설정\n",
        "plt.title(\"Sentence Length Distribution\")\n",
        "plt.show()"
      ],
      "metadata": {
        "colab": {
          "base_uri": "https://localhost:8080/",
          "height": 602
        },
        "id": "kvFA4Tf2ZHTb",
        "outputId": "40ef43d8-29e2-42d1-babf-7558c4a99a82"
      },
      "execution_count": null,
      "outputs": [
        {
          "output_type": "stream",
          "name": "stdout",
          "text": [
            "Data size: 145319\n",
            "문장의 최단 길이: 0\n",
            "문장의 최장 길이: 140\n",
            "문장의 평균 길이: 28\n"
          ]
        },
        {
          "output_type": "stream",
          "name": "stderr",
          "text": [
            "<ipython-input-26-ac012437b72f>:28: DeprecationWarning: `np.int` is a deprecated alias for the builtin `int`. To silence this warning, use `int` by itself. Doing this will not modify any behavior and is safe. When replacing `np.int`, you may wish to use e.g. `np.int64` or `np.int32` to specify the precision. If you wish to review your current use, check the release note link for additional information.\n",
            "Deprecated in NumPy 1.20; for more details and guidance: https://numpy.org/devdocs/release/1.20.0-notes.html#deprecations\n",
            "  sentence_length = np.zeros((max_len), dtype=np.int)\n"
          ]
        },
        {
          "output_type": "display_data",
          "data": {
            "text/plain": [
              "<Figure size 640x480 with 1 Axes>"
            ],
            "image/png": "[encoded data removed]"
          },
          "metadata": {}
        }
      ]
    },
    {
      "cell_type": "code",
      "source": [
        "# 데이터 살펴보기\n",
        "def data_info(data, title):\n",
        "    print(f\"<{title}>\")\n",
        "    print(\"*\" * 50)\n",
        "    print(\"data len:\", len(data))\n",
        "    print(\"null data:\", data.isnull().sum())\n",
        "    print(\"duplicates data:\", len(data)-len(set(data)))\n",
        "    print(\"*\" * 50, end=\"\\n\\n\")\n",
        "\n",
        "\n",
        "data_info(train_data[\"document\"], \"train data\")\n",
        "data_info(test_data[\"document\"], \"test data\")"
      ],
      "metadata": {
        "colab": {
          "base_uri": "https://localhost:8080/"
        },
        "id": "F6W5a9tmYopc",
        "outputId": "7b9fbbed-1b9a-41b5-9dac-a4c75a8d96aa"
      },
      "execution_count": null,
      "outputs": [
        {
          "output_type": "stream",
          "name": "stdout",
          "text": [
            "<train data>\n",
            "**************************************************\n",
            "data len: 145319\n",
            "null data: 0\n",
            "duplicates data: 0\n",
            "**************************************************\n",
            "\n",
            "<test data>\n",
            "**************************************************\n",
            "data len: 48933\n",
            "null data: 0\n",
            "duplicates data: 0\n",
            "**************************************************\n",
            "\n"
          ]
        }
      ]
    },
    {
      "cell_type": "code",
      "source": [
        "max_len = 60\n",
        "min_len = 1\n",
        "\n",
        "# 길이 조건에 맞는 문장만 선택합니다.\n",
        "filtered_corpus = [s for s in cleaned_corpus if (len(s) < max_len) & (len(s) >= min_len)]\n",
        "print(\"Data size:\", len(filtered_corpus))\n",
        "\n",
        "# 분포도를 다시 그려봅니다.\n",
        "sentence_length = np.zeros((max_len), dtype=np.int)\n",
        "\n",
        "for sen in filtered_corpus:\n",
        "    sentence_length[len(sen)-1] += 1\n",
        "\n",
        "plt.bar(range(max_len), sentence_length, width=1.0)\n",
        "plt.title(\"Sentence Length Distribution\")\n",
        "plt.show()"
      ],
      "metadata": {
        "colab": {
          "base_uri": "https://localhost:8080/",
          "height": 546
        },
        "id": "o7heH6jBZbV7",
        "outputId": "dda6a253-4dac-4cb7-f794-4fbfe9407003"
      },
      "execution_count": null,
      "outputs": [
        {
          "output_type": "stream",
          "name": "stdout",
          "text": [
            "Data size: 130372\n"
          ]
        },
        {
          "output_type": "stream",
          "name": "stderr",
          "text": [
            "<ipython-input-28-947c065f31bd>:9: DeprecationWarning: `np.int` is a deprecated alias for the builtin `int`. To silence this warning, use `int` by itself. Doing this will not modify any behavior and is safe. When replacing `np.int`, you may wish to use e.g. `np.int64` or `np.int32` to specify the precision. If you wish to review your current use, check the release note link for additional information.\n",
            "Deprecated in NumPy 1.20; for more details and guidance: https://numpy.org/devdocs/release/1.20.0-notes.html#deprecations\n",
            "  sentence_length = np.zeros((max_len), dtype=np.int)\n"
          ]
        },
        {
          "output_type": "display_data",
          "data": {
            "text/plain": [
              "<Figure size 640x480 with 1 Axes>"
            ],
            "image/png": "[encoded data removed]"
          },
          "metadata": {}
        }
      ]
    },
    {
      "cell_type": "markdown",
      "source": [
        "길이 분포 확인"
      ],
      "metadata": {
        "id": "bJCM0E7BZPXb"
      }
    },
    {
      "cell_type": "markdown",
      "source": [
        "max_len = 60 으로줘서, 130372 개만 사용하기로 결정"
      ],
      "metadata": {
        "id": "QwqxmkygaJCA"
      }
    },
    {
      "cell_type": "code",
      "source": [
        "train_data = train_data[train_data['document'].apply(lambda x: 10 <= len(x) <= 60)]\n",
        "test_data = test_data[test_data['document'].apply(lambda x: 10 <= len(x) <= 60)]"
      ],
      "metadata": {
        "id": "wQtA0n3Pq0sk"
      },
      "execution_count": null,
      "outputs": []
    },
    {
      "cell_type": "code",
      "source": [
        "len(train_data)"
      ],
      "metadata": {
        "colab": {
          "base_uri": "https://localhost:8080/"
        },
        "id": "OEtbzzhX43dN",
        "outputId": "af4bdce4-ff47-414f-ecbf-e3aedb26e419"
      },
      "execution_count": null,
      "outputs": [
        {
          "output_type": "execute_result",
          "data": {
            "text/plain": [
              "116734"
            ]
          },
          "metadata": {},
          "execution_count": 71
        }
      ]
    },
    {
      "cell_type": "code",
      "source": [
        "len(test_data)"
      ],
      "metadata": {
        "colab": {
          "base_uri": "https://localhost:8080/"
        },
        "id": "MwHeFxkz4-EA",
        "outputId": "977ed404-b97d-4b71-97f8-71c4ed8c0d3f"
      },
      "execution_count": null,
      "outputs": [
        {
          "output_type": "execute_result",
          "data": {
            "text/plain": [
              "39052"
            ]
          },
          "metadata": {},
          "execution_count": 70
        }
      ]
    },
    {
      "cell_type": "markdown",
      "source": [
        "## Sentencepiece Tokenizer 구현"
      ],
      "metadata": {
        "id": "qknqtxpBaSp7"
      }
    },
    {
      "cell_type": "code",
      "source": [
        "with open(temp_file, 'w') as f:\n",
        "    for row in filtered_corpus:   # 이전 스텝에서 정제했던 corpus를 활용합니다.\n",
        "        f.write(str(row) + '\\n')\n"
      ],
      "metadata": {
        "id": "Xh1ucR12bPzv"
      },
      "execution_count": null,
      "outputs": []
    },
    {
      "cell_type": "markdown",
      "source": [
        "### Sentencepiece Tokenizer (unigram)"
      ],
      "metadata": {
        "id": "Z5gfU0YNaXnI"
      }
    },
    {
      "cell_type": "code",
      "source": [
        " # Options 설정\n",
        "vocab_size = 25000\n",
        "model_prefix = 'nsmc_spm_uni'\n",
        "train_large_corpus = True\n",
        "\n",
        "import sentencepiece as spm\n",
        "spm.SentencePieceTrainer.Train(\n",
        "    '--input={} \\\n",
        "    --model_prefix={} \\\n",
        "    --vocab_size={} \\\n",
        "    --train_extremely_large_corpus={}'.format(temp_file, model_prefix, vocab_size, train_large_corpus)\n",
        ")\n",
        "#위 Train에서  --model_type = unigram이 디폴트 적용되어 있습니다. --model_type = bpe로 옵션을 주어 변경할 수 있습니다.\n"
      ],
      "metadata": {
        "id": "x7IMFeXLaXGt"
      },
      "execution_count": null,
      "outputs": []
    },
    {
      "cell_type": "code",
      "source": [
        "s = spm.SentencePieceProcessor()\n",
        "s.Load('nsmc_spm_uni.model')\n",
        "\n",
        "# SentencePiece를 활용한 sentence -> encoding\n",
        "tokensIDs = s.EncodeAsIds('아버지가방에들어가신다.')\n",
        "print(tokensIDs)\n",
        "\n",
        "# SentencePiece를 활용한 sentence -> encoded pieces\n",
        "print(s.SampleEncodeAsPieces('아버지가방에들어가신다.',2, 0.0))\n",
        "\n",
        "# SentencePiece를 활용한 encoding -> sentence 복원\n",
        "print(s.DecodeIds(tokensIDs))"
      ],
      "metadata": {
        "colab": {
          "base_uri": "https://localhost:8080/"
        },
        "id": "_AEOF8UddNf-",
        "outputId": "f5422eca-bb3b-4707-a0e6-c807d30b43f9"
      },
      "execution_count": null,
      "outputs": [
        {
          "output_type": "stream",
          "name": "stdout",
          "text": [
            "[3, 6934, 378, 15553, 140, 9, 4]\n",
            "['▁', '아버지가', '방', '에들어가', '신', '다', '.']\n",
            "아버지가방에들어가신다.\n"
          ]
        }
      ]
    },
    {
      "cell_type": "code",
      "source": [
        "with open(\"/content/nsmc_spm_uni.vocab\", 'r') as f:\n",
        "    vocab = f.readlines()\n",
        "\n",
        "print('[vocab size] : ',len(vocab))\n",
        "print()\n",
        "print(\"[vocab 형태 확인]\\n\")\n",
        "print(vocab[0:10])\n",
        "for v in vocab[0:10]:\n",
        "    print(v)\n"
      ],
      "metadata": {
        "colab": {
          "base_uri": "https://localhost:8080/"
        },
        "id": "S7ws0p1fc7an",
        "outputId": "24ec3e55-f490-4575-c9fa-4e409ec51d4e"
      },
      "execution_count": null,
      "outputs": [
        {
          "output_type": "stream",
          "name": "stdout",
          "text": [
            "[vocab size] :  25000\n",
            "\n",
            "[vocab 형태 확인]\n",
            "\n",
            "['<unk>\\t0\\n', '<s>\\t0\\n', '</s>\\t0\\n', '▁\\t-2.8316\\n', '.\\t-3.12747\\n', '..\\t-4.03463\\n', '...\\t-4.27511\\n', '이\\t-4.64232\\n', ',\\t-4.783\\n', '다\\t-4.8616\\n']\n",
            "<unk>\t0\n",
            "\n",
            "<s>\t0\n",
            "\n",
            "</s>\t0\n",
            "\n",
            "▁\t-2.8316\n",
            "\n",
            ".\t-3.12747\n",
            "\n",
            "..\t-4.03463\n",
            "\n",
            "...\t-4.27511\n",
            "\n",
            "이\t-4.64232\n",
            "\n",
            ",\t-4.783\n",
            "\n",
            "다\t-4.8616\n",
            "\n"
          ]
        }
      ]
    },
    {
      "cell_type": "code",
      "source": [
        "def sp_uni_tokenizer(s, train_df, test_df):\n",
        "\n",
        "    tensor_train = []\n",
        "    tensor_test = []\n",
        "\n",
        "    for sen in train_df['document']:\n",
        "        tensor_train.append(s.EncodeAsIds(sen))\n",
        "\n",
        "    for sen2 in test_df['document']:\n",
        "        tensor_test.append(s.EncodeAsIds(sen2))\n",
        "\n",
        "    with open(\"/content/nsmc_spm_uni.vocab\", 'r') as f:\n",
        "        vocab = f.readlines()\n",
        "\n",
        "    word_index = {}\n",
        "    index_word = {}\n",
        "\n",
        "    for idx, line in enumerate(vocab):\n",
        "        word = line.split(\"\\t\")[0]\n",
        "\n",
        "        word_index.update({word:idx})\n",
        "        index_word.update({idx:word})\n",
        "\n",
        "    train_label = np.array(train_df['label'])\n",
        "    test_label = np.array(test_df['label'])\n",
        "    # Padding 추가\n",
        "    max_sequence_length = max(max(len(seq) for seq in tensor_train), max(len(seq) for seq in tensor_test))\n",
        "    tensor_train = tf.keras.preprocessing.sequence.pad_sequences(tensor_train, maxlen=max_sequence_length, padding='post')\n",
        "    tensor_test = tf.keras.preprocessing.sequence.pad_sequences(tensor_test, maxlen=max_sequence_length, padding='post')\n",
        "\n",
        "    return tensor_train, train_label, tensor_test, test_label, word_index, index_word"
      ],
      "metadata": {
        "id": "KF108Hu-chkb"
      },
      "execution_count": null,
      "outputs": []
    },
    {
      "cell_type": "markdown",
      "source": [
        "### Sentencepiece Tokenizer (bpe)"
      ],
      "metadata": {
        "id": "8zMfwfjDcKwj"
      }
    },
    {
      "cell_type": "code",
      "source": [
        " # Options 설정\n",
        "vocab_size = 25000\n",
        "model_prefix = 'nsmc_spm_bpe'\n",
        "train_large_corpus = True\n",
        "\n",
        "import sentencepiece as spm\n",
        "spm.SentencePieceTrainer.Train(\n",
        "    '--input={} \\\n",
        "    --model_prefix={} \\\n",
        "    --vocab_size={} \\\n",
        "    --model_type=bpe \\\n",
        "    --train_extremely_large_corpus={}'.format(temp_file, model_prefix, vocab_size, train_large_corpus)\n",
        ")\n",
        "#위 Train에서  --model_type = unigram이 디폴트 적용되어 있습니다. --model_type = bpe로 옵션을 주어 변경할 수 있습니다.\n"
      ],
      "metadata": {
        "id": "sgI-UxOYaVis"
      },
      "execution_count": null,
      "outputs": []
    },
    {
      "cell_type": "code",
      "source": [
        "s = spm.SentencePieceProcessor()\n",
        "s.Load('nsmc_spm_bpe.model')\n",
        "\n",
        "# SentencePiece를 활용한 sentence -> encoding\n",
        "tokensIDs = s.EncodeAsIds('아버지가방에들어가신다.')\n",
        "print(tokensIDs)\n",
        "\n",
        "# SentencePiece를 활용한 sentence -> encoded pieces\n",
        "print(s.SampleEncodeAsPieces('아버지가방에들어가신다.',2, 0.0))\n",
        "\n",
        "# SentencePiece를 활용한 encoding -> sentence 복원\n",
        "print(s.DecodeIds(tokensIDs))"
      ],
      "metadata": {
        "colab": {
          "base_uri": "https://localhost:8080/"
        },
        "id": "kDDfXyamcdaP",
        "outputId": "38eadd96-46d0-4087-8da0-74c5b82ccdf4"
      },
      "execution_count": null,
      "outputs": [
        {
          "output_type": "stream",
          "name": "stdout",
          "text": [
            "[4707, 641, 23644, 8508, 23374, 15316, 23365]\n",
            "['▁아버', '지가', '방', '에들어', '가', '신다', '.']\n",
            "아버지가방에들어가신다.\n"
          ]
        }
      ]
    },
    {
      "cell_type": "code",
      "source": [
        "with open(\"/content/nsmc_spm_bpe.vocab\", 'r') as f:\n",
        "    vocab = f.readlines()\n",
        "\n",
        "print('[vocab size] : ',len(vocab))\n",
        "print()\n",
        "print(\"[vocab 형태 확인]\\n\")\n",
        "print(vocab[0:10])\n",
        "for v in vocab[0:10]:\n",
        "    print(v)\n"
      ],
      "metadata": {
        "colab": {
          "base_uri": "https://localhost:8080/"
        },
        "id": "wbRUHB0kditc",
        "outputId": "cc87e5e2-8e99-4e8d-c091-90fc6843dcdd"
      },
      "execution_count": null,
      "outputs": [
        {
          "output_type": "stream",
          "name": "stdout",
          "text": [
            "[vocab size] :  25000\n",
            "\n",
            "[vocab 형태 확인]\n",
            "\n",
            "['<unk>\\t0\\n', '<s>\\t0\\n', '</s>\\t0\\n', '..\\t-0\\n', '영화\\t-1\\n', '...\\t-2\\n', 'ᄏᄏ\\t-3\\n', '!!\\t-4\\n', '재미\\t-5\\n', '너무\\t-6\\n']\n",
            "<unk>\t0\n",
            "\n",
            "<s>\t0\n",
            "\n",
            "</s>\t0\n",
            "\n",
            "..\t-0\n",
            "\n",
            "영화\t-1\n",
            "\n",
            "...\t-2\n",
            "\n",
            "ᄏᄏ\t-3\n",
            "\n",
            "!!\t-4\n",
            "\n",
            "재미\t-5\n",
            "\n",
            "너무\t-6\n",
            "\n"
          ]
        }
      ]
    },
    {
      "cell_type": "code",
      "source": [
        "def sp_bpe_tokenizer(s, train_df, test_df):\n",
        "\n",
        "    tensor_train = []\n",
        "    tensor_test = []\n",
        "\n",
        "    for sen in train_df['document']:\n",
        "        tensor_train.append(s.EncodeAsIds(sen))\n",
        "\n",
        "    for sen2 in test_df['document']:\n",
        "        tensor_test.append(s.EncodeAsIds(sen2))\n",
        "\n",
        "    with open(\"/content/nsmc_spm_bpe.vocab\", 'r') as f:\n",
        "        vocab = f.readlines()\n",
        "\n",
        "    word_index = {}\n",
        "    index_word = {}\n",
        "\n",
        "    for idx, line in enumerate(vocab):\n",
        "        word = line.split(\"\\t\")[0]\n",
        "\n",
        "        word_index.update({word:idx})\n",
        "        index_word.update({idx:word})\n",
        "\n",
        "    train_label = np.array(train_df['label'])\n",
        "    test_label = np.array(test_df['label'])\n",
        "    # Padding 추가\n",
        "    max_sequence_length = max(max(len(seq) for seq in tensor_train), max(len(seq) for seq in tensor_test))\n",
        "    tensor_train = tf.keras.preprocessing.sequence.pad_sequences(tensor_train, maxlen=max_sequence_length, padding='post')\n",
        "    tensor_test = tf.keras.preprocessing.sequence.pad_sequences(tensor_test, maxlen=max_sequence_length, padding='post')\n",
        "\n",
        "    return tensor_train, train_label, tensor_test, test_label, word_index, index_word"
      ],
      "metadata": {
        "id": "iodrqw23dpFH"
      },
      "execution_count": null,
      "outputs": []
    },
    {
      "cell_type": "markdown",
      "source": [
        "# 모델 정의"
      ],
      "metadata": {
        "id": "8vu4Gp6ZfOB2"
      }
    },
    {
      "cell_type": "code",
      "source": [
        "from tensorflow.keras.layers import Input, Embedding, LSTM, BatchNormalization, Dropout, Dense\n",
        "from tensorflow.keras.models import Model\n",
        "\n",
        "def LSTM_model(vocab_size, word_vector_dim, units, drop_rate):\n",
        "    inputs = Input(shape=(None,))  # Input layer\n",
        "\n",
        "    x = Embedding(vocab_size, word_vector_dim, mask_zero=True)(inputs)\n",
        "    x = LSTM(units, return_sequences=True, activation='tanh', dropout=drop_rate)(x)\n",
        "    x = BatchNormalization()(x)\n",
        "    x = Dropout(drop_rate)(x)\n",
        "    x = LSTM(units*2, activation='tanh', dropout=drop_rate)(x)\n",
        "    x = BatchNormalization()(x)\n",
        "    x = Dropout(drop_rate)(x)\n",
        "    outputs = Dense(1, activation='sigmoid')(x)\n",
        "\n",
        "    model = Model(inputs=inputs, outputs=outputs)\n",
        "    return model\n",
        "\n",
        "\n",
        "\n",
        "# 하이퍼 파라미터\n",
        "vocab_size = 25000\n",
        "word_vector_dim = 64\n",
        "units = 32\n",
        "\n",
        "drop_rate = 0.5\n",
        "LSTM_model = LSTM_model(vocab_size, word_vector_dim, units, drop_rate)\n",
        "\n",
        "LSTM_model.summary()"
      ],
      "metadata": {
        "colab": {
          "base_uri": "https://localhost:8080/"
        },
        "id": "avo7k519fRBr",
        "outputId": "bbe4d336-fb3c-481b-d083-244cb5f3b864"
      },
      "execution_count": null,
      "outputs": [
        {
          "output_type": "stream",
          "name": "stdout",
          "text": [
            "Model: \"model\"\n",
            "_________________________________________________________________\n",
            " Layer (type)                Output Shape              Param #   \n",
            "=================================================================\n",
            " input_1 (InputLayer)        [(None, None)]            0         \n",
            "                                                                 \n",
            " embedding (Embedding)       (None, None, 64)          1600000   \n",
            "                                                                 \n",
            " lstm (LSTM)                 (None, None, 32)          12416     \n",
            "                                                                 \n",
            " batch_normalization (BatchN  (None, None, 32)         128       \n",
            " ormalization)                                                   \n",
            "                                                                 \n",
            " dropout (Dropout)           (None, None, 32)          0         \n",
            "                                                                 \n",
            " lstm_1 (LSTM)               (None, 64)                24832     \n",
            "                                                                 \n",
            " batch_normalization_1 (Batc  (None, 64)               256       \n",
            " hNormalization)                                                 \n",
            "                                                                 \n",
            " dropout_1 (Dropout)         (None, 64)                0         \n",
            "                                                                 \n",
            " dense (Dense)               (None, 1)                 65        \n",
            "                                                                 \n",
            "=================================================================\n",
            "Total params: 1,637,697\n",
            "Trainable params: 1,637,505\n",
            "Non-trainable params: 192\n",
            "_________________________________________________________________\n"
          ]
        }
      ]
    },
    {
      "cell_type": "markdown",
      "source": [
        "# 모델 학습"
      ],
      "metadata": {
        "id": "5c_2c9UMfk7J"
      }
    },
    {
      "cell_type": "markdown",
      "source": [
        "## unigram 학습"
      ],
      "metadata": {
        "id": "9NdmuQHifnjn"
      }
    },
    {
      "cell_type": "code",
      "source": [
        "s_uni = spm.SentencePieceProcessor()\n",
        "s_uni.Load('/content/nsmc_spm_uni.model')\n"
      ],
      "metadata": {
        "colab": {
          "base_uri": "https://localhost:8080/"
        },
        "id": "2Zzry-U3gXil",
        "outputId": "8efea444-38bc-4260-ee66-f2598ff2022e"
      },
      "execution_count": null,
      "outputs": [
        {
          "output_type": "execute_result",
          "data": {
            "text/plain": [
              "True"
            ]
          },
          "metadata": {},
          "execution_count": 40
        }
      ]
    },
    {
      "cell_type": "code",
      "source": [
        "x_train, y_train, x_test, y_test, uni_word_to_idx, uni_idx_to_word = sp_uni_tokenizer(s_uni, train_data, test_data)"
      ],
      "metadata": {
        "id": "OwH3lLXleCIT"
      },
      "execution_count": null,
      "outputs": []
    },
    {
      "cell_type": "code",
      "source": [],
      "metadata": {
        "id": "TOhjcyBnmUF5"
      },
      "execution_count": null,
      "outputs": []
    },
    {
      "cell_type": "code",
      "source": [],
      "metadata": {
        "id": "A6TJy7TdmUAa"
      },
      "execution_count": null,
      "outputs": []
    },
    {
      "cell_type": "code",
      "source": [],
      "metadata": {
        "id": "pUSC5dFumT8x"
      },
      "execution_count": null,
      "outputs": []
    },
    {
      "cell_type": "code",
      "source": [],
      "metadata": {
        "id": "ymDIXGazmT6v"
      },
      "execution_count": null,
      "outputs": []
    },
    {
      "cell_type": "code",
      "source": [],
      "metadata": {
        "id": "2AOFQS1kmT4f"
      },
      "execution_count": null,
      "outputs": []
    },
    {
      "cell_type": "code",
      "source": [],
      "metadata": {
        "id": "3IUtplcMmT0f"
      },
      "execution_count": null,
      "outputs": []
    },
    {
      "cell_type": "code",
      "source": [
        "from sklearn.model_selection import train_test_split\n",
        "\n",
        "x_train, x_val, y_train, y_val = train_test_split(x_train,\n",
        "                                                  y_train,\n",
        "                                                  test_size=0.2,\n",
        "                                                  random_state=42)"
      ],
      "metadata": {
        "id": "vV8nk4UTfdIi"
      },
      "execution_count": null,
      "outputs": []
    },
    {
      "cell_type": "code",
      "source": [
        "from tensorflow import keras\n",
        "epochs=20\n",
        "batch_size = 256\n",
        "\n",
        "\n",
        "LSTM_model.compile(optimizer='adam',\n",
        "              loss='binary_crossentropy',\n",
        "              metrics=['accuracy'])\n",
        "\n",
        "es = keras.callbacks.EarlyStopping(monitor='val_loss', patience=5, verbose=1)\n",
        "\n",
        "history_model_u = LSTM_model.fit(x_train, y_train, batch_size=batch_size,\\\n",
        "                    verbose='auto', epochs=epochs,\\\n",
        "                    validation_data=(x_val, y_val), callbacks=[es])\n",
        "\n",
        "results = LSTM_model.evaluate(x_test,  y_test, verbose=2)\n",
        "print(results)\n",
        "\n"
      ],
      "metadata": {
        "colab": {
          "base_uri": "https://localhost:8080/"
        },
        "id": "w1xmbRMYnlhx",
        "outputId": "aa472cd5-4d4b-4021-baa3-064a099357d4"
      },
      "execution_count": null,
      "outputs": [
        {
          "output_type": "stream",
          "name": "stdout",
          "text": [
            "Epoch 1/20\n",
            "365/365 [==============================] - 159s 398ms/step - loss: 0.6067 - accuracy: 0.6860 - val_loss: 0.5277 - val_accuracy: 0.8263\n",
            "Epoch 2/20\n",
            "365/365 [==============================] - 111s 305ms/step - loss: 0.3654 - accuracy: 0.8459 - val_loss: 0.3522 - val_accuracy: 0.8499\n",
            "Epoch 3/20\n",
            "365/365 [==============================] - 111s 304ms/step - loss: 0.3014 - accuracy: 0.8772 - val_loss: 0.3539 - val_accuracy: 0.8519\n",
            "Epoch 4/20\n",
            "365/365 [==============================] - 104s 286ms/step - loss: 0.2669 - accuracy: 0.8935 - val_loss: 0.3815 - val_accuracy: 0.8495\n",
            "Epoch 5/20\n",
            "365/365 [==============================] - 108s 296ms/step - loss: 0.2396 - accuracy: 0.9037 - val_loss: 0.3915 - val_accuracy: 0.8483\n",
            "Epoch 6/20\n",
            "365/365 [==============================] - 103s 281ms/step - loss: 0.2164 - accuracy: 0.9126 - val_loss: 0.4170 - val_accuracy: 0.8447\n",
            "Epoch 7/20\n",
            "365/365 [==============================] - 112s 307ms/step - loss: 0.1948 - accuracy: 0.9208 - val_loss: 0.4668 - val_accuracy: 0.8414\n",
            "Epoch 7: early stopping\n",
            "1221/1221 - 12s - loss: 0.4717 - accuracy: 0.8371 - 12s/epoch - 10ms/step\n",
            "[0.4717387557029724, 0.8371146321296692]\n"
          ]
        }
      ]
    },
    {
      "cell_type": "markdown",
      "source": [
        "## bpe 학습"
      ],
      "metadata": {
        "id": "MzuX5DQhnd6e"
      }
    },
    {
      "cell_type": "code",
      "source": [
        "s_bpe = spm.SentencePieceProcessor()\n",
        "s_bpe.Load('/content/nsmc_spm_bpe.model')\n"
      ],
      "metadata": {
        "colab": {
          "base_uri": "https://localhost:8080/"
        },
        "id": "xbMKCD0ynbhi",
        "outputId": "ba86706e-55f1-4b54-c236-99da1d48eda0"
      },
      "execution_count": null,
      "outputs": [
        {
          "output_type": "execute_result",
          "data": {
            "text/plain": [
              "True"
            ]
          },
          "metadata": {},
          "execution_count": 44
        }
      ]
    },
    {
      "cell_type": "code",
      "source": [
        "x_train, y_train, x_test, y_test, bpe_word_to_idx, bpe_idx_to_word = sp_bpe_tokenizer(s_bpe, train_data, test_data)"
      ],
      "metadata": {
        "id": "B_kwX6nkpz-Y"
      },
      "execution_count": null,
      "outputs": []
    },
    {
      "cell_type": "code",
      "source": [
        "from sklearn.model_selection import train_test_split\n",
        "\n",
        "x_train, x_val, y_train, y_val = train_test_split(x_train,\n",
        "                                                  y_train,\n",
        "                                                  test_size=0.2,\n",
        "                                                  random_state=42)"
      ],
      "metadata": {
        "id": "SyCZHzY2p7Hf"
      },
      "execution_count": null,
      "outputs": []
    },
    {
      "cell_type": "code",
      "source": [
        "from tensorflow import keras\n",
        "epochs=20\n",
        "batch_size = 256\n",
        "\n",
        "\n",
        "LSTM_model.compile(optimizer='adam',\n",
        "              loss='binary_crossentropy',\n",
        "              metrics=['accuracy'])\n",
        "\n",
        "es = keras.callbacks.EarlyStopping(monitor='val_loss', patience=5, verbose=1)\n",
        "\n",
        "history_model_b = LSTM_model.fit(x_train, y_train, batch_size=batch_size,\\\n",
        "                    verbose='auto', epochs=epochs,\\\n",
        "                    validation_data=(x_val, y_val), callbacks=[es])\n",
        "\n",
        "results = LSTM_model.evaluate(x_test,  y_test, verbose=2)\n",
        "print(results)\n",
        "\n"
      ],
      "metadata": {
        "colab": {
          "base_uri": "https://localhost:8080/"
        },
        "id": "ZZDI0BQPp9Mv",
        "outputId": "12635f48-dc89-4254-d573-67aeb8080045"
      },
      "execution_count": null,
      "outputs": [
        {
          "output_type": "stream",
          "name": "stdout",
          "text": [
            "Epoch 1/20\n",
            "365/365 [==============================] - 157s 404ms/step - loss: 0.7022 - accuracy: 0.6085 - val_loss: 0.5040 - val_accuracy: 0.7535\n",
            "Epoch 2/20\n",
            "365/365 [==============================] - 112s 307ms/step - loss: 0.4057 - accuracy: 0.8221 - val_loss: 0.3609 - val_accuracy: 0.8419\n",
            "Epoch 3/20\n",
            "365/365 [==============================] - 104s 285ms/step - loss: 0.3064 - accuracy: 0.8731 - val_loss: 0.3547 - val_accuracy: 0.8489\n",
            "Epoch 4/20\n",
            "365/365 [==============================] - 100s 274ms/step - loss: 0.2652 - accuracy: 0.8924 - val_loss: 0.3710 - val_accuracy: 0.8479\n",
            "Epoch 5/20\n",
            "365/365 [==============================] - 106s 291ms/step - loss: 0.2321 - accuracy: 0.9067 - val_loss: 0.3778 - val_accuracy: 0.8474\n",
            "Epoch 6/20\n",
            "365/365 [==============================] - 95s 261ms/step - loss: 0.2048 - accuracy: 0.9192 - val_loss: 0.4127 - val_accuracy: 0.8463\n",
            "Epoch 7/20\n",
            "365/365 [==============================] - 99s 271ms/step - loss: 0.1842 - accuracy: 0.9274 - val_loss: 0.4408 - val_accuracy: 0.8435\n",
            "Epoch 8/20\n",
            "365/365 [==============================] - 101s 276ms/step - loss: 0.1653 - accuracy: 0.9361 - val_loss: 0.4504 - val_accuracy: 0.8412\n",
            "Epoch 8: early stopping\n",
            "1221/1221 - 11s - loss: 0.4605 - accuracy: 0.8338 - 11s/epoch - 9ms/step\n",
            "[0.46054840087890625, 0.8338369131088257]\n"
          ]
        }
      ]
    },
    {
      "cell_type": "markdown",
      "source": [
        "# Mecab 사용"
      ],
      "metadata": {
        "id": "0u5ePimqwYYp"
      }
    },
    {
      "cell_type": "code",
      "source": [
        "!pip install python-mecab-ko"
      ],
      "metadata": {
        "colab": {
          "base_uri": "https://localhost:8080/"
        },
        "id": "AYGHB2FAwam9",
        "outputId": "37141e91-8492-4f6a-a5fa-bf15afb98fbc"
      },
      "execution_count": null,
      "outputs": [
        {
          "output_type": "stream",
          "name": "stdout",
          "text": [
            "Collecting python-mecab-ko\n",
            "  Downloading python_mecab_ko-1.3.3-cp310-cp310-manylinux_2_17_x86_64.manylinux2014_x86_64.whl (573 kB)\n",
            "\u001b[?25l     \u001b[90m━━━━━━━━━━━━━━━━━━━━━━━━━━━━━━━━━━━━━━━━\u001b[0m \u001b[32m0.0/573.9 kB\u001b[0m \u001b[31m?\u001b[0m eta \u001b[36m-:--:--\u001b[0m\r\u001b[2K     \u001b[91m━━━━━━━━\u001b[0m\u001b[90m╺\u001b[0m\u001b[90m━━━━━━━━━━━━━━━━━━━━━━━━━━━━━━\u001b[0m \u001b[32m122.9/573.9 kB\u001b[0m \u001b[31m3.5 MB/s\u001b[0m eta \u001b[36m0:00:01\u001b[0m\r\u001b[2K     \u001b[90m━━━━━━━━━━━━━━━━━━━━━━━━━━━━━━━━━━━━━━━\u001b[0m \u001b[32m573.9/573.9 kB\u001b[0m \u001b[31m8.6 MB/s\u001b[0m eta \u001b[36m0:00:00\u001b[0m\n",
            "\u001b[?25hCollecting python-mecab-ko-dic (from python-mecab-ko)\n",
            "  Downloading python_mecab_ko_dic-2.1.1.post2-py3-none-any.whl (34.5 MB)\n",
            "\u001b[2K     \u001b[90m━━━━━━━━━━━━━━━━━━━━━━━━━━━━━━━━━━━━━━━━\u001b[0m \u001b[32m34.5/34.5 MB\u001b[0m \u001b[31m24.8 MB/s\u001b[0m eta \u001b[36m0:00:00\u001b[0m\n",
            "\u001b[?25hInstalling collected packages: python-mecab-ko-dic, python-mecab-ko\n",
            "Successfully installed python-mecab-ko-1.3.3 python-mecab-ko-dic-2.1.1.post2\n"
          ]
        }
      ]
    },
    {
      "cell_type": "code",
      "source": [
        "from mecab import MeCab\n"
      ],
      "metadata": {
        "id": "FIrVN14RwuL4"
      },
      "execution_count": null,
      "outputs": []
    },
    {
      "cell_type": "code",
      "source": [
        "def mecab_token(train_df, test_df, num_words=25000):\n",
        "    mecab = MeCab()\n",
        "    temp = []\n",
        "\n",
        "    concat_df = pd.concat([train_df, test_df], axis=0)\n",
        "    concat_df.reset_index(inplace=True)\n",
        "\n",
        "    for i in range(len(concat_df)):\n",
        "        temp.append(mecab.morphs(concat_df['document'][i]))\n",
        "\n",
        "    tokenizer = tf.keras.preprocessing.text.Tokenizer(num_words, filters=\" \", char_level=True)\n",
        "\n",
        "    tokenizer.fit_on_texts(temp)\n",
        "\n",
        "    temp_seq = tokenizer.texts_to_sequences(temp)\n",
        "    max_sequence_length = max(max(len(seq) for seq in temp_seq), max(len(seq) for seq in temp_seq))\n",
        "    x_train = tf.keras.preprocessing.sequence.pad_sequences(temp_seq, maxlen=max_sequence_length, padding='post')\n",
        "\n",
        "    x_train, x_test = x_train[:len(train_df)], x_train[len(train_df):]\n",
        "    y_train, y_test = np.array(concat_df['label'][:len(train_df)]), np.array(concat_df['label'][len(train_df):])\n",
        "\n",
        "\n",
        "    return x_train, y_train, x_test, y_test, tokenizer\n"
      ],
      "metadata": {
        "id": "RWLsvMbpw4K6"
      },
      "execution_count": null,
      "outputs": []
    },
    {
      "cell_type": "code",
      "source": [
        "x_train, y_train, x_test, y_test, mecab_token = mecab_token(train_data, test_data)"
      ],
      "metadata": {
        "id": "SqCw_X5m1u93"
      },
      "execution_count": null,
      "outputs": []
    },
    {
      "cell_type": "code",
      "source": [
        "from sklearn.model_selection import train_test_split\n",
        "\n",
        "x_train, x_val, y_train, y_val = train_test_split(x_train,\n",
        "                                                  y_train,\n",
        "                                                  test_size=0.2,\n",
        "                                                  random_state=42)"
      ],
      "metadata": {
        "id": "-z6F7Ezq4vXV"
      },
      "execution_count": null,
      "outputs": []
    },
    {
      "cell_type": "code",
      "source": [
        "from tensorflow import keras\n",
        "epochs=20\n",
        "batch_size = 256\n",
        "\n",
        "\n",
        "LSTM_model.compile(optimizer='adam',\n",
        "              loss='binary_crossentropy',\n",
        "              metrics=['accuracy'])\n",
        "\n",
        "es = keras.callbacks.EarlyStopping(monitor='val_loss', patience=5, verbose=1)\n",
        "\n",
        "history_model_m = LSTM_model.fit(x_train, y_train, batch_size=batch_size,\\\n",
        "                    verbose='auto', epochs=epochs,\\\n",
        "                    validation_data=(x_val, y_val), callbacks=[es])\n",
        "\n",
        "results = LSTM_model.evaluate(x_test,  y_test, verbose=2)\n",
        "print(results)\n",
        "\n"
      ],
      "metadata": {
        "colab": {
          "base_uri": "https://localhost:8080/"
        },
        "id": "-0D6OVb_5oOC",
        "outputId": "eb6c8644-724c-44e8-9602-9119c45c5040"
      },
      "execution_count": null,
      "outputs": [
        {
          "output_type": "stream",
          "name": "stdout",
          "text": [
            "Epoch 1/20\n",
            "292/292 [==============================] - 82s 248ms/step - loss: 0.6718 - accuracy: 0.6610 - val_loss: 0.4707 - val_accuracy: 0.7758\n",
            "Epoch 2/20\n",
            "292/292 [==============================] - 51s 173ms/step - loss: 0.4206 - accuracy: 0.8105 - val_loss: 0.3819 - val_accuracy: 0.8291\n",
            "Epoch 3/20\n",
            "292/292 [==============================] - 48s 161ms/step - loss: 0.3427 - accuracy: 0.8520 - val_loss: 0.3667 - val_accuracy: 0.8376\n",
            "Epoch 4/20\n",
            "292/292 [==============================] - 46s 159ms/step - loss: 0.2994 - accuracy: 0.8739 - val_loss: 0.3670 - val_accuracy: 0.8416\n",
            "Epoch 5/20\n",
            "292/292 [==============================] - 42s 145ms/step - loss: 0.2699 - accuracy: 0.8885 - val_loss: 0.3668 - val_accuracy: 0.8435\n",
            "Epoch 6/20\n",
            "292/292 [==============================] - 44s 150ms/step - loss: 0.2434 - accuracy: 0.9019 - val_loss: 0.3991 - val_accuracy: 0.8407\n",
            "Epoch 7/20\n",
            "292/292 [==============================] - 43s 148ms/step - loss: 0.2221 - accuracy: 0.9114 - val_loss: 0.3971 - val_accuracy: 0.8433\n",
            "Epoch 8/20\n",
            "292/292 [==============================] - 44s 152ms/step - loss: 0.2062 - accuracy: 0.9187 - val_loss: 0.4266 - val_accuracy: 0.8421\n",
            "Epoch 8: early stopping\n",
            "1221/1221 - 8s - loss: 0.4269 - accuracy: 0.8417 - 8s/epoch - 6ms/step\n",
            "[0.4268987476825714, 0.8416726589202881]\n"
          ]
        }
      ]
    },
    {
      "cell_type": "markdown",
      "source": [
        "# 결과 비교"
      ],
      "metadata": {
        "id": "1dRlPtFz6PtP"
      }
    },
    {
      "cell_type": "code",
      "source": [
        "token_list = [history_model_u.history, history_model_b.history, history_model_m.history]\n",
        "token_names = ['Sentence_piece_unigram','Sentence_piece_bpe','Mecab']\n",
        "acc_list = ['accuracy', 'val_accuracy']\n",
        "\n",
        "def acc_df(token_list, token_names, acc_list):\n",
        "    count = 0\n",
        "    for token in token_list:\n",
        "        for num in range(1):\n",
        "            if num == 1:\n",
        "                continue\n",
        "            s1 = round(pd.Series(token[acc_list[num]][-1], index=[token_names[count]]), 3)\n",
        "            s2 = round(pd.Series(token[acc_list[num+1]][-1], index=[token_names[count]]), 3)\n",
        "            if token == token_list[0]:\n",
        "                s = pd.concat([s1, s2], axis=1)\n",
        "            elif token != token_list[0]:\n",
        "                other = pd.concat([s1, s2], axis=1)\n",
        "                s = pd.concat([s, other], axis=0)\n",
        "            count += 1\n",
        "    s.rename(columns={0: acc_list[0], 1: acc_list[1]}, inplace=True)\n",
        "\n",
        "    return s"
      ],
      "metadata": {
        "id": "odoF7T6f8P9z"
      },
      "execution_count": null,
      "outputs": []
    },
    {
      "cell_type": "code",
      "source": [
        "result = acc_df(token_list, token_names, acc_list)\n",
        "\n",
        "result"
      ],
      "metadata": {
        "colab": {
          "base_uri": "https://localhost:8080/",
          "height": 143
        },
        "id": "UJPA83_z8nG2",
        "outputId": "7fb40776-65ba-4034-d01d-92ca0dc25de6"
      },
      "execution_count": null,
      "outputs": [
        {
          "output_type": "execute_result",
          "data": {
            "text/plain": [
              "                        accuracy  val_accuracy\n",
              "Sentence_piece_unigram     0.921         0.841\n",
              "Sentence_piece_bpe         0.936         0.841\n",
              "Mecab                      0.919         0.842"
            ],
            "text/html": [
              "\n",
              "\n",
              "  <div id=\"df-1c027323-2e1f-4988-94b4-3c3671ec0f08\">\n",
              "    <div class=\"colab-df-container\">\n",
              "      <div>\n",
              "<style scoped>\n",
              "    .dataframe tbody tr th:only-of-type {\n",
              "        vertical-align: middle;\n",
              "    }\n",
              "\n",
              "    .dataframe tbody tr th {\n",
              "        vertical-align: top;\n",
              "    }\n",
              "\n",
              "    .dataframe thead th {\n",
              "        text-align: right;\n",
              "    }\n",
              "</style>\n",
              "<table border=\"1\" class=\"dataframe\">\n",
              "  <thead>\n",
              "    <tr style=\"text-align: right;\">\n",
              "      <th></th>\n",
              "      <th>accuracy</th>\n",
              "      <th>val_accuracy</th>\n",
              "    </tr>\n",
              "  </thead>\n",
              "  <tbody>\n",
              "    <tr>\n",
              "      <th>Sentence_piece_unigram</th>\n",
              "      <td>0.921</td>\n",
              "      <td>0.841</td>\n",
              "    </tr>\n",
              "    <tr>\n",
              "      <th>Sentence_piece_bpe</th>\n",
              "      <td>0.936</td>\n",
              "      <td>0.841</td>\n",
              "    </tr>\n",
              "    <tr>\n",
              "      <th>Mecab</th>\n",
              "      <td>0.919</td>\n",
              "      <td>0.842</td>\n",
              "    </tr>\n",
              "  </tbody>\n",
              "</table>\n",
              "</div>\n",
              "      <button class=\"colab-df-convert\" onclick=\"convertToInteractive('df-1c027323-2e1f-4988-94b4-3c3671ec0f08')\"\n",
              "              title=\"Convert this dataframe to an interactive table.\"\n",
              "              style=\"display:none;\">\n",
              "\n",
              "  <svg xmlns=\"http://www.w3.org/2000/svg\" height=\"24px\"viewBox=\"0 0 24 24\"\n",
              "       width=\"24px\">\n",
              "    <path d=\"M0 0h24v24H0V0z\" fill=\"none\"/>\n",
              "    <path d=\"M18.56 5.44l.94 2.06.94-2.06 2.06-.94-2.06-.94-.94-2.06-.94 2.06-2.06.94zm-11 1L8.5 8.5l.94-2.06 2.06-.94-2.06-.94L8.5 2.5l-.94 2.06-2.06.94zm10 10l.94 2.06.94-2.06 2.06-.94-2.06-.94-.94-2.06-.94 2.06-2.06.94z\"/><path d=\"M17.41 7.96l-1.37-1.37c-.4-.4-.92-.59-1.43-.59-.52 0-1.04.2-1.43.59L10.3 9.45l-7.72 7.72c-.78.78-.78 2.05 0 2.83L4 21.41c.39.39.9.59 1.41.59.51 0 1.02-.2 1.41-.59l7.78-7.78 2.81-2.81c.8-.78.8-2.07 0-2.86zM5.41 20L4 18.59l7.72-7.72 1.47 1.35L5.41 20z\"/>\n",
              "  </svg>\n",
              "      </button>\n",
              "\n",
              "\n",
              "\n",
              "    <div id=\"df-c8076e57-a126-4c74-95af-261551507049\">\n",
              "      <button class=\"colab-df-quickchart\" onclick=\"quickchart('df-c8076e57-a126-4c74-95af-261551507049')\"\n",
              "              title=\"Suggest charts.\"\n",
              "              style=\"display:none;\">\n",
              "\n",
              "<svg xmlns=\"http://www.w3.org/2000/svg\" height=\"24px\"viewBox=\"0 0 24 24\"\n",
              "     width=\"24px\">\n",
              "    <g>\n",
              "        <path d=\"M19 3H5c-1.1 0-2 .9-2 2v14c0 1.1.9 2 2 2h14c1.1 0 2-.9 2-2V5c0-1.1-.9-2-2-2zM9 17H7v-7h2v7zm4 0h-2V7h2v10zm4 0h-2v-4h2v4z\"/>\n",
              "    </g>\n",
              "</svg>\n",
              "      </button>\n",
              "    </div>\n",
              "\n",
              "<style>\n",
              "  .colab-df-quickchart {\n",
              "    background-color: #E8F0FE;\n",
              "    border: none;\n",
              "    border-radius: 50%;\n",
              "    cursor: pointer;\n",
              "    display: none;\n",
              "    fill: #1967D2;\n",
              "    height: 32px;\n",
              "    padding: 0 0 0 0;\n",
              "    width: 32px;\n",
              "  }\n",
              "\n",
              "  .colab-df-quickchart:hover {\n",
              "    background-color: #E2EBFA;\n",
              "    box-shadow: 0px 1px 2px rgba(60, 64, 67, 0.3), 0px 1px 3px 1px rgba(60, 64, 67, 0.15);\n",
              "    fill: #174EA6;\n",
              "  }\n",
              "\n",
              "  [theme=dark] .colab-df-quickchart {\n",
              "    background-color: #3B4455;\n",
              "    fill: #D2E3FC;\n",
              "  }\n",
              "\n",
              "  [theme=dark] .colab-df-quickchart:hover {\n",
              "    background-color: #434B5C;\n",
              "    box-shadow: 0px 1px 3px 1px rgba(0, 0, 0, 0.15);\n",
              "    filter: drop-shadow(0px 1px 2px rgba(0, 0, 0, 0.3));\n",
              "    fill: #FFFFFF;\n",
              "  }\n",
              "</style>\n",
              "\n",
              "    <script>\n",
              "      async function quickchart(key) {\n",
              "        const containerElement = document.querySelector('#' + key);\n",
              "        const charts = await google.colab.kernel.invokeFunction(\n",
              "            'suggestCharts', [key], {});\n",
              "      }\n",
              "    </script>\n",
              "\n",
              "      <script>\n",
              "\n",
              "function displayQuickchartButton(domScope) {\n",
              "  let quickchartButtonEl =\n",
              "    domScope.querySelector('#df-c8076e57-a126-4c74-95af-261551507049 button.colab-df-quickchart');\n",
              "  quickchartButtonEl.style.display =\n",
              "    google.colab.kernel.accessAllowed ? 'block' : 'none';\n",
              "}\n",
              "\n",
              "        displayQuickchartButton(document);\n",
              "      </script>\n",
              "      <style>\n",
              "    .colab-df-container {\n",
              "      display:flex;\n",
              "      flex-wrap:wrap;\n",
              "      gap: 12px;\n",
              "    }\n",
              "\n",
              "    .colab-df-convert {\n",
              "      background-color: #E8F0FE;\n",
              "      border: none;\n",
              "      border-radius: 50%;\n",
              "      cursor: pointer;\n",
              "      display: none;\n",
              "      fill: #1967D2;\n",
              "      height: 32px;\n",
              "      padding: 0 0 0 0;\n",
              "      width: 32px;\n",
              "    }\n",
              "\n",
              "    .colab-df-convert:hover {\n",
              "      background-color: #E2EBFA;\n",
              "      box-shadow: 0px 1px 2px rgba(60, 64, 67, 0.3), 0px 1px 3px 1px rgba(60, 64, 67, 0.15);\n",
              "      fill: #174EA6;\n",
              "    }\n",
              "\n",
              "    [theme=dark] .colab-df-convert {\n",
              "      background-color: #3B4455;\n",
              "      fill: #D2E3FC;\n",
              "    }\n",
              "\n",
              "    [theme=dark] .colab-df-convert:hover {\n",
              "      background-color: #434B5C;\n",
              "      box-shadow: 0px 1px 3px 1px rgba(0, 0, 0, 0.15);\n",
              "      filter: drop-shadow(0px 1px 2px rgba(0, 0, 0, 0.3));\n",
              "      fill: #FFFFFF;\n",
              "    }\n",
              "  </style>\n",
              "\n",
              "      <script>\n",
              "        const buttonEl =\n",
              "          document.querySelector('#df-1c027323-2e1f-4988-94b4-3c3671ec0f08 button.colab-df-convert');\n",
              "        buttonEl.style.display =\n",
              "          google.colab.kernel.accessAllowed ? 'block' : 'none';\n",
              "\n",
              "        async function convertToInteractive(key) {\n",
              "          const element = document.querySelector('#df-1c027323-2e1f-4988-94b4-3c3671ec0f08');\n",
              "          const dataTable =\n",
              "            await google.colab.kernel.invokeFunction('convertToInteractive',\n",
              "                                                     [key], {});\n",
              "          if (!dataTable) return;\n",
              "\n",
              "          const docLinkHtml = 'Like what you see? Visit the ' +\n",
              "            '<a target=\"_blank\" href=https://colab.research.google.com/notebooks/data_table.ipynb>data table notebook</a>'\n",
              "            + ' to learn more about interactive tables.';\n",
              "          element.innerHTML = '';\n",
              "          dataTable['output_type'] = 'display_data';\n",
              "          await google.colab.output.renderOutput(dataTable, element);\n",
              "          const docLink = document.createElement('div');\n",
              "          docLink.innerHTML = docLinkHtml;\n",
              "          element.appendChild(docLink);\n",
              "        }\n",
              "      </script>\n",
              "    </div>\n",
              "  </div>\n"
            ]
          },
          "metadata": {},
          "execution_count": 86
        }
      ]
    },
    {
      "cell_type": "code",
      "source": [
        "import matplotlib.pyplot as plt\n",
        "\n",
        "fig, loss_ax = plt.subplots()\n",
        "\n",
        "loss_ax.plot(history_model_u.history['loss'], 'y', label='train loss (Unigram)')\n",
        "loss_ax.plot(history_model_u.history['val_loss'], 'r', label='val loss (Unigram)')\n",
        "\n",
        "loss_ax.plot(history_model_b.history['loss'], 'b', label='train loss (BPE)')\n",
        "loss_ax.plot(history_model_b.history['val_loss'], 'g', label='val loss (BPE)')\n",
        "\n",
        "loss_ax.plot(history_model_m.history['loss'], 'c', label='train loss (Mecab)')\n",
        "loss_ax.plot(history_model_m.history['val_loss'], 'm', label='val loss (Mecab)')\n",
        "\n",
        "loss_ax.set_xlabel('epoch')\n",
        "loss_ax.set_ylabel('loss')\n",
        "\n",
        "loss_ax.legend(loc='upper left')\n",
        "\n",
        "plt.title('Comparison of SentencePiece Unigram vs BPE vs Mecab')\n",
        "plt.show()\n"
      ],
      "metadata": {
        "colab": {
          "base_uri": "https://localhost:8080/",
          "height": 472
        },
        "id": "hn9h4LLO76sG",
        "outputId": "bd623e7c-8102-4371-848e-9aa0da0f92f4"
      },
      "execution_count": null,
      "outputs": [
        {
          "output_type": "display_data",
          "data": {
            "text/plain": [
              "<Figure size 640x480 with 1 Axes>"
            ],
            "image/png": "[encoded data removed]"
          },
          "metadata": {}
        }
      ]
    },
    {
      "cell_type": "markdown",
      "source": [
        "결과 비교 (Test loss, Test Acc)\n",
        "- uni [0.4717387557029724, 0.8371146321296692]\n",
        "- bpe [0.46054840087890625, 0.8338369131088257]\n",
        "- mecab [0.4268987476825714, 0.8416726589202881]\n"
      ],
      "metadata": {
        "id": "Drbnp4cBKtfl"
      }
    },
    {
      "cell_type": "markdown",
      "source": [
        "# SentencePiece + Bert : 미완성"
      ],
      "metadata": {
        "id": "BjmgsIR0mdff"
      }
    },
    {
      "cell_type": "code",
      "execution_count": null,
      "metadata": {
        "colab": {
          "base_uri": "https://localhost:8080/"
        },
        "id": "fD9FITVVSwOT",
        "outputId": "a6bbd9f8-e021-41e6-de41-217fe3b2ae5b"
      },
      "outputs": [
        {
          "output_type": "stream",
          "name": "stdout",
          "text": [
            "--2023-08-16 07:45:08--  https://raw.githubusercontent.com/e9t/nsmc/master/ratings_train.txt\n",
            "Resolving raw.githubusercontent.com (raw.githubusercontent.com)... 185.199.108.133, 185.199.109.133, 185.199.110.133, ...\n",
            "Connecting to raw.githubusercontent.com (raw.githubusercontent.com)|185.199.108.133|:443... connected.\n",
            "HTTP request sent, awaiting response... 200 OK\n",
            "Length: 14628807 (14M) [text/plain]\n",
            "Saving to: ‘/content/nsmc_data/ratings_train.txt’\n",
            "\n",
            "ratings_train.txt   100%[===================>]  13.95M  --.-KB/s    in 0.04s   \n",
            "\n",
            "2023-08-16 07:45:10 (326 MB/s) - ‘/content/nsmc_data/ratings_train.txt’ saved [14628807/14628807]\n",
            "\n",
            "--2023-08-16 07:45:10--  https://raw.githubusercontent.com/e9t/nsmc/master/ratings_test.txt\n",
            "Resolving raw.githubusercontent.com (raw.githubusercontent.com)... 185.199.108.133, 185.199.109.133, 185.199.110.133, ...\n",
            "Connecting to raw.githubusercontent.com (raw.githubusercontent.com)|185.199.108.133|:443... connected.\n",
            "HTTP request sent, awaiting response... 200 OK\n",
            "Length: 4893335 (4.7M) [text/plain]\n",
            "Saving to: ‘/content/nsmc_data/ratings_test.txt’\n",
            "\n",
            "ratings_test.txt    100%[===================>]   4.67M  --.-KB/s    in 0.02s   \n",
            "\n",
            "2023-08-16 07:45:10 (227 MB/s) - ‘/content/nsmc_data/ratings_test.txt’ saved [4893335/4893335]\n",
            "\n"
          ]
        }
      ],
      "source": [
        "!wget https://raw.githubusercontent.com/e9t/nsmc/master/ratings_train.txt -P /content/nsmc_data\n",
        "!wget https://raw.githubusercontent.com/e9t/nsmc/master/ratings_test.txt -P /content/nsmc_data\n"
      ]
    },
    {
      "cell_type": "code",
      "source": [
        "import os\n",
        "import re\n",
        "import numpy as np\n",
        "import pandas as pd\n",
        "import matplotlib\n",
        "import matplotlib.pyplot as plt\n",
        "\n",
        "import tensorflow as tf\n",
        "from tensorflow import keras\n",
        "from tensorflow.keras.preprocessing.text import Tokenizer\n",
        "from tensorflow.keras.preprocessing.sequence import pad_sequences\n",
        "from tensorflow.keras import models\n",
        "from tensorflow.keras import layers\n",
        "from tensorflow.keras import callbacks\n",
        "from tensorflow.keras import regularizers\n"
      ],
      "metadata": {
        "id": "KL-wzfyOeng5"
      },
      "execution_count": null,
      "outputs": []
    },
    {
      "cell_type": "code",
      "source": [
        "\n",
        "import pandas as pd\n",
        "train_path = '/content/nsmc_data/ratings_train.txt'\n",
        "test_path = '/content/nsmc_data/ratings_test.txt'\n",
        "\n",
        "train_data = pd.read_table(train_path, sep='\t',usecols=['id', 'document', 'label'], encoding='UTF-8')\n",
        "test_data = pd.read_table(test_path, sep='\t',usecols=['id', 'document', 'label'], encoding='UTF-8')"
      ],
      "metadata": {
        "id": "yzpVMtACTjf8"
      },
      "execution_count": null,
      "outputs": []
    },
    {
      "cell_type": "code",
      "source": [
        "import re\n",
        "def regex_sentence(corpus):\n",
        "    sentences = []\n",
        "    for sentence in corpus:\n",
        "        sentence = re.sub(r\"[^a-zA-Zㅋㅎㅜㅠ가-힣0-9!;?.,]+\", r\"\", sentence)\n",
        "        sentences.append(sentence)\n",
        "    corpus = sentences\n",
        "\n",
        "    return corpus"
      ],
      "metadata": {
        "id": "X31N-RcYTXa2"
      },
      "execution_count": null,
      "outputs": []
    },
    {
      "cell_type": "code",
      "source": [
        "import numpy as np\n",
        "train_data['document'].replace('', np.nan, inplace=True)\n",
        "train_data.dropna(subset=['document'], inplace=True)\n",
        "train_data['document'] = regex_sentence(train_data['document'])\n",
        "train_data.drop_duplicates(subset=['document'], inplace=True)\n"
      ],
      "metadata": {
        "id": "WYPT8CKnT0Ef"
      },
      "execution_count": null,
      "outputs": []
    },
    {
      "cell_type": "code",
      "source": [
        "test_data['document'].replace('', np.nan, inplace=True)\n",
        "test_data.dropna(subset=['document'], inplace=True)\n",
        "test_data['document'] = regex_sentence(test_data['document'])\n",
        "test_data.drop_duplicates(subset=['document'], inplace=True)"
      ],
      "metadata": {
        "id": "Zqt3RKGdT4yH"
      },
      "execution_count": null,
      "outputs": []
    },
    {
      "cell_type": "code",
      "source": [
        "train_data = train_data[train_data['document'].apply(lambda x: 10 <= len(x) <= 60)]\n",
        "test_data = test_data[test_data['document'].apply(lambda x: 10 <= len(x) <= 60)]"
      ],
      "metadata": {
        "id": "K7k8LFhHUJzm"
      },
      "execution_count": null,
      "outputs": []
    },
    {
      "cell_type": "code",
      "source": [
        "cleaned_corpus = list(train_data['document'])"
      ],
      "metadata": {
        "id": "WA0WbSt1U3SA"
      },
      "execution_count": null,
      "outputs": []
    },
    {
      "cell_type": "code",
      "source": [],
      "metadata": {
        "id": "R_zvD-FRmtwI"
      },
      "execution_count": null,
      "outputs": []
    },
    {
      "cell_type": "code",
      "source": [
        "temp_file = \"./nsmc_cleaned.temp\""
      ],
      "metadata": {
        "id": "8lj29bEjXo9o"
      },
      "execution_count": null,
      "outputs": []
    },
    {
      "cell_type": "code",
      "source": [
        "with open(temp_file, 'w') as f:\n",
        "    for row in cleaned_corpus:   # 이전 스텝에서 정제했던 corpus를 활용합니다.\n",
        "        f.write(str(row) + '\\n')\n"
      ],
      "metadata": {
        "id": "gnVLoCSxXjWs"
      },
      "execution_count": null,
      "outputs": []
    },
    {
      "cell_type": "code",
      "source": [
        "!pip install sentencepiece"
      ],
      "metadata": {
        "colab": {
          "base_uri": "https://localhost:8080/"
        },
        "id": "k7OD33KWVEUu",
        "outputId": "4995723f-f280-4986-bebc-cf8a2af00db2"
      },
      "execution_count": null,
      "outputs": [
        {
          "output_type": "stream",
          "name": "stdout",
          "text": [
            "Collecting sentencepiece\n",
            "  Downloading sentencepiece-0.1.99-cp310-cp310-manylinux_2_17_x86_64.manylinux2014_x86_64.whl (1.3 MB)\n",
            "\u001b[2K     \u001b[90m━━━━━━━━━━━━━━━━━━━━━━━━━━━━━━━━━━━━━━━━\u001b[0m \u001b[32m1.3/1.3 MB\u001b[0m \u001b[31m12.4 MB/s\u001b[0m eta \u001b[36m0:00:00\u001b[0m\n",
            "\u001b[?25hInstalling collected packages: sentencepiece\n",
            "Successfully installed sentencepiece-0.1.99\n"
          ]
        }
      ]
    },
    {
      "cell_type": "code",
      "source": [
        "import sentencepiece as spm"
      ],
      "metadata": {
        "id": "4QaPk2SuVwVr"
      },
      "execution_count": null,
      "outputs": []
    },
    {
      "cell_type": "code",
      "source": [
        "corpus = temp_file\n",
        "prefix = \"t5-sp-bpe-nsmc\"\n",
        "vocab_size = 31900-7\n",
        "\n",
        "spm.SentencePieceTrainer.train(\n",
        "    f\"--input={corpus} --model_prefix={prefix} --vocab_size={vocab_size + 7}\" +\n",
        "    \" --model_type=bpe\" +\n",
        "    \" --max_sentence_length=999999\" + # 문장 최대 길이 (너무 길면 에러발생)\n",
        "    \" --pad_id=0 --pad_piece=<pad>\" + # pad (0)\n",
        "    \" --unk_id=1 --unk_piece=<unk>\" + # unknown (1)\n",
        "    \" --bos_id=2 --bos_piece=<s>\" + # begin of sequence (2)\n",
        "    \" --eos_id=3 --eos_piece=</s>\" + # end of sequence (3)\n",
        "    \" --user_defined_symbols=<sep>,<cls>,<mask>\") # 사용자 정의 토큰"
      ],
      "metadata": {
        "id": "rWqTt711Vv2w"
      },
      "execution_count": null,
      "outputs": []
    },
    {
      "cell_type": "markdown",
      "source": [
        "학습된 토크나이저 사용하기\n",
        "\n",
        "    학습된 토크나이저 모델파일을 sentencepiece 라이브러리를 통해 다시 로딩해서 쓸 수 있지만, 사용성을 위해 huggingface의 T5Tokenizer로 랩핑해서 사용하겠습니다\n",
        "\n",
        "    save_pretrained()함수를 사용하면 최근 많이 사용되는 huggingface의 토크나이저의 포멧으로 저장되어 재사용 할 수 있습니다\n",
        "\n",
        "    huggingface 클래스를 사용할때 실제 필요한 파일은 t5-sp-bpe-nsmc.model 하나만 있으면 됩니다"
      ],
      "metadata": {
        "id": "KxDx8t3NYFm6"
      }
    },
    {
      "cell_type": "code",
      "source": [
        "!pip install transformers"
      ],
      "metadata": {
        "colab": {
          "base_uri": "https://localhost:8080/"
        },
        "id": "FtCKZVmrYZDU",
        "outputId": "b512b860-b92d-4fa5-bae5-96094eb833f0"
      },
      "execution_count": null,
      "outputs": [
        {
          "output_type": "stream",
          "name": "stdout",
          "text": [
            "Collecting transformers\n",
            "  Downloading transformers-4.31.0-py3-none-any.whl (7.4 MB)\n",
            "\u001b[2K     \u001b[90m━━━━━━━━━━━━━━━━━━━━━━━━━━━━━━━━━━━━━━━━\u001b[0m \u001b[32m7.4/7.4 MB\u001b[0m \u001b[31m60.9 MB/s\u001b[0m eta \u001b[36m0:00:00\u001b[0m\n",
            "\u001b[?25hRequirement already satisfied: filelock in /usr/local/lib/python3.10/dist-packages (from transformers) (3.12.2)\n",
            "Collecting huggingface-hub<1.0,>=0.14.1 (from transformers)\n",
            "  Downloading huggingface_hub-0.16.4-py3-none-any.whl (268 kB)\n",
            "\u001b[2K     \u001b[90m━━━━━━━━━━━━━━━━━━━━━━━━━━━━━━━━━━━━━━\u001b[0m \u001b[32m268.8/268.8 kB\u001b[0m \u001b[31m28.8 MB/s\u001b[0m eta \u001b[36m0:00:00\u001b[0m\n",
            "\u001b[?25hRequirement already satisfied: numpy>=1.17 in /usr/local/lib/python3.10/dist-packages (from transformers) (1.23.5)\n",
            "Requirement already satisfied: packaging>=20.0 in /usr/local/lib/python3.10/dist-packages (from transformers) (23.1)\n",
            "Requirement already satisfied: pyyaml>=5.1 in /usr/local/lib/python3.10/dist-packages (from transformers) (6.0.1)\n",
            "Requirement already satisfied: regex!=2019.12.17 in /usr/local/lib/python3.10/dist-packages (from transformers) (2023.6.3)\n",
            "Requirement already satisfied: requests in /usr/local/lib/python3.10/dist-packages (from transformers) (2.31.0)\n",
            "Collecting tokenizers!=0.11.3,<0.14,>=0.11.1 (from transformers)\n",
            "  Downloading tokenizers-0.13.3-cp310-cp310-manylinux_2_17_x86_64.manylinux2014_x86_64.whl (7.8 MB)\n",
            "\u001b[2K     \u001b[90m━━━━━━━━━━━━━━━━━━━━━━━━━━━━━━━━━━━━━━━━\u001b[0m \u001b[32m7.8/7.8 MB\u001b[0m \u001b[31m95.7 MB/s\u001b[0m eta \u001b[36m0:00:00\u001b[0m\n",
            "\u001b[?25hCollecting safetensors>=0.3.1 (from transformers)\n",
            "  Downloading safetensors-0.3.2-cp310-cp310-manylinux_2_17_x86_64.manylinux2014_x86_64.whl (1.3 MB)\n",
            "\u001b[2K     \u001b[90m━━━━━━━━━━━━━━━━━━━━━━━━━━━━━━━━━━━━━━━━\u001b[0m \u001b[32m1.3/1.3 MB\u001b[0m \u001b[31m73.2 MB/s\u001b[0m eta \u001b[36m0:00:00\u001b[0m\n",
            "\u001b[?25hRequirement already satisfied: tqdm>=4.27 in /usr/local/lib/python3.10/dist-packages (from transformers) (4.66.1)\n",
            "Requirement already satisfied: fsspec in /usr/local/lib/python3.10/dist-packages (from huggingface-hub<1.0,>=0.14.1->transformers) (2023.6.0)\n",
            "Requirement already satisfied: typing-extensions>=3.7.4.3 in /usr/local/lib/python3.10/dist-packages (from huggingface-hub<1.0,>=0.14.1->transformers) (4.7.1)\n",
            "Requirement already satisfied: charset-normalizer<4,>=2 in /usr/local/lib/python3.10/dist-packages (from requests->transformers) (3.2.0)\n",
            "Requirement already satisfied: idna<4,>=2.5 in /usr/local/lib/python3.10/dist-packages (from requests->transformers) (3.4)\n",
            "Requirement already satisfied: urllib3<3,>=1.21.1 in /usr/local/lib/python3.10/dist-packages (from requests->transformers) (2.0.4)\n",
            "Requirement already satisfied: certifi>=2017.4.17 in /usr/local/lib/python3.10/dist-packages (from requests->transformers) (2023.7.22)\n",
            "Installing collected packages: tokenizers, safetensors, huggingface-hub, transformers\n",
            "Successfully installed huggingface-hub-0.16.4 safetensors-0.3.2 tokenizers-0.13.3 transformers-4.31.0\n"
          ]
        }
      ]
    },
    {
      "cell_type": "code",
      "source": [
        "from transformers import T5Tokenizer\n",
        "tokenizer = T5Tokenizer(vocab_file=\"t5-sp-bpe-nsmc.model\")\n",
        "tokenizer.save_pretrained(\"t5-tokenizer-bpe-nsmc\")\n",
        "lines = [\n",
        "  \"`DEVOCEAN`은 SK그룹의 대표 개발자 커뮤니티이자🧑\",\n",
        "  \"내/외부 개발자 간 소통과 성장을 위한 플랫폼을 상징합니다.👋\",\n",
        "  \"`Developers`' Ocean 개발자들을 위한 영감의 바다🙏\",\n",
        "  \"`Devotion` 헌신,몰두,전념💯\",\n",
        "  \"`Technology for Everyone` 모두를 위한 기술👍\"\n",
        "  ]\n",
        "\n",
        "for line in lines:\n",
        "    tokens = tokenizer.tokenize(line)\n",
        "    inputs = tokenizer(line)\n",
        "    decoded_sequence = tokenizer.decode(inputs['input_ids'])\n",
        "    print(line) # 입력 데이터\n",
        "    print(tokens)  # subword로 토큰화된 데이터\n",
        "    print(decoded_sequence) # subword토큰화된 데이터 -> token id -> 복원된데이터\n",
        "    print()"
      ],
      "metadata": {
        "colab": {
          "base_uri": "https://localhost:8080/"
        },
        "id": "stVfO1MzYFIO",
        "outputId": "db287b2c-a00f-405c-e7a3-fdb328527290"
      },
      "execution_count": null,
      "outputs": [
        {
          "output_type": "stream",
          "name": "stdout",
          "text": [
            "`DEVOCEAN`은 SK그룹의 대표 개발자 커뮤니티이자🧑\n",
            "['▁', '`', 'D', 'E', 'V', 'O', 'C', 'E', 'A', 'N', '`', '은', '▁S', 'K', '그룹', '의', '▁대', '표', '▁개', '발', '자', '▁커', '뮤', '니', '티', '이자', '🧑']\n",
            "<unk> DEVOCEAN<unk> 은 SK그룹의 대표 개발자 커뮤니티이자<unk></s>\n",
            "\n",
            "내/외부 개발자 간 소통과 성장을 위한 플랫폼을 상징합니다.👋\n",
            "['▁내', '/', '외', '부', '▁개', '발', '자', '▁간', '▁소', '통과', '▁성', '장을', '▁', '위한', '▁', '플', '랫', '폼', '을', '▁상', '징', '합니다', '.', '👋']\n",
            "내<unk> 외부 개발자 간 소통과 성장을 위한 플랫폼을 상징합니다.<unk></s>\n",
            "\n",
            "`Developers`' Ocean 개발자들을 위한 영감의 바다🙏\n",
            "['▁', '`', 'D', 'ev', 'el', 'op', 'ers', \"`'\", '▁O', 'ce', 'an', '▁개', '발', '자', '들을', '▁', '위한', '▁영', '감', '의', '▁바다', '🙏']\n",
            "<unk> Developers<unk> Ocean 개발자들을 위한 영감의 바다<unk></s>\n",
            "\n",
            "`Devotion` 헌신,몰두,전념💯\n",
            "['▁', '`', 'D', 'ev', 'ot', 'ion', '`', '▁', '헌신', ',', '몰두', ',', '전', '념', '💯']\n",
            "<unk> Devotion<unk> 헌신,몰두,전념<unk></s>\n",
            "\n",
            "`Technology for Everyone` 모두를 위한 기술👍\n",
            "['▁', '`', 'T', 'e', 'ch', 'n', 'ol', 'og', 'y', '▁', 'for', '▁E', 'very', 'one', '`', '▁모두', '를', '▁', '위한', '▁기술', '👍']\n",
            "<unk> Technology for Everyone<unk> 모두를 위한 기술<unk></s>\n",
            "\n"
          ]
        }
      ]
    },
    {
      "cell_type": "code",
      "source": [
        "import sentencepiece as spm\n",
        "from pathlib import Path\n",
        "\n",
        "prefix = \"t5-sp-bpe-nsmc-byte-fallback\"\n",
        "vocab_size = 31900-7\n",
        "spm.SentencePieceTrainer.train(\n",
        "    f\"--input={corpus} --model_prefix={prefix} --vocab_size={vocab_size + 7}\" +\n",
        "    \" --model_type=bpe\" +\n",
        "    \" --max_sentence_length=999999\" + # 문장 최대 길이 -> 이게 너무 길면 에러발생함\n",
        "    \" --pad_id=0 --pad_piece=<pad>\" + # pad (0)\n",
        "    \" --unk_id=1 --unk_piece=<unk>\" + # unknown (1)\n",
        "    \" --bos_id=2 --bos_piece=<s>\" + # begin of sequence (2)\n",
        "    \" --eos_id=3 --eos_piece=</s>\" + # end of sequence (3)\n",
        "    \" --byte_fallback=true\" + # add byte_fallback for unk tokens\n",
        "    \" --user_defined_symbols=<sep>,<cls>,<mask>\") # 사용자 정의 토큰"
      ],
      "metadata": {
        "id": "YSbR73eQWSSU"
      },
      "execution_count": null,
      "outputs": []
    },
    {
      "cell_type": "code",
      "source": [
        "from transformers import T5Tokenizer\n",
        "tokenizer = T5Tokenizer(vocab_file=\"t5-sp-bpe-nsmc-byte-fallback.model\")\n",
        "tokenizer.save_pretrained(\"t5-tokenizer-bpe-nsmc-byte-fallback\")\n",
        "lines = [\n",
        "  \"`DEVOCEAN`은 SK그룹의 대표 개발자 커뮤니티이자🧑\",\n",
        "  \"내/외부 개발자 간 소통과 성장을 위한 플랫폼을 상징합니다.👋\",\n",
        "  \"`Developers`' Ocean 개발자들을 위한 영감의 바다🙏\",\n",
        "  \"`Devotion` 헌신,몰두,전념💯\",\n",
        "  \"`Technology for Everyone` 모두를 위한 기술👍\"\n",
        "  ]\n",
        "\n",
        "for line in lines:\n",
        "    tokens = tokenizer.tokenize(line)\n",
        "    inputs = tokenizer(line)\n",
        "    decoded_sequence = tokenizer.decode(inputs['input_ids'])\n",
        "    print(line)\n",
        "    print(tokens)\n",
        "    print(decoded_sequence)\n",
        "    print()"
      ],
      "metadata": {
        "colab": {
          "base_uri": "https://localhost:8080/"
        },
        "id": "i6SdLhCMZFlF",
        "outputId": "db890915-2e14-42c3-8f6e-4dda78c959a8"
      },
      "execution_count": null,
      "outputs": [
        {
          "output_type": "stream",
          "name": "stdout",
          "text": [
            "`DEVOCEAN`은 SK그룹의 대표 개발자 커뮤니티이자🧑\n",
            "['▁', '<0x60>', 'D', 'E', 'V', 'O', 'C', 'E', 'A', 'N', '<0x60>', '은', '▁S', 'K', '그룹', '의', '▁대', '표', '▁개', '발', '자', '▁커', '뮤', '니', '티', '이자', '<0xF0>', '<0x9F>', '<0xA7>', '<0x91>']\n",
            "`DEVOCEAN`은 SK그룹의 대표 개발자 커뮤니티이자🧑</s>\n",
            "\n",
            "내/외부 개발자 간 소통과 성장을 위한 플랫폼을 상징합니다.👋\n",
            "['▁내', '<0x2F>', '외', '부', '▁개', '발', '자', '▁간', '▁소', '통과', '▁성', '장을', '▁', '위한', '▁', '플', '랫', '폼', '을', '▁상', '징', '합니다', '.', '<0xF0>', '<0x9F>', '<0x91>', '<0x8B>']\n",
            "내/외부 개발자 간 소통과 성장을 위한 플랫폼을 상징합니다.👋</s>\n",
            "\n",
            "`Developers`' Ocean 개발자들을 위한 영감의 바다🙏\n",
            "['▁', '<0x60>', 'D', 'ev', 'el', 'op', 'ers', '<0x60>', '<0x27>', '▁O', 'ce', 'an', '▁개', '발', '자', '들을', '▁', '위한', '▁영', '감', '의', '▁바다', '<0xF0>', '<0x9F>', '<0x99>', '<0x8F>']\n",
            "`Developers`' Ocean 개발자들을 위한 영감의 바다🙏</s>\n",
            "\n",
            "`Devotion` 헌신,몰두,전념💯\n",
            "['▁', '<0x60>', 'D', 'ev', 'ot', 'ion', '<0x60>', '▁', '헌신', ',', '몰두', ',', '전', '념', '<0xF0>', '<0x9F>', '<0x92>', '<0xAF>']\n",
            "`Devotion` 헌신,몰두,전념💯</s>\n",
            "\n",
            "`Technology for Everyone` 모두를 위한 기술👍\n",
            "['▁', '<0x60>', 'T', 'e', 'ch', 'n', 'ol', 'og', 'y', '▁', 'for', '▁E', 'very', 'one', '<0x60>', '▁모두', '를', '▁', '위한', '▁기술', '<0xF0>', '<0x9F>', '<0x91>', '<0x8D>']\n",
            "`Technology for Everyone` 모두를 위한 기술👍</s>\n",
            "\n"
          ]
        }
      ]
    },
    {
      "cell_type": "code",
      "source": [
        "import tensorflow as tf\n",
        "def sp_bpe_tokenizer_t5(s, train_df, test_df):\n",
        "\n",
        "    tensor_train = []\n",
        "    tensor_test = []\n",
        "\n",
        "    for sen in train_df['document']:\n",
        "        tensor_train.append(s.EncodeAsIds(sen))\n",
        "\n",
        "    for sen2 in test_df['document']:\n",
        "        tensor_test.append(s.EncodeAsIds(sen2))\n",
        "\n",
        "    with open(\"/content/t5-sp-bpe-nsmc-byte-fallback.vocab\", 'r') as f:\n",
        "        vocab = f.readlines()\n",
        "\n",
        "    word_index = {}\n",
        "    index_word = {}\n",
        "\n",
        "    for idx, line in enumerate(vocab):\n",
        "        word = line.split(\"\\t\")[0]\n",
        "\n",
        "        word_index.update({word:idx})\n",
        "        index_word.update({idx:word})\n",
        "\n",
        "    train_label = np.array(train_df['label'])\n",
        "    test_label = np.array(test_df['label'])\n",
        "    # Padding 추가\n",
        "    max_sequence_length = max(max(len(seq) for seq in tensor_train), max(len(seq) for seq in tensor_test))\n",
        "    tensor_train = tf.keras.preprocessing.sequence.pad_sequences(tensor_train, maxlen=max_sequence_length, padding='post')\n",
        "    tensor_test = tf.keras.preprocessing.sequence.pad_sequences(tensor_test, maxlen=max_sequence_length, padding='post')\n",
        "\n",
        "    return tensor_train, train_label, tensor_test, test_label, word_index, index_word"
      ],
      "metadata": {
        "id": "ENtgW6HdZKft"
      },
      "execution_count": null,
      "outputs": []
    }
  ]
}