{
 "cells": [
  {
   "cell_type": "markdown",
   "id": "963002e7",
   "metadata": {},
   "source": [
    "# 라이브러리 "
   ]
  },
  {
   "cell_type": "code",
   "execution_count": 1,
   "id": "6849da74",
   "metadata": {},
   "outputs": [],
   "source": [
    "import os\n",
    "import re\n",
    "import numpy as np\n",
    "import pandas as pd\n",
    "import matplotlib\n",
    "import matplotlib.pyplot as plt\n",
    "\n",
    "import tensorflow as tf\n",
    "from tensorflow import keras\n",
    "from tensorflow.keras.preprocessing.text import Tokenizer\n",
    "from tensorflow.keras.preprocessing.sequence import pad_sequences\n",
    "from tensorflow.keras import models\n",
    "from tensorflow.keras import layers\n",
    "from tensorflow.keras import callbacks\n",
    "from tensorflow.keras import regularizers\n",
    "\n",
    "import konlpy\n",
    "from konlpy import tag\n",
    "\n",
    "import gensim\n",
    "from gensim.models import Word2Vec\n",
    "from gensim.models import FastText\n",
    "\n",
    "import sentencepiece as spm"
   ]
  },
  {
   "cell_type": "code",
   "execution_count": 2,
   "id": "e8189035",
   "metadata": {
    "scrolled": true
   },
   "outputs": [
    {
     "name": "stdout",
     "output_type": "stream",
     "text": [
      "2.6.0\n",
      "1.21.4\n",
      "3.4.3\n",
      "0.5.2\n"
     ]
    }
   ],
   "source": [
    "print(tf.__version__)\n",
    "print(np.__version__)\n",
    "print(matplotlib.__version__)\n",
    "print(konlpy.__version__)"
   ]
  },
  {
   "cell_type": "markdown",
   "id": "42801f06",
   "metadata": {},
   "source": [
    "# 세션 초기화"
   ]
  },
  {
   "cell_type": "code",
   "execution_count": 8,
   "id": "0353e8a6",
   "metadata": {},
   "outputs": [
    {
     "data": {
      "text/plain": [
       "8"
      ]
     },
     "execution_count": 8,
     "metadata": {},
     "output_type": "execute_result"
    }
   ],
   "source": [
    "# clear session\n",
    "\n",
    "# del model\n",
    "\n",
    "# from keras import backend as K\n",
    "# K.clear_session()\n",
    "\n",
    "# import gc\n",
    "# gc.collect()\n"
   ]
  },
  {
   "cell_type": "markdown",
   "id": "25fb645e",
   "metadata": {},
   "source": [
    "# 네이버 영화리뷰 "
   ]
  },
  {
   "cell_type": "markdown",
   "id": "266bdbe9",
   "metadata": {},
   "source": [
    "- 네이버 영화리뷰 감정 분석 코퍼스에 SentencePiece를 적용시킨 모델 학습하기\n",
    "- 학습된 모델로 sp_tokenize() 메소드 구현하기\n",
    "- 구현된 토크나이저를 적용하여 네이버 영화리뷰 감정 분석 모델을 재학습하기\n",
    "- KoNLPy 형태소 분석기를 사용한 모델과 성능 비교하기\n",
    "- SentencePiece 모델의 model_type, vocab_size 등을 변경해 가면서 성능 개선 여부 확인하기"
   ]
  },
  {
   "cell_type": "markdown",
   "id": "5ec83927",
   "metadata": {},
   "source": [
    "# 전처리"
   ]
  },
  {
   "cell_type": "markdown",
   "id": "0fd51724",
   "metadata": {},
   "source": [
    "## 데이터 불러오기 & 확인"
   ]
  },
  {
   "cell_type": "code",
   "execution_count": 16,
   "id": "59223e85",
   "metadata": {},
   "outputs": [],
   "source": [
    "df_train = pd.read_table(\"./data/ratings_train.txt\")\n",
    "df_test = pd.read_table(\"./data/ratings_test.txt\")"
   ]
  },
  {
   "cell_type": "code",
   "execution_count": 17,
   "id": "e5ddafc4",
   "metadata": {},
   "outputs": [],
   "source": [
    "df_train_org = df_train.copy()\n",
    "df_test_org = df_test.copy()"
   ]
  },
  {
   "cell_type": "code",
   "execution_count": 5,
   "id": "637c4560",
   "metadata": {},
   "outputs": [],
   "source": [
    "# df_test = df_test_org.copy()"
   ]
  },
  {
   "cell_type": "code",
   "execution_count": 6,
   "id": "c2b8bda8",
   "metadata": {},
   "outputs": [
    {
     "name": "stdout",
     "output_type": "stream",
     "text": [
      "<class 'pandas.core.frame.DataFrame'>\n",
      "RangeIndex: 150000 entries, 0 to 149999\n",
      "Data columns (total 3 columns):\n",
      " #   Column    Non-Null Count   Dtype \n",
      "---  ------    --------------   ----- \n",
      " 0   id        150000 non-null  int64 \n",
      " 1   document  149995 non-null  object\n",
      " 2   label     150000 non-null  int64 \n",
      "dtypes: int64(2), object(1)\n",
      "memory usage: 3.4+ MB\n"
     ]
    }
   ],
   "source": [
    "df_train.info()"
   ]
  },
  {
   "cell_type": "code",
   "execution_count": 7,
   "id": "cf0abb54",
   "metadata": {},
   "outputs": [
    {
     "name": "stdout",
     "output_type": "stream",
     "text": [
      "<class 'pandas.core.frame.DataFrame'>\n",
      "RangeIndex: 50000 entries, 0 to 49999\n",
      "Data columns (total 3 columns):\n",
      " #   Column    Non-Null Count  Dtype \n",
      "---  ------    --------------  ----- \n",
      " 0   id        50000 non-null  int64 \n",
      " 1   document  49997 non-null  object\n",
      " 2   label     50000 non-null  int64 \n",
      "dtypes: int64(2), object(1)\n",
      "memory usage: 1.1+ MB\n"
     ]
    }
   ],
   "source": [
    "df_test.info()"
   ]
  },
  {
   "cell_type": "markdown",
   "id": "6f525ba4",
   "metadata": {},
   "source": [
    "## 누락 데이터 제거"
   ]
  },
  {
   "cell_type": "code",
   "execution_count": 18,
   "id": "6fd9343d",
   "metadata": {},
   "outputs": [],
   "source": [
    "df_train = df_train.dropna()"
   ]
  },
  {
   "cell_type": "code",
   "execution_count": 9,
   "id": "1e161805",
   "metadata": {},
   "outputs": [
    {
     "data": {
      "text/html": [
       "<div>\n",
       "<style scoped>\n",
       "    .dataframe tbody tr th:only-of-type {\n",
       "        vertical-align: middle;\n",
       "    }\n",
       "\n",
       "    .dataframe tbody tr th {\n",
       "        vertical-align: top;\n",
       "    }\n",
       "\n",
       "    .dataframe thead th {\n",
       "        text-align: right;\n",
       "    }\n",
       "</style>\n",
       "<table border=\"1\" class=\"dataframe\">\n",
       "  <thead>\n",
       "    <tr style=\"text-align: right;\">\n",
       "      <th></th>\n",
       "      <th>id</th>\n",
       "      <th>document</th>\n",
       "      <th>label</th>\n",
       "    </tr>\n",
       "  </thead>\n",
       "  <tbody>\n",
       "  </tbody>\n",
       "</table>\n",
       "</div>"
      ],
      "text/plain": [
       "Empty DataFrame\n",
       "Columns: [id, document, label]\n",
       "Index: []"
      ]
     },
     "execution_count": 9,
     "metadata": {},
     "output_type": "execute_result"
    }
   ],
   "source": [
    "df_train[df_train[\"document\"].isna() == True]"
   ]
  },
  {
   "cell_type": "code",
   "execution_count": 6,
   "id": "57377d27",
   "metadata": {},
   "outputs": [
    {
     "name": "stdout",
     "output_type": "stream",
     "text": [
      "<class 'pandas.core.frame.DataFrame'>\n",
      "Int64Index: 149995 entries, 0 to 149999\n",
      "Data columns (total 3 columns):\n",
      " #   Column    Non-Null Count   Dtype \n",
      "---  ------    --------------   ----- \n",
      " 0   id        149995 non-null  int64 \n",
      " 1   document  149995 non-null  object\n",
      " 2   label     149995 non-null  int64 \n",
      "dtypes: int64(2), object(1)\n",
      "memory usage: 4.6+ MB\n"
     ]
    }
   ],
   "source": [
    "df_train.info()"
   ]
  },
  {
   "cell_type": "code",
   "execution_count": 19,
   "id": "de40d7b1",
   "metadata": {},
   "outputs": [
    {
     "name": "stdout",
     "output_type": "stream",
     "text": [
      "<class 'pandas.core.frame.DataFrame'>\n",
      "Int64Index: 49997 entries, 0 to 49999\n",
      "Data columns (total 3 columns):\n",
      " #   Column    Non-Null Count  Dtype \n",
      "---  ------    --------------  ----- \n",
      " 0   id        49997 non-null  int64 \n",
      " 1   document  49997 non-null  object\n",
      " 2   label     49997 non-null  int64 \n",
      "dtypes: int64(2), object(1)\n",
      "memory usage: 1.5+ MB\n"
     ]
    }
   ],
   "source": [
    "df_test = df_test.dropna()\n",
    "df_test.info()"
   ]
  },
  {
   "cell_type": "markdown",
   "id": "d7debd93",
   "metadata": {},
   "source": [
    "## 중복 데이터 제거"
   ]
  },
  {
   "cell_type": "code",
   "execution_count": 8,
   "id": "7118143f",
   "metadata": {},
   "outputs": [
    {
     "name": "stdout",
     "output_type": "stream",
     "text": [
      "<class 'pandas.core.frame.DataFrame'>\n",
      "Int64Index: 3813 entries, 1058 to 149987\n",
      "Data columns (total 3 columns):\n",
      " #   Column    Non-Null Count  Dtype \n",
      "---  ------    --------------  ----- \n",
      " 0   id        3813 non-null   int64 \n",
      " 1   document  3813 non-null   object\n",
      " 2   label     3813 non-null   int64 \n",
      "dtypes: int64(2), object(1)\n",
      "memory usage: 119.2+ KB\n"
     ]
    }
   ],
   "source": [
    "df_train[df_train[\"document\"].duplicated() == True].info()"
   ]
  },
  {
   "cell_type": "code",
   "execution_count": 20,
   "id": "29124d87",
   "metadata": {},
   "outputs": [],
   "source": [
    "df_train = df_train.drop_duplicates(subset=['document'])"
   ]
  },
  {
   "cell_type": "code",
   "execution_count": 21,
   "id": "aba9e412",
   "metadata": {},
   "outputs": [
    {
     "name": "stdout",
     "output_type": "stream",
     "text": [
      "<class 'pandas.core.frame.DataFrame'>\n",
      "Int64Index: 0 entries\n",
      "Data columns (total 3 columns):\n",
      " #   Column    Non-Null Count  Dtype \n",
      "---  ------    --------------  ----- \n",
      " 0   id        0 non-null      int64 \n",
      " 1   document  0 non-null      object\n",
      " 2   label     0 non-null      int64 \n",
      "dtypes: int64(2), object(1)\n",
      "memory usage: 0.0+ bytes\n"
     ]
    }
   ],
   "source": [
    "df_train[df_train[\"document\"].duplicated() == True].info()"
   ]
  },
  {
   "cell_type": "markdown",
   "id": "86865b2e",
   "metadata": {},
   "source": [
    "## 문장 길이 확인 & 조정"
   ]
  },
  {
   "cell_type": "code",
   "execution_count": 22,
   "id": "ed895618",
   "metadata": {},
   "outputs": [],
   "source": [
    "df_train['length'] = df_train['document'].str.len()\n",
    "df_test['length'] = df_test['document'].str.len()"
   ]
  },
  {
   "cell_type": "code",
   "execution_count": 12,
   "id": "c680d9d3",
   "metadata": {},
   "outputs": [
    {
     "data": {
      "text/plain": [
       "count    146182.000000\n",
       "mean         35.981338\n",
       "std          29.491233\n",
       "min           1.000000\n",
       "25%          16.000000\n",
       "50%          27.000000\n",
       "75%          43.000000\n",
       "max         146.000000\n",
       "Name: length, dtype: float64"
      ]
     },
     "execution_count": 12,
     "metadata": {},
     "output_type": "execute_result"
    }
   ],
   "source": [
    "df_train['length'].describe()"
   ]
  },
  {
   "cell_type": "code",
   "execution_count": 13,
   "id": "21f56a62",
   "metadata": {},
   "outputs": [
    {
     "data": {
      "text/plain": [
       "count    49997.000000\n",
       "mean        35.320259\n",
       "std         29.648310\n",
       "min          1.000000\n",
       "25%         16.000000\n",
       "50%         27.000000\n",
       "75%         43.000000\n",
       "max        144.000000\n",
       "Name: length, dtype: float64"
      ]
     },
     "execution_count": 13,
     "metadata": {},
     "output_type": "execute_result"
    }
   ],
   "source": [
    "df_test['length'].describe()"
   ]
  },
  {
   "cell_type": "markdown",
   "id": "7790721d",
   "metadata": {},
   "source": [
    "### 문장 길이 1 확인 및 삭제"
   ]
  },
  {
   "cell_type": "code",
   "execution_count": 14,
   "id": "67f519a5",
   "metadata": {},
   "outputs": [],
   "source": [
    "df_length_1 = df_train[df_train['length'] == 1]"
   ]
  },
  {
   "cell_type": "code",
   "execution_count": 15,
   "id": "2b446083",
   "metadata": {},
   "outputs": [
    {
     "name": "stdout",
     "output_type": "stream",
     "text": [
      "<class 'pandas.core.frame.DataFrame'>\n",
      "Int64Index: 101 entries, 151 to 147788\n",
      "Data columns (total 4 columns):\n",
      " #   Column    Non-Null Count  Dtype \n",
      "---  ------    --------------  ----- \n",
      " 0   id        101 non-null    int64 \n",
      " 1   document  101 non-null    object\n",
      " 2   label     101 non-null    int64 \n",
      " 3   length    101 non-null    int64 \n",
      "dtypes: int64(3), object(1)\n",
      "memory usage: 3.9+ KB\n"
     ]
    }
   ],
   "source": [
    "df_length_1.info()"
   ]
  },
  {
   "cell_type": "code",
   "execution_count": 25,
   "id": "4d17451f",
   "metadata": {
    "scrolled": false
   },
   "outputs": [
    {
     "data": {
      "text/html": [
       "<div>\n",
       "<style scoped>\n",
       "    .dataframe tbody tr th:only-of-type {\n",
       "        vertical-align: middle;\n",
       "    }\n",
       "\n",
       "    .dataframe tbody tr th {\n",
       "        vertical-align: top;\n",
       "    }\n",
       "\n",
       "    .dataframe thead th {\n",
       "        text-align: right;\n",
       "    }\n",
       "</style>\n",
       "<table border=\"1\" class=\"dataframe\">\n",
       "  <thead>\n",
       "    <tr style=\"text-align: right;\">\n",
       "      <th></th>\n",
       "      <th>id</th>\n",
       "      <th>document</th>\n",
       "      <th>label</th>\n",
       "      <th>length</th>\n",
       "    </tr>\n",
       "  </thead>\n",
       "  <tbody>\n",
       "    <tr>\n",
       "      <th>151</th>\n",
       "      <td>7348295</td>\n",
       "      <td>아</td>\n",
       "      <td>0</td>\n",
       "      <td>1</td>\n",
       "    </tr>\n",
       "    <tr>\n",
       "      <th>384</th>\n",
       "      <td>7679615</td>\n",
       "      <td>잼</td>\n",
       "      <td>1</td>\n",
       "      <td>1</td>\n",
       "    </tr>\n",
       "    <tr>\n",
       "      <th>584</th>\n",
       "      <td>7117896</td>\n",
       "      <td>1</td>\n",
       "      <td>0</td>\n",
       "      <td>1</td>\n",
       "    </tr>\n",
       "    <tr>\n",
       "      <th>593</th>\n",
       "      <td>6478189</td>\n",
       "      <td>4</td>\n",
       "      <td>0</td>\n",
       "      <td>1</td>\n",
       "    </tr>\n",
       "    <tr>\n",
       "      <th>1723</th>\n",
       "      <td>3412704</td>\n",
       "      <td>굿</td>\n",
       "      <td>1</td>\n",
       "      <td>1</td>\n",
       "    </tr>\n",
       "    <tr>\n",
       "      <th>2171</th>\n",
       "      <td>7030708</td>\n",
       "      <td>짱</td>\n",
       "      <td>1</td>\n",
       "      <td>1</td>\n",
       "    </tr>\n",
       "    <tr>\n",
       "      <th>2374</th>\n",
       "      <td>7910238</td>\n",
       "      <td>휴</td>\n",
       "      <td>1</td>\n",
       "      <td>1</td>\n",
       "    </tr>\n",
       "    <tr>\n",
       "      <th>2968</th>\n",
       "      <td>7957379</td>\n",
       "      <td>.</td>\n",
       "      <td>1</td>\n",
       "      <td>1</td>\n",
       "    </tr>\n",
       "    <tr>\n",
       "      <th>3734</th>\n",
       "      <td>304515</td>\n",
       "      <td>음</td>\n",
       "      <td>1</td>\n",
       "      <td>1</td>\n",
       "    </tr>\n",
       "    <tr>\n",
       "      <th>3887</th>\n",
       "      <td>6959675</td>\n",
       "      <td>?</td>\n",
       "      <td>1</td>\n",
       "      <td>1</td>\n",
       "    </tr>\n",
       "  </tbody>\n",
       "</table>\n",
       "</div>"
      ],
      "text/plain": [
       "           id document  label  length\n",
       "151   7348295        아      0       1\n",
       "384   7679615        잼      1       1\n",
       "584   7117896        1      0       1\n",
       "593   6478189        4      0       1\n",
       "1723  3412704        굿      1       1\n",
       "2171  7030708        짱      1       1\n",
       "2374  7910238        휴      1       1\n",
       "2968  7957379        .      1       1\n",
       "3734   304515        음      1       1\n",
       "3887  6959675        ?      1       1"
      ]
     },
     "execution_count": 25,
     "metadata": {},
     "output_type": "execute_result"
    }
   ],
   "source": [
    "df_length_1.head(10)"
   ]
  },
  {
   "cell_type": "code",
   "execution_count": 23,
   "id": "268c006d",
   "metadata": {},
   "outputs": [],
   "source": [
    "df_train = df_train[df_train['length'] > 1]"
   ]
  },
  {
   "cell_type": "code",
   "execution_count": 17,
   "id": "a363baff",
   "metadata": {},
   "outputs": [
    {
     "name": "stdout",
     "output_type": "stream",
     "text": [
      "<class 'pandas.core.frame.DataFrame'>\n",
      "Int64Index: 146081 entries, 0 to 149999\n",
      "Data columns (total 4 columns):\n",
      " #   Column    Non-Null Count   Dtype \n",
      "---  ------    --------------   ----- \n",
      " 0   id        146081 non-null  int64 \n",
      " 1   document  146081 non-null  object\n",
      " 2   label     146081 non-null  int64 \n",
      " 3   length    146081 non-null  int64 \n",
      "dtypes: int64(3), object(1)\n",
      "memory usage: 5.6+ MB\n"
     ]
    }
   ],
   "source": [
    "df_train.info()"
   ]
  },
  {
   "cell_type": "code",
   "execution_count": 18,
   "id": "f1f7e3c2",
   "metadata": {},
   "outputs": [
    {
     "data": {
      "text/plain": [
       "<AxesSubplot:>"
      ]
     },
     "execution_count": 18,
     "metadata": {},
     "output_type": "execute_result"
    },
    {
     "data": {
      "image/png": "[encoded data removed]",
      "text/plain": [
       "<Figure size 432x288 with 1 Axes>"
      ]
     },
     "metadata": {
      "needs_background": "light"
     },
     "output_type": "display_data"
    }
   ],
   "source": [
    "df_train['length'].hist(bins=100)"
   ]
  },
  {
   "cell_type": "markdown",
   "id": "a00d9e5d",
   "metadata": {},
   "source": [
    "### 문장길이 60 이하 삭제"
   ]
  },
  {
   "cell_type": "code",
   "execution_count": 24,
   "id": "5a2195b5",
   "metadata": {},
   "outputs": [],
   "source": [
    "df_train = df_train[df_train['length'] < 60]"
   ]
  },
  {
   "cell_type": "code",
   "execution_count": 25,
   "id": "ff37d868",
   "metadata": {},
   "outputs": [
    {
     "data": {
      "text/plain": [
       "<AxesSubplot:>"
      ]
     },
     "execution_count": 25,
     "metadata": {},
     "output_type": "execute_result"
    },
    {
     "data": {
      "image/png": "[encoded data removed]",
      "text/plain": [
       "<Figure size 432x288 with 1 Axes>"
      ]
     },
     "metadata": {
      "needs_background": "light"
     },
     "output_type": "display_data"
    }
   ],
   "source": [
    "df_train['length'].hist(bins=60)"
   ]
  },
  {
   "cell_type": "code",
   "execution_count": 21,
   "id": "aa123832",
   "metadata": {},
   "outputs": [
    {
     "data": {
      "text/plain": [
       "<AxesSubplot:>"
      ]
     },
     "execution_count": 21,
     "metadata": {},
     "output_type": "execute_result"
    },
    {
     "data": {
      "image/png": "[encoded data removed]",
      "text/plain": [
       "<Figure size 432x288 with 1 Axes>"
      ]
     },
     "metadata": {
      "needs_background": "light"
     },
     "output_type": "display_data"
    }
   ],
   "source": [
    "df_test['length'].hist(bins=60)"
   ]
  },
  {
   "cell_type": "code",
   "execution_count": 26,
   "id": "d3c19ebd",
   "metadata": {},
   "outputs": [],
   "source": [
    "df_test = df_test[df_test['length'] < 60]"
   ]
  },
  {
   "cell_type": "code",
   "execution_count": 27,
   "id": "780b0607",
   "metadata": {},
   "outputs": [
    {
     "data": {
      "text/plain": [
       "<AxesSubplot:>"
      ]
     },
     "execution_count": 27,
     "metadata": {},
     "output_type": "execute_result"
    },
    {
     "data": {
      "image/png": "[encoded data removed]",
      "text/plain": [
       "<Figure size 432x288 with 1 Axes>"
      ]
     },
     "metadata": {
      "needs_background": "light"
     },
     "output_type": "display_data"
    }
   ],
   "source": [
    "df_test['length'].hist(bins=60)"
   ]
  },
  {
   "cell_type": "markdown",
   "id": "19147c10",
   "metadata": {},
   "source": [
    "## 레이블 분포 확인"
   ]
  },
  {
   "cell_type": "code",
   "execution_count": 24,
   "id": "f0bf7e80",
   "metadata": {},
   "outputs": [
    {
     "data": {
      "text/plain": [
       "<AxesSubplot:>"
      ]
     },
     "execution_count": 24,
     "metadata": {},
     "output_type": "execute_result"
    },
    {
     "data": {
      "image/png": "[encoded data removed]",
      "text/plain": [
       "<Figure size 432x288 with 1 Axes>"
      ]
     },
     "metadata": {
      "needs_background": "light"
     },
     "output_type": "display_data"
    }
   ],
   "source": [
    "df_train[\"label\"].hist()"
   ]
  },
  {
   "cell_type": "markdown",
   "id": "c73c131a",
   "metadata": {},
   "source": [
    "# SentencePiece"
   ]
  },
  {
   "cell_type": "code",
   "execution_count": 28,
   "id": "2a88aa27",
   "metadata": {},
   "outputs": [],
   "source": [
    "def get_sp_params(inputs, vocab_size, prefix='spm', model_type='unigram'):\n",
    "\n",
    "    templates = '--input={} \\\n",
    "    --pad_id={} \\\n",
    "    --bos_id={} \\\n",
    "    --eos_id={} \\\n",
    "    --unk_id={} \\\n",
    "    --model_prefix={} \\\n",
    "    --vocab_size={} \\\n",
    "    --character_coverage={} \\\n",
    "    --model_type={}'\n",
    "\n",
    "\n",
    "    pad_id = 0  #<pad> token을 0으로 설정\n",
    "    vocab_size = vocab_size # vocab 사이즈\n",
    "    prefix = prefix # 저장될 tokenizer 모델에 붙는 이름\n",
    "    bos_id = 1 #<start> token을 1으로 설정\n",
    "    eos_id = 2 #<end> token을 2으로 설정\n",
    "    unk_id = 3 #<unknown> token을 3으로 설정\n",
    "    character_coverage = 1.0 # to reduce character set \n",
    "    model_type = model_type # Choose from unigram (default), bpe, char, or word\n",
    "\n",
    "\n",
    "    params = templates.format(inputs,\n",
    "                           pad_id,\n",
    "                           bos_id,\n",
    "                           eos_id,\n",
    "                           unk_id,\n",
    "                           prefix,\n",
    "                           vocab_size,\n",
    "                           character_coverage,\n",
    "                           model_type)\n",
    "    \n",
    "    return params"
   ]
  },
  {
   "cell_type": "code",
   "execution_count": 29,
   "id": "d3797aea",
   "metadata": {},
   "outputs": [],
   "source": [
    "def get_sp(prefix, model_type, text_data):\n",
    "\n",
    "    temp_file = 'data/korean-english-park.train.ko.temp'\n",
    "\n",
    "    vocab_size = 8000\n",
    "\n",
    "    print(\"temp file.\")\n",
    "    with open(temp_file, 'w') as f:\n",
    "        for row in text_data:\n",
    "            f.write(str(row) + '\\n')\n",
    "\n",
    "    print(\"train.\")\n",
    "    spm.SentencePieceTrainer.Train(get_sp_params(temp_file, vocab_size, prefix, model_type))\n",
    "\n",
    "    s = spm.SentencePieceProcessor()\n",
    "    s.Load(prefix + '.model')\n",
    "    \n",
    "    return s"
   ]
  },
  {
   "cell_type": "code",
   "execution_count": 30,
   "id": "fa44a273",
   "metadata": {},
   "outputs": [
    {
     "name": "stdout",
     "output_type": "stream",
     "text": [
      "temp file.\n",
      "train.\n"
     ]
    },
    {
     "name": "stderr",
     "output_type": "stream",
     "text": [
      "sentencepiece_trainer.cc(177) LOG(INFO) Running command: --input=data/korean-english-park.train.ko.temp     --pad_id=0     --bos_id=1     --eos_id=2     --unk_id=3     --model_prefix=spm_0     --vocab_size=8000     --character_coverage=1.0     --model_type=bpe\n",
      "sentencepiece_trainer.cc(77) LOG(INFO) Starts training with : \n",
      "trainer_spec {\n",
      "  input: data/korean-english-park.train.ko.temp\n",
      "  input_format: \n",
      "  model_prefix: spm_0\n",
      "  model_type: BPE\n",
      "  vocab_size: 8000\n",
      "  self_test_sample_size: 0\n",
      "  character_coverage: 1\n",
      "  input_sentence_size: 0\n",
      "  shuffle_input_sentence: 1\n",
      "  seed_sentencepiece_size: 1000000\n",
      "  shrinking_factor: 0.75\n",
      "  max_sentence_length: 4192\n",
      "  num_threads: 16\n",
      "  num_sub_iterations: 2\n",
      "  max_sentencepiece_length: 16\n",
      "  split_by_unicode_script: 1\n",
      "  split_by_number: 1\n",
      "  split_by_whitespace: 1\n",
      "  split_digits: 0\n",
      "  treat_whitespace_as_suffix: 0\n",
      "  allow_whitespace_only_pieces: 0\n",
      "  required_chars: \n",
      "  byte_fallback: 0\n",
      "  vocabulary_output_piece_score: 1\n",
      "  train_extremely_large_corpus: 0\n",
      "  hard_vocab_limit: 1\n",
      "  use_all_vocab: 0\n",
      "  unk_id: 3\n",
      "  bos_id: 1\n",
      "  eos_id: 2\n",
      "  pad_id: 0\n",
      "  unk_piece: <unk>\n",
      "  bos_piece: <s>\n",
      "  eos_piece: </s>\n",
      "  pad_piece: <pad>\n",
      "  unk_surface:  ⁇ \n",
      "}\n",
      "normalizer_spec {\n",
      "  name: nmt_nfkc\n",
      "  add_dummy_prefix: 1\n",
      "  remove_extra_whitespaces: 1\n",
      "  escape_whitespaces: 1\n",
      "  normalization_rule_tsv: \n",
      "}\n",
      "denormalizer_spec {}\n",
      "trainer_interface.cc(329) LOG(INFO) SentenceIterator is not specified. Using MultiFileSentenceIterator.\n",
      "trainer_interface.cc(178) LOG(INFO) Loading corpus: data/korean-english-park.train.ko.temp\n",
      "trainer_interface.cc(385) LOG(INFO) Loaded all 125031 sentences\n",
      "trainer_interface.cc(400) LOG(INFO) Adding meta_piece: <pad>\n",
      "trainer_interface.cc(400) LOG(INFO) Adding meta_piece: <s>\n",
      "trainer_interface.cc(400) LOG(INFO) Adding meta_piece: </s>\n",
      "trainer_interface.cc(400) LOG(INFO) Adding meta_piece: <unk>\n",
      "trainer_interface.cc(405) LOG(INFO) Normalizing sentences...\n",
      "trainer_interface.cc(466) LOG(INFO) all chars count=3347784\n",
      "trainer_interface.cc(487) LOG(INFO) Alphabet size=2772\n",
      "trainer_interface.cc(488) LOG(INFO) Final character coverage=1\n",
      "trainer_interface.cc(520) LOG(INFO) Done! preprocessed 125031 sentences.\n",
      "trainer_interface.cc(526) LOG(INFO) Tokenizing input sentences with whitespace: 125031\n",
      "trainer_interface.cc(537) LOG(INFO) Done! 238102\n",
      "bpe_model_trainer.cc(167) LOG(INFO) Updating active symbols. max_freq=52376 min_freq=66\n",
      "bpe_model_trainer.cc(258) LOG(INFO) Added: freq=7132 size=20 all=93564 active=8861 piece=▁없\n",
      "bpe_model_trainer.cc(258) LOG(INFO) Added: freq=5451 size=40 all=96308 active=11605 piece=▁만\n",
      "bpe_model_trainer.cc(258) LOG(INFO) Added: freq=3830 size=60 all=100118 active=15415 piece=▁여\n",
      "bpe_model_trainer.cc(258) LOG(INFO) Added: freq=3194 size=80 all=103729 active=19026 piece=드라마\n",
      "bpe_model_trainer.cc(258) LOG(INFO) Added: freq=2615 size=100 all=105894 active=21191 piece=▁남\n",
      "bpe_model_trainer.cc(167) LOG(INFO) Updating active symbols. max_freq=2560 min_freq=55\n",
      "bpe_model_trainer.cc(258) LOG(INFO) Added: freq=2282 size=120 all=108880 active=8194 piece=▁비\n",
      "bpe_model_trainer.cc(258) LOG(INFO) Added: freq=1977 size=140 all=110661 active=9975 piece=▁좀\n",
      "bpe_model_trainer.cc(258) LOG(INFO) Added: freq=1802 size=160 all=112601 active=11915 piece=렇게\n",
      "bpe_model_trainer.cc(258) LOG(INFO) Added: freq=1623 size=180 all=115291 active=14605 piece=▁결\n",
      "bpe_model_trainer.cc(258) LOG(INFO) Added: freq=1500 size=200 all=116746 active=16060 piece=▁넘\n",
      "bpe_model_trainer.cc(167) LOG(INFO) Updating active symbols. max_freq=1496 min_freq=48\n",
      "bpe_model_trainer.cc(258) LOG(INFO) Added: freq=1391 size=220 all=118694 active=7700 piece=야기\n",
      "bpe_model_trainer.cc(258) LOG(INFO) Added: freq=1272 size=240 all=120744 active=9750 piece=▁평점이\n",
      "bpe_model_trainer.cc(258) LOG(INFO) Added: freq=1163 size=260 all=122757 active=11763 piece=인데\n",
      "bpe_model_trainer.cc(258) LOG(INFO) Added: freq=1086 size=280 all=124595 active=13600 piece=▁모르\n",
      "bpe_model_trainer.cc(258) LOG(INFO) Added: freq=1025 size=300 all=126356 active=15361 piece=만에\n",
      "bpe_model_trainer.cc(167) LOG(INFO) Updating active symbols. max_freq=1025 min_freq=43\n",
      "bpe_model_trainer.cc(258) LOG(INFO) Added: freq=985 size=320 all=128072 active=7981 piece=▁만든\n",
      "bpe_model_trainer.cc(258) LOG(INFO) Added: freq=914 size=340 all=129982 active=9891 piece=드는\n",
      "bpe_model_trainer.cc(258) LOG(INFO) Added: freq=860 size=360 all=131668 active=11577 piece=▁결말\n",
      "bpe_model_trainer.cc(258) LOG(INFO) Added: freq=815 size=380 all=133241 active=13150 piece=리즈\n",
      "bpe_model_trainer.cc(258) LOG(INFO) Added: freq=782 size=400 all=134687 active=14596 piece=것도\n",
      "bpe_model_trainer.cc(167) LOG(INFO) Updating active symbols. max_freq=778 min_freq=40\n",
      "bpe_model_trainer.cc(258) LOG(INFO) Added: freq=755 size=420 all=136025 active=7979 piece=▁굿\n",
      "bpe_model_trainer.cc(258) LOG(INFO) Added: freq=711 size=440 all=137086 active=9040 piece=▁리\n",
      "bpe_model_trainer.cc(258) LOG(INFO) Added: freq=683 size=460 all=138361 active=10315 piece=▁과\n",
      "bpe_model_trainer.cc(258) LOG(INFO) Added: freq=654 size=480 all=139978 active=11932 piece=▁재미있게\n",
      "bpe_model_trainer.cc(258) LOG(INFO) Added: freq=622 size=500 all=140909 active=12863 piece=▁적\n",
      "bpe_model_trainer.cc(167) LOG(INFO) Updating active symbols. max_freq=621 min_freq=37\n",
      "bpe_model_trainer.cc(258) LOG(INFO) Added: freq=607 size=520 all=142053 active=8125 piece=던데\n",
      "bpe_model_trainer.cc(258) LOG(INFO) Added: freq=587 size=540 all=143505 active=9577 piece=▁많은\n",
      "bpe_model_trainer.cc(258) LOG(INFO) Added: freq=561 size=560 all=145007 active=11079 piece=▁찍\n",
      "bpe_model_trainer.cc(258) LOG(INFO) Added: freq=539 size=580 all=146358 active=12430 piece=수록\n",
      "bpe_model_trainer.cc(258) LOG(INFO) Added: freq=524 size=600 all=147879 active=13951 piece=생각\n",
      "bpe_model_trainer.cc(167) LOG(INFO) Updating active symbols. max_freq=523 min_freq=34\n",
      "bpe_model_trainer.cc(258) LOG(INFO) Added: freq=513 size=620 all=149560 active=8860 piece=지고\n",
      "bpe_model_trainer.cc(258) LOG(INFO) Added: freq=498 size=640 all="
     ]
    }
   ],
   "source": [
    "s = get_sp('spm_0', 'bpe', df_train[\"document\"])"
   ]
  },
  {
   "cell_type": "markdown",
   "id": "77f56c24",
   "metadata": {},
   "source": [
    "# 토큰화"
   ]
  },
  {
   "cell_type": "markdown",
   "id": "9c96624a",
   "metadata": {},
   "source": [
    "1. 매개변수로 토큰화된 문장의 list를 전달하는 대신 온전한 문장의 list 를 전달합니다.\n",
    "\n",
    "2. 생성된 vocab 파일을 읽어와 { <word> : <idx> } 형태를 가지는 word_index 사전과 { <idx> : <word>} 형태를 가지는 index_word 사전을 생성하고 함께 반환합니다.\n",
    "\n",
    "3. 리턴값인 tensor 는 앞의 함수와 동일하게 토큰화한 후 Encoding된 문장입니다. 바로 학습에 사용할 수 있게 Padding은 당연히 해야겠죠?"
   ]
  },
  {
   "cell_type": "code",
   "execution_count": 31,
   "id": "92274b74",
   "metadata": {},
   "outputs": [
    {
     "name": "stderr",
     "output_type": "stream",
     "text": [
      "150755 active=10055 piece=있다\n",
      "bpe_model_trainer.cc(258) LOG(INFO) Added: freq=480 size=660 all=152157 active=11457 piece=▁긴장감\n",
      "bpe_model_trainer.cc(258) LOG(INFO) Added: freq=463 size=680 all=153303 active=12603 piece=▁보다가\n",
      "bpe_model_trainer.cc(258) LOG(INFO) Added: freq=448 size=700 all=154763 active=14063 piece=▁로맨\n",
      "bpe_model_trainer.cc(167) LOG(INFO) Updating active symbols. max_freq=448 min_freq=32\n",
      "bpe_model_trainer.cc(258) LOG(INFO) Added: freq=433 size=720 all=155659 active=8629 piece=아니\n",
      "bpe_model_trainer.cc(258) LOG(INFO) Added: freq=425 size=740 all=156605 active=9575 piece=▁신선\n",
      "bpe_model_trainer.cc(258) LOG(INFO) Added: freq=414 size=760 all=157753 active=10723 piece=▁뭘\n",
      "bpe_model_trainer.cc(258) LOG(INFO) Added: freq=406 size=780 all=158891 active=11861 piece=▁메\n",
      "bpe_model_trainer.cc(258) LOG(INFO) Added: freq=399 size=800 all=159858 active=12828 piece=▁아니라\n",
      "bpe_model_trainer.cc(167) LOG(INFO) Updating active symbols. max_freq=398 min_freq=30\n",
      "bpe_model_trainer.cc(258) LOG(INFO) Added: freq=388 size=820 all=161133 active=9260 piece=▁황\n",
      "bpe_model_trainer.cc(258) LOG(INFO) Added: freq=381 size=840 all=161867 active=9994 piece=▁개인\n",
      "bpe_model_trainer.cc(258) LOG(INFO) Added: freq=373 size=860 all=163065 active=11192 piece=▁도대체\n",
      "bpe_model_trainer.cc(258) LOG(INFO) Added: freq=362 size=880 all=164241 active=12368 piece=▁희\n",
      "bpe_model_trainer.cc(258) LOG(INFO) Added: freq=354 size=900 all=165244 active=13371 piece=▁영화관\n",
      "bpe_model_trainer.cc(167) LOG(INFO) Updating active symbols. max_freq=353 min_freq=29\n",
      "bpe_model_trainer.cc(258) LOG(INFO) Added: freq=346 size=920 all=166606 active=9605 piece=평점\n",
      "bpe_model_trainer.cc(258) LOG(INFO) Added: freq=335 size=940 all=167593 active=10592 piece=▁등\n",
      "bpe_model_trainer.cc(258) LOG(INFO) Added: freq=328 size=960 all=168729 active=11728 piece=▁오래\n",
      "bpe_model_trainer.cc(258) LOG(INFO) Added: freq=321 size=980 all=169512 active=12511 piece=▁안되\n",
      "bpe_model_trainer.cc(258) LOG(INFO) Added: freq=313 size=1000 all=170708 active=13707 piece=치고\n",
      "bpe_model_trainer.cc(167) LOG(INFO) Updating active symbols. max_freq=313 min_freq=27\n",
      "bpe_model_trainer.cc(258) LOG(INFO) Added: freq=305 size=1020 all=171526 active=9255 piece=▁보지\n",
      "bpe_model_trainer.cc(258) LOG(INFO) Added: freq=296 size=1040 all=172350 active=10079 piece=▁러\n",
      "bpe_model_trainer.cc(258) LOG(INFO) Added: freq=290 size=1060 all=173327 active=11056 piece=▁잔인\n",
      "bpe_model_trainer.cc(258) LOG(INFO) Added: freq=284 size=1080 all=173974 active=11703 piece=▁순수\n",
      "bpe_model_trainer.cc(258) LOG(INFO) Added: freq=279 size=1100 all=174857 active=12586 piece=▁안되는\n",
      "bpe_model_trainer.cc(167) LOG(INFO) Updating active symbols. max_freq=278 min_freq=26\n",
      "bpe_model_trainer.cc(258) LOG(INFO) Added: freq=272 size=1120 all=175767 active=9634 piece=▁주연\n",
      "bpe_model_trainer.cc(258) LOG(INFO) Added: freq=266 size=1140 all=176731 active=10598 piece=▁실화\n",
      "bpe_model_trainer.cc(258) LOG(INFO) Added: freq=261 size=1160 all=177450 active=11317 piece=▁재밌네요\n",
      "bpe_model_trainer.cc(258) LOG(INFO) Added: freq=256 size=1180 all=178025 active=11892 piece=▁맛\n",
      "bpe_model_trainer.cc(258) LOG(INFO) Added: freq=251 size=1200 all=178937 active=12804 piece=▁s\n",
      "bpe_model_trainer.cc(167) LOG(INFO) Updating active symbols. max_freq=251 min_freq=25\n",
      "bpe_model_trainer.cc(258) LOG(INFO) Added: freq=247 size=1220 all=179712 active=9706 piece=▁작가\n",
      "bpe_model_trainer.cc(258) LOG(INFO) Added: freq=243 size=1240 all=180489 active=10483 piece=이팅\n",
      "bpe_model_trainer.cc(258) LOG(INFO) Added: freq=239 size=1260 all=181319 active=11312 piece=▁영화임\n",
      "bpe_model_trainer.cc(258) LOG(INFO) Added: freq=231 size=1280 all=182159 active=12152 piece=▁흔\n",
      "bpe_model_trainer.cc(258) LOG(INFO) Added: freq=228 size=1300 all=183093 active=13086 piece=자가\n",
      "bpe_model_trainer.cc(167) LOG(INFO) Updating active symbols. max_freq=228 min_freq=24\n",
      "bpe_model_trainer.cc(258) LOG(INFO) Added: freq=222 size=1320 all=184029 active=9995 piece=편은\n",
      "bpe_model_trainer.cc(258) LOG(INFO) Added: freq=218 size=1340 all=184987 active=10953 piece=을수\n",
      "bpe_model_trainer.cc(258) LOG(INFO) Added: freq=214 size=1360 all=185770 active=11736 piece=영화중\n",
      "bpe_model_trainer.cc(258) LOG(INFO) Added: freq=211 size=1380 all=186558 active=12524 piece=▁소설\n",
      "bpe_model_trainer.cc(258) LOG(INFO) Added: freq=208 size=1400 all=187372 active=13338 piece=▁굉장\n",
      "bpe_model_trainer.cc(167) LOG(INFO) Updating active symbols. max_freq=208 min_freq=23\n",
      "bpe_model_trainer.cc(258) LOG(INFO) Added: freq=205 size=1420 all=188110 active=10096 piece=▁단순\n",
      "bpe_model_trainer.cc(258) LOG(INFO) Added: freq=201 size=1440 all=188933 active=10919 piece=▁늘\n",
      "bpe_model_trainer.cc(258) LOG(INFO) Added: freq=199 size=1460 all=189522 active=11508 piece=▁설정\n",
      "bpe_model_trainer.cc(258) LOG(INFO) Added: freq=195 size=1480 all=190264 active=12250 piece=나와\n",
      "bpe_model_trainer.cc(258) LOG(INFO) Added: freq=193 size=1500 all=191557 active=13543 piece=▁만드\n",
      "bpe_model_trainer.cc(167) LOG(INFO) Updating active symbols. max_freq=193 min_freq=22\n",
      "bpe_model_trainer.cc(258) LOG(INFO) Added: freq=190 size=1520 all=192187 active=10185 piece=▁거의\n",
      "bpe_model_trainer.cc(258) LOG(INFO) Added: freq=187 size=1540 all=192863 active=10861 piece=▁그대로\n",
      "bpe_model_trainer.cc(258) LOG(INFO) Added: freq=184 size=1560 all=193689 active=11687 piece=▁평범\n",
      "bpe_model_trainer.cc(258) LOG(INFO) Added: freq=181 size=1580 all=194322 active=12320 piece=ᅲᅲᅲᅲ\n",
      "bpe_model_trainer.cc(258) LOG(INFO) Added: freq=179 size=1600 all=195082 active=13080 piece=,,,,\n",
      "bpe_model_trainer.cc(167) LOG(INFO) Updating active symbols. max_freq=179 min_freq=22\n",
      "bpe_model_trainer.cc(258) LOG(INFO) Added: freq=175 size=1620 all=195939 active=10597 piece=▁짝\n",
      "bpe_model_trainer.cc(258) LOG(INFO) Added: freq=172 size=1640 all=196576 active=11234 piece=▁개그\n",
      "bpe_model_trainer.cc(258) LOG(INFO) Added: freq=168 size=1660 all=197041 active=11699 piece=▁병맛\n",
      "bpe_model_trainer.cc(258) LOG(INFO) Added: freq=166 size=1680 all=197751 active=12409 piece=▁바보\n",
      "bpe_model_trainer.cc(258) LOG(INFO) Added: freq=164 size=1700 all=198433 active=13091 piece=스의\n",
      "bpe_model_trainer.cc(167) LOG(INFO) Updating active symbols. max_freq=164 min_freq=21\n",
      "bpe_model_trainer.cc(258) LOG(INFO) Added: freq=162 size=1720 all=199135 active=10546 piece=▁된다\n",
      "bpe_model_trainer.cc(258) LOG(INFO) Added: freq=159 size=1740 all=199825 active=11236 piece=아도\n",
      "bpe_model_trainer.cc(258) LOG(INFO) Added: freq=158 size=1760 all=200391 active=11801 piece=▁유머\n",
      "bpe_model_trainer.cc(258) LOG(INFO) Added: freq=156 size=1780 all=201226 active=12636 piece=프다\n",
      "bpe_model_trainer.cc(258) LOG(INFO) Added: freq=154 size=1800 all=201668 active=13078 piece=▁금\n",
      "bpe_model_trainer.cc(167) LOG(INFO) Updating active symbols. max_freq=154 min_freq=21\n",
      "bpe_model_trainer.cc(258) LOG(INFO) Added: freq=153 size=1820 all=202214 active=10590 piece=▁정도로\n",
      "bpe_model_trainer.cc(258) LOG(INFO) Added: freq=150 size=1840 all=202934 active=11310 piece=▁허술\n",
      "bpe_model_trainer.cc(258) LOG(INFO) Added: freq=148 size=1860 all=203552 active=11928 piece=▁사랑을\n",
      "bpe_model_trainer.cc(258) LOG(INFO) Added: freq=145 size=1880 all=204041 active=12417 piece=▁ᅮ\n",
      "bpe_model_trainer.cc(258) LOG(INFO) Added: freq=144 size=1900 all=204720 active=13096 piece=▁우울\n",
      "bpe_model_trainer.cc(167) LOG(INFO) Updating active symbols. max_freq=144 min_freq=20\n",
      "bpe_model_trainer.cc(258) LOG(INFO) Added: freq=141 size=1920 all=205329 active=10819 piece=▁쩔\n",
      "bpe_model_trainer.cc(258) LOG(INFO) Added: freq=140 size=1940 all=205982 active=11472 piece=▁진지\n",
      "bpe_model_trainer.cc(258) LOG(INFO) Added: freq=138 size=1960 all=206586 active=12076 piece=▁저도\n",
      "bpe_model_trainer.cc(258) LOG(INFO) Added: freq=136 size=1980 all=207164 active=12654 piece=▁가는\n",
      "bpe_model_trainer.cc(258) LOG(INFO) Added: freq=134 size=2000 all=207707 active=13197 piece=▁짐\n",
      "bpe_model_trainer.cc(167) LOG(INFO) Updating active symbols. max_freq=134 min_freq=19\n",
      "bpe_model_trainer.cc(258) LOG(INFO) Added: freq=133 size=2020 all=208384 active=11047 piece=▁감동적이고\n",
      "bpe_model_trainer.cc(258) LOG(INFO) Added: freq=131 size=2040 all=209059 active=11722 piece=던가\n",
      "bpe_model_trainer.cc(258) LOG(INFO) Added: freq=130 size=2060 all=209638 active=12301 piece=한게\n",
      "bpe_model_trainer.cc(258) LOG(INFO) Added: freq=129 size=2080 all=210478 active=13141 piece=▁개연성\n",
      "bpe_model_trainer.cc(258) LOG(INFO) Added: freq=127 size=2100 all=211222 active=13885 piece=▁선택\n",
      "bpe_model_trainer.cc(167) LOG(INFO) Updating active symbols. max_freq=127 min_freq=19\n",
      "bpe_model_trainer.cc(258) LOG(INFO) Added: freq=126 size=2120 all=211589 active=10892 piece=▁이상한\n",
      "bpe_model_trainer.cc(258) LOG(INFO) Added: freq=125 size=2140 all=212260 active=11563 piece=▁이영화가\n",
      "bpe_model_trainer.cc(258) LOG(INFO) Added: freq=123 size=2160 all=213072 active=12375 piece=프로\n",
      "bpe_model_trainer.cc(258) LOG(INFO) Added: freq=122 size=2180 all=213698 active=13001 piece=▁바라\n",
      "bpe_model_trainer.cc(258) LOG(INFO) Added: freq=121 size=2200 all=214288 active=13591 piece=▁복수\n",
      "bpe_model_trainer.cc(167) LOG(INFO) Updating active symbols. max_freq=121 min_freq=18\n",
      "bpe_model_trainer.cc(258) LOG(INFO) Added: freq=119 size=2220 all=214953 active=11347 piece=점주\n",
      "bpe_model_trainer.cc(258) LOG(INFO) Added: freq=118 size=2240 all=215511 active=11905 piece=▁진행\n",
      "bpe_model_trainer.cc(258) LOG(INFO) Added: freq=117 size=2260 all=216036 active=12430 piece=▁어찌\n",
      "bpe_model_trainer.cc(258) LOG(INFO) Added: freq=116 size=2280 all=216706 active=13100 piece=그래도\n",
      "bpe_model_trainer.cc(258) LOG(INFO) Added: freq=115 size=2300 all=217135 active=13529 piece=▁보는게\n",
      "bpe_model_trainer.cc(167) LOG(INFO) Updating active symbols. max_freq=115 min_freq=18\n",
      "bpe_model_trainer.cc(258) LOG(INFO) Added: freq=113 size=2320 all=217570 active=11289 piece=과는\n",
      "bpe_model_trainer.cc(258) LOG(INFO) Added: freq=112 size=2340 all=218171 active=11890 piece=▁블랙\n",
      "bpe_model_trainer.cc(258) LOG(INFO) Added: freq=111 size=2360 all=218731 active=12450 piece=오빠\n",
      "bpe_model_trainer.cc(258) LOG(INFO) Added: freq=111 size=2380 all=219160 active=12879 piece=▁아니지만\n",
      "bpe_model_trainer.cc(258) LOG(INFO) Added: freq=110 size=2400 all=219498 active=13217 piece=▁재미있었다\n",
      "bpe_model_trainer.cc(167) LOG(INFO) Updating active symbols. max_freq=109 min_freq=17\n",
      "bpe_model_trainer.cc(258) LOG(INFO) Added: freq=109 size=2420 all=220137 active=11612 piece=▁특유의\n",
      "bpe_model_trainer.cc(258) LOG(INFO) Added: freq=107 size=2440 all=220710 active=12185 piece=▁고전\n",
      "bpe_model_trainer.cc(258) LOG(INFO) Added: freq=106 size=2460 all=221270 active=12745 piece=▁딴\n",
      "bpe_model_trainer.cc(258) LOG(INFO) Added: freq=106 size=2480 all=221836 active=13311 piece=▁전체적으로\n",
      "bpe_model_trainer.cc(258) LOG(INFO) Added: freq=105 size=2500 all=222523 active=13998 piece=다는게\n",
      "bpe_model_trainer.cc(167) LOG(INFO) Updating active symbols. max_freq=105 min_freq=17\n",
      "bpe_model_trainer.cc(258) LOG(INFO) Added: freq=104 size=2520 all=223282 active=11827 piece=배우들\n",
      "bpe_model_trainer.cc(258) LOG(INFO) Added: freq=103 size=2540 all=223976 active=12521 piece=▁아는\n",
      "bpe_model_trainer.cc(258) LOG(INFO) Added: freq=102 size=2560 all=224526 active=13071 piece=▁ᄋᄋ\n",
      "bpe_model_trainer.cc(258) LOG(INFO) Added: freq=102 size=2580 all=224935 active=13480 piece=▁재미없어요\n",
      "bpe_model_trainer.cc(258) LOG(INFO) Added: freq=101 size=2600 all=225431 active=13976 piece=▁드럽게\n",
      "bpe_model_trainer.cc(167) LOG(INFO) Updating active symbols. max_freq=101 min_freq=17\n",
      "bpe_model_trainer.cc(258) LOG(INFO) Added: freq=100 size=2620 all=225908 active=11741 piece=▁되어\n",
      "bpe_model_trainer.cc(258) LOG(INFO) Added: freq=99 size=2640 all=226479 active=12312 piece=▁산만\n",
      "bpe_model_trainer.cc(258) LOG(INFO) Added: freq=98 size=2660 all=226969 active"
     ]
    }
   ],
   "source": [
    "def sp_word_index(tokens, prefix):\n",
    "    with open(f\"./{prefix}.vocab\", 'r') as f:\n",
    "        vocab = f.readlines()\n",
    "        \n",
    "    word_index = {}\n",
    "    index_word = {}\n",
    "\n",
    "    for idx, line in enumerate(vocab):\n",
    "        word = line.split(\"\\t\")[0]\n",
    "\n",
    "        word_index.update({word:idx})\n",
    "        index_word.update({idx:word})\n",
    "\n",
    "    return word_index, index_word"
   ]
  },
  {
   "cell_type": "code",
   "execution_count": 32,
   "id": "dcbcf905",
   "metadata": {
    "scrolled": true
   },
   "outputs": [
    {
     "name": "stderr",
     "output_type": "stream",
     "text": [
      "=12801 piece=▁괴물\n",
      "bpe_model_trainer.cc(258) LOG(INFO) Added: freq=97 size=2680 all=227409 active=13241 piece=한국\n",
      "bpe_model_trainer.cc(258) LOG(INFO) Added: freq=96 size=2700 all=227740 active=13572 piece=괜찮\n",
      "bpe_model_trainer.cc(167) LOG(INFO) Updating active symbols. max_freq=96 min_freq=16\n",
      "bpe_model_trainer.cc(258) LOG(INFO) Added: freq=96 size=2720 all=228338 active=11912 piece=▁이거보고\n",
      "bpe_model_trainer.cc(258) LOG(INFO) Added: freq=95 size=2740 all=228746 active=12320 piece=▁아닌가\n",
      "bpe_model_trainer.cc(258) LOG(INFO) Added: freq=94 size=2760 all=229252 active=12826 piece=▁건지\n",
      "bpe_model_trainer.cc(258) LOG(INFO) Added: freq=93 size=2780 all=229748 active=13322 piece=것들\n",
      "bpe_model_trainer.cc(258) LOG(INFO) Added: freq=93 size=2800 all=230239 active=13813 piece=▁마세요\n",
      "bpe_model_trainer.cc(167) LOG(INFO) Updating active symbols. max_freq=93 min_freq=16\n",
      "bpe_model_trainer.cc(258) LOG(INFO) Added: freq=92 size=2820 all=230758 active=12030 piece=▁두고\n",
      "bpe_model_trainer.cc(258) LOG(INFO) Added: freq=91 size=2840 all=231116 active=12388 piece=나이\n",
      "bpe_model_trainer.cc(258) LOG(INFO) Added: freq=91 size=2860 all=231651 active=12923 piece=▁생각없이\n",
      "bpe_model_trainer.cc(258) LOG(INFO) Added: freq=90 size=2880 all=232046 active=13318 piece=▁아닌데\n",
      "bpe_model_trainer.cc(258) LOG(INFO) Added: freq=89 size=2900 all=232623 active=13895 piece=▁나중에\n",
      "bpe_model_trainer.cc(167) LOG(INFO) Updating active symbols. max_freq=89 min_freq=16\n",
      "bpe_model_trainer.cc(258) LOG(INFO) Added: freq=88 size=2920 all=233022 active=12020 piece=▁어제\n",
      "bpe_model_trainer.cc(258) LOG(INFO) Added: freq=87 size=2940 all=233388 active=12386 piece=▁과연\n",
      "bpe_model_trainer.cc(258) LOG(INFO) Added: freq=87 size=2960 all=233650 active=12648 piece=▁주성치\n",
      "bpe_model_trainer.cc(258) LOG(INFO) Added: freq=86 size=2980 all=234330 active=13328 piece=▁않아\n",
      "bpe_model_trainer.cc(258) LOG(INFO) Added: freq=85 size=3000 all=234650 active=13648 piece=볼만\n",
      "bpe_model_trainer.cc(167) LOG(INFO) Updating active symbols. max_freq=85 min_freq=15\n",
      "bpe_model_trainer.cc(258) LOG(INFO) Added: freq=85 size=3020 all=235143 active=12167 piece=▁하나하나\n",
      "bpe_model_trainer.cc(258) LOG(INFO) Added: freq=84 size=3040 all=235757 active=12781 piece=▁어휴\n",
      "bpe_model_trainer.cc(258) LOG(INFO) Added: freq=83 size=3060 all=236172 active=13196 piece=▁말할\n",
      "bpe_model_trainer.cc(258) LOG(INFO) Added: freq=83 size=3080 all=236560 active=13584 piece=▁왜이래\n",
      "bpe_model_trainer.cc(258) LOG(INFO) Added: freq=82 size=3100 all=236951 active=13975 piece=▁나은\n",
      "bpe_model_trainer.cc(167) LOG(INFO) Updating active symbols. max_freq=82 min_freq=15\n",
      "bpe_model_trainer.cc(258) LOG(INFO) Added: freq=82 size=3120 all=237294 active=12179 piece=▁청소년\n",
      "bpe_model_trainer.cc(258) LOG(INFO) Added: freq=81 size=3140 all=237752 active=12637 piece=▁리뷰\n",
      "bpe_model_trainer.cc(258) LOG(INFO) Added: freq=80 size=3160 all=238098 active=12983 piece=되지\n",
      "bpe_model_trainer.cc(258) LOG(INFO) Added: freq=80 size=3180 all=238692 active=13577 piece=▁희생\n",
      "bpe_model_trainer.cc(258) LOG(INFO) Added: freq=80 size=3200 all=239048 active=13933 piece=▁명작입니다\n",
      "bpe_model_trainer.cc(167) LOG(INFO) Updating active symbols. max_freq=79 min_freq=15\n",
      "bpe_model_trainer.cc(258) LOG(INFO) Added: freq=79 size=3220 all=239606 active=12506 piece=▁보니까\n",
      "bpe_model_trainer.cc(258) LOG(INFO) Added: freq=78 size=3240 all=239878 active=12778 piece=해준\n",
      "bpe_model_trainer.cc(258) LOG(INFO) Added: freq=77 size=3260 all=240253 active=13153 piece=러디\n",
      "bpe_model_trainer.cc(258) LOG(INFO) Added: freq=77 size=3280 all=240814 active=13714 piece=▁소재로\n",
      "bpe_model_trainer.cc(258) LOG(INFO) Added: freq=76 size=3300 all=241155 active=14055 piece=아직\n",
      "bpe_model_trainer.cc(167) LOG(INFO) Updating active symbols. max_freq=76 min_freq=14\n",
      "bpe_model_trainer.cc(258) LOG(INFO) Added: freq=76 size=3320 all=241637 active=12503 piece=▁아줌마\n",
      "bpe_model_trainer.cc(258) LOG(INFO) Added: freq=75 size=3340 all=242080 active=12946 piece=언니\n",
      "bpe_model_trainer.cc(258) LOG(INFO) Added: freq=75 size=3360 all=242566 active=13432 piece=▁사랑의\n",
      "bpe_model_trainer.cc(258) LOG(INFO) Added: freq=74 size=3380 all=243085 active=13951 piece=▁기발\n",
      "bpe_model_trainer.cc(258) LOG(INFO) Added: freq=74 size=3400 all=243468 active=14334 piece=▁싶네요\n",
      "bpe_model_trainer.cc(167) LOG(INFO) Updating active symbols. max_freq=74 min_freq=14\n",
      "bpe_model_trainer.cc(258) LOG(INFO) Added: freq=73 size=3420 all=243963 active=12667 piece=였어\n",
      "bpe_model_trainer.cc(258) LOG(INFO) Added: freq=73 size=3440 all=244450 active=13154 piece=▁손발이\n",
      "bpe_model_trainer.cc(258) LOG(INFO) Added: freq=72 size=3460 all=244952 active=13656 piece=▁낚시\n",
      "bpe_model_trainer.cc(258) LOG(INFO) Added: freq=72 size=3480 all=245186 active=13890 piece=▁생각합니다\n",
      "bpe_model_trainer.cc(258) LOG(INFO) Added: freq=71 size=3500 all=245581 active=14285 piece=▁연결\n",
      "bpe_model_trainer.cc(167) LOG(INFO) Updating active symbols. max_freq=71 min_freq=14\n",
      "bpe_model_trainer.cc(258) LOG(INFO) Added: freq=70 size=3520 all=245759 active=12433 piece=▁척\n",
      "bpe_model_trainer.cc(258) LOG(INFO) Added: freq=70 size=3540 all=246272 active=12946 piece=▁상처\n",
      "bpe_model_trainer.cc(258) LOG(INFO) Added: freq=69 size=3560 all=246701 active=13375 piece=▁군대\n",
      "bpe_model_trainer.cc(258) LOG(INFO) Added: freq=69 size=3580 all=247045 active=13719 piece=▁몰라도\n",
      "bpe_model_trainer.cc(258) LOG(INFO) Added: freq=68 size=3600 all=247422 active=14096 piece=키는\n",
      "bpe_model_trainer.cc(167) LOG(INFO) Updating active symbols. max_freq=68 min_freq=14\n",
      "bpe_model_trainer.cc(258) LOG(INFO) Added: freq=68 size=3620 all=247831 active=12751 piece=▁1,2\n",
      "bpe_model_trainer.cc(258) LOG(INFO) Added: freq=67 size=3640 all=247992 active=12912 piece=돌아\n",
      "bpe_model_trainer.cc(258) LOG(INFO) Added: freq=67 size=3660 all=248350 active=13270 piece=▁힘이\n",
      "bpe_model_trainer.cc(258) LOG(INFO) Added: freq=67 size=3680 all=248662 active=13582 piece=▁드립니다\n",
      "bpe_model_trainer.cc(258) LOG(INFO) Added: freq=66 size=3700 all=249228 active=14148 piece=지다\n",
      "bpe_model_trainer.cc(167) LOG(INFO) Updating active symbols. max_freq=66 min_freq=13\n",
      "bpe_model_trainer.cc(258) LOG(INFO) Added: freq=66 size=3720 all=249489 active=12684 piece=▁누구나\n",
      "bpe_model_trainer.cc(258) LOG(INFO) Added: freq=65 size=3740 all=249706 active=12901 piece=루즈\n",
      "bpe_model_trainer.cc(258) LOG(INFO) Added: freq=65 size=3760 all=250222 active=13417 piece=▁잊지\n",
      "bpe_model_trainer.cc(258) LOG(INFO) Added: freq=64 size=3780 all=250437 active=13632 piece=관계\n",
      "bpe_model_trainer.cc(258) LOG(INFO) Added: freq=64 size=3800 all=250977 active=14172 piece=▁야구\n",
      "bpe_model_trainer.cc(167) LOG(INFO) Updating active symbols. max_freq=64 min_freq=13\n",
      "bpe_model_trainer.cc(258) LOG(INFO) Added: freq=64 size=3820 all=251380 active=12928 piece=▁이것이\n",
      "bpe_model_trainer.cc(258) LOG(INFO) Added: freq=63 size=3840 all=251786 active=13334 piece=웃겨\n",
      "bpe_model_trainer.cc(258) LOG(INFO) Added: freq=63 size=3860 all=252161 active=13709 piece=▁볼거리\n",
      "bpe_model_trainer.cc(258) LOG(INFO) Added: freq=62 size=3880 all=252475 active=14023 piece=게요\n",
      "bpe_model_trainer.cc(258) LOG(INFO) Added: freq=62 size=3900 all=252826 active=14374 piece=▁의심\n",
      "bpe_model_trainer.cc(167) LOG(INFO) Updating active symbols. max_freq=62 min_freq=13\n",
      "bpe_model_trainer.cc(258) LOG(INFO) Added: freq=62 size=3920 all=253111 active=12898 piece=▁인간이\n",
      "bpe_model_trainer.cc(258) LOG(INFO) Added: freq=61 size=3940 all=253521 active=13308 piece=임새\n",
      "bpe_model_trainer.cc(258) LOG(INFO) Added: freq=61 size=3960 all=253969 active=13756 piece=▁관객을\n",
      "bpe_model_trainer.cc(258) LOG(INFO) Added: freq=61 size=3980 all=254065 active=13852 piece=▁떨어진다\n",
      "bpe_model_trainer.cc(258) LOG(INFO) Added: freq=60 size=4000 all=254432 active=14219 piece=▁가져\n",
      "bpe_model_trainer.cc(167) LOG(INFO) Updating active symbols. max_freq=60 min_freq=13\n",
      "bpe_model_trainer.cc(258) LOG(INFO) Added: freq=60 size=4020 all=254847 active=13123 piece=▁구성이\n",
      "bpe_model_trainer.cc(258) LOG(INFO) Added: freq=59 size=4040 all=255011 active=13287 piece=귀여\n",
      "bpe_model_trainer.cc(258) LOG(INFO) Added: freq=59 size=4060 all=255553 active=13829 piece=▁로봇\n",
      "bpe_model_trainer.cc(258) LOG(INFO) Added: freq=59 size=4080 all=255850 active=14126 piece=▁만들면\n",
      "bpe_model_trainer.cc(258) LOG(INFO) Added: freq=59 size=4100 all=255922 active=14198 piece=▁러닝타임\n",
      "bpe_model_trainer.cc(167) LOG(INFO) Updating active symbols. max_freq=59 min_freq=13\n",
      "bpe_model_trainer.cc(258) LOG(INFO) Added: freq=58 size=4120 all=256306 active=13169 piece=스포\n",
      "bpe_model_trainer.cc(258) LOG(INFO) Added: freq=58 size=4140 all=256683 active=13546 piece=▁야한\n",
      "bpe_model_trainer.cc(258) LOG(INFO) Added: freq=58 size=4160 all=256992 active=13855 piece=▁영화들\n",
      "bpe_model_trainer.cc(258) LOG(INFO) Added: freq=57 size=4180 all=257225 acti"
     ]
    }
   ],
   "source": [
    "def sp_tokenize(corpus):\n",
    "\n",
    "    tokens = []\n",
    "\n",
    "    for sen in corpus:\n",
    "        try:\n",
    "            tokens.append(s.EncodeAsIds(sen))\n",
    "        except TypeError:\n",
    "            print(sen)\n",
    "            \n",
    "    return tokens"
   ]
  },
  {
   "cell_type": "code",
   "execution_count": 33,
   "id": "452dd57a",
   "metadata": {},
   "outputs": [],
   "source": [
    "def get_inputs(tokenize, train_data, test_data):\n",
    "    train_tokens = tokenize(train_data)\n",
    "    test_tokens = tokenize(test_data)\n",
    "    \n",
    "    train_max_length = len(max(train_tokens, key=len))\n",
    "    test_max_length = len(max(test_tokens, key=len))\n",
    "    maxlen = train_max_length if train_max_length > test_max_length else test_max_length\n",
    "    print(\"maxlen: \", maxlen)\n",
    "    \n",
    "    train_tokens = tf.keras.preprocessing.sequence.pad_sequences(train_tokens, padding='post', maxlen=maxlen)\n",
    "    test_tokens = tf.keras.preprocessing.sequence.pad_sequences(test_tokens, padding='post', maxlen=maxlen)\n",
    "    \n",
    "    return train_tokens, test_tokens, maxlen"
   ]
  },
  {
   "cell_type": "code",
   "execution_count": 34,
   "id": "8fffb4b3",
   "metadata": {
    "scrolled": true
   },
   "outputs": [
    {
     "name": "stdout",
     "output_type": "stream",
     "text": [
      "maxlen:  48\n"
     ]
    }
   ],
   "source": [
    "train_inputs, test_inputs, max_len = get_inputs(sp_tokenize, df_train[\"document\"], df_test[\"document\"])"
   ]
  },
  {
   "cell_type": "code",
   "execution_count": 35,
   "id": "e770f18e",
   "metadata": {},
   "outputs": [],
   "source": [
    "train_labels = np.array(df_train[\"label\"])\n",
    "test_labels = np.array(df_test[\"label\"])"
   ]
  },
  {
   "cell_type": "markdown",
   "id": "f7009364",
   "metadata": {},
   "source": [
    "# 모델"
   ]
  },
  {
   "cell_type": "markdown",
   "id": "a70542d6",
   "metadata": {},
   "source": [
    "### LSTM"
   ]
  },
  {
   "cell_type": "code",
   "execution_count": 36,
   "id": "feb92e3b",
   "metadata": {},
   "outputs": [],
   "source": [
    "def build_model(vocab_size, input_length, embedding_dim):\n",
    "    inputs = layers.Input(shape=(input_length,))\n",
    "    x = layers.Embedding(vocab_size, embedding_dim, \n",
    "                         #embeddings_regularizer=regularizers.l2(1e-4),\n",
    "                         input_length=input_length)(inputs)\n",
    "    #x = layers.BatchNormalization()(x)\n",
    "    #x = layers.LSTM(256, return_sequences=True, kernel_regularizer=regularizers.l2(1e-4))(x)\n",
    "    x = layers.LSTM(128)(x)\n",
    "    #x = layers.Dropout(0.2)(x)\n",
    "    #x = layers.Dense(64, activation='relu', kernel_regularizer=regularizers.l2(1e-4))(x)\n",
    "    #x = layers.BatchNormalization()(x)\n",
    "    #x = layers.Dropout(0.2)(x)\n",
    "    outputs = layers.Dense(1, activation='sigmoid')(x)\n",
    "    model = models.Model(inputs=inputs, outputs=outputs)\n",
    "    model.compile(optimizer='adam', loss='binary_crossentropy', metrics=['accuracy'])\n",
    "    model.summary()\n",
    "    return model"
   ]
  },
  {
   "cell_type": "markdown",
   "id": "14788ebd",
   "metadata": {},
   "source": [
    "### Transformer"
   ]
  },
  {
   "cell_type": "code",
   "execution_count": 92,
   "id": "f0682e74",
   "metadata": {},
   "outputs": [],
   "source": [
    "def scaled_dot_product_attention(query, key, value):\n",
    "    matmul_qk = tf.matmul(query, key, transpose_b=True)\n",
    "    depth = tf.cast(tf.shape(key)[-1], tf.float32)\n",
    "    logits = matmul_qk / tf.math.sqrt(depth)\n",
    "    attention_weights = tf.nn.softmax(logits, axis=-1)\n",
    "    output = tf.matmul(attention_weights, value)\n",
    "    return output\n",
    "\n",
    "def multi_head_attention(embedding_dim, num_heads, inputs):\n",
    "    depth = embedding_dim // num_heads\n",
    "    query = layers.Dense(embedding_dim)(inputs)\n",
    "    key = layers.Dense(embedding_dim)(inputs)\n",
    "    value = layers.Dense(embedding_dim)(inputs)\n",
    "    queries = tf.split(query, num_heads, axis=2)\n",
    "    keys = tf.split(key, num_heads, axis=2)\n",
    "    values = tf.split(value, num_heads, axis=2)\n",
    "    attention = [scaled_dot_product_attention(q, k, v) for q, k, v in zip(queries, keys, values)]\n",
    "    concat_attention = tf.concat(attention, axis=2)\n",
    "    output = layers.Dense(embedding_dim)(concat_attention)\n",
    "    return output\n",
    "\n",
    "def transformer_encoder_block(embedding_dim, num_heads, ffnn_dim, inputs):\n",
    "    attention_output = multi_head_attention(embedding_dim, num_heads, inputs)\n",
    "    attention_output = layers.LayerNormalization()(inputs + attention_output)\n",
    "    ffnn_output = layers.Dense(ffnn_dim, activation='relu')(attention_output)\n",
    "    ffnn_output = layers.Dense(embedding_dim)(ffnn_output)\n",
    "    encoder_output = layers.LayerNormalization()(attention_output + ffnn_output)\n",
    "    return encoder_output\n",
    "\n",
    "def build_transformer_model(vocab_size, input_length, embedding_dim, num_blocks=1, num_heads=2, ffnn_dim=128):\n",
    "    inputs = layers.Input(shape=(input_length,))\n",
    "    x = layers.Embedding(vocab_size, embedding_dim, input_length=input_length)(inputs)\n",
    "    pos_encoding = positional_encoding(input_length, embedding_dim)\n",
    "    x += pos_encoding\n",
    "    \n",
    "    for _ in range(num_blocks):\n",
    "        x = transformer_encoder_block(embedding_dim, num_heads, ffnn_dim, x)\n",
    "    \n",
    "    x = layers.GlobalAveragePooling1D()(x)\n",
    "    outputs = layers.Dense(1, activation='sigmoid')(x)\n",
    "    \n",
    "    model = models.Model(inputs=inputs, outputs=outputs)\n",
    "    model.compile(optimizer='adam', loss='binary_crossentropy', metrics=['accuracy'])\n",
    "    model.summary()\n",
    "    return model\n",
    "\n",
    "def positional_encoding(position, d_model):\n",
    "    angles = 1 / tf.pow(10000, (2 * (tf.range(d_model, dtype=tf.float32)[tf.newaxis, :] // 2)) / tf.cast(d_model, tf.float32))\n",
    "    pos_encoding = tf.range(position, dtype=tf.float32)[:, tf.newaxis] * angles\n",
    "\n",
    "    # Split even and odd indices\n",
    "    pos_encoding_sin = tf.math.sin(pos_encoding[:, 0::2])\n",
    "    pos_encoding_cos = tf.math.cos(pos_encoding[:, 1::2])\n",
    "\n",
    "    # Concatenate back together\n",
    "    pos_encoding = tf.concat([pos_encoding_sin, pos_encoding_cos], axis=-1)\n",
    "    pos_encoding = pos_encoding[tf.newaxis, ...]\n",
    "    return pos_encoding\n"
   ]
  },
  {
   "cell_type": "markdown",
   "id": "506e7ae7",
   "metadata": {},
   "source": [
    "### 모델 생성"
   ]
  },
  {
   "cell_type": "code",
   "execution_count": 37,
   "id": "d43bf029",
   "metadata": {},
   "outputs": [],
   "source": [
    "def train_model(input_length, embedding_dim, \n",
    "                train_inputs, train_labels,\n",
    "                test_inputs, test_labels,\n",
    "                model_name, model_desc,\n",
    "                build_model, vocab_size=8000):\n",
    "    \n",
    "    cb_es = callbacks.EarlyStopping(\n",
    "        monitor='val_loss', mode='min', verbose=1, patience=5)\n",
    "    \n",
    "    cb_mc = callbacks.ModelCheckpoint(\n",
    "        model_name + '.h5', monitor='val_accuracy', \n",
    "        mode='max', verbose=1, save_best_only=True)\n",
    "    \n",
    "    model = build_model(\n",
    "        vocab_size=vocab_size,\n",
    "        input_length=input_length, \n",
    "        embedding_dim=embedding_dim)\n",
    "    \n",
    "    history = model.fit(\n",
    "        train_inputs, train_labels, \n",
    "        epochs=20, batch_size=256, \n",
    "        callbacks=[cb_es, cb_mc],\n",
    "        validation_split=0.2)\n",
    "    \n",
    "    result = model.evaluate(test_inputs, test_labels)\n",
    "    print(result)\n",
    "    \n",
    "    history_result = {\n",
    "        \"name\": model_name,\n",
    "        \"history\": history,\n",
    "        \"evaluation\": result,\n",
    "        \"description\": model_desc,\n",
    "    }\n",
    "    \n",
    "    return model, history_result"
   ]
  },
  {
   "cell_type": "code",
   "execution_count": 38,
   "id": "5b3e386f",
   "metadata": {},
   "outputs": [],
   "source": [
    "histories = []"
   ]
  },
  {
   "cell_type": "markdown",
   "id": "3f8dd35f",
   "metadata": {},
   "source": [
    "# 모델 학습"
   ]
  },
  {
   "cell_type": "markdown",
   "id": "11e04f65",
   "metadata": {},
   "source": [
    "### LSTM"
   ]
  },
  {
   "cell_type": "code",
   "execution_count": 61,
   "id": "35013bbe",
   "metadata": {
    "scrolled": true
   },
   "outputs": [
    {
     "name": "stdout",
     "output_type": "stream",
     "text": [
      "Model: \"model_1\"\n",
      "_________________________________________________________________\n",
      "Layer (type)                 Output Shape              Param #   \n",
      "=================================================================\n",
      "input_2 (InputLayer)         [(None, 48)]              0         \n",
      "_________________________________________________________________\n",
      "embedding_1 (Embedding)      (None, 48, 128)           1024000   \n",
      "_________________________________________________________________\n",
      "lstm_1 (LSTM)                (None, 128)               131584    \n",
      "_________________________________________________________________\n",
      "dense_1 (Dense)              (None, 1)                 129       \n",
      "=================================================================\n",
      "Total params: 1,155,713\n",
      "Trainable params: 1,155,713\n",
      "Non-trainable params: 0\n",
      "_________________________________________________________________\n",
      "Epoch 1/20\n",
      "391/391 [==============================] - 5s 9ms/step - loss: 0.5729 - accuracy: 0.6470 - val_loss: 0.3889 - val_accuracy: 0.8314\n",
      "\n",
      "Epoch 00001: val_accuracy improved from -inf to 0.83145, saving model to sp_bpe_emb128_lstm128.h5\n",
      "Epoch 2/20\n",
      "391/391 [==============================] - 3s 8ms/step - loss: 0.3519 - accuracy: 0.8467 - val_loss: 0.3584 - val_accuracy: 0.8485\n",
      "\n",
      "Epoch 00002: val_accuracy improved from 0.83145 to 0.84848, saving model to sp_bpe_emb128_lstm128.h5\n",
      "Epoch 3/20\n",
      "391/391 [==============================] - 3s 8ms/step - loss: 0.3099 - accuracy: 0.8651 - val_loss: 0.3422 - val_accuracy: 0.8474\n",
      "\n",
      "Epoch 00003: val_accuracy did not improve from 0.84848\n",
      "Epoch 4/20\n",
      "391/391 [==============================] - 3s 8ms/step - loss: 0.2768 - accuracy: 0.8802 - val_loss: 0.3457 - val_accuracy: 0.8490\n",
      "\n",
      "Epoch 00004: val_accuracy improved from 0.84848 to 0.84900, saving model to sp_bpe_emb128_lstm128.h5\n",
      "Epoch 5/20\n",
      "391/391 [==============================] - 3s 8ms/step - loss: 0.2502 - accuracy: 0.8935 - val_loss: 0.3611 - val_accuracy: 0.8492\n",
      "\n",
      "Epoch 00005: val_accuracy improved from 0.84900 to 0.84916, saving model to sp_bpe_emb128_lstm128.h5\n",
      "Epoch 6/20\n",
      "391/391 [==============================] - 3s 8ms/step - loss: 0.2250 - accuracy: 0.9070 - val_loss: 0.4186 - val_accuracy: 0.8430\n",
      "\n",
      "Epoch 00006: val_accuracy did not improve from 0.84916\n",
      "Epoch 7/20\n",
      "391/391 [==============================] - 3s 8ms/step - loss: 0.2010 - accuracy: 0.9182 - val_loss: 0.4345 - val_accuracy: 0.8438\n",
      "\n",
      "Epoch 00007: val_accuracy did not improve from 0.84916\n",
      "Epoch 8/20\n",
      "391/391 [==============================] - 3s 8ms/step - loss: 0.1791 - accuracy: 0.9293 - val_loss: 0.4130 - val_accuracy: 0.8388\n",
      "\n",
      "Epoch 00008: val_accuracy did not improve from 0.84916\n",
      "Epoch 00008: early stopping\n",
      "1341/1341 [==============================] - 4s 3ms/step - loss: 0.4103 - accuracy: 0.8381\n",
      "[0.4102603793144226, 0.8380867838859558]\n"
     ]
    }
   ],
   "source": [
    "embedding_dim = 128\n",
    "model_name = \"sp_bpe_emb128_lstm128\"\n",
    "model_desc = \"SentencePiece_BPE, embedding 128, LSTM 128\"\n",
    "\n",
    "model, history_result = train_model(max_len, embedding_dim,\n",
    "                                    train_inputs, train_labels,\n",
    "                                    test_inputs, test_labels,\n",
    "                                    model_name, model_desc,\n",
    "                                    build_model)"
   ]
  },
  {
   "cell_type": "markdown",
   "id": "46e992d4",
   "metadata": {},
   "source": [
    "### Transformer"
   ]
  },
  {
   "cell_type": "code",
   "execution_count": 93,
   "id": "cd064ce1",
   "metadata": {
    "scrolled": true
   },
   "outputs": [
    {
     "name": "stdout",
     "output_type": "stream",
     "text": [
      "Model: \"model_4\"\n",
      "__________________________________________________________________________________________________\n",
      "Layer (type)                    Output Shape         Param #     Connected to                     \n",
      "==================================================================================================\n",
      "input_8 (InputLayer)            [(None, 48)]         0                                            \n",
      "__________________________________________________________________________________________________\n",
      "embedding_7 (Embedding)         (None, 48, 128)      1024000     input_8[0][0]                    \n",
      "__________________________________________________________________________________________________\n",
      "tf.__operators__.add_3 (TFOpLam (None, 48, 128)      0           embedding_7[0][0]                \n",
      "__________________________________________________________________________________________________\n",
      "dense_17 (Dense)                (None, 48, 128)      16512       tf.__operators__.add_3[0][0]     \n",
      "__________________________________________________________________________________________________\n",
      "tf.split_4 (TFOpLambda)         [(None, 48, 64), (No 0           dense_17[0][0]                   \n",
      "__________________________________________________________________________________________________\n",
      "tf.compat.v1.shape_8 (TFOpLambd (3,)                 0           tf.split_4[0][0]                 \n",
      "__________________________________________________________________________________________________\n",
      "tf.compat.v1.shape_9 (TFOpLambd (3,)                 0           tf.split_4[0][1]                 \n",
      "__________________________________________________________________________________________________\n",
      "dense_16 (Dense)                (None, 48, 128)      16512       tf.__operators__.add_3[0][0]     \n",
      "__________________________________________________________________________________________________\n",
      "tf.__operators__.getitem_8 (Sli ()                   0           tf.compat.v1.shape_8[0][0]       \n",
      "__________________________________________________________________________________________________\n",
      "tf.__operators__.getitem_9 (Sli ()                   0           tf.compat.v1.shape_9[0][0]       \n",
      "__________________________________________________________________________________________________\n",
      "tf.split_3 (TFOpLambda)         [(None, 48, 64), (No 0           dense_16[0][0]                   \n",
      "__________________________________________________________________________________________________\n",
      "tf.cast_8 (TFOpLambda)          ()                   0           tf.__operators__.getitem_8[0][0] \n",
      "__________________________________________________________________________________________________\n",
      "tf.cast_9 (TFOpLambda)          ()                   0           tf.__operators__.getitem_9[0][0] \n",
      "__________________________________________________________________________________________________\n",
      "tf.linalg.matmul_16 (TFOpLambda (None, 48, 48)       0           tf.split_3[0][0]                 \n",
      "                                                                 tf.split_4[0][0]                 \n",
      "__________________________________________________________________________________________________\n",
      "tf.math.sqrt_8 (TFOpLambda)     ()                   0           tf.cast_8[0][0]                  \n",
      "__________________________________________________________________________________________________\n",
      "tf.linalg.matmul_18 (TFOpLambda (None, 48, 48)       0           tf.split_3[0][1]                 \n",
      "                                                                 tf.split_4[0][1]                 \n",
      "__________________________________________________________________________________________________\n",
      "tf.math.sqrt_9 (TFOpLambda)     ()                   0           tf.cast_9[0][0]                  \n",
      "__________________________________________________________________________________________________\n",
      "tf.math.truediv_8 (TFOpLambda)  (None, 48, 48)       0           tf.linalg.matmul_16[0][0]        \n",
      "                                                                 tf.math.sqrt_8[0][0]             \n",
      "__________________________________________________________________________________________________\n",
      "dense_18 (Dense)                (None, 48, 128)      16512       tf.__operators__.add_3[0][0]     \n",
      "__________________________________________________________________________________________________\n",
      "tf.math.truediv_9 (TFOpLambda)  (None, 48, 48)       0           tf.linalg.matmul_18[0][0]        \n",
      "                                                                 tf.math.sqrt_9[0][0]             \n",
      "__________________________________________________________________________________________________\n",
      "tf.nn.softmax_8 (TFOpLambda)    (None, 48, 48)       0           tf.math.truediv_8[0][0]          \n",
      "__________________________________________________________________________________________________\n",
      "tf.split_5 (TFOpLambda)         [(None, 48, 64), (No 0           dense_18[0][0]                   \n",
      "__________________________________________________________________________________________________\n",
      "tf.nn.softmax_9 (TFOpLambda)    (None, 48, 48)       0           tf.math.truediv_9[0][0]          \n",
      "__________________________________________________________________________________________________\n",
      "tf.linalg.matmul_17 (TFOpLambda (None, 48, 64)       0           tf.nn.softmax_8[0][0]            \n",
      "                                                                 tf.split_5[0][0]                 \n",
      "__________________________________________________________________________________________________\n",
      "tf.linalg.matmul_19 (TFOpLambda (None, 48, 64)       0           tf.nn.softmax_9[0][0]            \n",
      "                                                                 tf.split_5[0][1]                 \n",
      "__________________________________________________________________________________________________\n",
      "tf.concat_1 (TFOpLambda)        (None, 48, 128)      0           tf.linalg.matmul_17[0][0]        \n",
      "                                                                 tf.linalg.matmul_19[0][0]        \n",
      "__________________________________________________________________________________________________\n",
      "dense_19 (Dense)                (None, 48, 128)      16512       tf.concat_1[0][0]                \n",
      "__________________________________________________________________________________________________\n",
      "tf.__operators__.add_4 (TFOpLam (None, 48, 128)      0           tf.__operators__.add_3[0][0]     \n",
      "                                                                 dense_19[0][0]                   \n",
      "__________________________________________________________________________________________________\n",
      "layer_normalization_2 (LayerNor (None, 48, 128)      256         tf.__operators__.add_4[0][0]     \n",
      "__________________________________________________________________________________________________\n",
      "dense_20 (Dense)                (None, 48, 128)      16512       layer_normalization_2[0][0]      \n",
      "__________________________________________________________________________________________________\n",
      "dense_21 (Dense)                (None, 48, 128)      16512       dense_20[0][0]                   \n",
      "__________________________________________________________________________________________________\n",
      "tf.__operators__.add_5 (TFOpLam (None, 48, 128)      0           layer_normalization_2[0][0]      \n",
      "                                                                 dense_21[0][0]                   \n",
      "__________________________________________________________________________________________________\n",
      "layer_normalization_3 (LayerNor (None, 48, 128)      256         tf.__operators__.add_5[0][0]     \n",
      "__________________________________________________________________________________________________\n",
      "global_average_pooling1d_2 (Glo (None, 128)          0           layer_normalization_3[0][0]      \n",
      "__________________________________________________________________________________________________\n",
      "dense_22 (Dense)                (None, 1)            129         global_average_pooling1d_2[0][0] \n",
      "==================================================================================================\n",
      "Total params: 1,123,713\n",
      "Trainable params: 1,123,713\n",
      "Non-trainable params: 0\n",
      "__________________________________________________________________________________________________\n",
      "Epoch 1/20\n",
      "391/391 [==============================] - 6s 13ms/step - loss: 0.4893 - accuracy: 0.7363 - val_loss: 0.3531 - val_accuracy: 0.8460\n",
      "\n",
      "Epoch 00001: val_accuracy improved from -inf to 0.84604, saving model to sp_bpe_emb128_transformer_h2d128.h5\n",
      "Epoch 2/20\n",
      "391/391 [==============================] - 5s 13ms/step - loss: 0.3300 - accuracy: 0.8547 - val_loss: 0.3475 - val_accuracy: 0.8466\n",
      "\n",
      "Epoch 00002: val_accuracy improved from 0.84604 to 0.84656, saving model to sp_bpe_emb128_transformer_h2d128.h5\n",
      "Epoch 3/20\n",
      "391/391 [==============================] - 5s 13ms/step - loss: 0.3093 - accuracy: 0.8658 - val_loss: 0.3512 - val_accuracy: 0.8449\n",
      "\n",
      "Epoch 00003: val_accuracy did not improve from 0.84656\n",
      "Epoch 4/20\n",
      "391/391 [==============================] - 5s 13ms/step - loss: 0.2898 - accuracy: 0.8757 - val_loss: 0.3603 - val_accuracy: 0.8480\n",
      "\n",
      "Epoch 00004: val_accuracy improved from 0.84656 to 0.84800, saving model to sp_bpe_emb128_transformer_h2d128.h5\n",
      "Epoch 5/20\n",
      "391/391 [==============================] - 5s 13ms/step - loss: 0.2705 - accuracy: 0.8849 - val_loss: 0.3659 - val_accuracy: 0.8458\n",
      "\n",
      "Epoch 00005: val_accuracy did not improve from 0.84800\n",
      "Epoch 6/20\n",
      "391/391 [==============================] - 5s 13ms/step - loss: 0.2521 - accuracy: 0.8937 - val_loss: 0.3862 - val_accuracy: 0.8394\n",
      "\n",
      "Epoch 00006: val_accuracy did not improve from 0.84800\n",
      "Epoch 7/20\n",
      "391/391 [==============================] - 5s 13ms/step - loss: 0.2342 - accuracy: 0.9022 - val_loss: 0.3988 - val_accuracy: 0.8356\n",
      "\n",
      "Epoch 00007: val_accuracy did not improve from 0.84800\n",
      "Epoch 00007: early stopping\n",
      "1341/1341 [==============================] - 6s 4ms/step - loss: 0.4024 - accuracy: 0.8313\n",
      "[0.40239617228507996, 0.8313472270965576]\n"
     ]
    }
   ],
   "source": [
    "embedding_dim = 128\n",
    "model_name = \"sp_bpe_emb128_transformer_h2d128\"\n",
    "model_desc = \"SentencePiece_BPE, embedding 128, Transformer - head 2, dim 128\"\n",
    "\n",
    "model, history_result = train_model(max_len, embedding_dim,\n",
    "                                    train_inputs, train_labels,\n",
    "                                    test_inputs, test_labels,\n",
    "                                    model_name, model_desc,\n",
    "                                    build_transformer_model)"
   ]
  },
  {
   "cell_type": "code",
   "execution_count": 94,
   "id": "2ec98e66",
   "metadata": {},
   "outputs": [],
   "source": [
    "histories.append(history_result)"
   ]
  },
  {
   "cell_type": "markdown",
   "id": "a5bfa3ef",
   "metadata": {},
   "source": [
    "# KoNLPy 비교"
   ]
  },
  {
   "cell_type": "markdown",
   "id": "b4a3afe6",
   "metadata": {},
   "source": [
    "## Mecab"
   ]
  },
  {
   "cell_type": "code",
   "execution_count": 39,
   "id": "6f6617eb",
   "metadata": {},
   "outputs": [],
   "source": [
    "mecab = tag.Mecab()"
   ]
  },
  {
   "cell_type": "code",
   "execution_count": 40,
   "id": "5bdd725b",
   "metadata": {},
   "outputs": [
    {
     "data": {
      "text/html": [
       "<div>\n",
       "<style scoped>\n",
       "    .dataframe tbody tr th:only-of-type {\n",
       "        vertical-align: middle;\n",
       "    }\n",
       "\n",
       "    .dataframe tbody tr th {\n",
       "        vertical-align: top;\n",
       "    }\n",
       "\n",
       "    .dataframe thead th {\n",
       "        text-align: right;\n",
       "    }\n",
       "</style>\n",
       "<table border=\"1\" class=\"dataframe\">\n",
       "  <thead>\n",
       "    <tr style=\"text-align: right;\">\n",
       "      <th></th>\n",
       "      <th>id</th>\n",
       "      <th>document</th>\n",
       "      <th>label</th>\n",
       "      <th>length</th>\n",
       "      <th>mecab</th>\n",
       "    </tr>\n",
       "  </thead>\n",
       "  <tbody>\n",
       "    <tr>\n",
       "      <th>0</th>\n",
       "      <td>9976970</td>\n",
       "      <td>아 더빙.. 진짜 짜증나네요 목소리</td>\n",
       "      <td>0</td>\n",
       "      <td>19</td>\n",
       "      <td>[아, 더, 빙, ., ., 진짜, 짜증, 나, 네요, 목소리]</td>\n",
       "    </tr>\n",
       "    <tr>\n",
       "      <th>1</th>\n",
       "      <td>3819312</td>\n",
       "      <td>흠...포스터보고 초딩영화줄....오버연기조차 가볍지 않구나</td>\n",
       "      <td>1</td>\n",
       "      <td>33</td>\n",
       "      <td>[흠, ., .., 포스터, 보고, 초딩, 영화, 줄, ., ..., 오버, 연기,...</td>\n",
       "    </tr>\n",
       "    <tr>\n",
       "      <th>2</th>\n",
       "      <td>10265843</td>\n",
       "      <td>너무재밓었다그래서보는것을추천한다</td>\n",
       "      <td>0</td>\n",
       "      <td>17</td>\n",
       "      <td>[너무, 재, 밓었다그래서보는것을추천한다]</td>\n",
       "    </tr>\n",
       "    <tr>\n",
       "      <th>3</th>\n",
       "      <td>9045019</td>\n",
       "      <td>교도소 이야기구먼 ..솔직히 재미는 없다..평점 조정</td>\n",
       "      <td>0</td>\n",
       "      <td>29</td>\n",
       "      <td>[교도소, 이야기, 구먼, ., ., 솔직히, 재미, 는, 없, 다, ., ., 평...</td>\n",
       "    </tr>\n",
       "    <tr>\n",
       "      <th>5</th>\n",
       "      <td>5403919</td>\n",
       "      <td>막 걸음마 뗀 3세부터 초등학교 1학년생인 8살용영화.ㅋㅋㅋ...별반개도 아까움.</td>\n",
       "      <td>0</td>\n",
       "      <td>45</td>\n",
       "      <td>[막, 걸음마, 뗀, 3, 세, 부터, 초등, 학교, 1, 학년, 생, 인, 8, ...</td>\n",
       "    </tr>\n",
       "  </tbody>\n",
       "</table>\n",
       "</div>"
      ],
      "text/plain": [
       "         id                                       document  label  length  \\\n",
       "0   9976970                            아 더빙.. 진짜 짜증나네요 목소리      0      19   \n",
       "1   3819312              흠...포스터보고 초딩영화줄....오버연기조차 가볍지 않구나      1      33   \n",
       "2  10265843                              너무재밓었다그래서보는것을추천한다      0      17   \n",
       "3   9045019                  교도소 이야기구먼 ..솔직히 재미는 없다..평점 조정      0      29   \n",
       "5   5403919  막 걸음마 뗀 3세부터 초등학교 1학년생인 8살용영화.ㅋㅋㅋ...별반개도 아까움.      0      45   \n",
       "\n",
       "                                               mecab  \n",
       "0                [아, 더, 빙, ., ., 진짜, 짜증, 나, 네요, 목소리]  \n",
       "1  [흠, ., .., 포스터, 보고, 초딩, 영화, 줄, ., ..., 오버, 연기,...  \n",
       "2                            [너무, 재, 밓었다그래서보는것을추천한다]  \n",
       "3  [교도소, 이야기, 구먼, ., ., 솔직히, 재미, 는, 없, 다, ., ., 평...  \n",
       "5  [막, 걸음마, 뗀, 3, 세, 부터, 초등, 학교, 1, 학년, 생, 인, 8, ...  "
      ]
     },
     "execution_count": 40,
     "metadata": {},
     "output_type": "execute_result"
    }
   ],
   "source": [
    "df_train['mecab'] = df_train['document'].apply(mecab.morphs)\n",
    "df_test['mecab'] = df_test['document'].apply(mecab.morphs)\n",
    "\n",
    "df_train.head()"
   ]
  },
  {
   "cell_type": "code",
   "execution_count": 41,
   "id": "e2429b5f",
   "metadata": {},
   "outputs": [],
   "source": [
    "tokenizer_mecab = tf.keras.preprocessing.text.Tokenizer(filters='')\n",
    "tokenizer_mecab.fit_on_texts(df_train[\"mecab\"])"
   ]
  },
  {
   "cell_type": "code",
   "execution_count": 42,
   "id": "6517d996",
   "metadata": {},
   "outputs": [
    {
     "name": "stdout",
     "output_type": "stream",
     "text": [
      "maxlen:  48\n"
     ]
    }
   ],
   "source": [
    "train_inputs_mecab, test_inputs_mecab, max_len = get_inputs(tokenizer_mecab.texts_to_sequences,\n",
    "                                                   df_train[\"mecab\"], df_test[\"mecab\"])"
   ]
  },
  {
   "cell_type": "code",
   "execution_count": 43,
   "id": "6cee1c6c",
   "metadata": {},
   "outputs": [],
   "source": [
    "train_labels_mecab = np.array(df_train[\"label\"])\n",
    "test_labels_mecab = np.array(df_test[\"label\"])"
   ]
  },
  {
   "cell_type": "code",
   "execution_count": 46,
   "id": "beca7b31",
   "metadata": {
    "scrolled": true
   },
   "outputs": [
    {
     "name": "stdout",
     "output_type": "stream",
     "text": [
      "Model: \"model_1\"\n",
      "_________________________________________________________________\n",
      "Layer (type)                 Output Shape              Param #   \n",
      "=================================================================\n",
      "input_2 (InputLayer)         [(None, 48)]              0         \n",
      "_________________________________________________________________\n",
      "embedding_1 (Embedding)      (None, 48, 128)           1024000   \n",
      "_________________________________________________________________\n",
      "lstm_1 (LSTM)                (None, 128)               131584    \n",
      "_________________________________________________________________\n",
      "dense_2 (Dense)              (None, 64)                8256      \n",
      "_________________________________________________________________\n",
      "dense_3 (Dense)              (None, 1)                 65        \n",
      "=================================================================\n",
      "Total params: 1,163,905\n",
      "Trainable params: 1,163,905\n",
      "Non-trainable params: 0\n",
      "_________________________________________________________________\n",
      "Epoch 1/20\n",
      "391/391 [==============================] - 5s 9ms/step - loss: 0.4839 - accuracy: 0.7341 - val_loss: 0.3640 - val_accuracy: 0.8413\n",
      "\n",
      "Epoch 00001: val_accuracy improved from -inf to 0.84132, saving model to mecab_emb128.h5\n",
      "Epoch 2/20\n",
      "391/391 [==============================] - 3s 8ms/step - loss: 0.3363 - accuracy: 0.8558 - val_loss: 0.3539 - val_accuracy: 0.8490\n",
      "\n",
      "Epoch 00002: val_accuracy improved from 0.84132 to 0.84900, saving model to mecab_emb128.h5\n",
      "Epoch 3/20\n",
      "391/391 [==============================] - 3s 8ms/step - loss: 0.2988 - accuracy: 0.8738 - val_loss: 0.3331 - val_accuracy: 0.8549\n",
      "\n",
      "Epoch 00003: val_accuracy improved from 0.84900 to 0.85492, saving model to mecab_emb128.h5\n",
      "Epoch 4/20\n",
      "391/391 [==============================] - 3s 8ms/step - loss: 0.2660 - accuracy: 0.8890 - val_loss: 0.3438 - val_accuracy: 0.8561\n",
      "\n",
      "Epoch 00004: val_accuracy improved from 0.85492 to 0.85608, saving model to mecab_emb128.h5\n",
      "Epoch 5/20\n",
      "391/391 [==============================] - 3s 8ms/step - loss: 0.2410 - accuracy: 0.9007 - val_loss: 0.3533 - val_accuracy: 0.8524\n",
      "\n",
      "Epoch 00005: val_accuracy did not improve from 0.85608\n",
      "Epoch 6/20\n",
      "391/391 [==============================] - 3s 8ms/step - loss: 0.2181 - accuracy: 0.9115 - val_loss: 0.3562 - val_accuracy: 0.8516\n",
      "\n",
      "Epoch 00006: val_accuracy did not improve from 0.85608\n",
      "Epoch 7/20\n",
      "391/391 [==============================] - 3s 8ms/step - loss: 0.1971 - accuracy: 0.9230 - val_loss: 0.4175 - val_accuracy: 0.8472\n",
      "\n",
      "Epoch 00007: val_accuracy did not improve from 0.85608\n",
      "Epoch 00007: early stopping\n",
      "1341/1341 [==============================] - 4s 3ms/step - loss: 0.4177 - accuracy: 0.8459\n",
      "[0.4176919162273407, 0.8459457755088806]\n"
     ]
    }
   ],
   "source": [
    "embedding_dim = 128\n",
    "model_name = \"mecab_emb128\"\n",
    "model_desc = \"Mecab, embedding 128, LSTM 128, Dense 64\"\n",
    "\n",
    "model, history_result = train_model(max_len, embedding_dim,\n",
    "                                    train_inputs_mecab, train_labels,\n",
    "                                    test_inputs_mecab, test_labels,\n",
    "                                    model_name, model_desc,\n",
    "                                    build_model)"
   ]
  },
  {
   "cell_type": "code",
   "execution_count": 47,
   "id": "cb727955",
   "metadata": {},
   "outputs": [],
   "source": [
    "histories.append(history_result)"
   ]
  },
  {
   "cell_type": "markdown",
   "id": "1b90c365",
   "metadata": {},
   "source": [
    "## Komoran"
   ]
  },
  {
   "cell_type": "code",
   "execution_count": 48,
   "id": "cbacef83",
   "metadata": {},
   "outputs": [],
   "source": [
    "kmr = tag.Komoran()"
   ]
  },
  {
   "cell_type": "code",
   "execution_count": 49,
   "id": "2c4e6d8c",
   "metadata": {},
   "outputs": [
    {
     "data": {
      "text/html": [
       "<div>\n",
       "<style scoped>\n",
       "    .dataframe tbody tr th:only-of-type {\n",
       "        vertical-align: middle;\n",
       "    }\n",
       "\n",
       "    .dataframe tbody tr th {\n",
       "        vertical-align: top;\n",
       "    }\n",
       "\n",
       "    .dataframe thead th {\n",
       "        text-align: right;\n",
       "    }\n",
       "</style>\n",
       "<table border=\"1\" class=\"dataframe\">\n",
       "  <thead>\n",
       "    <tr style=\"text-align: right;\">\n",
       "      <th></th>\n",
       "      <th>id</th>\n",
       "      <th>document</th>\n",
       "      <th>label</th>\n",
       "      <th>length</th>\n",
       "      <th>mecab</th>\n",
       "      <th>komoran</th>\n",
       "    </tr>\n",
       "  </thead>\n",
       "  <tbody>\n",
       "    <tr>\n",
       "      <th>0</th>\n",
       "      <td>9976970</td>\n",
       "      <td>아 더빙.. 진짜 짜증나네요 목소리</td>\n",
       "      <td>0</td>\n",
       "      <td>19</td>\n",
       "      <td>[아, 더, 빙, ., ., 진짜, 짜증, 나, 네요, 목소리]</td>\n",
       "      <td>[아, 더빙, ., ., 진짜, 짜증, 나, 네요, 목소리]</td>\n",
       "    </tr>\n",
       "    <tr>\n",
       "      <th>1</th>\n",
       "      <td>3819312</td>\n",
       "      <td>흠...포스터보고 초딩영화줄....오버연기조차 가볍지 않구나</td>\n",
       "      <td>1</td>\n",
       "      <td>33</td>\n",
       "      <td>[흠, ., .., 포스터, 보고, 초딩, 영화, 줄, ., ..., 오버, 연기,...</td>\n",
       "      <td>[흠, ..., 포스터, 보고, 초딩, 영화, 줄, ...., 오버, 연기, 조차,...</td>\n",
       "    </tr>\n",
       "    <tr>\n",
       "      <th>2</th>\n",
       "      <td>10265843</td>\n",
       "      <td>너무재밓었다그래서보는것을추천한다</td>\n",
       "      <td>0</td>\n",
       "      <td>17</td>\n",
       "      <td>[너무, 재, 밓었다그래서보는것을추천한다]</td>\n",
       "      <td>[너무재밓었다그래서보는것을추천한다]</td>\n",
       "    </tr>\n",
       "    <tr>\n",
       "      <th>3</th>\n",
       "      <td>9045019</td>\n",
       "      <td>교도소 이야기구먼 ..솔직히 재미는 없다..평점 조정</td>\n",
       "      <td>0</td>\n",
       "      <td>29</td>\n",
       "      <td>[교도소, 이야기, 구먼, ., ., 솔직히, 재미, 는, 없, 다, ., ., 평...</td>\n",
       "      <td>[교도소, 이야기, 이, 구먼, .., 솔직히, 재미, 는, 없, 다, ., ., ...</td>\n",
       "    </tr>\n",
       "    <tr>\n",
       "      <th>5</th>\n",
       "      <td>5403919</td>\n",
       "      <td>막 걸음마 뗀 3세부터 초등학교 1학년생인 8살용영화.ㅋㅋㅋ...별반개도 아까움.</td>\n",
       "      <td>0</td>\n",
       "      <td>45</td>\n",
       "      <td>[막, 걸음마, 뗀, 3, 세, 부터, 초등, 학교, 1, 학년, 생, 인, 8, ...</td>\n",
       "      <td>[막, 걸음마, 떼, ㄴ, 3, 세, 부터, 초등학교, 1, 학년, 생, 이, ㄴ,...</td>\n",
       "    </tr>\n",
       "  </tbody>\n",
       "</table>\n",
       "</div>"
      ],
      "text/plain": [
       "         id                                       document  label  length  \\\n",
       "0   9976970                            아 더빙.. 진짜 짜증나네요 목소리      0      19   \n",
       "1   3819312              흠...포스터보고 초딩영화줄....오버연기조차 가볍지 않구나      1      33   \n",
       "2  10265843                              너무재밓었다그래서보는것을추천한다      0      17   \n",
       "3   9045019                  교도소 이야기구먼 ..솔직히 재미는 없다..평점 조정      0      29   \n",
       "5   5403919  막 걸음마 뗀 3세부터 초등학교 1학년생인 8살용영화.ㅋㅋㅋ...별반개도 아까움.      0      45   \n",
       "\n",
       "                                               mecab  \\\n",
       "0                [아, 더, 빙, ., ., 진짜, 짜증, 나, 네요, 목소리]   \n",
       "1  [흠, ., .., 포스터, 보고, 초딩, 영화, 줄, ., ..., 오버, 연기,...   \n",
       "2                            [너무, 재, 밓었다그래서보는것을추천한다]   \n",
       "3  [교도소, 이야기, 구먼, ., ., 솔직히, 재미, 는, 없, 다, ., ., 평...   \n",
       "5  [막, 걸음마, 뗀, 3, 세, 부터, 초등, 학교, 1, 학년, 생, 인, 8, ...   \n",
       "\n",
       "                                             komoran  \n",
       "0                  [아, 더빙, ., ., 진짜, 짜증, 나, 네요, 목소리]  \n",
       "1  [흠, ..., 포스터, 보고, 초딩, 영화, 줄, ...., 오버, 연기, 조차,...  \n",
       "2                                [너무재밓었다그래서보는것을추천한다]  \n",
       "3  [교도소, 이야기, 이, 구먼, .., 솔직히, 재미, 는, 없, 다, ., ., ...  \n",
       "5  [막, 걸음마, 떼, ㄴ, 3, 세, 부터, 초등학교, 1, 학년, 생, 이, ㄴ,...  "
      ]
     },
     "execution_count": 49,
     "metadata": {},
     "output_type": "execute_result"
    }
   ],
   "source": [
    "df_train['komoran'] = df_train['document'].apply(kmr.morphs)\n",
    "df_test['komoran'] = df_test['document'].apply(kmr.morphs)\n",
    "\n",
    "df_train.head()"
   ]
  },
  {
   "cell_type": "code",
   "execution_count": 50,
   "id": "896ba27c",
   "metadata": {},
   "outputs": [
    {
     "name": "stdout",
     "output_type": "stream",
     "text": [
      "maxlen:  57\n"
     ]
    }
   ],
   "source": [
    "train_inputs_kmr, test_inputs_kmr, max_len = get_inputs(tokenizer_mecab.texts_to_sequences,\n",
    "                                                   df_train[\"komoran\"], df_test[\"komoran\"])"
   ]
  },
  {
   "cell_type": "code",
   "execution_count": 51,
   "id": "a21a2a00",
   "metadata": {
    "scrolled": true
   },
   "outputs": [
    {
     "name": "stdout",
     "output_type": "stream",
     "text": [
      "Model: \"model_2\"\n",
      "_________________________________________________________________\n",
      "Layer (type)                 Output Shape              Param #   \n",
      "=================================================================\n",
      "input_3 (InputLayer)         [(None, 57)]              0         \n",
      "_________________________________________________________________\n",
      "embedding_2 (Embedding)      (None, 57, 128)           1024000   \n",
      "_________________________________________________________________\n",
      "lstm_2 (LSTM)                (None, 128)               131584    \n",
      "_________________________________________________________________\n",
      "dense_4 (Dense)              (None, 64)                8256      \n",
      "_________________________________________________________________\n",
      "dense_5 (Dense)              (None, 1)                 65        \n",
      "=================================================================\n",
      "Total params: 1,163,905\n",
      "Trainable params: 1,163,905\n",
      "Non-trainable params: 0\n",
      "_________________________________________________________________\n",
      "Epoch 1/20\n",
      "391/391 [==============================] - 8s 12ms/step - loss: 0.6934 - accuracy: 0.4981 - val_loss: 0.6932 - val_accuracy: 0.5001\n",
      "\n",
      "Epoch 00001: val_accuracy improved from -inf to 0.50006, saving model to kmr_emb128.h5\n",
      "Epoch 2/20\n",
      "391/391 [==============================] - 3s 9ms/step - loss: 0.6932 - accuracy: 0.5006 - val_loss: 0.6932 - val_accuracy: 0.5001\n",
      "\n",
      "Epoch 00002: val_accuracy improved from 0.50006 to 0.50010, saving model to kmr_emb128.h5\n",
      "Epoch 3/20\n",
      "391/391 [==============================] - 4s 9ms/step - loss: 0.6932 - accuracy: 0.4990 - val_loss: 0.6932 - val_accuracy: 0.5001\n",
      "\n",
      "Epoch 00003: val_accuracy did not improve from 0.50010\n",
      "Epoch 4/20\n",
      "391/391 [==============================] - 3s 9ms/step - loss: 0.6932 - accuracy: 0.5000 - val_loss: 0.6932 - val_accuracy: 0.4999\n",
      "\n",
      "Epoch 00004: val_accuracy did not improve from 0.50010\n",
      "Epoch 5/20\n",
      "391/391 [==============================] - 3s 9ms/step - loss: 0.6932 - accuracy: 0.5004 - val_loss: 0.6932 - val_accuracy: 0.4999\n",
      "\n",
      "Epoch 00005: val_accuracy did not improve from 0.50010\n",
      "Epoch 6/20\n",
      "391/391 [==============================] - 4s 9ms/step - loss: 0.6932 - accuracy: 0.5009 - val_loss: 0.6932 - val_accuracy: 0.4999\n",
      "\n",
      "Epoch 00006: val_accuracy did not improve from 0.50010\n",
      "Epoch 00006: early stopping\n",
      "1341/1341 [==============================] - 4s 3ms/step - loss: 0.6931 - accuracy: 0.5063\n",
      "[0.6930860877037048, 0.5063081383705139]\n"
     ]
    }
   ],
   "source": [
    "embedding_dim = 128\n",
    "model_name = \"kmr_emb128\"\n",
    "model_desc = \"Komoran, embedding 128, LSTM 128, Dense 64\"\n",
    "\n",
    "model, history_result = train_model(max_len, embedding_dim,\n",
    "                                    train_inputs_kmr, train_labels,\n",
    "                                    test_inputs_kmr, test_labels,\n",
    "                                    model_name, model_desc,\n",
    "                                    build_model)"
   ]
  },
  {
   "cell_type": "code",
   "execution_count": 52,
   "id": "5279eeeb",
   "metadata": {},
   "outputs": [],
   "source": [
    "histories.append(history_result)"
   ]
  },
  {
   "cell_type": "markdown",
   "id": "0bcd344b",
   "metadata": {},
   "source": [
    "# Word2Vec"
   ]
  },
  {
   "cell_type": "code",
   "execution_count": 53,
   "id": "180bb6ff",
   "metadata": {},
   "outputs": [],
   "source": [
    "w2v = Word2Vec(sentences = df_train[\"mecab\"],\n",
    "               vector_size = 100,\n",
    "               window = 5,\n",
    "               min_count = 5,\n",
    "               workers = 4,\n",
    "               sg = 0)"
   ]
  },
  {
   "cell_type": "code",
   "execution_count": 273,
   "id": "e56e2a6e",
   "metadata": {},
   "outputs": [
    {
     "data": {
      "text/plain": [
       "(11755, 100)"
      ]
     },
     "execution_count": 273,
     "metadata": {},
     "output_type": "execute_result"
    }
   ],
   "source": [
    "w2v.wv.vectors.shape"
   ]
  },
  {
   "cell_type": "code",
   "execution_count": 54,
   "id": "a90d2572",
   "metadata": {},
   "outputs": [],
   "source": [
    "embedding_matrix = np.zeros((len(tokenizer_mecab.word_index) + 1, w2v.vector_size))\n",
    "for word, i in tokenizer_mecab.word_index.items():\n",
    "    if word in w2v.wv:\n",
    "        embedding_matrix[i] = w2v.wv[word]"
   ]
  },
  {
   "cell_type": "code",
   "execution_count": 303,
   "id": "b28737aa",
   "metadata": {},
   "outputs": [
    {
     "data": {
      "text/plain": [
       "(42462, 100)"
      ]
     },
     "execution_count": 303,
     "metadata": {},
     "output_type": "execute_result"
    }
   ],
   "source": [
    "embedding_matrix.shape"
   ]
  },
  {
   "cell_type": "code",
   "execution_count": 55,
   "id": "1e182968",
   "metadata": {},
   "outputs": [],
   "source": [
    "def build_model_w2v(vocab_size, input_length, embedding_dim):\n",
    "    print(vocab_size, input_length, embedding_dim)\n",
    "    inputs = layers.Input(shape=(input_length,))\n",
    "    x = layers.Embedding(\n",
    "        vocab_size,\n",
    "        embedding_dim,\n",
    "        input_length=input_length,\n",
    "        weights=[embedding_matrix],\n",
    "        trainable=True)(inputs)\n",
    "    x = layers.LSTM(128)(x)\n",
    "    outputs = layers.Dense(1, activation='sigmoid')(x)\n",
    "    model = models.Model(inputs=inputs, outputs=outputs)\n",
    "    model.compile(optimizer='adam', loss='binary_crossentropy', metrics=['accuracy'])\n",
    "    model.summary()\n",
    "    return model"
   ]
  },
  {
   "cell_type": "code",
   "execution_count": 61,
   "id": "5fe1b0c6",
   "metadata": {
    "scrolled": true
   },
   "outputs": [
    {
     "name": "stdout",
     "output_type": "stream",
     "text": [
      "42462 48 100\n",
      "Model: \"model_4\"\n",
      "_________________________________________________________________\n",
      "Layer (type)                 Output Shape              Param #   \n",
      "=================================================================\n",
      "input_5 (InputLayer)         [(None, 48)]              0         \n",
      "_________________________________________________________________\n",
      "embedding_4 (Embedding)      (None, 48, 100)           4246200   \n",
      "_________________________________________________________________\n",
      "lstm_4 (LSTM)                (None, 128)               117248    \n",
      "_________________________________________________________________\n",
      "dense_7 (Dense)              (None, 1)                 129       \n",
      "=================================================================\n",
      "Total params: 4,363,577\n",
      "Trainable params: 4,363,577\n",
      "Non-trainable params: 0\n",
      "_________________________________________________________________\n",
      "Epoch 1/20\n",
      "391/391 [==============================] - 8s 12ms/step - loss: 0.4097 - accuracy: 0.8130 - val_loss: 0.3649 - val_accuracy: 0.8369\n",
      "\n",
      "Epoch 00001: val_accuracy improved from -inf to 0.83693, saving model to w2v_emb128_patience5.h5\n",
      "Epoch 2/20\n",
      "391/391 [==============================] - 4s 9ms/step - loss: 0.3159 - accuracy: 0.8670 - val_loss: 0.3239 - val_accuracy: 0.8624\n",
      "\n",
      "Epoch 00002: val_accuracy improved from 0.83693 to 0.86240, saving model to w2v_emb128_patience5.h5\n",
      "Epoch 3/20\n",
      "391/391 [==============================] - 4s 9ms/step - loss: 0.2567 - accuracy: 0.8985 - val_loss: 0.3258 - val_accuracy: 0.8600\n",
      "\n",
      "Epoch 00003: val_accuracy did not improve from 0.86240\n",
      "Epoch 4/20\n",
      "391/391 [==============================] - 4s 9ms/step - loss: 0.2124 - accuracy: 0.9191 - val_loss: 0.3339 - val_accuracy: 0.8599\n",
      "\n",
      "Epoch 00004: val_accuracy did not improve from 0.86240\n",
      "Epoch 5/20\n",
      "391/391 [==============================] - 4s 9ms/step - loss: 0.1796 - accuracy: 0.9334 - val_loss: 0.3685 - val_accuracy: 0.8604\n",
      "\n",
      "Epoch 00005: val_accuracy did not improve from 0.86240\n",
      "Epoch 6/20\n",
      "391/391 [==============================] - 4s 9ms/step - loss: 0.1527 - accuracy: 0.9452 - val_loss: 0.3810 - val_accuracy: 0.8603\n",
      "\n",
      "Epoch 00006: val_accuracy did not improve from 0.86240\n",
      "Epoch 7/20\n",
      "391/391 [==============================] - 4s 9ms/step - loss: 0.1322 - accuracy: 0.9532 - val_loss: 0.4776 - val_accuracy: 0.8576\n",
      "\n",
      "Epoch 00007: val_accuracy did not improve from 0.86240\n",
      "Epoch 00007: early stopping\n",
      "1341/1341 [==============================] - 4s 3ms/step - loss: 0.4771 - accuracy: 0.8570\n",
      "[0.4770773649215698, 0.8569762706756592]\n"
     ]
    }
   ],
   "source": [
    "embedding_dim = w2v.vector_size\n",
    "model_name = \"w2v_emb128_patience5\"\n",
    "model_desc = \"Mecab, Word2Vec, embedding 128, LSTM 128, Patience 5\"\n",
    "vocab_size = len(tokenizer_mecab.word_index) + 1\n",
    "max_len = test_inputs_mecab.shape[1]\n",
    "\n",
    "model, history_result = train_model(max_len, embedding_dim,\n",
    "                                    train_inputs_mecab, train_labels,\n",
    "                                    test_inputs_mecab, test_labels,\n",
    "                                    model_name, model_desc,\n",
    "                                    build_model_w2v,\n",
    "                                    vocab_size=vocab_size)"
   ]
  },
  {
   "cell_type": "code",
   "execution_count": 62,
   "id": "c7135842",
   "metadata": {},
   "outputs": [],
   "source": [
    "histories.append(history_result)"
   ]
  },
  {
   "cell_type": "markdown",
   "id": "a6c9f70b",
   "metadata": {},
   "source": [
    "# FastText"
   ]
  },
  {
   "cell_type": "code",
   "execution_count": null,
   "id": "8ee918f7",
   "metadata": {},
   "outputs": [],
   "source": [
    "import datetime\n",
    "\n",
    "print(f\"== LOAD fasttext START at {datetime.datetime.now()}\")\n",
    "ftk = gensim.models.fasttext.load_facebook_model('data/cc.ko.300.bin')\n",
    "print(f\"== LOAD fasttext   END at {datetime.datetime.now()}\")"
   ]
  },
  {
   "cell_type": "markdown",
   "id": "d02a36f4",
   "metadata": {},
   "source": [
    "RAM 용량 초과로 로딩 실패"
   ]
  },
  {
   "cell_type": "code",
   "execution_count": 7,
   "id": "612c3c47",
   "metadata": {},
   "outputs": [
    {
     "name": "stdout",
     "output_type": "stream",
     "text": [
      "word_size  : 2000000\n",
      "vector_size: 300    \n",
      "========================================\n",
      ".       :: ['-0.0219', '0.0241', '0.2438', '0.0407', '0.0262']\n",
      ",       :: ['0.0183', '-0.1265', '-0.0139', '-0.0290', '-0.0255']\n",
      "</s>    :: ['-0.0838', '-0.0291', '0.0596', '0.0081', '0.0171']\n",
      ")       :: ['0.0258', '-0.0274', '0.0148', '-0.0125', '-0.0405']\n",
      "(       :: ['0.0255', '-0.0435', '-0.1910', '0.0077', '-0.0553']\n",
      ":       :: ['-0.0398', '0.0695', '0.0309', '0.0748', '0.0798']\n",
      "'       :: ['-0.0145', '-0.0033', '-0.0909', '-0.0266', '0.0203']\n",
      "\"       :: ['-0.0087', '0.0310', '0.0439', '-0.0519', '-0.0093']\n",
      "/       :: ['-0.0416', '0.0256', '-0.0860', '0.0397', '0.2192']\n",
      "수       :: ['-0.1575', '0.1748', '0.2228', '-0.0091', '0.0245']\n"
     ]
    }
   ],
   "source": [
    "with open(\"./data/cc.ko.300.vec\", \"r\") as f:\n",
    "    word_size, vector_size = f.readline().split(\" \")\n",
    "    print(f\"word_size  : {word_size:7s}\")\n",
    "    print(f\"vector_size: {vector_size.strip():7s}\")\n",
    "    print(\"==\" * 20)\n",
    "    for i in range(0, 10):\n",
    "        line = str(f.readline())\n",
    "        ws = line.split(\" \")\n",
    "        kwd, kwd_vec = ws[0], ws[1:]\n",
    "        print(f\"{kwd:7s} :: {kwd_vec[:5]}\")"
   ]
  },
  {
   "cell_type": "code",
   "execution_count": 10,
   "id": "6424a694",
   "metadata": {},
   "outputs": [],
   "source": [
    "ftk = gensim.models.keyedvectors.KeyedVectors.load_word2vec_format('data/cc.ko.300.vec', limit=10000)"
   ]
  },
  {
   "cell_type": "code",
   "execution_count": 15,
   "id": "0eb76add",
   "metadata": {
    "scrolled": true
   },
   "outputs": [
    {
     "data": {
      "text/plain": [
       "300"
      ]
     },
     "execution_count": 15,
     "metadata": {},
     "output_type": "execute_result"
    }
   ],
   "source": [
    "ftk.vector_size"
   ]
  },
  {
   "cell_type": "code",
   "execution_count": 71,
   "id": "44ac8a5b",
   "metadata": {
    "scrolled": true
   },
   "outputs": [
    {
     "name": "stdout",
     "output_type": "stream",
     "text": [
      "['교도소', '이야기', '구먼', '.', '.', '솔직히', '재미', '는', '없', '다', '.', '.', '평점', '조정']\n",
      "() 863 () 0 0 5086 () 32 () 238 0 0 7233 5025 "
     ]
    }
   ],
   "source": [
    "test_sentence = df_train[\"mecab\"][3]\n",
    "print(test_sentence)\n",
    "for w in test_sentence:\n",
    "    print(ftk.key_to_index[w], end=\" \") if w in ftk.key_to_index else print(\"()\", end=\" \")"
   ]
  },
  {
   "cell_type": "code",
   "execution_count": 55,
   "id": "24441142",
   "metadata": {},
   "outputs": [],
   "source": [
    "embedding_matrix = np.zeros((len(tokenizer_mecab.word_index) + 1, ftk.vector_size))\n",
    "for word, i in tokenizer_mecab.word_index.items():\n",
    "    if word in ftk.key_to_index:\n",
    "        embedding_matrix[i] = ftk.get_vector(ftk.key_to_index[word])"
   ]
  },
  {
   "cell_type": "code",
   "execution_count": 56,
   "id": "387e93b8",
   "metadata": {},
   "outputs": [
    {
     "data": {
      "text/plain": [
       "(42462, 300)"
      ]
     },
     "execution_count": 56,
     "metadata": {},
     "output_type": "execute_result"
    }
   ],
   "source": [
    "embedding_matrix.shape"
   ]
  },
  {
   "cell_type": "code",
   "execution_count": 57,
   "id": "eb06e539",
   "metadata": {},
   "outputs": [],
   "source": [
    "def build_model_ftk(vocab_size, input_length, embedding_dim):\n",
    "    print(vocab_size, input_length, embedding_dim)\n",
    "    inputs = layers.Input(shape=(input_length,))\n",
    "    x = layers.Embedding(\n",
    "        vocab_size,\n",
    "        embedding_dim,\n",
    "        input_length=input_length,\n",
    "        weights=[embedding_matrix],\n",
    "        trainable=True)(inputs)\n",
    "    x = layers.LSTM(128)(x)\n",
    "    outputs = layers.Dense(1, activation='sigmoid')(x)\n",
    "    model = models.Model(inputs=inputs, outputs=outputs)\n",
    "    model.compile(optimizer='adam', loss='binary_crossentropy', metrics=['accuracy'])\n",
    "    model.summary()\n",
    "    return model"
   ]
  },
  {
   "cell_type": "code",
   "execution_count": 58,
   "id": "40018cc9",
   "metadata": {
    "scrolled": true
   },
   "outputs": [
    {
     "name": "stdout",
     "output_type": "stream",
     "text": [
      "42462 48 300\n",
      "Model: \"model\"\n",
      "_________________________________________________________________\n",
      "Layer (type)                 Output Shape              Param #   \n",
      "=================================================================\n",
      "input_1 (InputLayer)         [(None, 48)]              0         \n",
      "_________________________________________________________________\n",
      "embedding (Embedding)        (None, 48, 300)           12738600  \n",
      "_________________________________________________________________\n",
      "lstm (LSTM)                  (None, 128)               219648    \n",
      "_________________________________________________________________\n",
      "dense (Dense)                (None, 1)                 129       \n",
      "=================================================================\n",
      "Total params: 12,958,377\n",
      "Trainable params: 12,958,377\n",
      "Non-trainable params: 0\n",
      "_________________________________________________________________\n",
      "Epoch 1/20\n",
      "391/391 [==============================] - 35s 16ms/step - loss: 0.4165 - accuracy: 0.8034 - val_loss: 0.3477 - val_accuracy: 0.8497\n",
      "\n",
      "Epoch 00001: val_accuracy improved from -inf to 0.84968, saving model to ftk_emb128_patience5.h5\n",
      "Epoch 2/20\n",
      "391/391 [==============================] - 6s 15ms/step - loss: 0.2954 - accuracy: 0.8782 - val_loss: 0.3605 - val_accuracy: 0.8528\n",
      "\n",
      "Epoch 00002: val_accuracy improved from 0.84968 to 0.85284, saving model to ftk_emb128_patience5.h5\n",
      "Epoch 3/20\n",
      "391/391 [==============================] - 6s 15ms/step - loss: 0.2350 - accuracy: 0.9047 - val_loss: 0.3473 - val_accuracy: 0.8505\n",
      "\n",
      "Epoch 00003: val_accuracy did not improve from 0.85284\n",
      "Epoch 4/20\n",
      "391/391 [==============================] - 6s 15ms/step - loss: 0.1896 - accuracy: 0.9265 - val_loss: 0.4051 - val_accuracy: 0.8499\n",
      "\n",
      "Epoch 00004: val_accuracy did not improve from 0.85284\n",
      "Epoch 5/20\n",
      "391/391 [==============================] - 6s 15ms/step - loss: 0.1517 - accuracy: 0.9425 - val_loss: 0.3992 - val_accuracy: 0.8493\n",
      "\n",
      "Epoch 00005: val_accuracy did not improve from 0.85284\n",
      "Epoch 6/20\n",
      "391/391 [==============================] - 6s 16ms/step - loss: 0.1276 - accuracy: 0.9528 - val_loss: 0.5041 - val_accuracy: 0.8460\n",
      "\n",
      "Epoch 00006: val_accuracy did not improve from 0.85284\n",
      "Epoch 7/20\n",
      "391/391 [==============================] - 6s 15ms/step - loss: 0.1073 - accuracy: 0.9610 - val_loss: 0.5276 - val_accuracy: 0.8438\n",
      "\n",
      "Epoch 00007: val_accuracy did not improve from 0.85284\n",
      "Epoch 8/20\n",
      "391/391 [==============================] - 6s 16ms/step - loss: 0.0935 - accuracy: 0.9668 - val_loss: 0.5776 - val_accuracy: 0.8438\n",
      "\n",
      "Epoch 00008: val_accuracy did not improve from 0.85284\n",
      "Epoch 00008: early stopping\n",
      "1341/1341 [==============================] - 4s 3ms/step - loss: 0.5641 - accuracy: 0.8444\n",
      "[0.5640652179718018, 0.8443599939346313]\n"
     ]
    }
   ],
   "source": [
    "embedding_dim = ftk.vector_size\n",
    "model_name = \"ftk_emb128_patience5\"\n",
    "model_desc = \"Mecab, FastText, embedding 128, LSTM 128, Patience 5\"\n",
    "vocab_size = len(tokenizer_mecab.word_index) + 1\n",
    "max_len = test_inputs_mecab.shape[1]\n",
    "\n",
    "model, history_result = train_model(max_len, embedding_dim,\n",
    "                                    train_inputs_mecab, train_labels,\n",
    "                                    test_inputs_mecab, test_labels,\n",
    "                                    model_name, model_desc,\n",
    "                                    build_model_ftk,\n",
    "                                    vocab_size=vocab_size)"
   ]
  },
  {
   "cell_type": "code",
   "execution_count": 59,
   "id": "49bdc188",
   "metadata": {},
   "outputs": [],
   "source": [
    "histories.append(history_result)"
   ]
  },
  {
   "cell_type": "markdown",
   "id": "82259327",
   "metadata": {},
   "source": [
    "# 시각화"
   ]
  },
  {
   "cell_type": "code",
   "execution_count": 81,
   "id": "1f99fb50",
   "metadata": {},
   "outputs": [
    {
     "data": {
      "text/plain": [
       "9"
      ]
     },
     "execution_count": 81,
     "metadata": {},
     "output_type": "execute_result"
    }
   ],
   "source": [
    "len(histories)"
   ]
  },
  {
   "cell_type": "code",
   "execution_count": 152,
   "id": "0c73f101",
   "metadata": {
    "scrolled": true
   },
   "outputs": [
    {
     "name": "stdout",
     "output_type": "stream",
     "text": [
      " 0: sp_bpe_emb128_dense64 \n",
      "\tSentencePiece_BPE, embedding 128, dense 64\n",
      "\n",
      " 1: mecab_emb128 \n",
      "\tMecab, embedding 128, LSTM 128, Dense 64\n",
      "\n",
      " 2: kmr_emb128 \n",
      "\tKomoran, embedding 128, LSTM 128, Dense 64\n",
      "\n",
      " 3: w2v_emb128 \n",
      "\tMecab, Word2Vec, embedding 128, LSTM 128\n",
      "\n",
      " 4: w2v_emb128_patience5 \n",
      "\tMecab, Word2Vec, embedding 128, LSTM 128, Patience 5\n",
      "\n",
      " 5: sp_bpe_emb128_lstm128 \n",
      "\tSentencePiece_BPE, embedding 128, LSTM 128\n",
      "\n",
      " 6: sp_bpe_emb128_lstm128_dropout2 \n",
      "\tSentencePiece_BPE, embedding 128, LSTM 128, Dropout 0.2\n",
      "\n",
      " 7: sp_bpe_emb128_lstm128_dropout1 \n",
      "\tSentencePiece_BPE, embedding 128, LSTM 128, Dropout 0.1\n",
      "\n",
      " 8: sp_bpe_emb128_lstm64 \n",
      "\tSentencePiece_BPE, embedding 128, LSTM 64\n",
      "\n",
      " 9: sp_bpe_emb128_lstm128_dense64_bn_l2 \n",
      "\tSentencePiece_BPE, embedding 128, LSTM 128, Dense 64, BatchNormalization, L2\n",
      "\n",
      "10: sp_bpe_emb128_lstm128_dense64_bn_l2_nodrop \n",
      "\tSentencePiece_BPE, embedding 128, LSTM 128, Dense 64, BatchNormalization, L2, Dropout X\n",
      "\n",
      "11: sp_bpe_emb128_lstm128_dense64_bn \n",
      "\tSentencePiece_BPE, embedding 128, LSTM 128, Dense 64, BatchNormalization, Dropout X\n",
      "\n",
      "12: sp_bpe_emb128_lstm128_l2 \n",
      "\tSentencePiece_BPE, embedding 128, LSTM 128, L2\n",
      "\n",
      "13: sp_bpe_emb128_lstm256_l2 \n",
      "\tSentencePiece_BPE, embedding 128, LSTM 256, L2\n",
      "\n",
      "14: sp_bpe_emb128_lstm128_retseq \n",
      "\tSentencePiece_BPE, embedding 128, LSTM 128, Return-sequence\n",
      "\n",
      "15: sp_bpe_emb128_lstm128 \n",
      "\tSentencePiece_BPE, embedding 128, LSTM 128\n",
      "\n",
      "16: sp_bpe_emb128_lstm128 \n",
      "\tSentencePiece_BPE, embedding 128, LSTM 128\n",
      "\n"
     ]
    }
   ],
   "source": [
    "for i, item in enumerate(histories):\n",
    "    print(f\"{i:2}: {item['name']} \\n\\t{item['description']}\\n\")"
   ]
  },
  {
   "cell_type": "code",
   "execution_count": 154,
   "id": "e59e5b64",
   "metadata": {
    "scrolled": false
   },
   "outputs": [
    {
     "data": {
      "image/png": "[encoded data removed]",
      "text/plain": [
       "<Figure size 864x864 with 2 Axes>"
      ]
     },
     "metadata": {},
     "output_type": "display_data"
    }
   ],
   "source": [
    "plt.figure(figsize=(12, 12))\n",
    "plt.style.use('ggplot')\n",
    "\n",
    "# Define subplots upfront\n",
    "ax1 = plt.subplot(2, 1, 1)\n",
    "ax2 = plt.subplot(2, 1, 2)\n",
    "\n",
    "# Define metrics and their corresponding subplots\n",
    "metrics_axes = [\n",
    "    ('loss', 'val_loss', ax1),\n",
    "    ('accuracy', 'val_accuracy', ax2)\n",
    "]\n",
    "\n",
    "history_selection = [0, 1, 3, 8, 9]\n",
    "\n",
    "for i in history_selection:\n",
    "    history = histories[i][\"history\"]\n",
    "\n",
    "    color = next(ax1._get_lines.prop_cycler)['color']\n",
    "\n",
    "    for metric, val_metric, ax in metrics_axes:\n",
    "#         ax.plot(history.history[metric], \n",
    "#                 linestyle='--', marker='x', color=color, \n",
    "#                 label=f\"{metric} :: {histories[i]['name']}\")\n",
    "        ax.plot(history.history[val_metric], \n",
    "                linestyle='-', marker='o', color=color, \n",
    "                label=f\"{val_metric} :: {histories[i]['name']}\")\n",
    "        ax.set_xlabel('Epoch')\n",
    "        ax.legend(loc='upper left', bbox_to_anchor=(1, 1))\n",
    "\n",
    "plt.tight_layout()\n",
    "plt.show()\n"
   ]
  },
  {
   "cell_type": "markdown",
   "id": "1afd10e6",
   "metadata": {},
   "source": [
    "SentencePiece VS. KoNLPy 등 다른 모델들과 비교\n",
    "- SentencePiece 기본값인 unigram 보다 bpe 가 조금 나은 결과를 보여주었다.\n",
    "- KoNLPy Mecab 형태소 분석기를 쓴 모델이 SentencePiece 모델 보다 조금 더 나은 결과가 나왔다.\n",
    "- Mecab 을 쓴 데이터로 Word2Vector 를 거친 모델이 제일 좋은 결과를 보여주었다.\n",
    "- LSTM 128에서 64로 줄여보니 결과는 더 안좋아진다.\n",
    "\n",
    "과적합 \n",
    "- 전체적으로 과적합 양상이 보인다. \n",
    "- Dropout 레이어를 0.1, 0.2 값으로 추가해봤는데, 전혀 학습이 되지 않았다.\n",
    "- L2, BatchNormalization, Dropout 추가: 학습은 되는데, 성능이 좋지 않다.\n",
    "- L2, BatchNormalization, Dropout 넣고 빼고 해본 결과 다 빼는 것이 제일 낫다.\n",
    "- SentencePiece 결과중에서는 단순하게 LSTM 128 레이어 하나만 가진 모델이 제일 좋은 결과를 보여주었다."
   ]
  },
  {
   "cell_type": "code",
   "execution_count": 164,
   "id": "f8da8542",
   "metadata": {
    "scrolled": false
   },
   "outputs": [
    {
     "data": {
      "image/png": "[encoded data removed]",
      "text/plain": [
       "<Figure size 864x432 with 1 Axes>"
      ]
     },
     "metadata": {},
     "output_type": "display_data"
    }
   ],
   "source": [
    "plt.figure(figsize=(12, 6))\n",
    "plt.plot(histories[16][\"history\"].history[\"val_loss\"],\n",
    "        linestyle='--', marker='x', color='r', \n",
    "        label=f\"val_loss - {histories[16]['name']}\")\n",
    "plt.plot(histories[16][\"history\"].history[\"val_accuracy\"],\n",
    "        linestyle='-', marker='o', color='b', \n",
    "        label=f\"val_accuracy - {histories[16]['name']}\")\n",
    "plt.xlabel('Epoch')\n",
    "plt.legend(loc='upper left', bbox_to_anchor=(1, 1))\n",
    "\n",
    "plt.tight_layout()\n",
    "plt.show()"
   ]
  },
  {
   "cell_type": "markdown",
   "id": "6096a5b3",
   "metadata": {},
   "source": [
    "## 추가 시도 - FastText, Transformer"
   ]
  },
  {
   "cell_type": "code",
   "execution_count": 95,
   "id": "46efd951",
   "metadata": {},
   "outputs": [
    {
     "name": "stdout",
     "output_type": "stream",
     "text": [
      " 0: ftk_emb128_patience5 \n",
      "\tMecab, FastText, embedding 128, LSTM 128, Patience 5\n",
      "\n",
      " 1: sp_bpe_emb128_lstm128 \n",
      "\tSentencePiece_BPE, embedding 128, LSTM 128\n",
      "\n",
      " 2: sp_bpe_emb128_transformer \n",
      "\tSentencePiece_BPE, embedding 128, Transformer\n",
      "\n",
      " 3: sp_bpe_emb128_transformer \n",
      "\tSentencePiece_BPE, embedding 128, Transformer\n",
      "\n",
      " 4: sp_bpe_emb128_transformer_h2d128 \n",
      "\tSentencePiece_BPE, embedding 128, Transformer - head 2, dim 128\n",
      "\n"
     ]
    }
   ],
   "source": [
    "for i, item in enumerate(histories):\n",
    "    print(f\"{i:2}: {item['name']} \\n\\t{item['description']}\\n\")"
   ]
  },
  {
   "cell_type": "code",
   "execution_count": 96,
   "id": "2af2db48",
   "metadata": {},
   "outputs": [
    {
     "data": {
      "image/png": "[encoded data removed]",
      "text/plain": [
       "<Figure size 864x864 with 2 Axes>"
      ]
     },
     "metadata": {},
     "output_type": "display_data"
    }
   ],
   "source": [
    "plt.figure(figsize=(12, 12))\n",
    "plt.style.use('ggplot')\n",
    "\n",
    "# Define subplots upfront\n",
    "ax1 = plt.subplot(2, 1, 1)\n",
    "ax2 = plt.subplot(2, 1, 2)\n",
    "\n",
    "# Define metrics and their corresponding subplots\n",
    "metrics_axes = [\n",
    "    ('loss', 'val_loss', ax1),\n",
    "    ('accuracy', 'val_accuracy', ax2)\n",
    "]\n",
    "\n",
    "history_selection = [0, 1, 3, 4]\n",
    "\n",
    "for i in history_selection:\n",
    "    history = histories[i][\"history\"]\n",
    "\n",
    "    color = next(ax1._get_lines.prop_cycler)['color']\n",
    "\n",
    "    for metric, val_metric, ax in metrics_axes:\n",
    "#         ax.plot(history.history[metric], \n",
    "#                 linestyle='--', marker='x', color=color, \n",
    "#                 label=f\"{metric} :: {histories[i]['name']}\")\n",
    "        ax.plot(history.history[val_metric], \n",
    "                linestyle='-', marker='o', color=color, \n",
    "                label=f\"{val_metric} :: {histories[i]['name']}\")\n",
    "        ax.set_xlabel('Epoch')\n",
    "        ax.legend(loc='upper left', bbox_to_anchor=(1, 1))\n",
    "\n",
    "plt.tight_layout()\n",
    "plt.show()"
   ]
  }
 ],
 "metadata": {
  "kernelspec": {
   "display_name": "Python 3 (ipykernel)",
   "language": "python",
   "name": "python3"
  },
  "language_info": {
   "codemirror_mode": {
    "name": "ipython",
    "version": 3
   },
   "file_extension": ".py",
   "mimetype": "text/x-python",
   "name": "python",
   "nbconvert_exporter": "python",
   "pygments_lexer": "ipython3",
   "version": "3.9.7"
  }
 },
 "nbformat": 4,
 "nbformat_minor": 5
}
